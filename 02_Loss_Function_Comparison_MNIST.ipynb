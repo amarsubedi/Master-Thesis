{
  "nbformat": 4,
  "nbformat_minor": 0,
  "metadata": {
    "colab": {
      "name": "02_Loss_Function_Comparison_MNIST",
      "version": "0.3.2",
      "provenance": [],
      "collapsed_sections": []
    },
    "kernelspec": {
      "name": "python3",
      "display_name": "Python 3"
    },
    "accelerator": "GPU"
  },
  "cells": [
    {
      "cell_type": "markdown",
      "metadata": {
        "id": "view-in-github",
        "colab_type": "text"
      },
      "source": [
        "[View in Colaboratory](https://colab.research.google.com/github/redcican/Master-Thesis/blob/master/02_Loss_Function_Comparison_MNIST.ipynb)"
      ]
    },
    {
      "metadata": {
        "id": "53M2uezFn9He",
        "colab_type": "text"
      },
      "cell_type": "markdown",
      "source": [
        "# Using Keras to recognize MNIST!(http://img1.imagilive.com/0717/mnist-sample.png)"
      ]
    },
    {
      "metadata": {
        "id": "7WSkUKpLoNBs",
        "colab_type": "code",
        "colab": {}
      },
      "cell_type": "code",
      "source": [
        "import pandas as pd\n",
        "import numpy as np\n",
        "import matplotlib.pyplot as plt\n",
        "import matplotlib.image as mpimg\n",
        "import seaborn as sns\n",
        "%matplotlib inline"
      ],
      "execution_count": 0,
      "outputs": []
    },
    {
      "metadata": {
        "id": "BufQI0dyocMV",
        "colab_type": "code",
        "colab": {}
      },
      "cell_type": "code",
      "source": [
        "np.random.seed(2)"
      ],
      "execution_count": 0,
      "outputs": []
    },
    {
      "metadata": {
        "id": "aUMOwLlAokFK",
        "colab_type": "code",
        "colab": {}
      },
      "cell_type": "code",
      "source": [
        "from sklearn.model_selection import train_test_split\n",
        "from sklearn.metrics import confusion_matrix\n",
        "import itertools"
      ],
      "execution_count": 0,
      "outputs": []
    },
    {
      "metadata": {
        "id": "oKX2Nn4yosBf",
        "colab_type": "code",
        "colab": {
          "base_uri": "https://localhost:8080/",
          "height": 35
        },
        "outputId": "184bc7c7-c0a7-4846-ec07-586053677385"
      },
      "cell_type": "code",
      "source": [
        "from keras.utils.np_utils import to_categorical\n",
        "from keras.models import Sequential\n",
        "from keras.layers import Dense, Dropout, Flatten, Conv2D, MaxPool2D\n",
        "from keras.optimizers import RMSprop\n",
        "from keras.preprocessing.image import ImageDataGenerator\n",
        "from keras.callbacks import ReduceLROnPlateau"
      ],
      "execution_count": 4,
      "outputs": [
        {
          "output_type": "stream",
          "text": [
            "Using TensorFlow backend.\n"
          ],
          "name": "stderr"
        }
      ]
    },
    {
      "metadata": {
        "id": "RjkSbw5so0Vw",
        "colab_type": "code",
        "colab": {}
      },
      "cell_type": "code",
      "source": [
        "sns.set(style='white', context='notebook', palette='deep')"
      ],
      "execution_count": 0,
      "outputs": []
    },
    {
      "metadata": {
        "id": "xOan0JDQpOMS",
        "colab_type": "text"
      },
      "cell_type": "markdown",
      "source": [
        "## 2. Data Preprocessing"
      ]
    },
    {
      "metadata": {
        "id": "iltjoeMnsb3u",
        "colab_type": "text"
      },
      "cell_type": "markdown",
      "source": [
        "### 2.1 Load Data"
      ]
    },
    {
      "metadata": {
        "id": "yC0CtC_FpaOj",
        "colab_type": "code",
        "colab": {
          "resources": {
            "http://localhost:8080/nbextensions/google.colab/files.js": {
              "data": "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",
              "ok": true,
              "headers": [
                [
                  "content-type",
                  "application/javascript"
                ]
              ],
              "status": 200,
              "status_text": ""
            }
          },
          "base_uri": "https://localhost:8080/",
          "height": 92
        },
        "outputId": "cd7b9dfe-27d9-4e4a-c4eb-706fcca01719"
      },
      "cell_type": "code",
      "source": [
        "from google.colab import files\n",
        "\n",
        "uploaded = files.upload()\n",
        "\n",
        "for fn in uploaded.keys():\n",
        "  print('User uploaded file \"{name}\" with length {length} bytes'.format(\n",
        "      name=fn, length=len(uploaded[fn])))"
      ],
      "execution_count": 13,
      "outputs": [
        {
          "output_type": "display_data",
          "data": {
            "text/html": [
              "\n",
              "     <input type=\"file\" id=\"files-b6d7b950-2032-4b71-9e1e-3d28ec76c6cf\" name=\"files[]\" multiple disabled />\n",
              "     <output id=\"result-b6d7b950-2032-4b71-9e1e-3d28ec76c6cf\">\n",
              "      Upload widget is only available when the cell has been executed in the\n",
              "      current browser session. Please rerun this cell to enable.\n",
              "      </output>\n",
              "      <script src=\"/nbextensions/google.colab/files.js\"></script> "
            ],
            "text/plain": [
              "<IPython.core.display.HTML object>"
            ]
          },
          "metadata": {
            "tags": []
          }
        },
        {
          "output_type": "stream",
          "text": [
            "Saving train.csv to train.csv\n",
            "User uploaded file \"train.csv\" with length 76775041 bytes\n"
          ],
          "name": "stdout"
        }
      ]
    },
    {
      "metadata": {
        "id": "MBMf0mcrpcPO",
        "colab_type": "code",
        "colab": {
          "resources": {
            "http://localhost:8080/nbextensions/google.colab/files.js": {
              "data": "Ly8gQ29weXJpZ2h0IDIwMTcgR29vZ2xlIExMQwovLwovLyBMaWNlbnNlZCB1bmRlciB0aGUgQXBhY2hlIExpY2Vuc2UsIFZlcnNpb24gMi4wICh0aGUgIkxpY2Vuc2UiKTsKLy8geW91IG1heSBub3QgdXNlIHRoaXMgZmlsZSBleGNlcHQgaW4gY29tcGxpYW5jZSB3aXRoIHRoZSBMaWNlbnNlLgovLyBZb3UgbWF5IG9idGFpbiBhIGNvcHkgb2YgdGhlIExpY2Vuc2UgYXQKLy8KLy8gICAgICBodHRwOi8vd3d3LmFwYWNoZS5vcmcvbGljZW5zZXMvTElDRU5TRS0yLjAKLy8KLy8gVW5sZXNzIHJlcXVpcmVkIGJ5IGFwcGxpY2FibGUgbGF3IG9yIGFncmVlZCB0byBpbiB3cml0aW5nLCBzb2Z0d2FyZQovLyBkaXN0cmlidXRlZCB1bmRlciB0aGUgTGljZW5zZSBpcyBkaXN0cmlidXRlZCBvbiBhbiAiQVMgSVMiIEJBU0lTLAovLyBXSVRIT1VUIFdBUlJBTlRJRVMgT1IgQ09ORElUSU9OUyBPRiBBTlkgS0lORCwgZWl0aGVyIGV4cHJlc3Mgb3IgaW1wbGllZC4KLy8gU2VlIHRoZSBMaWNlbnNlIGZvciB0aGUgc3BlY2lmaWMgbGFuZ3VhZ2UgZ292ZXJuaW5nIHBlcm1pc3Npb25zIGFuZAovLyBsaW1pdGF0aW9ucyB1bmRlciB0aGUgTGljZW5zZS4KCi8qKgogKiBAZmlsZW92ZXJ2aWV3IEhlbHBlcnMgZm9yIGdvb2dsZS5jb2xhYiBQeXRob24gbW9kdWxlLgogKi8KKGZ1bmN0aW9uKHNjb3BlKSB7CmZ1bmN0aW9uIHNwYW4odGV4dCwgc3R5bGVBdHRyaWJ1dGVzID0ge30pIHsKICBjb25zdCBlbGVtZW50ID0gZG9jdW1lbnQuY3JlYXRlRWxlbWVudCgnc3BhbicpOwogIGVsZW1lbnQudGV4dENvbnRlbnQgPSB0ZXh0OwogIGZvciAoY29uc3Qga2V5IG9mIE9iamVjdC5rZXlzKHN0eWxlQXR0cmlidXRlcykpIHsKICAgIGVsZW1lbnQuc3R5bGVba2V5XSA9IHN0eWxlQXR0cmlidXRlc1trZXldOwogIH0KICByZXR1cm4gZWxlbWVudDsKfQoKLy8gTWF4IG51bWJlciBvZiBieXRlcyB3aGljaCB3aWxsIGJlIHVwbG9hZGVkIGF0IGEgdGltZS4KY29uc3QgTUFYX1BBWUxPQURfU0laRSA9IDEwMCAqIDEwMjQ7Ci8vIE1heCBhbW91bnQgb2YgdGltZSB0byBibG9jayB3YWl0aW5nIGZvciB0aGUgdXNlci4KY29uc3QgRklMRV9DSEFOR0VfVElNRU9VVF9NUyA9IDMwICogMTAwMDsKCmZ1bmN0aW9uIF91cGxvYWRGaWxlcyhpbnB1dElkLCBvdXRwdXRJZCkgewogIGNvbnN0IHN0ZXBzID0gdXBsb2FkRmlsZXNTdGVwKGlucHV0SWQsIG91dHB1dElkKTsKICBjb25zdCBvdXRwdXRFbGVtZW50ID0gZG9jdW1lbnQuZ2V0RWxlbWVudEJ5SWQob3V0cHV0SWQpOwogIC8vIENhY2hlIHN0ZXBzIG9uIHRoZSBvdXRwdXRFbGVtZW50IHRvIG1ha2UgaXQgYXZhaWxhYmxlIGZvciB0aGUgbmV4dCBjYWxsCiAgLy8gdG8gdXBsb2FkRmlsZXNDb250aW51ZSBmcm9tIFB5dGhvbi4KICBvdXRwdXRFbGVtZW50LnN0ZXBzID0gc3RlcHM7CgogIHJldHVybiBfdXBsb2FkRmlsZXNDb250aW51ZShvdXRwdXRJZCk7Cn0KCi8vIFRoaXMgaXMgcm91Z2hseSBhbiBhc3luYyBnZW5lcmF0b3IgKG5vdCBzdXBwb3J0ZWQgaW4gdGhlIGJyb3dzZXIgeWV0KSwKLy8gd2hlcmUgdGhlcmUgYXJlIG11bHRpcGxlIGFzeW5jaHJvbm91cyBzdGVwcyBhbmQgdGhlIFB5dGhvbiBzaWRlIGlzIGdvaW5nCi8vIHRvIHBvbGwgZm9yIGNvbXBsZXRpb24gb2YgZWFjaCBzdGVwLgovLyBUaGlzIHVzZXMgYSBQcm9taXNlIHRvIGJsb2NrIHRoZSBweXRob24gc2lkZSBvbiBjb21wbGV0aW9uIG9mIGVhY2ggc3RlcCwKLy8gdGhlbiBwYXNzZXMgdGhlIHJlc3VsdCBvZiB0aGUgcHJldmlvdXMgc3RlcCBhcyB0aGUgaW5wdXQgdG8gdGhlIG5leHQgc3RlcC4KZnVuY3Rpb24gX3VwbG9hZEZpbGVzQ29udGludWUob3V0cHV0SWQpIHsKICBjb25zdCBvdXRwdXRFbGVtZW50ID0gZG9jdW1lbnQuZ2V0RWxlbWVudEJ5SWQob3V0cHV0SWQpOwogIGNvbnN0IHN0ZXBzID0gb3V0cHV0RWxlbWVudC5zdGVwczsKCiAgY29uc3QgbmV4dCA9IHN0ZXBzLm5leHQob3V0cHV0RWxlbWVudC5sYXN0UHJvbWlzZVZhbHVlKTsKICByZXR1cm4gUHJvbWlzZS5yZXNvbHZlKG5leHQudmFsdWUucHJvbWlzZSkudGhlbigodmFsdWUpID0+IHsKICAgIC8vIENhY2hlIHRoZSBsYXN0IHByb21pc2UgdmFsdWUgdG8gbWFrZSBpdCBhdmFpbGFibGUgdG8gdGhlIG5leHQKICAgIC8vIHN0ZXAgb2YgdGhlIGdlbmVyYXRvci4KICAgIG91dHB1dEVsZW1lbnQubGFzdFByb21pc2VWYWx1ZSA9IHZhbHVlOwogICAgcmV0dXJuIG5leHQudmFsdWUucmVzcG9uc2U7CiAgfSk7Cn0KCi8qKgogKiBHZW5lcmF0b3IgZnVuY3Rpb24gd2hpY2ggaXMgY2FsbGVkIGJldHdlZW4gZWFjaCBhc3luYyBzdGVwIG9mIHRoZSB1cGxvYWQKICogcHJvY2Vzcy4KICogQHBhcmFtIHtzdHJpbmd9IGlucHV0SWQgRWxlbWVudCBJRCBvZiB0aGUgaW5wdXQgZmlsZSBwaWNrZXIgZWxlbWVudC4KICogQHBhcmFtIHtzdHJpbmd9IG91dHB1dElkIEVsZW1lbnQgSUQgb2YgdGhlIG91dHB1dCBkaXNwbGF5LgogKiBAcmV0dXJuIHshSXRlcmFibGU8IU9iamVjdD59IEl0ZXJhYmxlIG9mIG5leHQgc3RlcHMuCiAqLwpmdW5jdGlvbiogdXBsb2FkRmlsZXNTdGVwKGlucHV0SWQsIG91dHB1dElkKSB7CiAgY29uc3QgaW5wdXRFbGVtZW50ID0gZG9jdW1lbnQuZ2V0RWxlbWVudEJ5SWQoaW5wdXRJZCk7CiAgaW5wdXRFbGVtZW50LmRpc2FibGVkID0gZmFsc2U7CgogIGNvbnN0IG91dHB1dEVsZW1lbnQgPSBkb2N1bWVudC5nZXRFbGVtZW50QnlJZChvdXRwdXRJZCk7CiAgb3V0cHV0RWxlbWVudC5pbm5lckhUTUwgPSAnJzsKCiAgY29uc3QgcGlja2VkUHJvbWlzZSA9IG5ldyBQcm9taXNlKChyZXNvbHZlKSA9PiB7CiAgICBpbnB1dEVsZW1lbnQuYWRkRXZlbnRMaXN0ZW5lcignY2hhbmdlJywgKGUpID0+IHsKICAgICAgcmVzb2x2ZShlLnRhcmdldC5maWxlcyk7CiAgICB9KTsKICB9KTsKCiAgY29uc3QgY2FuY2VsID0gZG9jdW1lbnQuY3JlYXRlRWxlbWVudCgnYnV0dG9uJyk7CiAgaW5wdXRFbGVtZW50LnBhcmVudEVsZW1lbnQuYXBwZW5kQ2hpbGQoY2FuY2VsKTsKICBjYW5jZWwudGV4dENvbnRlbnQgPSAnQ2FuY2VsIHVwbG9hZCc7CiAgY29uc3QgY2FuY2VsUHJvbWlzZSA9IG5ldyBQcm9taXNlKChyZXNvbHZlKSA9PiB7CiAgICBjYW5jZWwub25jbGljayA9ICgpID0+IHsKICAgICAgcmVzb2x2ZShudWxsKTsKICAgIH07CiAgfSk7CgogIC8vIENhbmNlbCB1cGxvYWQgaWYgdXNlciBoYXNuJ3QgcGlja2VkIGFueXRoaW5nIGluIHRpbWVvdXQuCiAgY29uc3QgdGltZW91dFByb21pc2UgPSBuZXcgUHJvbWlzZSgocmVzb2x2ZSkgPT4gewogICAgc2V0VGltZW91dCgoKSA9PiB7CiAgICAgIHJlc29sdmUobnVsbCk7CiAgICB9LCBGSUxFX0NIQU5HRV9USU1FT1VUX01TKTsKICB9KTsKCiAgLy8gV2FpdCBmb3IgdGhlIHVzZXIgdG8gcGljayB0aGUgZmlsZXMuCiAgY29uc3QgZmlsZXMgPSB5aWVsZCB7CiAgICBwcm9taXNlOiBQcm9taXNlLnJhY2UoW3BpY2tlZFByb21pc2UsIHRpbWVvdXRQcm9taXNlLCBjYW5jZWxQcm9taXNlXSksCiAgICByZXNwb25zZTogewogICAgICBhY3Rpb246ICdzdGFydGluZycsCiAgICB9CiAgfTsKCiAgaWYgKCFmaWxlcykgewogICAgcmV0dXJuIHsKICAgICAgcmVzcG9uc2U6IHsKICAgICAgICBhY3Rpb246ICdjb21wbGV0ZScsCiAgICAgIH0KICAgIH07CiAgfQoKICBjYW5jZWwucmVtb3ZlKCk7CgogIC8vIERpc2FibGUgdGhlIGlucHV0IGVsZW1lbnQgc2luY2UgZnVydGhlciBwaWNrcyBhcmUgbm90IGFsbG93ZWQuCiAgaW5wdXRFbGVtZW50LmRpc2FibGVkID0gdHJ1ZTsKCiAgZm9yIChjb25zdCBmaWxlIG9mIGZpbGVzKSB7CiAgICBjb25zdCBsaSA9IGRvY3VtZW50LmNyZWF0ZUVsZW1lbnQoJ2xpJyk7CiAgICBsaS5hcHBlbmQoc3BhbihmaWxlLm5hbWUsIHtmb250V2VpZ2h0OiAnYm9sZCd9KSk7CiAgICBsaS5hcHBlbmQoc3BhbigKICAgICAgICBgKCR7ZmlsZS50eXBlIHx8ICduL2EnfSkgLSAke2ZpbGUuc2l6ZX0gYnl0ZXMsIGAgKwogICAgICAgIGBsYXN0IG1vZGlmaWVkOiAkewogICAgICAgICAgICBmaWxlLmxhc3RNb2RpZmllZERhdGUgPyBmaWxlLmxhc3RNb2RpZmllZERhdGUudG9Mb2NhbGVEYXRlU3RyaW5nKCkgOgogICAgICAgICAgICAgICAgICAgICAgICAgICAgICAgICAgICAnbi9hJ30gLSBgKSk7CiAgICBjb25zdCBwZXJjZW50ID0gc3BhbignMCUgZG9uZScpOwogICAgbGkuYXBwZW5kQ2hpbGQocGVyY2VudCk7CgogICAgb3V0cHV0RWxlbWVudC5hcHBlbmRDaGlsZChsaSk7CgogICAgY29uc3QgZmlsZURhdGFQcm9taXNlID0gbmV3IFByb21pc2UoKHJlc29sdmUpID0+IHsKICAgICAgY29uc3QgcmVhZGVyID0gbmV3IEZpbGVSZWFkZXIoKTsKICAgICAgcmVhZGVyLm9ubG9hZCA9IChlKSA9PiB7CiAgICAgICAgcmVzb2x2ZShlLnRhcmdldC5yZXN1bHQpOwogICAgICB9OwogICAgICByZWFkZXIucmVhZEFzQXJyYXlCdWZmZXIoZmlsZSk7CiAgICB9KTsKICAgIC8vIFdhaXQgZm9yIHRoZSBkYXRhIHRvIGJlIHJlYWR5LgogICAgbGV0IGZpbGVEYXRhID0geWllbGQgewogICAgICBwcm9taXNlOiBmaWxlRGF0YVByb21pc2UsCiAgICAgIHJlc3BvbnNlOiB7CiAgICAgICAgYWN0aW9uOiAnY29udGludWUnLAogICAgICB9CiAgICB9OwoKICAgIC8vIFVzZSBhIGNodW5rZWQgc2VuZGluZyB0byBhdm9pZCBtZXNzYWdlIHNpemUgbGltaXRzLiBTZWUgYi82MjExNTY2MC4KICAgIGxldCBwb3NpdGlvbiA9IDA7CiAgICB3aGlsZSAocG9zaXRpb24gPCBmaWxlRGF0YS5ieXRlTGVuZ3RoKSB7CiAgICAgIGNvbnN0IGxlbmd0aCA9IE1hdGgubWluKGZpbGVEYXRhLmJ5dGVMZW5ndGggLSBwb3NpdGlvbiwgTUFYX1BBWUxPQURfU0laRSk7CiAgICAgIGNvbnN0IGNodW5rID0gbmV3IFVpbnQ4QXJyYXkoZmlsZURhdGEsIHBvc2l0aW9uLCBsZW5ndGgpOwogICAgICBwb3NpdGlvbiArPSBsZW5ndGg7CgogICAgICBjb25zdCBiYXNlNjQgPSBidG9hKFN0cmluZy5mcm9tQ2hhckNvZGUuYXBwbHkobnVsbCwgY2h1bmspKTsKICAgICAgeWllbGQgewogICAgICAgIHJlc3BvbnNlOiB7CiAgICAgICAgICBhY3Rpb246ICdhcHBlbmQnLAogICAgICAgICAgZmlsZTogZmlsZS5uYW1lLAogICAgICAgICAgZGF0YTogYmFzZTY0LAogICAgICAgIH0sCiAgICAgIH07CiAgICAgIHBlcmNlbnQudGV4dENvbnRlbnQgPQogICAgICAgICAgYCR7TWF0aC5yb3VuZCgocG9zaXRpb24gLyBmaWxlRGF0YS5ieXRlTGVuZ3RoKSAqIDEwMCl9JSBkb25lYDsKICAgIH0KICB9CgogIC8vIEFsbCBkb25lLgogIHlpZWxkIHsKICAgIHJlc3BvbnNlOiB7CiAgICAgIGFjdGlvbjogJ2NvbXBsZXRlJywKICAgIH0KICB9Owp9CgpzY29wZS5nb29nbGUgPSBzY29wZS5nb29nbGUgfHwge307CnNjb3BlLmdvb2dsZS5jb2xhYiA9IHNjb3BlLmdvb2dsZS5jb2xhYiB8fCB7fTsKc2NvcGUuZ29vZ2xlLmNvbGFiLl9maWxlcyA9IHsKICBfdXBsb2FkRmlsZXMsCiAgX3VwbG9hZEZpbGVzQ29udGludWUsCn07Cn0pKHNlbGYpOwo=",
              "ok": true,
              "headers": [
                [
                  "content-type",
                  "application/javascript"
                ]
              ],
              "status": 200,
              "status_text": ""
            }
          },
          "base_uri": "https://localhost:8080/",
          "height": 92
        },
        "outputId": "ee987b9c-ce99-4cc6-b81c-1db141ab690f"
      },
      "cell_type": "code",
      "source": [
        "from google.colab import files\n",
        "\n",
        "uploaded = files.upload()\n",
        "\n",
        "for fn in uploaded.keys():\n",
        "  print('User uploaded file \"{name}\" with length {length} bytes'.format(\n",
        "      name=fn, length=len(uploaded[fn])))"
      ],
      "execution_count": 14,
      "outputs": [
        {
          "output_type": "display_data",
          "data": {
            "text/html": [
              "\n",
              "     <input type=\"file\" id=\"files-5630ae34-6087-4007-b8d7-b9f4e1d01b2a\" name=\"files[]\" multiple disabled />\n",
              "     <output id=\"result-5630ae34-6087-4007-b8d7-b9f4e1d01b2a\">\n",
              "      Upload widget is only available when the cell has been executed in the\n",
              "      current browser session. Please rerun this cell to enable.\n",
              "      </output>\n",
              "      <script src=\"/nbextensions/google.colab/files.js\"></script> "
            ],
            "text/plain": [
              "<IPython.core.display.HTML object>"
            ]
          },
          "metadata": {
            "tags": []
          }
        },
        {
          "output_type": "stream",
          "text": [
            "Saving test.csv to test.csv\n",
            "User uploaded file \"test.csv\" with length 51118296 bytes\n"
          ],
          "name": "stdout"
        }
      ]
    },
    {
      "metadata": {
        "id": "fC9JNFHIr2eJ",
        "colab_type": "code",
        "colab": {}
      },
      "cell_type": "code",
      "source": [
        "train = pd.read_csv('train.csv')\n",
        "test = pd.read_csv('test.csv')"
      ],
      "execution_count": 0,
      "outputs": []
    },
    {
      "metadata": {
        "id": "N9RTXxxRtbEi",
        "colab_type": "code",
        "colab": {}
      },
      "cell_type": "code",
      "source": [
        "Y_train = train[\"label\"]\n",
        "X_train = train.drop(labels=[\"label\"],axis=1)"
      ],
      "execution_count": 0,
      "outputs": []
    },
    {
      "metadata": {
        "id": "rN0JhvINtlVO",
        "colab_type": "code",
        "colab": {
          "base_uri": "https://localhost:8080/",
          "height": 600
        },
        "outputId": "a4a7deeb-2a4d-4528-a9ed-b9b012e1fe0c"
      },
      "cell_type": "code",
      "source": [
        "del train\n",
        "\n",
        "g = sns.countplot(Y_train)\n",
        "\n",
        "Y_train.value_counts()"
      ],
      "execution_count": 17,
      "outputs": [
        {
          "output_type": "stream",
          "text": [
            "/usr/local/lib/python3.6/dist-packages/seaborn/categorical.py:1428: FutureWarning: remove_na is deprecated and is a private function. Do not use.\n",
            "  stat_data = remove_na(group_data)\n"
          ],
          "name": "stderr"
        },
        {
          "output_type": "execute_result",
          "data": {
            "text/plain": [
              "1    4684\n",
              "7    4401\n",
              "3    4351\n",
              "9    4188\n",
              "2    4177\n",
              "6    4137\n",
              "0    4132\n",
              "4    4072\n",
              "8    4063\n",
              "5    3795\n",
              "Name: label, dtype: int64"
            ]
          },
          "metadata": {
            "tags": []
          },
          "execution_count": 17
        },
        {
          "output_type": "display_data",
          "data": {
            "image/png": "[encoded data removed]",
            "text/plain": [
              "<matplotlib.figure.Figure at 0x7f0945d29d68>"
            ]
          },
          "metadata": {
            "tags": []
          }
        }
      ]
    },
    {
      "metadata": {
        "id": "KKZk6YRJtvy5",
        "colab_type": "text"
      },
      "cell_type": "markdown",
      "source": [
        "### 2.2 Check for null and missing values"
      ]
    },
    {
      "metadata": {
        "id": "WjD8DlD8tryW",
        "colab_type": "code",
        "colab": {
          "base_uri": "https://localhost:8080/",
          "height": 102
        },
        "outputId": "604f8f7c-124d-4abf-d74e-367e871d8aba"
      },
      "cell_type": "code",
      "source": [
        "X_train.isnull().any().describe()"
      ],
      "execution_count": 18,
      "outputs": [
        {
          "output_type": "execute_result",
          "data": {
            "text/plain": [
              "count       784\n",
              "unique        1\n",
              "top       False\n",
              "freq        784\n",
              "dtype: object"
            ]
          },
          "metadata": {
            "tags": []
          },
          "execution_count": 18
        }
      ]
    },
    {
      "metadata": {
        "id": "WpbDs5cGMwfx",
        "colab_type": "code",
        "colab": {
          "base_uri": "https://localhost:8080/",
          "height": 102
        },
        "outputId": "14bffc6c-65ed-4f6e-c4ff-880254070442"
      },
      "cell_type": "code",
      "source": [
        "test.isnull().any().describe()"
      ],
      "execution_count": 19,
      "outputs": [
        {
          "output_type": "execute_result",
          "data": {
            "text/plain": [
              "count       784\n",
              "unique        1\n",
              "top       False\n",
              "freq        784\n",
              "dtype: object"
            ]
          },
          "metadata": {
            "tags": []
          },
          "execution_count": 19
        }
      ]
    },
    {
      "metadata": {
        "id": "iWi5dtPLRbI2",
        "colab_type": "text"
      },
      "cell_type": "markdown",
      "source": [
        "###2.3 Normalization"
      ]
    },
    {
      "metadata": {
        "id": "xqYiyID4RXCh",
        "colab_type": "code",
        "colab": {}
      },
      "cell_type": "code",
      "source": [
        "X_train = X_train /255.0\n",
        "test = test /255.0"
      ],
      "execution_count": 0,
      "outputs": []
    },
    {
      "metadata": {
        "id": "2nfA0rqhRjil",
        "colab_type": "text"
      },
      "cell_type": "markdown",
      "source": [
        "###2.4 Reshape"
      ]
    },
    {
      "metadata": {
        "id": "-h9WE_GPRiLz",
        "colab_type": "code",
        "colab": {}
      },
      "cell_type": "code",
      "source": [
        "X_train = X_train.values.reshape(-1,28,28,1)\n",
        "test = test.values.reshape(-1,28,28,1)"
      ],
      "execution_count": 0,
      "outputs": []
    },
    {
      "metadata": {
        "id": "5i8tmFiwR17N",
        "colab_type": "text"
      },
      "cell_type": "markdown",
      "source": [
        "### 2.5 Label Encoding"
      ]
    },
    {
      "metadata": {
        "id": "AAQDxp25RvUv",
        "colab_type": "code",
        "colab": {}
      },
      "cell_type": "code",
      "source": [
        "Y_train = to_categorical(Y_train,num_classes=10)"
      ],
      "execution_count": 0,
      "outputs": []
    },
    {
      "metadata": {
        "id": "DHViw_DnR_w0",
        "colab_type": "text"
      },
      "cell_type": "markdown",
      "source": [
        "### 2.6 Split training and validation set"
      ]
    },
    {
      "metadata": {
        "id": "_p685o6dR9z4",
        "colab_type": "code",
        "colab": {}
      },
      "cell_type": "code",
      "source": [
        "random_seed = 2"
      ],
      "execution_count": 0,
      "outputs": []
    },
    {
      "metadata": {
        "id": "Nt0L5ToGSElv",
        "colab_type": "code",
        "colab": {}
      },
      "cell_type": "code",
      "source": [
        "X_train, X_val, Y_train, Y_val = train_test_split(X_train,Y_train,test_size=0.1, random_state=random_seed)"
      ],
      "execution_count": 0,
      "outputs": []
    },
    {
      "metadata": {
        "id": "MvQ4mTXHSQtW",
        "colab_type": "code",
        "colab": {
          "base_uri": "https://localhost:8080/",
          "height": 348
        },
        "outputId": "ef1551ec-d8fb-4c6b-d54d-a21042c4f7f3"
      },
      "cell_type": "code",
      "source": [
        "g = plt.imshow(X_train[12][:,:,0])"
      ],
      "execution_count": 25,
      "outputs": [
        {
          "output_type": "display_data",
          "data": {
            "image/png": "[encoded data removed]",
            "text/plain": [
              "<matplotlib.figure.Figure at 0x7f0945bc7278>"
            ]
          },
          "metadata": {
            "tags": []
          }
        }
      ]
    },
    {
      "metadata": {
        "id": "62YfrWcLSwnY",
        "colab_type": "text"
      },
      "cell_type": "markdown",
      "source": [
        "## 3. Convolutional Neural Networks"
      ]
    },
    {
      "metadata": {
        "id": "rYPSchRLS2Wd",
        "colab_type": "text"
      },
      "cell_type": "markdown",
      "source": [
        "### 3.1 Define the model"
      ]
    },
    {
      "metadata": {
        "id": "aLbnQeCRSawF",
        "colab_type": "code",
        "colab": {}
      },
      "cell_type": "code",
      "source": [
        "model_1 = Sequential()\n",
        "\n",
        "model_1.add(Conv2D(filters=32, kernel_size=(5,5),padding='Same',activation='relu',input_shape=(28,28,1)))\n",
        "model_1.add(Conv2D(filters=32, kernel_size=(5,5),padding='Same',activation='relu'))\n",
        "model_1.add(MaxPool2D(pool_size=(2,2)))\n",
        "model_1.add(Dropout(0.25))\n",
        "\n",
        "\n",
        "model_1.add(Conv2D(filters=64,kernel_size=(3,3), padding='Same',activation='relu'))\n",
        "model_1.add(Conv2D(filters=64,kernel_size=(3,3), padding='Same',activation='relu'))\n",
        "model_1.add(MaxPool2D(pool_size=(2,2), strides=(2,2)))\n",
        "model_1.add(Dropout(0.25))\n",
        "\n",
        "\n",
        "model_1.add(Flatten())\n",
        "model_1.add(Dense(256, activation='relu'))\n",
        "model_1.add(Dropout(0.5))\n",
        "model_1.add(Dense(10, activation='softmax'))"
      ],
      "execution_count": 0,
      "outputs": []
    },
    {
      "metadata": {
        "id": "C6mV91N9TR9E",
        "colab_type": "code",
        "colab": {}
      },
      "cell_type": "code",
      "source": [
        "optimizer = RMSprop(lr=0.001,rho=0.9,epsilon=1e-8,decay=0.0)"
      ],
      "execution_count": 0,
      "outputs": []
    },
    {
      "metadata": {
        "id": "jUptTcsWUeXD",
        "colab_type": "code",
        "colab": {}
      },
      "cell_type": "code",
      "source": [
        "model_1.compile(optimizer=optimizer, loss='categorical_crossentropy',metrics=['accuracy'])"
      ],
      "execution_count": 0,
      "outputs": []
    },
    {
      "metadata": {
        "id": "G2H_qcXAUmZb",
        "colab_type": "code",
        "colab": {}
      },
      "cell_type": "code",
      "source": [
        "learning_rate_reduction = ReduceLROnPlateau(monitor='val_acc',\n",
        "                                           factor=0.5,\n",
        "                                           patience=3,\n",
        "                                           verbose=1,\n",
        "                                           min_lr = 0.00001)"
      ],
      "execution_count": 0,
      "outputs": []
    },
    {
      "metadata": {
        "id": "zEg310N0U_Av",
        "colab_type": "code",
        "colab": {}
      },
      "cell_type": "code",
      "source": [
        "epochs = 30\n",
        "batch_size = 256"
      ],
      "execution_count": 0,
      "outputs": []
    },
    {
      "metadata": {
        "id": "1TnyI9zpVXJf",
        "colab_type": "text"
      },
      "cell_type": "markdown",
      "source": [
        "### 3.2 Data Augmentation"
      ]
    },
    {
      "metadata": {
        "id": "SHgFRTEoVDxY",
        "colab_type": "code",
        "colab": {}
      },
      "cell_type": "code",
      "source": [
        "datagen = ImageDataGenerator(featurewise_center=False,\n",
        "                            samplewise_center=False,\n",
        "                            featurewise_std_normalization=False,\n",
        "                            samplewise_std_normalization=False,\n",
        "                            zca_whitening=False,\n",
        "                            rotation_range=10,\n",
        "                            width_shift_range=0.1,\n",
        "                            height_shift_range=0.1,\n",
        "                            horizontal_flip=False,\n",
        "                            vertical_flip=False)\n",
        "\n",
        "datagen.fit(X_train)"
      ],
      "execution_count": 0,
      "outputs": []
    },
    {
      "metadata": {
        "id": "9MwluX_wWHmv",
        "colab_type": "code",
        "colab": {
          "base_uri": "https://localhost:8080/",
          "height": 1127
        },
        "outputId": "eb608d61-18ad-488e-93c7-407625665e04"
      },
      "cell_type": "code",
      "source": [
        "history_1 = model_1.fit_generator(datagen.flow(X_train,Y_train,batch_size=batch_size),\n",
        "                             epochs=epochs, validation_data=(X_val,Y_val),\n",
        "                             verbose=2, steps_per_epoch=X_train.shape[0] // batch_size,\n",
        "                             callbacks=[learning_rate_reduction])"
      ],
      "execution_count": 35,
      "outputs": [
        {
          "output_type": "stream",
          "text": [
            "Epoch 1/30\n",
            " - 12s - loss: 0.6782 - acc: 0.7771 - val_loss: 0.1040 - val_acc: 0.9667\n",
            "Epoch 2/30\n",
            " - 10s - loss: 0.1736 - acc: 0.9469 - val_loss: 0.0511 - val_acc: 0.9852\n",
            "Epoch 3/30\n",
            " - 10s - loss: 0.1174 - acc: 0.9649 - val_loss: 0.0377 - val_acc: 0.9890\n",
            "Epoch 4/30\n",
            " - 10s - loss: 0.0922 - acc: 0.9716 - val_loss: 0.0335 - val_acc: 0.9890\n",
            "Epoch 5/30\n",
            " - 10s - loss: 0.0802 - acc: 0.9759 - val_loss: 0.0358 - val_acc: 0.9883\n",
            "Epoch 6/30\n",
            " - 10s - loss: 0.0696 - acc: 0.9793 - val_loss: 0.0303 - val_acc: 0.9921\n",
            "Epoch 7/30\n",
            " - 10s - loss: 0.0633 - acc: 0.9811 - val_loss: 0.0256 - val_acc: 0.9919\n",
            "Epoch 8/30\n",
            " - 10s - loss: 0.0559 - acc: 0.9825 - val_loss: 0.0209 - val_acc: 0.9926\n",
            "Epoch 9/30\n",
            " - 10s - loss: 0.0538 - acc: 0.9839 - val_loss: 0.0226 - val_acc: 0.9919\n",
            "Epoch 10/30\n",
            " - 10s - loss: 0.0528 - acc: 0.9845 - val_loss: 0.0213 - val_acc: 0.9940\n",
            "Epoch 11/30\n",
            " - 10s - loss: 0.0487 - acc: 0.9856 - val_loss: 0.0236 - val_acc: 0.9924\n",
            "Epoch 12/30\n",
            " - 10s - loss: 0.0477 - acc: 0.9863 - val_loss: 0.0202 - val_acc: 0.9933\n",
            "Epoch 13/30\n",
            " - 10s - loss: 0.0425 - acc: 0.9870 - val_loss: 0.0210 - val_acc: 0.9940\n",
            "Epoch 14/30\n",
            " - 10s - loss: 0.0429 - acc: 0.9873 - val_loss: 0.0216 - val_acc: 0.9926\n",
            "\n",
            "Epoch 00014: ReduceLROnPlateau reducing learning rate to 0.0005000000237487257.\n",
            "Epoch 15/30\n",
            " - 10s - loss: 0.0337 - acc: 0.9901 - val_loss: 0.0186 - val_acc: 0.9940\n",
            "Epoch 16/30\n",
            " - 10s - loss: 0.0324 - acc: 0.9903 - val_loss: 0.0171 - val_acc: 0.9948\n",
            "Epoch 17/30\n",
            " - 10s - loss: 0.0328 - acc: 0.9909 - val_loss: 0.0194 - val_acc: 0.9943\n",
            "Epoch 18/30\n",
            " - 10s - loss: 0.0299 - acc: 0.9915 - val_loss: 0.0206 - val_acc: 0.9945\n",
            "Epoch 19/30\n",
            " - 10s - loss: 0.0330 - acc: 0.9904 - val_loss: 0.0172 - val_acc: 0.9952\n",
            "Epoch 20/30\n",
            " - 10s - loss: 0.0284 - acc: 0.9913 - val_loss: 0.0181 - val_acc: 0.9943\n",
            "Epoch 21/30\n",
            " - 10s - loss: 0.0304 - acc: 0.9912 - val_loss: 0.0175 - val_acc: 0.9940\n",
            "Epoch 22/30\n",
            " - 10s - loss: 0.0288 - acc: 0.9917 - val_loss: 0.0205 - val_acc: 0.9933\n",
            "Epoch 23/30\n",
            " - 10s - loss: 0.0302 - acc: 0.9917 - val_loss: 0.0187 - val_acc: 0.9936\n",
            "\n",
            "Epoch 00023: ReduceLROnPlateau reducing learning rate to 0.0002500000118743628.\n",
            "Epoch 24/30\n",
            " - 10s - loss: 0.0255 - acc: 0.9922 - val_loss: 0.0216 - val_acc: 0.9938\n",
            "Epoch 25/30\n",
            " - 10s - loss: 0.0232 - acc: 0.9931 - val_loss: 0.0174 - val_acc: 0.9948\n",
            "Epoch 26/30\n",
            " - 10s - loss: 0.0233 - acc: 0.9932 - val_loss: 0.0186 - val_acc: 0.9936\n",
            "\n",
            "Epoch 00026: ReduceLROnPlateau reducing learning rate to 0.0001250000059371814.\n",
            "Epoch 27/30\n",
            " - 10s - loss: 0.0226 - acc: 0.9935 - val_loss: 0.0167 - val_acc: 0.9948\n",
            "Epoch 28/30\n",
            " - 10s - loss: 0.0225 - acc: 0.9932 - val_loss: 0.0153 - val_acc: 0.9950\n",
            "Epoch 29/30\n",
            " - 10s - loss: 0.0203 - acc: 0.9944 - val_loss: 0.0145 - val_acc: 0.9960\n",
            "Epoch 30/30\n",
            " - 10s - loss: 0.0227 - acc: 0.9935 - val_loss: 0.0166 - val_acc: 0.9948\n"
          ],
          "name": "stdout"
        }
      ]
    },
    {
      "metadata": {
        "id": "Qqr5gXUIS7Ab",
        "colab_type": "code",
        "colab": {}
      },
      "cell_type": "code",
      "source": [
        "model_3 = Sequential()\n",
        "\n",
        "model_3.add(Conv2D(filters=32, kernel_size=(5,5),padding='Same',activation='relu',input_shape=(28,28,1)))\n",
        "model_3.add(Conv2D(filters=32, kernel_size=(5,5),padding='Same',activation='relu'))\n",
        "model_3.add(MaxPool2D(pool_size=(2,2)))\n",
        "model_3.add(Dropout(0.25))\n",
        "\n",
        "\n",
        "model_3.add(Conv2D(filters=64,kernel_size=(3,3), padding='Same',activation='relu'))\n",
        "model_3.add(Conv2D(filters=64,kernel_size=(3,3), padding='Same',activation='relu'))\n",
        "model_3.add(MaxPool2D(pool_size=(2,2), strides=(2,2)))\n",
        "model_3.add(Dropout(0.25))\n",
        "\n",
        "\n",
        "model_3.add(Flatten())\n",
        "model_3.add(Dense(256, activation='relu'))\n",
        "model_3.add(Dropout(0.5))\n",
        "model_3.add(Dense(10, activation='softmax'))"
      ],
      "execution_count": 0,
      "outputs": []
    },
    {
      "metadata": {
        "id": "efsP2fJ1TD6I",
        "colab_type": "code",
        "colab": {}
      },
      "cell_type": "code",
      "source": [
        "model_3.compile(optimizer=optimizer, loss='squared_hinge',metrics=['accuracy'])"
      ],
      "execution_count": 0,
      "outputs": []
    },
    {
      "metadata": {
        "id": "ZeAmZh5uTX0b",
        "colab_type": "code",
        "colab": {}
      },
      "cell_type": "code",
      "source": [
        "learning_rate_reduction = ReduceLROnPlateau(monitor='val_acc',\n",
        "                                           factor=0.5,\n",
        "                                           patience=3,\n",
        "                                           verbose=1,\n",
        "                                           min_lr = 0.00001)"
      ],
      "execution_count": 0,
      "outputs": []
    },
    {
      "metadata": {
        "id": "KdatB4ApTdEa",
        "colab_type": "code",
        "colab": {}
      },
      "cell_type": "code",
      "source": [
        "datagen = ImageDataGenerator(featurewise_center=False,\n",
        "                            samplewise_center=False,\n",
        "                            featurewise_std_normalization=False,\n",
        "                            samplewise_std_normalization=False,\n",
        "                            zca_whitening=False,\n",
        "                            rotation_range=10,\n",
        "                            width_shift_range=0.1,\n",
        "                            height_shift_range=0.1,\n",
        "                            horizontal_flip=False,\n",
        "                            vertical_flip=False)\n",
        "\n",
        "datagen.fit(X_train)"
      ],
      "execution_count": 0,
      "outputs": []
    },
    {
      "metadata": {
        "id": "o_2DGqhETh7a",
        "colab_type": "code",
        "colab": {
          "base_uri": "https://localhost:8080/",
          "height": 1026
        },
        "outputId": "fcff1ffd-7b05-4f21-8075-35275510e889"
      },
      "cell_type": "code",
      "source": [
        "history_3 = model_3.fit_generator(datagen.flow(X_train,Y_train,batch_size=batch_size),\n",
        "                             epochs=epochs, validation_data=(X_val,Y_val),\n",
        "                             verbose=2, steps_per_epoch=X_train.shape[0] // batch_size,\n",
        "                             callbacks=[learning_rate_reduction])"
      ],
      "execution_count": 45,
      "outputs": [
        {
          "output_type": "stream",
          "text": [
            "Epoch 1/30\n",
            " - 10s - loss: 0.9741 - acc: 0.2210 - val_loss: 0.9496 - val_acc: 0.5305\n",
            "Epoch 2/30\n",
            " - 10s - loss: 0.9508 - acc: 0.4476 - val_loss: 0.9269 - val_acc: 0.6924\n",
            "Epoch 3/30\n",
            " - 10s - loss: 0.9406 - acc: 0.5450 - val_loss: 0.9194 - val_acc: 0.7779\n",
            "Epoch 4/30\n",
            " - 10s - loss: 0.9347 - acc: 0.6100 - val_loss: 0.9154 - val_acc: 0.8255\n",
            "Epoch 5/30\n",
            " - 10s - loss: 0.9303 - acc: 0.6586 - val_loss: 0.9120 - val_acc: 0.8681\n",
            "Epoch 6/30\n",
            " - 10s - loss: 0.9260 - acc: 0.7053 - val_loss: 0.9096 - val_acc: 0.8919\n",
            "Epoch 7/30\n",
            " - 11s - loss: 0.9221 - acc: 0.7503 - val_loss: 0.9079 - val_acc: 0.9102\n",
            "Epoch 8/30\n",
            " - 10s - loss: 0.9187 - acc: 0.7867 - val_loss: 0.9067 - val_acc: 0.9238\n",
            "Epoch 9/30\n",
            " - 10s - loss: 0.9160 - acc: 0.8197 - val_loss: 0.9055 - val_acc: 0.9367\n",
            "Epoch 10/30\n",
            " - 10s - loss: 0.9136 - acc: 0.8443 - val_loss: 0.9047 - val_acc: 0.9450\n",
            "Epoch 11/30\n",
            " - 10s - loss: 0.9123 - acc: 0.8585 - val_loss: 0.9044 - val_acc: 0.9495\n",
            "Epoch 12/30\n",
            " - 10s - loss: 0.9111 - acc: 0.8722 - val_loss: 0.9039 - val_acc: 0.9548\n",
            "Epoch 13/30\n",
            " - 10s - loss: 0.9100 - acc: 0.8867 - val_loss: 0.9037 - val_acc: 0.9560\n",
            "Epoch 14/30\n",
            " - 10s - loss: 0.9094 - acc: 0.8920 - val_loss: 0.9035 - val_acc: 0.9581\n",
            "Epoch 15/30\n",
            " - 10s - loss: 0.9086 - acc: 0.8997 - val_loss: 0.9033 - val_acc: 0.9629\n",
            "Epoch 16/30\n",
            " - 10s - loss: 0.9083 - acc: 0.9038 - val_loss: 0.9032 - val_acc: 0.9619\n",
            "Epoch 17/30\n",
            " - 10s - loss: 0.9077 - acc: 0.9109 - val_loss: 0.9030 - val_acc: 0.9652\n",
            "Epoch 18/30\n",
            " - 10s - loss: 0.9076 - acc: 0.9124 - val_loss: 0.9029 - val_acc: 0.9667\n",
            "Epoch 19/30\n",
            " - 10s - loss: 0.9071 - acc: 0.9177 - val_loss: 0.9029 - val_acc: 0.9655\n",
            "Epoch 20/30\n",
            " - 10s - loss: 0.9069 - acc: 0.9194 - val_loss: 0.9027 - val_acc: 0.9686\n",
            "Epoch 21/30\n",
            " - 10s - loss: 0.9066 - acc: 0.9239 - val_loss: 0.9025 - val_acc: 0.9700\n",
            "Epoch 22/30\n",
            " - 10s - loss: 0.9065 - acc: 0.9246 - val_loss: 0.9026 - val_acc: 0.9702\n",
            "Epoch 23/30\n",
            " - 10s - loss: 0.9063 - acc: 0.9279 - val_loss: 0.9026 - val_acc: 0.9693\n",
            "Epoch 24/30\n",
            " - 10s - loss: 0.9060 - acc: 0.9308 - val_loss: 0.9025 - val_acc: 0.9705\n",
            "Epoch 25/30\n",
            " - 10s - loss: 0.9058 - acc: 0.9325 - val_loss: 0.9024 - val_acc: 0.9719\n",
            "Epoch 26/30\n",
            " - 10s - loss: 0.9058 - acc: 0.9332 - val_loss: 0.9023 - val_acc: 0.9731\n",
            "Epoch 27/30\n",
            " - 10s - loss: 0.9054 - acc: 0.9385 - val_loss: 0.9022 - val_acc: 0.9736\n",
            "Epoch 28/30\n",
            " - 11s - loss: 0.9054 - acc: 0.9360 - val_loss: 0.9022 - val_acc: 0.9743\n",
            "Epoch 29/30\n",
            " - 11s - loss: 0.9052 - acc: 0.9402 - val_loss: 0.9021 - val_acc: 0.9745\n",
            "Epoch 30/30\n",
            " - 11s - loss: 0.9051 - acc: 0.9405 - val_loss: 0.9022 - val_acc: 0.9733\n"
          ],
          "name": "stdout"
        }
      ]
    },
    {
      "metadata": {
        "id": "pOaPsUw4U6kB",
        "colab_type": "code",
        "colab": {}
      },
      "cell_type": "code",
      "source": [
        "model_2 = Sequential()\n",
        "\n",
        "model_2.add(Conv2D(filters=32, kernel_size=(5,5),padding='Same',activation='relu',input_shape=(28,28,1)))\n",
        "model_2.add(Conv2D(filters=32, kernel_size=(5,5),padding='Same',activation='relu'))\n",
        "model_2.add(MaxPool2D(pool_size=(2,2)))\n",
        "model_2.add(Dropout(0.25))\n",
        "\n",
        "\n",
        "model_2.add(Conv2D(filters=64,kernel_size=(3,3), padding='Same',activation='relu'))\n",
        "model_2.add(Conv2D(filters=64,kernel_size=(3,3), padding='Same',activation='relu'))\n",
        "model_2.add(MaxPool2D(pool_size=(2,2), strides=(2,2)))\n",
        "model_2.add(Dropout(0.25))\n",
        "\n",
        "\n",
        "model_2.add(Flatten())\n",
        "model_2.add(Dense(256, activation='relu'))\n",
        "model_2.add(Dropout(0.5))\n",
        "model_2.add(Dense(10, activation='softmax'))"
      ],
      "execution_count": 0,
      "outputs": []
    },
    {
      "metadata": {
        "id": "V-XBF3XUVB6I",
        "colab_type": "code",
        "colab": {}
      },
      "cell_type": "code",
      "source": [
        "model_2.compile(optimizer=optimizer, loss='mse',metrics=['accuracy'])"
      ],
      "execution_count": 0,
      "outputs": []
    },
    {
      "metadata": {
        "id": "73RHkH8DVF4y",
        "colab_type": "code",
        "colab": {}
      },
      "cell_type": "code",
      "source": [
        "learning_rate_reduction = ReduceLROnPlateau(monitor='val_acc',\n",
        "                                           factor=0.5,\n",
        "                                           patience=3,\n",
        "                                           verbose=1,\n",
        "                                           min_lr = 0.00001)"
      ],
      "execution_count": 0,
      "outputs": []
    },
    {
      "metadata": {
        "id": "Zc-z3qW8VIli",
        "colab_type": "code",
        "colab": {}
      },
      "cell_type": "code",
      "source": [
        "datagen = ImageDataGenerator(featurewise_center=False,\n",
        "                            samplewise_center=False,\n",
        "                            featurewise_std_normalization=False,\n",
        "                            samplewise_std_normalization=False,\n",
        "                            zca_whitening=False,\n",
        "                            rotation_range=10,\n",
        "                            width_shift_range=0.1,\n",
        "                            height_shift_range=0.1,\n",
        "                            horizontal_flip=False,\n",
        "                            vertical_flip=False)\n",
        "\n",
        "datagen.fit(X_train)"
      ],
      "execution_count": 0,
      "outputs": []
    },
    {
      "metadata": {
        "id": "gxcslKyJVKvU",
        "colab_type": "code",
        "colab": {
          "base_uri": "https://localhost:8080/",
          "height": 1026
        },
        "outputId": "8356bb02-519b-4174-87f0-9a17ef65bf83"
      },
      "cell_type": "code",
      "source": [
        "history_2 = model_2.fit_generator(datagen.flow(X_train,Y_train,batch_size=batch_size),\n",
        "                             epochs=epochs, validation_data=(X_val,Y_val),\n",
        "                             verbose=2, steps_per_epoch=X_train.shape[0] // batch_size,\n",
        "                             callbacks=[learning_rate_reduction])"
      ],
      "execution_count": 55,
      "outputs": [
        {
          "output_type": "stream",
          "text": [
            "Epoch 1/30\n",
            " - 10s - loss: 0.0854 - acc: 0.2647 - val_loss: 0.0654 - val_acc: 0.5924\n",
            "Epoch 2/30\n",
            " - 10s - loss: 0.0667 - acc: 0.4805 - val_loss: 0.0368 - val_acc: 0.7650\n",
            "Epoch 3/30\n",
            " - 10s - loss: 0.0546 - acc: 0.5893 - val_loss: 0.0264 - val_acc: 0.8448\n",
            "Epoch 4/30\n",
            " - 11s - loss: 0.0447 - acc: 0.6810 - val_loss: 0.0184 - val_acc: 0.8871\n",
            "Epoch 5/30\n",
            " - 10s - loss: 0.0363 - acc: 0.7455 - val_loss: 0.0136 - val_acc: 0.9174\n",
            "Epoch 6/30\n",
            " - 10s - loss: 0.0296 - acc: 0.7969 - val_loss: 0.0109 - val_acc: 0.9317\n",
            "Epoch 7/30\n",
            " - 10s - loss: 0.0251 - acc: 0.8296 - val_loss: 0.0091 - val_acc: 0.9407\n",
            "Epoch 8/30\n",
            " - 10s - loss: 0.0213 - acc: 0.8575 - val_loss: 0.0082 - val_acc: 0.9474\n",
            "Epoch 9/30\n",
            " - 10s - loss: 0.0191 - acc: 0.8721 - val_loss: 0.0075 - val_acc: 0.9514\n",
            "Epoch 10/30\n",
            " - 10s - loss: 0.0173 - acc: 0.8851 - val_loss: 0.0067 - val_acc: 0.9569\n",
            "Epoch 11/30\n",
            " - 10s - loss: 0.0160 - acc: 0.8932 - val_loss: 0.0064 - val_acc: 0.9590\n",
            "Epoch 12/30\n",
            " - 10s - loss: 0.0149 - acc: 0.9010 - val_loss: 0.0059 - val_acc: 0.9631\n",
            "Epoch 13/30\n",
            " - 10s - loss: 0.0139 - acc: 0.9086 - val_loss: 0.0056 - val_acc: 0.9633\n",
            "Epoch 14/30\n",
            " - 10s - loss: 0.0133 - acc: 0.9123 - val_loss: 0.0054 - val_acc: 0.9643\n",
            "Epoch 15/30\n",
            " - 10s - loss: 0.0124 - acc: 0.9186 - val_loss: 0.0052 - val_acc: 0.9650\n",
            "Epoch 16/30\n",
            " - 10s - loss: 0.0120 - acc: 0.9214 - val_loss: 0.0049 - val_acc: 0.9669\n",
            "Epoch 17/30\n",
            " - 11s - loss: 0.0114 - acc: 0.9256 - val_loss: 0.0048 - val_acc: 0.9681\n",
            "Epoch 18/30\n",
            " - 10s - loss: 0.0109 - acc: 0.9287 - val_loss: 0.0047 - val_acc: 0.9688\n",
            "Epoch 19/30\n",
            " - 11s - loss: 0.0106 - acc: 0.9305 - val_loss: 0.0045 - val_acc: 0.9710\n",
            "Epoch 20/30\n",
            " - 11s - loss: 0.0105 - acc: 0.9309 - val_loss: 0.0045 - val_acc: 0.9688\n",
            "Epoch 21/30\n",
            " - 10s - loss: 0.0100 - acc: 0.9344 - val_loss: 0.0043 - val_acc: 0.9714\n",
            "Epoch 22/30\n",
            " - 11s - loss: 0.0100 - acc: 0.9342 - val_loss: 0.0042 - val_acc: 0.9707\n",
            "Epoch 23/30\n",
            " - 10s - loss: 0.0094 - acc: 0.9400 - val_loss: 0.0041 - val_acc: 0.9724\n",
            "Epoch 24/30\n",
            " - 10s - loss: 0.0094 - acc: 0.9388 - val_loss: 0.0041 - val_acc: 0.9726\n",
            "Epoch 25/30\n",
            " - 11s - loss: 0.0090 - acc: 0.9409 - val_loss: 0.0040 - val_acc: 0.9736\n",
            "Epoch 26/30\n",
            " - 11s - loss: 0.0087 - acc: 0.9425 - val_loss: 0.0038 - val_acc: 0.9740\n",
            "Epoch 27/30\n",
            " - 11s - loss: 0.0086 - acc: 0.9434 - val_loss: 0.0038 - val_acc: 0.9760\n",
            "Epoch 28/30\n",
            " - 10s - loss: 0.0085 - acc: 0.9447 - val_loss: 0.0038 - val_acc: 0.9748\n",
            "Epoch 29/30\n",
            " - 10s - loss: 0.0083 - acc: 0.9454 - val_loss: 0.0036 - val_acc: 0.9764\n",
            "Epoch 30/30\n",
            " - 11s - loss: 0.0081 - acc: 0.9468 - val_loss: 0.0036 - val_acc: 0.9757\n"
          ],
          "name": "stdout"
        }
      ]
    },
    {
      "metadata": {
        "id": "4xmrhUKXWkzL",
        "colab_type": "code",
        "colab": {}
      },
      "cell_type": "code",
      "source": [
        "model_4 = Sequential()\n",
        "\n",
        "model_4.add(Conv2D(filters=32, kernel_size=(5,5),padding='Same',activation='relu',input_shape=(28,28,1)))\n",
        "model_4.add(Conv2D(filters=32, kernel_size=(5,5),padding='Same',activation='relu'))\n",
        "model_4.add(MaxPool2D(pool_size=(2,2)))\n",
        "model_4.add(Dropout(0.25))\n",
        "\n",
        "\n",
        "model_4.add(Conv2D(filters=64,kernel_size=(3,3), padding='Same',activation='relu'))\n",
        "model_4.add(Conv2D(filters=64,kernel_size=(3,3), padding='Same',activation='relu'))\n",
        "model_4.add(MaxPool2D(pool_size=(2,2), strides=(2,2)))\n",
        "model_4.add(Dropout(0.25))\n",
        "\n",
        "\n",
        "model_4.add(Flatten())\n",
        "model_4.add(Dense(256, activation='relu'))\n",
        "model_4.add(Dropout(0.5))\n",
        "model_4.add(Dense(10, activation='softmax'))"
      ],
      "execution_count": 0,
      "outputs": []
    },
    {
      "metadata": {
        "id": "FFDNIrP6WuqQ",
        "colab_type": "code",
        "colab": {}
      },
      "cell_type": "code",
      "source": [
        "model_4.compile(optimizer=optimizer, loss='hinge',metrics=['accuracy'])"
      ],
      "execution_count": 0,
      "outputs": []
    },
    {
      "metadata": {
        "id": "XPWy8ejdWytU",
        "colab_type": "code",
        "colab": {}
      },
      "cell_type": "code",
      "source": [
        "learning_rate_reduction = ReduceLROnPlateau(monitor='val_acc',\n",
        "                                           factor=0.5,\n",
        "                                           patience=3,\n",
        "                                           verbose=1,\n",
        "                                           min_lr = 0.00001)"
      ],
      "execution_count": 0,
      "outputs": []
    },
    {
      "metadata": {
        "id": "D0sjtqePW1Kj",
        "colab_type": "code",
        "colab": {}
      },
      "cell_type": "code",
      "source": [
        "datagen = ImageDataGenerator(featurewise_center=False,\n",
        "                            samplewise_center=False,\n",
        "                            featurewise_std_normalization=False,\n",
        "                            samplewise_std_normalization=False,\n",
        "                            zca_whitening=False,\n",
        "                            rotation_range=10,\n",
        "                            width_shift_range=0.1,\n",
        "                            height_shift_range=0.1,\n",
        "                            horizontal_flip=False,\n",
        "                            vertical_flip=False)\n",
        "\n",
        "datagen.fit(X_train)"
      ],
      "execution_count": 0,
      "outputs": []
    },
    {
      "metadata": {
        "id": "cNsar5jbW5bG",
        "colab_type": "code",
        "colab": {
          "base_uri": "https://localhost:8080/",
          "height": 1026
        },
        "outputId": "fe107888-5c97-4284-c33f-6dce27db6be2"
      },
      "cell_type": "code",
      "source": [
        "history_4 = model_4.fit_generator(datagen.flow(X_train,Y_train,batch_size=batch_size),\n",
        "                             epochs=epochs, validation_data=(X_val,Y_val),\n",
        "                             verbose=2, steps_per_epoch=X_train.shape[0] // batch_size,\n",
        "                             callbacks=[learning_rate_reduction])"
      ],
      "execution_count": 61,
      "outputs": [
        {
          "output_type": "stream",
          "text": [
            "Epoch 1/30\n",
            " - 11s - loss: 0.9847 - acc: 0.2063 - val_loss: 0.9609 - val_acc: 0.5224\n",
            "Epoch 2/30\n",
            " - 11s - loss: 0.9607 - acc: 0.4290 - val_loss: 0.9357 - val_acc: 0.6669\n",
            "Epoch 3/30\n",
            " - 11s - loss: 0.9495 - acc: 0.5210 - val_loss: 0.9279 - val_acc: 0.7317\n",
            "Epoch 4/30\n",
            " - 11s - loss: 0.9441 - acc: 0.5730 - val_loss: 0.9245 - val_acc: 0.7636\n",
            "Epoch 5/30\n",
            " - 11s - loss: 0.9403 - acc: 0.6088 - val_loss: 0.9211 - val_acc: 0.7955\n",
            "Epoch 6/30\n",
            " - 11s - loss: 0.9368 - acc: 0.6452 - val_loss: 0.9171 - val_acc: 0.8348\n",
            "Epoch 7/30\n",
            " - 11s - loss: 0.9334 - acc: 0.6757 - val_loss: 0.9149 - val_acc: 0.8576\n",
            "Epoch 8/30\n",
            " - 11s - loss: 0.9306 - acc: 0.7054 - val_loss: 0.9126 - val_acc: 0.8814\n",
            "Epoch 9/30\n",
            " - 11s - loss: 0.9281 - acc: 0.7291 - val_loss: 0.9109 - val_acc: 0.8960\n",
            "Epoch 10/30\n",
            " - 11s - loss: 0.9254 - acc: 0.7559 - val_loss: 0.9098 - val_acc: 0.9074\n",
            "Epoch 11/30\n",
            " - 11s - loss: 0.9233 - acc: 0.7766 - val_loss: 0.9085 - val_acc: 0.9226\n",
            "Epoch 12/30\n",
            " - 11s - loss: 0.9211 - acc: 0.8000 - val_loss: 0.9074 - val_acc: 0.9310\n",
            "Epoch 13/30\n",
            " - 11s - loss: 0.9192 - acc: 0.8168 - val_loss: 0.9069 - val_acc: 0.9338\n",
            "Epoch 14/30\n",
            " - 11s - loss: 0.9178 - acc: 0.8303 - val_loss: 0.9068 - val_acc: 0.9369\n",
            "Epoch 15/30\n",
            " - 11s - loss: 0.9166 - acc: 0.8431 - val_loss: 0.9063 - val_acc: 0.9390\n",
            "Epoch 16/30\n",
            " - 11s - loss: 0.9159 - acc: 0.8485 - val_loss: 0.9058 - val_acc: 0.9448\n",
            "Epoch 17/30\n",
            " - 11s - loss: 0.9150 - acc: 0.8574 - val_loss: 0.9053 - val_acc: 0.9507\n",
            "Epoch 18/30\n",
            " - 11s - loss: 0.9142 - acc: 0.8643 - val_loss: 0.9050 - val_acc: 0.9529\n",
            "Epoch 19/30\n",
            " - 11s - loss: 0.9135 - acc: 0.8709 - val_loss: 0.9049 - val_acc: 0.9545\n",
            "Epoch 20/30\n",
            " - 11s - loss: 0.9130 - acc: 0.8759 - val_loss: 0.9047 - val_acc: 0.9571\n",
            "Epoch 21/30\n",
            " - 11s - loss: 0.9122 - acc: 0.8850 - val_loss: 0.9044 - val_acc: 0.9595\n",
            "Epoch 22/30\n",
            " - 11s - loss: 0.9116 - acc: 0.8894 - val_loss: 0.9043 - val_acc: 0.9590\n",
            "Epoch 23/30\n",
            " - 11s - loss: 0.9116 - acc: 0.8898 - val_loss: 0.9042 - val_acc: 0.9617\n",
            "Epoch 24/30\n",
            " - 11s - loss: 0.9111 - acc: 0.8930 - val_loss: 0.9041 - val_acc: 0.9619\n",
            "Epoch 25/30\n",
            " - 11s - loss: 0.9105 - acc: 0.9005 - val_loss: 0.9043 - val_acc: 0.9593\n",
            "Epoch 26/30\n",
            " - 11s - loss: 0.9106 - acc: 0.8975 - val_loss: 0.9038 - val_acc: 0.9640\n",
            "Epoch 27/30\n",
            " - 11s - loss: 0.9101 - acc: 0.9025 - val_loss: 0.9037 - val_acc: 0.9660\n",
            "Epoch 28/30\n",
            " - 11s - loss: 0.9100 - acc: 0.9045 - val_loss: 0.9037 - val_acc: 0.9650\n",
            "Epoch 29/30\n",
            " - 11s - loss: 0.9097 - acc: 0.9065 - val_loss: 0.9036 - val_acc: 0.9655\n",
            "Epoch 30/30\n",
            " - 11s - loss: 0.9093 - acc: 0.9097 - val_loss: 0.9036 - val_acc: 0.9657\n"
          ],
          "name": "stdout"
        }
      ]
    },
    {
      "metadata": {
        "id": "tko1ESzlYqEc",
        "colab_type": "code",
        "colab": {
          "base_uri": "https://localhost:8080/",
          "height": 390
        },
        "outputId": "49427d63-1a49-4b3d-8f1c-4a8676cefc58"
      },
      "cell_type": "code",
      "source": [
        "plt.figure(figsize=(8,6))\n",
        "plt.plot(history_1.history['acc'],color='b',label='categorical_crossentropy')\n",
        "plt.plot(history_2.history['acc'],color='r',label='mse')\n",
        "plt.plot(history_3.history['acc'],color='g',label='squared_hinge')\n",
        "plt.plot(history_4.history['acc'],color='y',label='hinge')\n",
        "#plt.legend(loc='best')\n",
        "leg = plt.legend()\n",
        "plt.legend(frameon=True,fancybox=True, framealpha=1, shadow=True, borderpad=1)\n",
        "#leg.get_frame().set_edgecolor('b')\n",
        "plt.title('Accuracy Comparison')\n",
        "plt.show()"
      ],
      "execution_count": 81,
      "outputs": [
        {
          "output_type": "display_data",
          "data": {
            "image/png": "[encoded data removed]",
            "text/plain": [
              "<matplotlib.figure.Figure at 0x7f3cb721a668>"
            ]
          },
          "metadata": {
            "tags": []
          }
        }
      ]
    },
    {
      "metadata": {
        "id": "W289eqV3ZDX6",
        "colab_type": "code",
        "colab": {
          "base_uri": "https://localhost:8080/",
          "height": 390
        },
        "outputId": "a00404c0-e53f-4bda-c614-4897e541d749"
      },
      "cell_type": "code",
      "source": [
        "plt.figure(figsize=(8,6))\n",
        "plt.plot(history_1.history['val_acc'],color='b',label='categorical_crossentropy')\n",
        "plt.plot(history_2.history['val_acc'],color='r',label='mse')\n",
        "plt.plot(history_3.history['val_acc'],color='g',label='squared_hinge')\n",
        "plt.plot(history_4.history['val_acc'],color='y',label='hinge')\n",
        "leg = plt.legend()\n",
        "plt.legend(frameon=True,fancybox=True, framealpha=1, shadow=True, borderpad=1)\n",
        "plt.title('Validation Accuracy Comparison')\n",
        "plt.show()"
      ],
      "execution_count": 82,
      "outputs": [
        {
          "output_type": "display_data",
          "data": {
            "image/png": "[encoded data removed]",
            "text/plain": [
              "<matplotlib.figure.Figure at 0x7f3cb71decf8>"
            ]
          },
          "metadata": {
            "tags": []
          }
        }
      ]
    }
  ]
}