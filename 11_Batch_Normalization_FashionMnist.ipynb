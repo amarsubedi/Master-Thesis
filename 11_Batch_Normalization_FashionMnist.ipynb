{
  "nbformat": 4,
  "nbformat_minor": 0,
  "metadata": {
    "colab": {
      "name": "11_Batch_Normalization_FashionMnist.ipynb",
      "version": "0.3.2",
      "provenance": [],
      "collapsed_sections": []
    },
    "kernelspec": {
      "name": "python3",
      "display_name": "Python 3"
    },
    "accelerator": "GPU"
  },
  "cells": [
    {
      "cell_type": "markdown",
      "metadata": {
        "id": "view-in-github",
        "colab_type": "text"
      },
      "source": [
        "[View in Colaboratory](https://colab.research.google.com/github/redcican/Master-Thesis/blob/master/11_Batch_Normalization_FashionMnist.ipynb)"
      ]
    },
    {
      "metadata": {
        "id": "-hfQjQHRuEtC",
        "colab_type": "text"
      },
      "cell_type": "markdown",
      "source": [
        "# 11 Comparison of Batch Normalization Using FashionMNIST\n"
      ]
    },
    {
      "metadata": {
        "id": "50UzrChcvTSK",
        "colab_type": "text"
      },
      "cell_type": "markdown",
      "source": [
        "## 1. Introduction to the Dataset\n",
        "\n",
        "Fashion-MNIST is a dataset of Zalando's article images—consisting of a training set of 60,000 examples and a test set of 10,000 examples. Each example is a 28x28 grayscale image, associated with a label from 10 classes\n",
        "\n",
        "Labels:\n",
        "\n",
        "\n",
        "*   0 : T-shirt/top\n",
        "*   1 : Trouser\n",
        "*   2 : Pullover\n",
        "*   3 : Dress\n",
        "*   4 : Coat\n",
        "*   5 : Sandal\n",
        "*   6 : Shirt\n",
        "*   7 : Sneake\n",
        "*   8 : Bag\n",
        "*   9 : Ankle Boot\n",
        "\n",
        "\n",
        "\n",
        "\n",
        "\n",
        "\n",
        "\n",
        "\n",
        "\n"
      ]
    },
    {
      "metadata": {
        "id": "wm7kYOQVxVDg",
        "colab_type": "text"
      },
      "cell_type": "markdown",
      "source": [
        "## 2. Data Preprocessing"
      ]
    },
    {
      "metadata": {
        "id": "e8LMmAMqwa3V",
        "colab_type": "code",
        "colab": {
          "base_uri": "https://localhost:8080/",
          "height": 34
        },
        "outputId": "63fef843-8ded-43d2-e911-f29841314fa0"
      },
      "cell_type": "code",
      "source": [
        "from keras.utils import to_categorical\n",
        "import numpy as np\n",
        "import pandas as pd\n",
        "from sklearn.model_selection import train_test_split"
      ],
      "execution_count": 2,
      "outputs": [
        {
          "output_type": "stream",
          "text": [
            "Using TensorFlow backend.\n"
          ],
          "name": "stderr"
        }
      ]
    },
    {
      "metadata": {
        "id": "ujmFWslkxhd8",
        "colab_type": "code",
        "colab": {
          "resources": {
            "http://localhost:8080/nbextensions/google.colab/files.js": {
              "data": "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",
              "ok": true,
              "headers": [
                [
                  "content-type",
                  "application/javascript"
                ]
              ],
              "status": 200,
              "status_text": ""
            }
          },
          "base_uri": "https://localhost:8080/",
          "height": 92
        },
        "outputId": "24110f92-db9c-443a-cd98-cb9df2161116"
      },
      "cell_type": "code",
      "source": [
        "from google.colab import files\n",
        "\n",
        "uploaded = files.upload()\n",
        "\n",
        "for fn in uploaded.keys():\n",
        "  print('User uploaded file \"{name}\" with length {length} bytes'.format(\n",
        "      name=fn, length=len(uploaded[fn])))"
      ],
      "execution_count": 3,
      "outputs": [
        {
          "output_type": "display_data",
          "data": {
            "text/html": [
              "\n",
              "     <input type=\"file\" id=\"files-95970b28-2687-44ed-b573-39f272e7e60e\" name=\"files[]\" multiple disabled />\n",
              "     <output id=\"result-95970b28-2687-44ed-b573-39f272e7e60e\">\n",
              "      Upload widget is only available when the cell has been executed in the\n",
              "      current browser session. Please rerun this cell to enable.\n",
              "      </output>\n",
              "      <script src=\"/nbextensions/google.colab/files.js\"></script> "
            ],
            "text/plain": [
              "<IPython.core.display.HTML object>"
            ]
          },
          "metadata": {
            "tags": []
          }
        },
        {
          "output_type": "stream",
          "text": [
            "Saving fashion-mnist_train.csv to fashion-mnist_train.csv\n",
            "User uploaded file \"fashion-mnist_train.csv\" with length 133047193 bytes\n"
          ],
          "name": "stdout"
        }
      ]
    },
    {
      "metadata": {
        "id": "OySeCV1RxjCt",
        "colab_type": "code",
        "colab": {
          "resources": {
            "http://localhost:8080/nbextensions/google.colab/files.js": {
              "data": "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",
              "ok": true,
              "headers": [
                [
                  "content-type",
                  "application/javascript"
                ]
              ],
              "status": 200,
              "status_text": ""
            }
          },
          "base_uri": "https://localhost:8080/",
          "height": 92
        },
        "outputId": "0ed06535-9895-4b58-bc8b-1b482cf31e58"
      },
      "cell_type": "code",
      "source": [
        "from google.colab import files\n",
        "\n",
        "uploaded = files.upload()\n",
        "\n",
        "for fn in uploaded.keys():\n",
        "  print('User uploaded file \"{name}\" with length {length} bytes'.format(\n",
        "      name=fn, length=len(uploaded[fn])))"
      ],
      "execution_count": 4,
      "outputs": [
        {
          "output_type": "display_data",
          "data": {
            "text/html": [
              "\n",
              "     <input type=\"file\" id=\"files-de7e6da3-cd26-406b-92d9-aec5a0c5dcd9\" name=\"files[]\" multiple disabled />\n",
              "     <output id=\"result-de7e6da3-cd26-406b-92d9-aec5a0c5dcd9\">\n",
              "      Upload widget is only available when the cell has been executed in the\n",
              "      current browser session. Please rerun this cell to enable.\n",
              "      </output>\n",
              "      <script src=\"/nbextensions/google.colab/files.js\"></script> "
            ],
            "text/plain": [
              "<IPython.core.display.HTML object>"
            ]
          },
          "metadata": {
            "tags": []
          }
        },
        {
          "output_type": "stream",
          "text": [
            "Saving fashion-mnist_test.csv to fashion-mnist_test.csv\n",
            "User uploaded file \"fashion-mnist_test.csv\" with length 22176691 bytes\n"
          ],
          "name": "stdout"
        }
      ]
    },
    {
      "metadata": {
        "id": "LwqsSpO71wvs",
        "colab_type": "code",
        "colab": {}
      },
      "cell_type": "code",
      "source": [
        "data_train = pd.read_csv('fashion-mnist_train.csv')\n",
        "data_test = pd.read_csv('fashion-mnist_test.csv')"
      ],
      "execution_count": 0,
      "outputs": []
    },
    {
      "metadata": {
        "id": "C-5zGsY52tG9",
        "colab_type": "code",
        "colab": {}
      },
      "cell_type": "code",
      "source": [
        "img_rows, img_cols = 28, 28\n",
        "input_shpae = (img_rows, img_cols, 1)\n",
        "\n",
        "X = np.array(data_train.iloc[:,1:])\n",
        "y = to_categorical(np.array(data_train.iloc[:,0]))"
      ],
      "execution_count": 0,
      "outputs": []
    },
    {
      "metadata": {
        "id": "vUQtUuOF3BNP",
        "colab_type": "code",
        "colab": {}
      },
      "cell_type": "code",
      "source": [
        "X_train, X_val, y_train, y_val = train_test_split(X,y,test_size=.2, random_state=13)"
      ],
      "execution_count": 0,
      "outputs": []
    },
    {
      "metadata": {
        "id": "kTtlmets3KhP",
        "colab_type": "code",
        "colab": {}
      },
      "cell_type": "code",
      "source": [
        "X_test = np.array(data_test.iloc[:,1:])\n",
        "y_test = to_categorical(np.array(data_test.iloc[:,0]))"
      ],
      "execution_count": 0,
      "outputs": []
    },
    {
      "metadata": {
        "id": "5cTYMY5O3WAd",
        "colab_type": "code",
        "colab": {}
      },
      "cell_type": "code",
      "source": [
        "X_train = X_train.reshape(X_train.shape[0], img_rows, img_cols, 1)\n",
        "X_test = X_test.reshape(X_test.shape[0], img_rows, img_cols, 1)\n",
        "X_val = X_val.reshape(X_val.shape[0], img_rows, img_cols, 1)"
      ],
      "execution_count": 0,
      "outputs": []
    },
    {
      "metadata": {
        "id": "f9GG60Xs3q4n",
        "colab_type": "code",
        "colab": {}
      },
      "cell_type": "code",
      "source": [
        "X_train = X_train.astype('float32')\n",
        "X_test = X_test.astype('float32')\n",
        "X_val = X_val.astype('float32')\n",
        "X_train /= 255\n",
        "X_test /= 255\n",
        "X_val /= 255"
      ],
      "execution_count": 0,
      "outputs": []
    },
    {
      "metadata": {
        "id": "n8DYZ68r4IlB",
        "colab_type": "text"
      },
      "cell_type": "markdown",
      "source": [
        "## 3. Building the Neural Network"
      ]
    },
    {
      "metadata": {
        "id": "nXUIbdZi363Y",
        "colab_type": "code",
        "colab": {}
      },
      "cell_type": "code",
      "source": [
        "import time\n",
        "import seaborn as sns\n",
        "import matplotlib.pyplot as plt\n",
        "import keras\n",
        "from keras import optimizers\n",
        "from keras.models import Sequential\n",
        "from keras.layers import Dense, Dropout, Flatten, Activation\n",
        "from keras.layers import Conv2D, MaxPooling2D\n",
        "from keras import optimizers\n",
        "from keras.layers.normalization import BatchNormalization"
      ],
      "execution_count": 0,
      "outputs": []
    },
    {
      "metadata": {
        "id": "OOVA5jXD46F1",
        "colab_type": "code",
        "colab": {}
      },
      "cell_type": "code",
      "source": [
        "batch_size = 256\n",
        "num_classes = 10\n",
        "epochs = 100\n",
        "img_rows, img_cols = 28, 28"
      ],
      "execution_count": 0,
      "outputs": []
    },
    {
      "metadata": {
        "id": "gF_PabuZNRbt",
        "colab_type": "text"
      },
      "cell_type": "markdown",
      "source": [
        "### 3.1 without Batch Normalization"
      ]
    },
    {
      "metadata": {
        "id": "diEQVGWO4_5U",
        "colab_type": "code",
        "colab": {}
      },
      "cell_type": "code",
      "source": [
        "model_1 = Sequential()\n",
        "\n",
        "model_1.add(Conv2D(32, kernel_size=(3,3),input_shape=input_shpae,use_bias=True))\n",
        "model_1.add(Activation('relu'))\n",
        "model_1.add(MaxPooling2D(2,2))\n",
        "model_1.add(Dropout(0.25))\n",
        "\n",
        "model_1.add(Conv2D(64, (3,3),use_bias=True))\n",
        "model_1.add(Activation('relu'))\n",
        "model_1.add(MaxPooling2D(pool_size=(2,2)))\n",
        "model_1.add(Dropout(0.25))\n",
        "\n",
        "model_1.add(Conv2D(128,(3,3),use_bias=True))\n",
        "model_1.add(Activation('relu'))\n",
        "model_1.add(Dropout(0.4))\n",
        "\n",
        "model_1.add(Flatten())\n",
        "model_1.add(Dense(128,use_bias=True))\n",
        "model_1.add(Activation('relu'))\n",
        "model_1.add(Dropout(0.3))\n",
        "model_1.add(Dense(num_classes,activation='softmax'))\n",
        "  \n",
        "model_1.compile(loss='categorical_crossentropy',\n",
        "               optimizer=optimizers.Adam(lr=0.01),metrics=['accuracy'])\n",
        "  "
      ],
      "execution_count": 0,
      "outputs": []
    },
    {
      "metadata": {
        "id": "hzlJMhD07Yh-",
        "colab_type": "code",
        "colab": {
          "base_uri": "https://localhost:8080/",
          "height": 3410
        },
        "collapsed": true,
        "outputId": "317a07b6-b0ac-4621-8bab-6c44cd433151"
      },
      "cell_type": "code",
      "source": [
        "start = time.time()\n",
        "model_1_history = model_1.fit(X_train, y_train,\n",
        "                             batch_size = batch_size,\n",
        "                             epochs = epochs,\n",
        "                             verbose = 2,\n",
        "                             validation_data = (X_val, y_val))\n",
        "print('@ Total Time Spent: %.2f seconds' %(time.time()-start))"
      ],
      "execution_count": 23,
      "outputs": [
        {
          "output_type": "stream",
          "text": [
            "Train on 48000 samples, validate on 12000 samples\n",
            "Epoch 1/100\n",
            " - 5s - loss: 0.7147 - acc: 0.7303 - val_loss: 0.4396 - val_acc: 0.8358\n",
            "Epoch 2/100\n",
            " - 4s - loss: 0.4779 - acc: 0.8222 - val_loss: 0.3601 - val_acc: 0.8665\n",
            "Epoch 3/100\n",
            " - 4s - loss: 0.4487 - acc: 0.8344 - val_loss: 0.3462 - val_acc: 0.8697\n",
            "Epoch 4/100\n",
            " - 4s - loss: 0.4369 - acc: 0.8386 - val_loss: 0.3632 - val_acc: 0.8594\n",
            "Epoch 5/100\n",
            " - 4s - loss: 0.4467 - acc: 0.8351 - val_loss: 0.3394 - val_acc: 0.8682\n",
            "Epoch 6/100\n",
            " - 4s - loss: 0.4328 - acc: 0.8405 - val_loss: 0.3546 - val_acc: 0.8612\n",
            "Epoch 7/100\n",
            " - 4s - loss: 0.4215 - acc: 0.8445 - val_loss: 0.3377 - val_acc: 0.8718\n",
            "Epoch 8/100\n",
            " - 4s - loss: 0.4270 - acc: 0.8429 - val_loss: 0.3541 - val_acc: 0.8672\n",
            "Epoch 9/100\n",
            " - 4s - loss: 0.4303 - acc: 0.8421 - val_loss: 0.3629 - val_acc: 0.8637\n",
            "Epoch 10/100\n",
            " - 4s - loss: 0.4270 - acc: 0.8426 - val_loss: 0.3514 - val_acc: 0.8659\n",
            "Epoch 11/100\n",
            " - 4s - loss: 0.4241 - acc: 0.8447 - val_loss: 0.3587 - val_acc: 0.8612\n",
            "Epoch 12/100\n",
            " - 4s - loss: 0.4250 - acc: 0.8419 - val_loss: 0.3273 - val_acc: 0.8779\n",
            "Epoch 13/100\n",
            " - 4s - loss: 0.4250 - acc: 0.8436 - val_loss: 0.3402 - val_acc: 0.8704\n",
            "Epoch 14/100\n",
            " - 4s - loss: 0.4191 - acc: 0.8446 - val_loss: 0.3616 - val_acc: 0.8637\n",
            "Epoch 15/100\n",
            " - 4s - loss: 0.4194 - acc: 0.8461 - val_loss: 0.3529 - val_acc: 0.8646\n",
            "Epoch 16/100\n",
            " - 4s - loss: 0.4238 - acc: 0.8452 - val_loss: 0.3518 - val_acc: 0.8684\n",
            "Epoch 17/100\n",
            " - 4s - loss: 0.4247 - acc: 0.8438 - val_loss: 0.3453 - val_acc: 0.8667\n",
            "Epoch 18/100\n",
            " - 4s - loss: 0.4195 - acc: 0.8455 - val_loss: 0.3502 - val_acc: 0.8635\n",
            "Epoch 19/100\n",
            " - 4s - loss: 0.4279 - acc: 0.8412 - val_loss: 0.3545 - val_acc: 0.8675\n",
            "Epoch 20/100\n",
            " - 4s - loss: 0.4305 - acc: 0.8421 - val_loss: 0.3527 - val_acc: 0.8635\n",
            "Epoch 21/100\n",
            " - 4s - loss: 0.4162 - acc: 0.8458 - val_loss: 0.3613 - val_acc: 0.8628\n",
            "Epoch 22/100\n",
            " - 4s - loss: 0.4245 - acc: 0.8448 - val_loss: 0.3460 - val_acc: 0.8654\n",
            "Epoch 23/100\n",
            " - 4s - loss: 0.4204 - acc: 0.8453 - val_loss: 0.3581 - val_acc: 0.8692\n",
            "Epoch 24/100\n",
            " - 4s - loss: 0.4273 - acc: 0.8422 - val_loss: 0.3562 - val_acc: 0.8644\n",
            "Epoch 25/100\n",
            " - 4s - loss: 0.4273 - acc: 0.8437 - val_loss: 0.3629 - val_acc: 0.8646\n",
            "Epoch 26/100\n",
            " - 4s - loss: 0.4173 - acc: 0.8460 - val_loss: 0.3567 - val_acc: 0.8658\n",
            "Epoch 27/100\n",
            " - 4s - loss: 0.4287 - acc: 0.8435 - val_loss: 0.3560 - val_acc: 0.8687\n",
            "Epoch 28/100\n",
            " - 4s - loss: 0.4198 - acc: 0.8483 - val_loss: 0.3463 - val_acc: 0.8728\n",
            "Epoch 29/100\n",
            " - 4s - loss: 0.4200 - acc: 0.8468 - val_loss: 0.3522 - val_acc: 0.8645\n",
            "Epoch 30/100\n",
            " - 4s - loss: 0.4312 - acc: 0.8413 - val_loss: 0.3528 - val_acc: 0.8658\n",
            "Epoch 31/100\n",
            " - 4s - loss: 0.4284 - acc: 0.8456 - val_loss: 0.3582 - val_acc: 0.8651\n",
            "Epoch 32/100\n",
            " - 4s - loss: 0.4264 - acc: 0.8445 - val_loss: 0.3431 - val_acc: 0.8678\n",
            "Epoch 33/100\n",
            " - 4s - loss: 0.4210 - acc: 0.8465 - val_loss: 0.3423 - val_acc: 0.8711\n",
            "Epoch 34/100\n"
          ],
          "name": "stdout"
        },
        {
          "output_type": "stream",
          "text": [
            " - 4s - loss: 0.4293 - acc: 0.8430 - val_loss: 0.3612 - val_acc: 0.8671\n",
            "Epoch 35/100\n",
            " - 4s - loss: 0.4258 - acc: 0.8441 - val_loss: 0.3430 - val_acc: 0.8691\n",
            "Epoch 36/100\n",
            " - 4s - loss: 0.4270 - acc: 0.8441 - val_loss: 0.3377 - val_acc: 0.8742\n",
            "Epoch 37/100\n",
            " - 4s - loss: 0.4232 - acc: 0.8432 - val_loss: 0.3503 - val_acc: 0.8661\n",
            "Epoch 38/100\n",
            " - 4s - loss: 0.4225 - acc: 0.8459 - val_loss: 0.3419 - val_acc: 0.8708\n",
            "Epoch 39/100\n",
            " - 4s - loss: 0.4251 - acc: 0.8475 - val_loss: 0.3507 - val_acc: 0.8686\n",
            "Epoch 40/100\n",
            " - 4s - loss: 0.4357 - acc: 0.8421 - val_loss: 0.3556 - val_acc: 0.8677\n",
            "Epoch 41/100\n",
            " - 4s - loss: 0.4302 - acc: 0.8420 - val_loss: 0.3569 - val_acc: 0.8625\n",
            "Epoch 42/100\n",
            " - 4s - loss: 0.4381 - acc: 0.8387 - val_loss: 0.3858 - val_acc: 0.8580\n",
            "Epoch 43/100\n",
            " - 4s - loss: 0.4371 - acc: 0.8398 - val_loss: 0.3531 - val_acc: 0.8680\n",
            "Epoch 44/100\n",
            " - 4s - loss: 0.4275 - acc: 0.8453 - val_loss: 0.3497 - val_acc: 0.8646\n",
            "Epoch 45/100\n",
            " - 4s - loss: 0.4205 - acc: 0.8466 - val_loss: 0.3549 - val_acc: 0.8657\n",
            "Epoch 46/100\n",
            " - 4s - loss: 0.4347 - acc: 0.8413 - val_loss: 0.3633 - val_acc: 0.8635\n",
            "Epoch 47/100\n",
            " - 4s - loss: 0.4330 - acc: 0.8431 - val_loss: 0.3475 - val_acc: 0.8683\n",
            "Epoch 48/100\n",
            " - 4s - loss: 0.4256 - acc: 0.8430 - val_loss: 0.3527 - val_acc: 0.8663\n",
            "Epoch 49/100\n",
            " - 4s - loss: 0.4211 - acc: 0.8470 - val_loss: 0.3635 - val_acc: 0.8683\n",
            "Epoch 50/100\n",
            " - 4s - loss: 0.4345 - acc: 0.8428 - val_loss: 0.3546 - val_acc: 0.8678\n",
            "Epoch 51/100\n",
            " - 4s - loss: 0.4294 - acc: 0.8426 - val_loss: 0.3463 - val_acc: 0.8732\n",
            "Epoch 52/100\n",
            " - 4s - loss: 0.4234 - acc: 0.8482 - val_loss: 0.3686 - val_acc: 0.8614\n",
            "Epoch 53/100\n",
            " - 4s - loss: 0.4286 - acc: 0.8456 - val_loss: 0.3529 - val_acc: 0.8707\n",
            "Epoch 54/100\n",
            " - 4s - loss: 0.4385 - acc: 0.8390 - val_loss: 0.3534 - val_acc: 0.8692\n",
            "Epoch 55/100\n",
            " - 4s - loss: 0.4251 - acc: 0.8445 - val_loss: 0.3395 - val_acc: 0.8728\n",
            "Epoch 56/100\n",
            " - 4s - loss: 0.4264 - acc: 0.8461 - val_loss: 0.3575 - val_acc: 0.8644\n",
            "Epoch 57/100\n",
            " - 4s - loss: 0.4244 - acc: 0.8443 - val_loss: 0.3449 - val_acc: 0.8696\n",
            "Epoch 58/100\n",
            " - 4s - loss: 0.4266 - acc: 0.8441 - val_loss: 0.3477 - val_acc: 0.8662\n",
            "Epoch 59/100\n",
            " - 4s - loss: 0.4424 - acc: 0.8392 - val_loss: 0.3547 - val_acc: 0.8652\n",
            "Epoch 60/100\n",
            " - 4s - loss: 0.4252 - acc: 0.8446 - val_loss: 0.3530 - val_acc: 0.8701\n",
            "Epoch 61/100\n",
            " - 4s - loss: 0.4253 - acc: 0.8454 - val_loss: 0.3546 - val_acc: 0.8654\n",
            "Epoch 62/100\n",
            " - 4s - loss: 0.4243 - acc: 0.8439 - val_loss: 0.3364 - val_acc: 0.8711\n",
            "Epoch 63/100\n",
            " - 4s - loss: 0.4256 - acc: 0.8471 - val_loss: 0.3860 - val_acc: 0.8592\n",
            "Epoch 64/100\n",
            " - 4s - loss: 0.4340 - acc: 0.8430 - val_loss: 0.3521 - val_acc: 0.8683\n",
            "Epoch 65/100\n",
            " - 4s - loss: 0.4323 - acc: 0.8421 - val_loss: 0.3701 - val_acc: 0.8716\n",
            "Epoch 66/100\n",
            " - 4s - loss: 0.4237 - acc: 0.8460 - val_loss: 0.3571 - val_acc: 0.8653\n",
            "Epoch 67/100\n",
            " - 4s - loss: 0.4275 - acc: 0.8431 - val_loss: 0.3672 - val_acc: 0.8667\n"
          ],
          "name": "stdout"
        },
        {
          "output_type": "stream",
          "text": [
            "Epoch 68/100\n",
            " - 4s - loss: 0.4248 - acc: 0.8443 - val_loss: 0.3424 - val_acc: 0.8701\n",
            "Epoch 69/100\n",
            " - 4s - loss: 0.4334 - acc: 0.8420 - val_loss: 0.3457 - val_acc: 0.8731\n",
            "Epoch 70/100\n",
            " - 4s - loss: 0.4209 - acc: 0.8437 - val_loss: 0.3509 - val_acc: 0.8675\n",
            "Epoch 71/100\n",
            " - 4s - loss: 0.4280 - acc: 0.8467 - val_loss: 0.3426 - val_acc: 0.8742\n",
            "Epoch 72/100\n",
            " - 4s - loss: 0.4194 - acc: 0.8464 - val_loss: 0.3587 - val_acc: 0.8630\n",
            "Epoch 73/100\n",
            " - 4s - loss: 0.4413 - acc: 0.8392 - val_loss: 0.3447 - val_acc: 0.8687\n",
            "Epoch 74/100\n",
            " - 4s - loss: 0.4302 - acc: 0.8431 - val_loss: 0.3519 - val_acc: 0.8718\n",
            "Epoch 75/100\n",
            " - 4s - loss: 0.4418 - acc: 0.8393 - val_loss: 0.3566 - val_acc: 0.8650\n",
            "Epoch 76/100\n",
            " - 4s - loss: 0.4266 - acc: 0.8453 - val_loss: 0.3688 - val_acc: 0.8600\n",
            "Epoch 77/100\n",
            " - 4s - loss: 0.4336 - acc: 0.8412 - val_loss: 0.3608 - val_acc: 0.8664\n",
            "Epoch 78/100\n",
            " - 4s - loss: 0.4460 - acc: 0.8390 - val_loss: 0.3606 - val_acc: 0.8689\n",
            "Epoch 79/100\n",
            " - 4s - loss: 0.4351 - acc: 0.8420 - val_loss: 0.3651 - val_acc: 0.8644\n",
            "Epoch 80/100\n",
            " - 4s - loss: 0.4463 - acc: 0.8364 - val_loss: 0.3654 - val_acc: 0.8620\n",
            "Epoch 81/100\n",
            " - 4s - loss: 0.4368 - acc: 0.8435 - val_loss: 0.3522 - val_acc: 0.8662\n",
            "Epoch 82/100\n",
            " - 4s - loss: 0.4300 - acc: 0.8440 - val_loss: 0.3602 - val_acc: 0.8603\n",
            "Epoch 83/100\n",
            " - 4s - loss: 0.4414 - acc: 0.8382 - val_loss: 0.3738 - val_acc: 0.8579\n",
            "Epoch 84/100\n",
            " - 4s - loss: 0.4487 - acc: 0.8375 - val_loss: 0.3613 - val_acc: 0.8636\n",
            "Epoch 85/100\n",
            " - 4s - loss: 0.4310 - acc: 0.8432 - val_loss: 0.3708 - val_acc: 0.8500\n",
            "Epoch 86/100\n",
            " - 4s - loss: 0.4286 - acc: 0.8435 - val_loss: 0.3607 - val_acc: 0.8654\n",
            "Epoch 87/100\n",
            " - 4s - loss: 0.4339 - acc: 0.8429 - val_loss: 0.3464 - val_acc: 0.8711\n",
            "Epoch 88/100\n",
            " - 4s - loss: 0.4395 - acc: 0.8414 - val_loss: 0.3619 - val_acc: 0.8642\n",
            "Epoch 89/100\n",
            " - 4s - loss: 0.4322 - acc: 0.8451 - val_loss: 0.3473 - val_acc: 0.8711\n",
            "Epoch 90/100\n",
            " - 4s - loss: 0.4222 - acc: 0.8456 - val_loss: 0.3499 - val_acc: 0.8713\n",
            "Epoch 91/100\n",
            " - 4s - loss: 0.4296 - acc: 0.8431 - val_loss: 0.3526 - val_acc: 0.8693\n",
            "Epoch 92/100\n",
            " - 4s - loss: 0.4289 - acc: 0.8428 - val_loss: 0.3639 - val_acc: 0.8637\n",
            "Epoch 93/100\n",
            " - 4s - loss: 0.4469 - acc: 0.8393 - val_loss: 0.3659 - val_acc: 0.8633\n",
            "Epoch 94/100\n",
            " - 4s - loss: 0.4572 - acc: 0.8351 - val_loss: 0.3835 - val_acc: 0.8573\n",
            "Epoch 95/100\n",
            " - 4s - loss: 0.4370 - acc: 0.8393 - val_loss: 0.3508 - val_acc: 0.8678\n",
            "Epoch 96/100\n",
            " - 4s - loss: 0.4425 - acc: 0.8405 - val_loss: 0.3629 - val_acc: 0.8653\n",
            "Epoch 97/100\n",
            " - 4s - loss: 0.4306 - acc: 0.8426 - val_loss: 0.3580 - val_acc: 0.8590\n",
            "Epoch 98/100\n",
            " - 4s - loss: 0.4346 - acc: 0.8413 - val_loss: 0.3425 - val_acc: 0.8710\n",
            "Epoch 99/100\n",
            " - 4s - loss: 0.4220 - acc: 0.8464 - val_loss: 0.3454 - val_acc: 0.8713\n",
            "Epoch 100/100\n",
            " - 4s - loss: 0.4278 - acc: 0.8445 - val_loss: 0.3648 - val_acc: 0.8587\n",
            "@ Total Time Spent: 430.87 seconds\n"
          ],
          "name": "stdout"
        }
      ]
    },
    {
      "metadata": {
        "id": "RnJwoesp7y5f",
        "colab_type": "code",
        "colab": {
          "base_uri": "https://localhost:8080/",
          "height": 50
        },
        "outputId": "6cb82d1b-4f33-47af-9bce-a29488050bca"
      },
      "cell_type": "code",
      "source": [
        "train_loss_1, train_accuracy_1 = model_1.evaluate(X_train, y_train, verbose=0)\n",
        "print(\"Training Accuracy = %.2f %%     loss = %f\" % (train_accuracy_1 * 100, train_loss_1))\n",
        "test_loss_1, test_accuracy_1 = model_1.evaluate(X_test, y_test, verbose=0)\n",
        "print(\"Testing Accuracy = %.2f %%    loss = %f\" % (test_accuracy_1 * 100, test_loss_1))"
      ],
      "execution_count": 24,
      "outputs": [
        {
          "output_type": "stream",
          "text": [
            "Training Accuracy = 87.39 %     loss = 0.318080\n",
            "Testing Accuracy = 86.69 %    loss = 0.341137\n"
          ],
          "name": "stdout"
        }
      ]
    },
    {
      "metadata": {
        "id": "hK8XP0VBNrF3",
        "colab_type": "text"
      },
      "cell_type": "markdown",
      "source": [
        "### 3.2 with Batch Normalization"
      ]
    },
    {
      "metadata": {
        "id": "DiZ__E6TNvql",
        "colab_type": "code",
        "colab": {}
      },
      "cell_type": "code",
      "source": [
        "model_2 = Sequential()\n",
        "\n",
        "model_2.add(Conv2D(32, kernel_size=(3,3),input_shape=input_shpae,use_bias=True))\n",
        "model_2.add(BatchNormalization())\n",
        "model_2.add(Activation('relu'))\n",
        "model_2.add(MaxPooling2D(2,2))\n",
        "model_2.add(Dropout(0.25))\n",
        "\n",
        "model_2.add(Conv2D(64, (3,3),use_bias=True))\n",
        "model_2.add(BatchNormalization())\n",
        "model_2.add(Activation('relu'))\n",
        "model_2.add(MaxPooling2D(pool_size=(2,2)))\n",
        "model_2.add(Dropout(0.25))\n",
        "\n",
        "model_2.add(Conv2D(128,(3,3),use_bias=True))\n",
        "model_2.add(BatchNormalization())\n",
        "model_2.add(Activation('relu'))\n",
        "model_2.add(Dropout(0.4))\n",
        "\n",
        "model_2.add(Flatten())\n",
        "model_2.add(Dense(128,use_bias=True))\n",
        "model_2.add(BatchNormalization())\n",
        "model_2.add(Activation('relu'))\n",
        "model_2.add(Dropout(0.3))\n",
        "model_2.add(Dense(num_classes,activation='softmax'))\n",
        "  \n",
        "model_2.compile(loss='categorical_crossentropy',\n",
        "               optimizer=optimizers.Adam(lr=0.01),metrics=['accuracy'])"
      ],
      "execution_count": 0,
      "outputs": []
    },
    {
      "metadata": {
        "id": "u6WcpbL7OIcz",
        "colab_type": "code",
        "colab": {
          "base_uri": "https://localhost:8080/",
          "height": 3410
        },
        "outputId": "0f138878-905e-4a97-f873-b2170674ad0f"
      },
      "cell_type": "code",
      "source": [
        "start = time.time()\n",
        "model_2_history = model_2.fit(X_train, y_train,\n",
        "                             batch_size = batch_size,\n",
        "                             epochs = epochs,\n",
        "                             verbose = 2,\n",
        "                             validation_data = (X_val, y_val))\n",
        "print('@ Total Time Spent: %.2f seconds' %(time.time()-start))"
      ],
      "execution_count": 26,
      "outputs": [
        {
          "output_type": "stream",
          "text": [
            "Train on 48000 samples, validate on 12000 samples\n",
            "Epoch 1/100\n",
            " - 7s - loss: 0.5600 - acc: 0.7944 - val_loss: 0.4301 - val_acc: 0.8397\n",
            "Epoch 2/100\n",
            " - 6s - loss: 0.3966 - acc: 0.8551 - val_loss: 0.4369 - val_acc: 0.8188\n",
            "Epoch 3/100\n",
            " - 6s - loss: 0.3592 - acc: 0.8678 - val_loss: 0.3452 - val_acc: 0.8737\n",
            "Epoch 4/100\n",
            " - 6s - loss: 0.3312 - acc: 0.8793 - val_loss: 0.3789 - val_acc: 0.8457\n",
            "Epoch 5/100\n",
            " - 6s - loss: 0.3200 - acc: 0.8824 - val_loss: 0.3033 - val_acc: 0.8882\n",
            "Epoch 6/100\n",
            " - 6s - loss: 0.3035 - acc: 0.8887 - val_loss: 0.3461 - val_acc: 0.8668\n",
            "Epoch 7/100\n",
            " - 6s - loss: 0.2968 - acc: 0.8896 - val_loss: 0.3362 - val_acc: 0.8702\n",
            "Epoch 8/100\n",
            " - 6s - loss: 0.2882 - acc: 0.8938 - val_loss: 0.3090 - val_acc: 0.8836\n",
            "Epoch 9/100\n",
            " - 6s - loss: 0.2792 - acc: 0.8972 - val_loss: 0.2792 - val_acc: 0.8920\n",
            "Epoch 10/100\n",
            " - 6s - loss: 0.2748 - acc: 0.8994 - val_loss: 0.3065 - val_acc: 0.8794\n",
            "Epoch 11/100\n",
            " - 6s - loss: 0.2690 - acc: 0.9008 - val_loss: 0.2600 - val_acc: 0.8997\n",
            "Epoch 12/100\n",
            " - 6s - loss: 0.2635 - acc: 0.9028 - val_loss: 0.2600 - val_acc: 0.9011\n",
            "Epoch 13/100\n",
            " - 6s - loss: 0.2612 - acc: 0.9019 - val_loss: 0.2446 - val_acc: 0.9073\n",
            "Epoch 14/100\n",
            " - 6s - loss: 0.2502 - acc: 0.9062 - val_loss: 0.2908 - val_acc: 0.8935\n",
            "Epoch 15/100\n",
            " - 6s - loss: 0.2481 - acc: 0.9078 - val_loss: 0.2991 - val_acc: 0.8833\n",
            "Epoch 16/100\n",
            " - 6s - loss: 0.2477 - acc: 0.9073 - val_loss: 0.2383 - val_acc: 0.9156\n",
            "Epoch 17/100\n",
            " - 7s - loss: 0.2447 - acc: 0.9070 - val_loss: 0.2605 - val_acc: 0.9009\n",
            "Epoch 18/100\n",
            " - 6s - loss: 0.2423 - acc: 0.9099 - val_loss: 0.2497 - val_acc: 0.9077\n",
            "Epoch 19/100\n",
            " - 6s - loss: 0.2430 - acc: 0.9093 - val_loss: 0.2399 - val_acc: 0.9117\n",
            "Epoch 20/100\n",
            " - 7s - loss: 0.2370 - acc: 0.9114 - val_loss: 0.2412 - val_acc: 0.9113\n",
            "Epoch 21/100\n",
            " - 6s - loss: 0.2331 - acc: 0.9137 - val_loss: 0.3190 - val_acc: 0.8774\n",
            "Epoch 22/100\n",
            " - 6s - loss: 0.2320 - acc: 0.9136 - val_loss: 0.2392 - val_acc: 0.9114\n",
            "Epoch 23/100\n",
            " - 6s - loss: 0.2293 - acc: 0.9146 - val_loss: 0.2529 - val_acc: 0.9043\n",
            "Epoch 24/100\n",
            " - 6s - loss: 0.2283 - acc: 0.9138 - val_loss: 0.2780 - val_acc: 0.8987\n",
            "Epoch 25/100\n",
            " - 6s - loss: 0.2234 - acc: 0.9152 - val_loss: 0.2264 - val_acc: 0.9177\n",
            "Epoch 26/100\n",
            " - 6s - loss: 0.2211 - acc: 0.9158 - val_loss: 0.2281 - val_acc: 0.9156\n",
            "Epoch 27/100\n",
            " - 6s - loss: 0.2216 - acc: 0.9170 - val_loss: 0.2235 - val_acc: 0.9187\n",
            "Epoch 28/100\n",
            " - 6s - loss: 0.2175 - acc: 0.9184 - val_loss: 0.2279 - val_acc: 0.9189\n",
            "Epoch 29/100\n",
            " - 6s - loss: 0.2133 - acc: 0.9198 - val_loss: 0.2450 - val_acc: 0.9078\n",
            "Epoch 30/100\n",
            " - 6s - loss: 0.2176 - acc: 0.9176 - val_loss: 0.2562 - val_acc: 0.9049\n",
            "Epoch 31/100\n",
            " - 6s - loss: 0.2138 - acc: 0.9181 - val_loss: 0.2363 - val_acc: 0.9138\n",
            "Epoch 32/100\n",
            " - 6s - loss: 0.2152 - acc: 0.9179 - val_loss: 0.2670 - val_acc: 0.9025\n",
            "Epoch 33/100\n",
            " - 6s - loss: 0.2087 - acc: 0.9217 - val_loss: 0.2276 - val_acc: 0.9190\n",
            "Epoch 34/100\n"
          ],
          "name": "stdout"
        },
        {
          "output_type": "stream",
          "text": [
            " - 6s - loss: 0.2074 - acc: 0.9225 - val_loss: 0.3467 - val_acc: 0.8820\n",
            "Epoch 35/100\n",
            " - 6s - loss: 0.2102 - acc: 0.9213 - val_loss: 0.2186 - val_acc: 0.9217\n",
            "Epoch 36/100\n",
            " - 6s - loss: 0.2068 - acc: 0.9224 - val_loss: 0.2533 - val_acc: 0.9107\n",
            "Epoch 37/100\n",
            " - 6s - loss: 0.2059 - acc: 0.9220 - val_loss: 0.2312 - val_acc: 0.9172\n",
            "Epoch 38/100\n",
            " - 7s - loss: 0.2064 - acc: 0.9229 - val_loss: 0.2392 - val_acc: 0.9134\n",
            "Epoch 39/100\n",
            " - 7s - loss: 0.1986 - acc: 0.9249 - val_loss: 0.2180 - val_acc: 0.9209\n",
            "Epoch 40/100\n",
            " - 6s - loss: 0.2041 - acc: 0.9244 - val_loss: 0.2480 - val_acc: 0.9100\n",
            "Epoch 41/100\n",
            " - 6s - loss: 0.2040 - acc: 0.9223 - val_loss: 0.2547 - val_acc: 0.9067\n",
            "Epoch 42/100\n",
            " - 7s - loss: 0.1991 - acc: 0.9244 - val_loss: 0.2841 - val_acc: 0.8953\n",
            "Epoch 43/100\n",
            " - 6s - loss: 0.2008 - acc: 0.9242 - val_loss: 0.2492 - val_acc: 0.9103\n",
            "Epoch 44/100\n",
            " - 6s - loss: 0.1988 - acc: 0.9244 - val_loss: 0.2186 - val_acc: 0.9194\n",
            "Epoch 45/100\n",
            " - 6s - loss: 0.1931 - acc: 0.9256 - val_loss: 0.2369 - val_acc: 0.9136\n",
            "Epoch 46/100\n",
            " - 6s - loss: 0.1988 - acc: 0.9250 - val_loss: 0.2496 - val_acc: 0.9095\n",
            "Epoch 47/100\n",
            " - 6s - loss: 0.1969 - acc: 0.9248 - val_loss: 0.2177 - val_acc: 0.9217\n",
            "Epoch 48/100\n",
            " - 6s - loss: 0.1957 - acc: 0.9255 - val_loss: 0.2509 - val_acc: 0.9118\n",
            "Epoch 49/100\n",
            " - 6s - loss: 0.1922 - acc: 0.9279 - val_loss: 0.2339 - val_acc: 0.9173\n",
            "Epoch 50/100\n",
            " - 6s - loss: 0.1914 - acc: 0.9271 - val_loss: 0.2249 - val_acc: 0.9178\n",
            "Epoch 51/100\n",
            " - 6s - loss: 0.1881 - acc: 0.9295 - val_loss: 0.2208 - val_acc: 0.9178\n",
            "Epoch 52/100\n",
            " - 6s - loss: 0.1901 - acc: 0.9282 - val_loss: 0.2131 - val_acc: 0.9251\n",
            "Epoch 53/100\n",
            " - 6s - loss: 0.1903 - acc: 0.9292 - val_loss: 0.2439 - val_acc: 0.9114\n",
            "Epoch 54/100\n",
            " - 6s - loss: 0.1872 - acc: 0.9284 - val_loss: 0.2281 - val_acc: 0.9186\n",
            "Epoch 55/100\n",
            " - 6s - loss: 0.1842 - acc: 0.9304 - val_loss: 0.2332 - val_acc: 0.9153\n",
            "Epoch 56/100\n",
            " - 6s - loss: 0.1855 - acc: 0.9298 - val_loss: 0.2132 - val_acc: 0.9223\n",
            "Epoch 57/100\n",
            " - 6s - loss: 0.1879 - acc: 0.9282 - val_loss: 0.2304 - val_acc: 0.9159\n",
            "Epoch 58/100\n",
            " - 6s - loss: 0.1846 - acc: 0.9303 - val_loss: 0.2332 - val_acc: 0.9171\n",
            "Epoch 59/100\n",
            " - 6s - loss: 0.1804 - acc: 0.9305 - val_loss: 0.2395 - val_acc: 0.9142\n",
            "Epoch 60/100\n",
            " - 6s - loss: 0.1795 - acc: 0.9323 - val_loss: 0.2129 - val_acc: 0.9241\n",
            "Epoch 61/100\n",
            " - 6s - loss: 0.1792 - acc: 0.9329 - val_loss: 0.2329 - val_acc: 0.9213\n",
            "Epoch 62/100\n",
            " - 6s - loss: 0.1820 - acc: 0.9299 - val_loss: 0.2380 - val_acc: 0.9145\n",
            "Epoch 63/100\n",
            " - 6s - loss: 0.1828 - acc: 0.9305 - val_loss: 0.2186 - val_acc: 0.9229\n",
            "Epoch 64/100\n",
            " - 6s - loss: 0.1778 - acc: 0.9327 - val_loss: 0.2183 - val_acc: 0.9212\n",
            "Epoch 65/100\n",
            " - 6s - loss: 0.1842 - acc: 0.9304 - val_loss: 0.2228 - val_acc: 0.9215\n",
            "Epoch 66/100\n",
            " - 6s - loss: 0.1782 - acc: 0.9320 - val_loss: 0.2123 - val_acc: 0.9247\n",
            "Epoch 67/100\n",
            " - 6s - loss: 0.1775 - acc: 0.9320 - val_loss: 0.2064 - val_acc: 0.9250\n"
          ],
          "name": "stdout"
        },
        {
          "output_type": "stream",
          "text": [
            "Epoch 68/100\n",
            " - 6s - loss: 0.1764 - acc: 0.9333 - val_loss: 0.2224 - val_acc: 0.9227\n",
            "Epoch 69/100\n",
            " - 6s - loss: 0.1789 - acc: 0.9322 - val_loss: 0.2245 - val_acc: 0.9203\n",
            "Epoch 70/100\n",
            " - 6s - loss: 0.1772 - acc: 0.9332 - val_loss: 0.2134 - val_acc: 0.9255\n",
            "Epoch 71/100\n",
            " - 6s - loss: 0.1765 - acc: 0.9335 - val_loss: 0.2637 - val_acc: 0.9048\n",
            "Epoch 72/100\n",
            " - 7s - loss: 0.1764 - acc: 0.9329 - val_loss: 0.2332 - val_acc: 0.9186\n",
            "Epoch 73/100\n",
            " - 6s - loss: 0.1742 - acc: 0.9349 - val_loss: 0.2199 - val_acc: 0.9210\n",
            "Epoch 74/100\n",
            " - 6s - loss: 0.1733 - acc: 0.9341 - val_loss: 0.2200 - val_acc: 0.9231\n",
            "Epoch 75/100\n",
            " - 6s - loss: 0.1753 - acc: 0.9330 - val_loss: 0.2336 - val_acc: 0.9185\n",
            "Epoch 76/100\n",
            " - 6s - loss: 0.1765 - acc: 0.9329 - val_loss: 0.2469 - val_acc: 0.9151\n",
            "Epoch 77/100\n",
            " - 7s - loss: 0.1723 - acc: 0.9354 - val_loss: 0.2073 - val_acc: 0.9281\n",
            "Epoch 78/100\n",
            " - 6s - loss: 0.1742 - acc: 0.9336 - val_loss: 0.2134 - val_acc: 0.9225\n",
            "Epoch 79/100\n",
            " - 6s - loss: 0.1727 - acc: 0.9340 - val_loss: 0.2233 - val_acc: 0.9219\n",
            "Epoch 80/100\n",
            " - 6s - loss: 0.1696 - acc: 0.9357 - val_loss: 0.2156 - val_acc: 0.9254\n",
            "Epoch 81/100\n",
            " - 6s - loss: 0.1687 - acc: 0.9352 - val_loss: 0.2256 - val_acc: 0.9203\n",
            "Epoch 82/100\n",
            " - 6s - loss: 0.1692 - acc: 0.9356 - val_loss: 0.2224 - val_acc: 0.9220\n",
            "Epoch 83/100\n",
            " - 6s - loss: 0.1680 - acc: 0.9358 - val_loss: 0.2164 - val_acc: 0.9240\n",
            "Epoch 84/100\n",
            " - 6s - loss: 0.1701 - acc: 0.9359 - val_loss: 0.2445 - val_acc: 0.9144\n",
            "Epoch 85/100\n",
            " - 6s - loss: 0.1696 - acc: 0.9352 - val_loss: 0.2440 - val_acc: 0.9133\n",
            "Epoch 86/100\n",
            " - 6s - loss: 0.1674 - acc: 0.9363 - val_loss: 0.2170 - val_acc: 0.9258\n",
            "Epoch 87/100\n",
            " - 6s - loss: 0.1642 - acc: 0.9381 - val_loss: 0.2110 - val_acc: 0.9247\n",
            "Epoch 88/100\n",
            " - 6s - loss: 0.1642 - acc: 0.9382 - val_loss: 0.2126 - val_acc: 0.9272\n",
            "Epoch 89/100\n",
            " - 6s - loss: 0.1655 - acc: 0.9374 - val_loss: 0.2569 - val_acc: 0.9112\n",
            "Epoch 90/100\n",
            " - 6s - loss: 0.1643 - acc: 0.9384 - val_loss: 0.2212 - val_acc: 0.9217\n",
            "Epoch 91/100\n",
            " - 6s - loss: 0.1673 - acc: 0.9363 - val_loss: 0.2577 - val_acc: 0.9066\n",
            "Epoch 92/100\n",
            " - 6s - loss: 0.1655 - acc: 0.9384 - val_loss: 0.2486 - val_acc: 0.9116\n",
            "Epoch 93/100\n",
            " - 6s - loss: 0.1652 - acc: 0.9381 - val_loss: 0.2187 - val_acc: 0.9257\n",
            "Epoch 94/100\n",
            " - 6s - loss: 0.1655 - acc: 0.9373 - val_loss: 0.2197 - val_acc: 0.9224\n",
            "Epoch 95/100\n",
            " - 6s - loss: 0.1609 - acc: 0.9384 - val_loss: 0.2144 - val_acc: 0.9267\n",
            "Epoch 96/100\n",
            " - 6s - loss: 0.1577 - acc: 0.9400 - val_loss: 0.2261 - val_acc: 0.9228\n",
            "Epoch 97/100\n",
            " - 6s - loss: 0.1583 - acc: 0.9401 - val_loss: 0.2338 - val_acc: 0.9224\n",
            "Epoch 98/100\n",
            " - 6s - loss: 0.1646 - acc: 0.9378 - val_loss: 0.2158 - val_acc: 0.9257\n",
            "Epoch 99/100\n",
            " - 6s - loss: 0.1617 - acc: 0.9393 - val_loss: 0.2205 - val_acc: 0.9233\n",
            "Epoch 100/100\n",
            " - 6s - loss: 0.1621 - acc: 0.9372 - val_loss: 0.2127 - val_acc: 0.9263\n",
            "@ Total Time Spent: 637.37 seconds\n"
          ],
          "name": "stdout"
        }
      ]
    },
    {
      "metadata": {
        "id": "5ikNaEcROq8D",
        "colab_type": "code",
        "colab": {
          "base_uri": "https://localhost:8080/",
          "height": 50
        },
        "outputId": "3bc25f8c-b3d1-4ef3-d127-d65845a2fa14"
      },
      "cell_type": "code",
      "source": [
        "train_loss_2, train_accuracy_2 = model_2.evaluate(X_train, y_train, verbose=0)\n",
        "print(\"Training Accuracy = %.2f %%     loss = %f\" % (train_accuracy_2 * 100, train_loss_2))\n",
        "test_loss_2, test_accuracy_2 = model_2.evaluate(X_test, y_test, verbose=0)\n",
        "print(\"Testing Accuracy = %.2f %%    loss = %f\" % (test_accuracy_2 * 100, test_loss_2))"
      ],
      "execution_count": 27,
      "outputs": [
        {
          "output_type": "stream",
          "text": [
            "Training Accuracy = 97.09 %     loss = 0.083686\n",
            "Testing Accuracy = 92.83 %    loss = 0.198827\n"
          ],
          "name": "stdout"
        }
      ]
    },
    {
      "metadata": {
        "id": "OS39uLDgo9A6",
        "colab_type": "text"
      },
      "cell_type": "markdown",
      "source": [
        "## Plot the Result and Compare"
      ]
    },
    {
      "metadata": {
        "id": "OmSj0RHupUsH",
        "colab_type": "code",
        "colab": {
          "base_uri": "https://localhost:8080/",
          "height": 677
        },
        "outputId": "2fe9e152-4d20-4ced-9707-83228c0bc123"
      },
      "cell_type": "code",
      "source": [
        "plt.style.use('seaborn-white')\n",
        "fig,(ax1,ax2) = plt.subplots(2,1,figsize=(20,10))\n",
        "ax1.plot(model_1_history.history['acc'],color='blue',label='No BN Train Accuracy')\n",
        "ax1.plot(model_2_history.history['acc'],color='red',label='With BN Train Accuracy')\n",
        "ax1.plot(model_1_history.history['val_acc'],color='blue',linestyle=':',label='No BN Validation Accuracy')\n",
        "ax1.plot(model_2_history.history['val_acc'],color='red',linestyle=':',label='With BN Validation Accuracy')\n",
        "\n",
        "ax1.legend(frameon=True,edgecolor='black')\n",
        "ax1.set_xlabel('Epochs')\n",
        "ax1.set_ylabel('Accuracy')\n",
        "ax1.grid(True,color='black',linestyle='dotted',linewidth=1,alpha=.3)\n",
        "ax1.set_title('Compare the Accuracy')\n",
        "\n",
        "ax2.plot(model_1_history.history['loss'],color='blue',label='No BN Train Loss')\n",
        "ax2.plot(model_2_history.history['loss'],color='red',label='With BN Train Loss')\n",
        "ax2.plot(model_1_history.history['val_loss'],color='blue',linestyle=':',label='No BN Validation Loss')\n",
        "ax2.plot(model_2_history.history['val_loss'],color='red',linestyle=':',label='With BN Validation Loss')\n",
        "\n",
        "ax2.legend(frameon=True,edgecolor='black')\n",
        "ax2.set_xlabel('Epochs')\n",
        "ax2.set_ylabel('Loss')\n",
        "ax2.grid(True,color='black',linestyle='dotted',linewidth=1,alpha=.3)\n",
        "ax2.set_title('Compare the Loss')\n",
        "\n",
        "fig.suptitle('Compare the effect of Batch Normalization on a classificaiton task',fontsize=16, fontweight='bold')\n",
        "plt.show()"
      ],
      "execution_count": 28,
      "outputs": [
        {
          "output_type": "display_data",
          "data": {
            "image/png": "[encoded data removed]",
            "text/plain": [
              "<matplotlib.figure.Figure at 0x7f92903ab5f8>"
            ]
          },
          "metadata": {
            "tags": []
          }
        }
      ]
    },
    {
      "metadata": {
        "id": "dBz12LpGSMk7",
        "colab_type": "code",
        "colab": {}
      },
      "cell_type": "code",
      "source": [
        ""
      ],
      "execution_count": 0,
      "outputs": []
    }
  ]
}