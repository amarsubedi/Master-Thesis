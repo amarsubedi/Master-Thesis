{
  "nbformat": 4,
  "nbformat_minor": 0,
  "metadata": {
    "colab": {
      "name": "15_Activation_Functions_Regression_Simple_Calories_data",
      "version": "0.3.2",
      "provenance": [],
      "collapsed_sections": []
    },
    "kernelspec": {
      "name": "python3",
      "display_name": "Python 3"
    },
    "accelerator": "GPU"
  },
  "cells": [
    {
      "cell_type": "markdown",
      "metadata": {
        "id": "view-in-github",
        "colab_type": "text"
      },
      "source": [
        "[View in Colaboratory](https://colab.research.google.com/github/redcican/Master-Thesis/blob/master/15_Activation_Functions_Regression_Simple_Calories_data.ipynb)"
      ]
    },
    {
      "metadata": {
        "id": "-hfQjQHRuEtC",
        "colab_type": "text"
      },
      "cell_type": "markdown",
      "source": [
        "# 15 Comparison of Activation Functions Using Regression of Calories Data\n"
      ]
    },
    {
      "metadata": {
        "id": "ujmFWslkxhd8",
        "colab_type": "code",
        "colab": {
          "resources": {
            "http://localhost:8080/nbextensions/google.colab/files.js": {
              "data": "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",
              "ok": true,
              "headers": [
                [
                  "content-type",
                  "application/javascript"
                ]
              ],
              "status": 200,
              "status_text": ""
            }
          },
          "base_uri": "https://localhost:8080/",
          "height": 92
        },
        "outputId": "085f1a3a-e24d-4fc5-d6ff-bd9a2fa1d5a9"
      },
      "cell_type": "code",
      "source": [
        "from google.colab import files\n",
        "\n",
        "uploaded = files.upload()\n",
        "\n",
        "for fn in uploaded.keys():\n",
        "  print('User uploaded file \"{name}\" with length {length} bytes'.format(\n",
        "      name=fn, length=len(uploaded[fn])))"
      ],
      "execution_count": 2,
      "outputs": [
        {
          "output_type": "display_data",
          "data": {
            "text/html": [
              "\n",
              "     <input type=\"file\" id=\"files-ac44baa7-1124-424b-908b-92f7cd8851e1\" name=\"files[]\" multiple disabled />\n",
              "     <output id=\"result-ac44baa7-1124-424b-908b-92f7cd8851e1\">\n",
              "      Upload widget is only available when the cell has been executed in the\n",
              "      current browser session. Please rerun this cell to enable.\n",
              "      </output>\n",
              "      <script src=\"/nbextensions/google.colab/files.js\"></script> "
            ],
            "text/plain": [
              "<IPython.core.display.HTML object>"
            ]
          },
          "metadata": {
            "tags": []
          }
        },
        {
          "output_type": "stream",
          "text": [
            "Saving Calories_Regression.csv to Calories_Regression.csv\n",
            "User uploaded file \"Calories_Regression.csv\" with length 604611 bytes\n"
          ],
          "name": "stdout"
        }
      ]
    },
    {
      "metadata": {
        "id": "JNaTdbOdyprO",
        "colab_type": "code",
        "colab": {}
      },
      "cell_type": "code",
      "source": [
        "%matplotlib inline\n",
        "%config InlineBacken.figure_format='retina'\n",
        "import matplotlib.pyplot as plt\n",
        "import pandas as pd\n",
        "import numpy as np\n",
        "import seaborn as sns\n",
        "import time"
      ],
      "execution_count": 0,
      "outputs": []
    },
    {
      "metadata": {
        "id": "XHbKnP08yscm",
        "colab_type": "code",
        "colab": {}
      },
      "cell_type": "code",
      "source": [
        "from keras.models import Sequential\n",
        "from keras.layers import Dense, Activation, initializers, LeakyReLU, PReLU, regularizers, Dropout\n",
        "from keras import optimizers\n",
        "from sklearn.utils import shuffle\n",
        "from sklearn.model_selection import train_test_split\n",
        "from sklearn.preprocessing import StandardScaler, MinMaxScaler"
      ],
      "execution_count": 0,
      "outputs": []
    },
    {
      "metadata": {
        "id": "kBEvkjNcy05a",
        "colab_type": "code",
        "colab": {
          "base_uri": "https://localhost:8080/",
          "height": 195
        },
        "outputId": "efd94b32-0fdc-4823-e141-7ee4fdcb3e40"
      },
      "cell_type": "code",
      "source": [
        "rawdf = pd.read_csv('Calories_Regression.csv')\n",
        "rawdf.head()"
      ],
      "execution_count": 5,
      "outputs": [
        {
          "output_type": "execute_result",
          "data": {
            "text/html": [
              "<div>\n",
              "<style scoped>\n",
              "    .dataframe tbody tr th:only-of-type {\n",
              "        vertical-align: middle;\n",
              "    }\n",
              "\n",
              "    .dataframe tbody tr th {\n",
              "        vertical-align: top;\n",
              "    }\n",
              "\n",
              "    .dataframe thead th {\n",
              "        text-align: right;\n",
              "    }\n",
              "</style>\n",
              "<table border=\"1\" class=\"dataframe\">\n",
              "  <thead>\n",
              "    <tr style=\"text-align: right;\">\n",
              "      <th></th>\n",
              "      <th>User_ID</th>\n",
              "      <th>Gender</th>\n",
              "      <th>Age</th>\n",
              "      <th>Height</th>\n",
              "      <th>Weight</th>\n",
              "      <th>Duration</th>\n",
              "      <th>Heart_Rate</th>\n",
              "      <th>Body_Temp</th>\n",
              "      <th>Calories</th>\n",
              "    </tr>\n",
              "  </thead>\n",
              "  <tbody>\n",
              "    <tr>\n",
              "      <th>0</th>\n",
              "      <td>14733363</td>\n",
              "      <td>male</td>\n",
              "      <td>68</td>\n",
              "      <td>190</td>\n",
              "      <td>94</td>\n",
              "      <td>29</td>\n",
              "      <td>105</td>\n",
              "      <td>40.8</td>\n",
              "      <td>231</td>\n",
              "    </tr>\n",
              "    <tr>\n",
              "      <th>1</th>\n",
              "      <td>14861698</td>\n",
              "      <td>female</td>\n",
              "      <td>20</td>\n",
              "      <td>166</td>\n",
              "      <td>60</td>\n",
              "      <td>14</td>\n",
              "      <td>94</td>\n",
              "      <td>40.3</td>\n",
              "      <td>66</td>\n",
              "    </tr>\n",
              "    <tr>\n",
              "      <th>2</th>\n",
              "      <td>11179863</td>\n",
              "      <td>male</td>\n",
              "      <td>69</td>\n",
              "      <td>179</td>\n",
              "      <td>79</td>\n",
              "      <td>5</td>\n",
              "      <td>88</td>\n",
              "      <td>38.7</td>\n",
              "      <td>26</td>\n",
              "    </tr>\n",
              "    <tr>\n",
              "      <th>3</th>\n",
              "      <td>16180408</td>\n",
              "      <td>female</td>\n",
              "      <td>34</td>\n",
              "      <td>179</td>\n",
              "      <td>71</td>\n",
              "      <td>13</td>\n",
              "      <td>100</td>\n",
              "      <td>40.5</td>\n",
              "      <td>71</td>\n",
              "    </tr>\n",
              "    <tr>\n",
              "      <th>4</th>\n",
              "      <td>17771927</td>\n",
              "      <td>female</td>\n",
              "      <td>27</td>\n",
              "      <td>154</td>\n",
              "      <td>58</td>\n",
              "      <td>10</td>\n",
              "      <td>81</td>\n",
              "      <td>39.8</td>\n",
              "      <td>35</td>\n",
              "    </tr>\n",
              "  </tbody>\n",
              "</table>\n",
              "</div>"
            ],
            "text/plain": [
              "    User_ID  Gender  Age  Height  Weight  Duration  Heart_Rate  Body_Temp  \\\n",
              "0  14733363    male   68     190      94        29         105       40.8   \n",
              "1  14861698  female   20     166      60        14          94       40.3   \n",
              "2  11179863    male   69     179      79         5          88       38.7   \n",
              "3  16180408  female   34     179      71        13         100       40.5   \n",
              "4  17771927  female   27     154      58        10          81       39.8   \n",
              "\n",
              "   Calories  \n",
              "0       231  \n",
              "1        66  \n",
              "2        26  \n",
              "3        71  \n",
              "4        35  "
            ]
          },
          "metadata": {
            "tags": []
          },
          "execution_count": 5
        }
      ]
    },
    {
      "metadata": {
        "id": "501cG9OCy5OD",
        "colab_type": "code",
        "colab": {
          "base_uri": "https://localhost:8080/",
          "height": 284
        },
        "outputId": "07c6d04f-728f-4161-8f7c-c57759c4109e"
      },
      "cell_type": "code",
      "source": [
        "pd.options.display.float_format='{:,.5f}'.format\n",
        "rawdf.describe()"
      ],
      "execution_count": 35,
      "outputs": [
        {
          "output_type": "execute_result",
          "data": {
            "text/html": [
              "<div>\n",
              "<style scoped>\n",
              "    .dataframe tbody tr th:only-of-type {\n",
              "        vertical-align: middle;\n",
              "    }\n",
              "\n",
              "    .dataframe tbody tr th {\n",
              "        vertical-align: top;\n",
              "    }\n",
              "\n",
              "    .dataframe thead th {\n",
              "        text-align: right;\n",
              "    }\n",
              "</style>\n",
              "<table border=\"1\" class=\"dataframe\">\n",
              "  <thead>\n",
              "    <tr style=\"text-align: right;\">\n",
              "      <th></th>\n",
              "      <th>User_ID</th>\n",
              "      <th>Age</th>\n",
              "      <th>Height</th>\n",
              "      <th>Weight</th>\n",
              "      <th>Duration</th>\n",
              "      <th>Heart_Rate</th>\n",
              "      <th>Body_Temp</th>\n",
              "      <th>Calories</th>\n",
              "    </tr>\n",
              "  </thead>\n",
              "  <tbody>\n",
              "    <tr>\n",
              "      <th>count</th>\n",
              "      <td>15,000.00000</td>\n",
              "      <td>15,000.00000</td>\n",
              "      <td>15,000.00000</td>\n",
              "      <td>15,000.00000</td>\n",
              "      <td>15,000.00000</td>\n",
              "      <td>15,000.00000</td>\n",
              "      <td>15,000.00000</td>\n",
              "      <td>15,000.00000</td>\n",
              "    </tr>\n",
              "    <tr>\n",
              "      <th>mean</th>\n",
              "      <td>14,977,358.53847</td>\n",
              "      <td>42.78980</td>\n",
              "      <td>174.46513</td>\n",
              "      <td>74.96687</td>\n",
              "      <td>15.53060</td>\n",
              "      <td>95.51853</td>\n",
              "      <td>40.02545</td>\n",
              "      <td>89.53953</td>\n",
              "    </tr>\n",
              "    <tr>\n",
              "      <th>std</th>\n",
              "      <td>2,872,851.45223</td>\n",
              "      <td>16.98026</td>\n",
              "      <td>14.25811</td>\n",
              "      <td>15.03566</td>\n",
              "      <td>8.31920</td>\n",
              "      <td>9.58333</td>\n",
              "      <td>0.77923</td>\n",
              "      <td>62.45698</td>\n",
              "    </tr>\n",
              "    <tr>\n",
              "      <th>min</th>\n",
              "      <td>10,001,159.00000</td>\n",
              "      <td>20.00000</td>\n",
              "      <td>123.00000</td>\n",
              "      <td>36.00000</td>\n",
              "      <td>1.00000</td>\n",
              "      <td>67.00000</td>\n",
              "      <td>37.10000</td>\n",
              "      <td>1.00000</td>\n",
              "    </tr>\n",
              "    <tr>\n",
              "      <th>25%</th>\n",
              "      <td>12,474,190.75000</td>\n",
              "      <td>28.00000</td>\n",
              "      <td>164.00000</td>\n",
              "      <td>63.00000</td>\n",
              "      <td>8.00000</td>\n",
              "      <td>88.00000</td>\n",
              "      <td>39.60000</td>\n",
              "      <td>35.00000</td>\n",
              "    </tr>\n",
              "    <tr>\n",
              "      <th>50%</th>\n",
              "      <td>14,997,285.00000</td>\n",
              "      <td>39.00000</td>\n",
              "      <td>175.00000</td>\n",
              "      <td>74.00000</td>\n",
              "      <td>16.00000</td>\n",
              "      <td>96.00000</td>\n",
              "      <td>40.20000</td>\n",
              "      <td>79.00000</td>\n",
              "    </tr>\n",
              "    <tr>\n",
              "      <th>75%</th>\n",
              "      <td>17,449,278.75000</td>\n",
              "      <td>56.00000</td>\n",
              "      <td>185.00000</td>\n",
              "      <td>87.00000</td>\n",
              "      <td>23.00000</td>\n",
              "      <td>103.00000</td>\n",
              "      <td>40.60000</td>\n",
              "      <td>138.00000</td>\n",
              "    </tr>\n",
              "    <tr>\n",
              "      <th>max</th>\n",
              "      <td>19,999,647.00000</td>\n",
              "      <td>79.00000</td>\n",
              "      <td>222.00000</td>\n",
              "      <td>132.00000</td>\n",
              "      <td>30.00000</td>\n",
              "      <td>128.00000</td>\n",
              "      <td>41.50000</td>\n",
              "      <td>314.00000</td>\n",
              "    </tr>\n",
              "  </tbody>\n",
              "</table>\n",
              "</div>"
            ],
            "text/plain": [
              "               User_ID          Age       Height       Weight     Duration  \\\n",
              "count     15,000.00000 15,000.00000 15,000.00000 15,000.00000 15,000.00000   \n",
              "mean  14,977,358.53847     42.78980    174.46513     74.96687     15.53060   \n",
              "std    2,872,851.45223     16.98026     14.25811     15.03566      8.31920   \n",
              "min   10,001,159.00000     20.00000    123.00000     36.00000      1.00000   \n",
              "25%   12,474,190.75000     28.00000    164.00000     63.00000      8.00000   \n",
              "50%   14,997,285.00000     39.00000    175.00000     74.00000     16.00000   \n",
              "75%   17,449,278.75000     56.00000    185.00000     87.00000     23.00000   \n",
              "max   19,999,647.00000     79.00000    222.00000    132.00000     30.00000   \n",
              "\n",
              "        Heart_Rate    Body_Temp     Calories  \n",
              "count 15,000.00000 15,000.00000 15,000.00000  \n",
              "mean      95.51853     40.02545     89.53953  \n",
              "std        9.58333      0.77923     62.45698  \n",
              "min       67.00000     37.10000      1.00000  \n",
              "25%       88.00000     39.60000     35.00000  \n",
              "50%       96.00000     40.20000     79.00000  \n",
              "75%      103.00000     40.60000    138.00000  \n",
              "max      128.00000     41.50000    314.00000  "
            ]
          },
          "metadata": {
            "tags": []
          },
          "execution_count": 35
        }
      ]
    },
    {
      "metadata": {
        "id": "W6PBB5hEy6Wo",
        "colab_type": "code",
        "colab": {
          "base_uri": "https://localhost:8080/",
          "height": 1089
        },
        "collapsed": true,
        "outputId": "54062c61-1795-481d-d74c-9410c91a2356"
      },
      "cell_type": "code",
      "source": [
        "plt.style.use('seaborn-white')\n",
        "rawdf.hist(figsize=(15,15))\n",
        "plt.tight_layout()"
      ],
      "execution_count": 36,
      "outputs": [
        {
          "output_type": "display_data",
          "data": {
            "image/png": "[encoded data removed]",
            "text/plain": [
              "<matplotlib.figure.Figure at 0x7f8c985f9e80>"
            ]
          },
          "metadata": {
            "tags": []
          }
        }
      ]
    },
    {
      "metadata": {
        "id": "uGI_P_9Vy8ok",
        "colab_type": "code",
        "colab": {
          "base_uri": "https://localhost:8080/",
          "height": 609
        },
        "collapsed": true,
        "outputId": "b7bbdbbf-6574-4fde-fef6-df1a5dd0c72e"
      },
      "cell_type": "code",
      "source": [
        "plt.figure(figsize=(5,10))\n",
        "sns.heatmap(rawdf.corr()[['Calories']], annot=True, vmin=-1,vmax=1,)"
      ],
      "execution_count": 8,
      "outputs": [
        {
          "output_type": "execute_result",
          "data": {
            "text/plain": [
              "<matplotlib.axes._subplots.AxesSubplot at 0x7f8c9a819da0>"
            ]
          },
          "metadata": {
            "tags": []
          },
          "execution_count": 8
        },
        {
          "output_type": "display_data",
          "data": {
            "image/png": "[encoded data removed]",
            "text/plain": [
              "<matplotlib.figure.Figure at 0x7f8c986e0a20>"
            ]
          },
          "metadata": {
            "tags": []
          }
        }
      ]
    },
    {
      "metadata": {
        "id": "1CPGlzyllhAA",
        "colab_type": "code",
        "colab": {},
        "collapsed": true
      },
      "cell_type": "code",
      "source": [
        "df = rawdf.copy()\n",
        "\n",
        "# make feature \"Gender\" to categorical\n",
        "categorical_features = [\"Gender\"]\n",
        "df_cat = pd.get_dummies(df[categorical_features])\n",
        "df = df.drop(categorical_features, axis=1)\n",
        "df = pd.concat([df, df_cat], axis=1)\n",
        "\n",
        "# mathmatical operation \n",
        "pow2_features = [\"Heart_Rate\",\"Duration\"]\n",
        "df_pow2 = df[pow2_features].pow(2)\n",
        "df_pow2.rename(columns={'Heart_Rate': 'Heart_Rate_2','Duration':'Duration_2'}, inplace=True)\n",
        "df = pd.concat([df,df_pow2],axis=1)\n",
        "\n",
        "# Calculate log calories to ensure no negative predictions.\n",
        "ln_feature = [\"Calories\"]\n",
        "df_ln = np.log(df[ln_feature])\n",
        "df_ln.rename(columns={'Calories':'Ln_Calories'},inplace=True)\n",
        "df = pd.concat([df,df_ln],axis=1)"
      ],
      "execution_count": 0,
      "outputs": []
    },
    {
      "metadata": {
        "id": "oO21S4dCsiON",
        "colab_type": "code",
        "colab": {}
      },
      "cell_type": "code",
      "source": [
        "# Nomalize the data\n",
        "# Standardize data Column names: Height,Weight,Heart_Rate,Body_Temp,Pow(Heart_Rate_$2)\n",
        "ss = StandardScaler()\n",
        "scale_features = ['Height', 'Weight', 'Heart_Rate','Body_Temp','Heart_Rate_2']\n",
        "df[scale_features] = ss.fit_transform(df[scale_features])\n",
        "\n",
        "# MinMax data Age,Duration,Pow(Duration_$2)\n",
        "mm = MinMaxScaler()\n",
        "mm_features = ['Age','Duration','Duration_2']\n",
        "df[mm_features] = mm.fit_transform(df[mm_features])"
      ],
      "execution_count": 0,
      "outputs": []
    },
    {
      "metadata": {
        "id": "-wzi0v-xzDsT",
        "colab_type": "code",
        "colab": {
          "base_uri": "https://localhost:8080/",
          "height": 195
        },
        "outputId": "40063f59-9f8e-4896-eefb-c73d9238a348"
      },
      "cell_type": "code",
      "source": [
        "df.head()"
      ],
      "execution_count": 39,
      "outputs": [
        {
          "output_type": "execute_result",
          "data": {
            "text/html": [
              "<div>\n",
              "<style scoped>\n",
              "    .dataframe tbody tr th:only-of-type {\n",
              "        vertical-align: middle;\n",
              "    }\n",
              "\n",
              "    .dataframe tbody tr th {\n",
              "        vertical-align: top;\n",
              "    }\n",
              "\n",
              "    .dataframe thead th {\n",
              "        text-align: right;\n",
              "    }\n",
              "</style>\n",
              "<table border=\"1\" class=\"dataframe\">\n",
              "  <thead>\n",
              "    <tr style=\"text-align: right;\">\n",
              "      <th></th>\n",
              "      <th>User_ID</th>\n",
              "      <th>Age</th>\n",
              "      <th>Height</th>\n",
              "      <th>Weight</th>\n",
              "      <th>Duration</th>\n",
              "      <th>Heart_Rate</th>\n",
              "      <th>Body_Temp</th>\n",
              "      <th>Calories</th>\n",
              "      <th>Gender_female</th>\n",
              "      <th>Gender_male</th>\n",
              "      <th>Heart_Rate_2</th>\n",
              "      <th>Duration_2</th>\n",
              "      <th>Ln_Calories</th>\n",
              "    </tr>\n",
              "  </thead>\n",
              "  <tbody>\n",
              "    <tr>\n",
              "      <th>0</th>\n",
              "      <td>14733363</td>\n",
              "      <td>0.81356</td>\n",
              "      <td>1.08958</td>\n",
              "      <td>1.26591</td>\n",
              "      <td>0.96552</td>\n",
              "      <td>0.98940</td>\n",
              "      <td>0.99402</td>\n",
              "      <td>231</td>\n",
              "      <td>0</td>\n",
              "      <td>1</td>\n",
              "      <td>0.98719</td>\n",
              "      <td>0.93437</td>\n",
              "      <td>5.44242</td>\n",
              "    </tr>\n",
              "    <tr>\n",
              "      <th>1</th>\n",
              "      <td>14861698</td>\n",
              "      <td>0.00000</td>\n",
              "      <td>-0.59373</td>\n",
              "      <td>-0.99546</td>\n",
              "      <td>0.44828</td>\n",
              "      <td>-0.15846</td>\n",
              "      <td>0.35234</td>\n",
              "      <td>66</td>\n",
              "      <td>1</td>\n",
              "      <td>0</td>\n",
              "      <td>-0.20712</td>\n",
              "      <td>0.21691</td>\n",
              "      <td>4.18965</td>\n",
              "    </tr>\n",
              "    <tr>\n",
              "      <th>2</th>\n",
              "      <td>11179863</td>\n",
              "      <td>0.83051</td>\n",
              "      <td>0.31807</td>\n",
              "      <td>0.26825</td>\n",
              "      <td>0.13793</td>\n",
              "      <td>-0.78457</td>\n",
              "      <td>-1.70104</td>\n",
              "      <td>26</td>\n",
              "      <td>0</td>\n",
              "      <td>1</td>\n",
              "      <td>-0.80292</td>\n",
              "      <td>0.02670</td>\n",
              "      <td>3.25810</td>\n",
              "    </tr>\n",
              "    <tr>\n",
              "      <th>3</th>\n",
              "      <td>16180408</td>\n",
              "      <td>0.23729</td>\n",
              "      <td>0.31807</td>\n",
              "      <td>-0.26384</td>\n",
              "      <td>0.41379</td>\n",
              "      <td>0.46765</td>\n",
              "      <td>0.60901</td>\n",
              "      <td>71</td>\n",
              "      <td>1</td>\n",
              "      <td>0</td>\n",
              "      <td>0.42795</td>\n",
              "      <td>0.18687</td>\n",
              "      <td>4.26268</td>\n",
              "    </tr>\n",
              "    <tr>\n",
              "      <th>4</th>\n",
              "      <td>17771927</td>\n",
              "      <td>0.11864</td>\n",
              "      <td>-1.43538</td>\n",
              "      <td>-1.12848</td>\n",
              "      <td>0.31034</td>\n",
              "      <td>-1.51503</td>\n",
              "      <td>-0.28934</td>\n",
              "      <td>35</td>\n",
              "      <td>1</td>\n",
              "      <td>0</td>\n",
              "      <td>-1.44836</td>\n",
              "      <td>0.11012</td>\n",
              "      <td>3.55535</td>\n",
              "    </tr>\n",
              "  </tbody>\n",
              "</table>\n",
              "</div>"
            ],
            "text/plain": [
              "    User_ID     Age   Height   Weight  Duration  Heart_Rate  Body_Temp  \\\n",
              "0  14733363 0.81356  1.08958  1.26591   0.96552     0.98940    0.99402   \n",
              "1  14861698 0.00000 -0.59373 -0.99546   0.44828    -0.15846    0.35234   \n",
              "2  11179863 0.83051  0.31807  0.26825   0.13793    -0.78457   -1.70104   \n",
              "3  16180408 0.23729  0.31807 -0.26384   0.41379     0.46765    0.60901   \n",
              "4  17771927 0.11864 -1.43538 -1.12848   0.31034    -1.51503   -0.28934   \n",
              "\n",
              "   Calories  Gender_female  Gender_male  Heart_Rate_2  Duration_2  Ln_Calories  \n",
              "0       231              0            1       0.98719     0.93437      5.44242  \n",
              "1        66              1            0      -0.20712     0.21691      4.18965  \n",
              "2        26              0            1      -0.80292     0.02670      3.25810  \n",
              "3        71              1            0       0.42795     0.18687      4.26268  \n",
              "4        35              1            0      -1.44836     0.11012      3.55535  "
            ]
          },
          "metadata": {
            "tags": []
          },
          "execution_count": 39
        }
      ]
    },
    {
      "metadata": {
        "id": "xHCNXUlQzIkw",
        "colab_type": "code",
        "colab": {
          "base_uri": "https://localhost:8080/",
          "height": 34
        },
        "outputId": "38eac035-22b6-4325-a532-53362e6631fa"
      },
      "cell_type": "code",
      "source": [
        "X = df.drop(['User_ID','Calories'],axis=1).values\n",
        "y = (df['Ln_Calories'].values).reshape(-1,1)\n",
        "\n",
        "X_train, X_test, y_train, y_test = train_test_split(X, y, test_size=0.2, random_state=0)\n",
        "print(X_train.shape, y_train.shape, X_test.shape, y_test.shape)"
      ],
      "execution_count": 40,
      "outputs": [
        {
          "output_type": "stream",
          "text": [
            "(12000, 11) (12000, 1) (3000, 11) (3000, 1)\n"
          ],
          "name": "stdout"
        }
      ]
    },
    {
      "metadata": {
        "id": "n8DYZ68r4IlB",
        "colab_type": "text"
      },
      "cell_type": "markdown",
      "source": [
        "##  1. Using Sigmoid Function"
      ]
    },
    {
      "metadata": {
        "id": "acA000kN0MQY",
        "colab_type": "code",
        "colab": {}
      },
      "cell_type": "code",
      "source": [
        "epochs = 50\n",
        "batch_size = 256"
      ],
      "execution_count": 0,
      "outputs": []
    },
    {
      "metadata": {
        "id": "diEQVGWO4_5U",
        "colab_type": "code",
        "colab": {
          "base_uri": "https://localhost:8080/",
          "height": 1714
        },
        "collapsed": true,
        "outputId": "5c8b14ea-0b0b-456b-8b9a-86b366eed7a7"
      },
      "cell_type": "code",
      "source": [
        "model_1 = Sequential()\n",
        "model_1.add(Dense(32, input_shape=(X.shape[1],), activation='sigmoid'))\n",
        "model_1.add(Dense(32, activation='sigmoid'))\n",
        "model_1.add(Dense(16, activation='sigmoid'))\n",
        "model_1.add(Dense(1))\n",
        "  \n",
        "model_1.compile(loss='mse',optimizer='adam',metrics=['accuracy'])\n",
        "model_1_history = model_1.fit(X_train, y_train,\n",
        "                             batch_size = batch_size,\n",
        "                             epochs = epochs,\n",
        "                             verbose = 2,\n",
        "                             validation_data=(X_test,y_test))\n"
      ],
      "execution_count": 75,
      "outputs": [
        {
          "output_type": "stream",
          "text": [
            "Train on 12000 samples, validate on 3000 samples\n",
            "Epoch 1/50\n",
            " - 1s - loss: 16.8526 - acc: 5.8333e-04 - val_loss: 11.3633 - val_acc: 0.0000e+00\n",
            "Epoch 2/50\n",
            " - 0s - loss: 8.2283 - acc: 0.0000e+00 - val_loss: 5.8680 - val_acc: 0.0000e+00\n",
            "Epoch 3/50\n",
            " - 0s - loss: 4.5730 - acc: 0.0000e+00 - val_loss: 3.5836 - val_acc: 0.0000e+00\n",
            "Epoch 4/50\n",
            " - 0s - loss: 2.9820 - acc: 0.0000e+00 - val_loss: 2.5013 - val_acc: 0.0000e+00\n",
            "Epoch 5/50\n",
            " - 0s - loss: 2.1663 - acc: 0.0000e+00 - val_loss: 1.8876 - val_acc: 0.0000e+00\n",
            "Epoch 6/50\n",
            " - 0s - loss: 1.6850 - acc: 0.0000e+00 - val_loss: 1.5111 - val_acc: 0.0000e+00\n",
            "Epoch 7/50\n",
            " - 0s - loss: 1.3847 - acc: 0.0000e+00 - val_loss: 1.2730 - val_acc: 0.0000e+00\n",
            "Epoch 8/50\n",
            " - 0s - loss: 1.1951 - acc: 0.0000e+00 - val_loss: 1.1197 - val_acc: 0.0000e+00\n",
            "Epoch 9/50\n",
            " - 0s - loss: 1.0725 - acc: 0.0000e+00 - val_loss: 1.0196 - val_acc: 0.0000e+00\n",
            "Epoch 10/50\n",
            " - 0s - loss: 0.9896 - acc: 0.0000e+00 - val_loss: 0.9497 - val_acc: 0.0000e+00\n",
            "Epoch 11/50\n",
            " - 0s - loss: 0.9289 - acc: 0.0000e+00 - val_loss: 0.8944 - val_acc: 0.0000e+00\n",
            "Epoch 12/50\n",
            " - 0s - loss: 0.8788 - acc: 0.0000e+00 - val_loss: 0.8472 - val_acc: 0.0000e+00\n",
            "Epoch 13/50\n",
            " - 0s - loss: 0.8336 - acc: 0.0000e+00 - val_loss: 0.8027 - val_acc: 0.0000e+00\n",
            "Epoch 14/50\n",
            " - 0s - loss: 0.7891 - acc: 0.0000e+00 - val_loss: 0.7569 - val_acc: 0.0000e+00\n",
            "Epoch 15/50\n",
            " - 0s - loss: 0.7387 - acc: 0.0000e+00 - val_loss: 0.6991 - val_acc: 0.0000e+00\n",
            "Epoch 16/50\n",
            " - 0s - loss: 0.6665 - acc: 0.0000e+00 - val_loss: 0.6105 - val_acc: 0.0000e+00\n",
            "Epoch 17/50\n",
            " - 0s - loss: 0.5603 - acc: 0.0000e+00 - val_loss: 0.4933 - val_acc: 0.0000e+00\n",
            "Epoch 18/50\n",
            " - 0s - loss: 0.4413 - acc: 0.0000e+00 - val_loss: 0.3793 - val_acc: 0.0000e+00\n",
            "Epoch 19/50\n",
            " - 0s - loss: 0.3385 - acc: 0.0000e+00 - val_loss: 0.2907 - val_acc: 0.0000e+00\n",
            "Epoch 20/50\n",
            " - 0s - loss: 0.2641 - acc: 0.0000e+00 - val_loss: 0.2299 - val_acc: 0.0000e+00\n",
            "Epoch 21/50\n",
            " - 0s - loss: 0.2149 - acc: 0.0000e+00 - val_loss: 0.1906 - val_acc: 0.0000e+00\n",
            "Epoch 22/50\n",
            " - 0s - loss: 0.1834 - acc: 0.0000e+00 - val_loss: 0.1655 - val_acc: 0.0000e+00\n",
            "Epoch 23/50\n",
            " - 0s - loss: 0.1627 - acc: 0.0000e+00 - val_loss: 0.1485 - val_acc: 0.0000e+00\n",
            "Epoch 24/50\n",
            " - 0s - loss: 0.1477 - acc: 0.0000e+00 - val_loss: 0.1353 - val_acc: 0.0000e+00\n",
            "Epoch 25/50\n",
            " - 0s - loss: 0.1352 - acc: 0.0000e+00 - val_loss: 0.1240 - val_acc: 0.0000e+00\n",
            "Epoch 26/50\n",
            " - 0s - loss: 0.1240 - acc: 0.0000e+00 - val_loss: 0.1137 - val_acc: 0.0000e+00\n",
            "Epoch 27/50\n",
            " - 0s - loss: 0.1137 - acc: 0.0000e+00 - val_loss: 0.1043 - val_acc: 0.0000e+00\n",
            "Epoch 28/50\n",
            " - 0s - loss: 0.1044 - acc: 0.0000e+00 - val_loss: 0.0959 - val_acc: 0.0000e+00\n",
            "Epoch 29/50\n",
            " - 0s - loss: 0.0959 - acc: 0.0000e+00 - val_loss: 0.0882 - val_acc: 0.0000e+00\n",
            "Epoch 30/50\n",
            " - 0s - loss: 0.0881 - acc: 0.0000e+00 - val_loss: 0.0813 - val_acc: 0.0000e+00\n",
            "Epoch 31/50\n",
            " - 0s - loss: 0.0811 - acc: 0.0000e+00 - val_loss: 0.0749 - val_acc: 0.0000e+00\n",
            "Epoch 32/50\n",
            " - 0s - loss: 0.0746 - acc: 0.0000e+00 - val_loss: 0.0693 - val_acc: 0.0000e+00\n"
          ],
          "name": "stdout"
        },
        {
          "output_type": "stream",
          "text": [
            "Epoch 33/50\n",
            " - 0s - loss: 0.0689 - acc: 0.0000e+00 - val_loss: 0.0642 - val_acc: 0.0000e+00\n",
            "Epoch 34/50\n",
            " - 0s - loss: 0.0637 - acc: 0.0000e+00 - val_loss: 0.0596 - val_acc: 0.0000e+00\n",
            "Epoch 35/50\n",
            " - 0s - loss: 0.0591 - acc: 0.0000e+00 - val_loss: 0.0557 - val_acc: 0.0000e+00\n",
            "Epoch 36/50\n",
            " - 0s - loss: 0.0551 - acc: 0.0000e+00 - val_loss: 0.0522 - val_acc: 0.0000e+00\n",
            "Epoch 37/50\n",
            " - 0s - loss: 0.0516 - acc: 0.0000e+00 - val_loss: 0.0492 - val_acc: 0.0000e+00\n",
            "Epoch 38/50\n",
            " - 0s - loss: 0.0485 - acc: 0.0000e+00 - val_loss: 0.0464 - val_acc: 0.0000e+00\n",
            "Epoch 39/50\n",
            " - 0s - loss: 0.0458 - acc: 0.0000e+00 - val_loss: 0.0442 - val_acc: 0.0000e+00\n",
            "Epoch 40/50\n",
            " - 0s - loss: 0.0434 - acc: 0.0000e+00 - val_loss: 0.0421 - val_acc: 0.0000e+00\n",
            "Epoch 41/50\n",
            " - 0s - loss: 0.0413 - acc: 0.0000e+00 - val_loss: 0.0402 - val_acc: 0.0000e+00\n",
            "Epoch 42/50\n",
            " - 0s - loss: 0.0394 - acc: 0.0000e+00 - val_loss: 0.0385 - val_acc: 0.0000e+00\n",
            "Epoch 43/50\n",
            " - 0s - loss: 0.0376 - acc: 0.0000e+00 - val_loss: 0.0369 - val_acc: 0.0000e+00\n",
            "Epoch 44/50\n",
            " - 0s - loss: 0.0360 - acc: 0.0000e+00 - val_loss: 0.0355 - val_acc: 0.0000e+00\n",
            "Epoch 45/50\n",
            " - 0s - loss: 0.0346 - acc: 0.0000e+00 - val_loss: 0.0341 - val_acc: 0.0000e+00\n",
            "Epoch 46/50\n",
            " - 0s - loss: 0.0332 - acc: 0.0000e+00 - val_loss: 0.0329 - val_acc: 0.0000e+00\n",
            "Epoch 47/50\n",
            " - 0s - loss: 0.0319 - acc: 0.0000e+00 - val_loss: 0.0317 - val_acc: 0.0000e+00\n",
            "Epoch 48/50\n",
            " - 0s - loss: 0.0307 - acc: 0.0000e+00 - val_loss: 0.0306 - val_acc: 0.0000e+00\n",
            "Epoch 49/50\n",
            " - 0s - loss: 0.0295 - acc: 0.0000e+00 - val_loss: 0.0294 - val_acc: 0.0000e+00\n",
            "Epoch 50/50\n",
            " - 0s - loss: 0.0284 - acc: 0.0000e+00 - val_loss: 0.0283 - val_acc: 0.0000e+00\n"
          ],
          "name": "stdout"
        }
      ]
    },
    {
      "metadata": {
        "id": "QK2y300kk8XG",
        "colab_type": "text"
      },
      "cell_type": "markdown",
      "source": [
        "## 2. Using Tanh"
      ]
    },
    {
      "metadata": {
        "id": "qHWdzsZRlekm",
        "colab_type": "code",
        "colab": {
          "base_uri": "https://localhost:8080/",
          "height": 1714
        },
        "collapsed": true,
        "outputId": "e84ce056-fafb-4e4e-e4b1-503f89b85bfb"
      },
      "cell_type": "code",
      "source": [
        "model_2 = Sequential()\n",
        "model_2.add(Dense(32, input_shape=(X.shape[1],), activation='tanh'))\n",
        "model_2.add(Dense(32, activation='tanh'))\n",
        "model_2.add(Dense(16, activation='tanh'))\n",
        "model_2.add(Dense(1))\n",
        "  \n",
        "model_2.compile(loss='mse',optimizer='adam',metrics=['accuracy'])\n",
        "model_2_history = model_2.fit(X_train, y_train,\n",
        "                             batch_size = batch_size,\n",
        "                             epochs = epochs,\n",
        "                             verbose = 2,\n",
        "                             validation_data=(X_test,y_test))"
      ],
      "execution_count": 76,
      "outputs": [
        {
          "output_type": "stream",
          "text": [
            "Train on 12000 samples, validate on 3000 samples\n",
            "Epoch 1/50\n",
            " - 1s - loss: 3.3417 - acc: 4.1667e-04 - val_loss: 0.2223 - val_acc: 3.3333e-04\n",
            "Epoch 2/50\n",
            " - 0s - loss: 0.1365 - acc: 8.3333e-05 - val_loss: 0.0950 - val_acc: 0.0000e+00\n",
            "Epoch 3/50\n",
            " - 0s - loss: 0.0760 - acc: 0.0000e+00 - val_loss: 0.0590 - val_acc: 3.3333e-04\n",
            "Epoch 4/50\n",
            " - 0s - loss: 0.0501 - acc: 5.0000e-04 - val_loss: 0.0424 - val_acc: 1.0000e-03\n",
            "Epoch 5/50\n",
            " - 0s - loss: 0.0380 - acc: 6.6667e-04 - val_loss: 0.0342 - val_acc: 1.0000e-03\n",
            "Epoch 6/50\n",
            " - 0s - loss: 0.0318 - acc: 7.5000e-04 - val_loss: 0.0297 - val_acc: 1.0000e-03\n",
            "Epoch 7/50\n",
            " - 0s - loss: 0.0281 - acc: 7.5000e-04 - val_loss: 0.0268 - val_acc: 1.0000e-03\n",
            "Epoch 8/50\n",
            " - 0s - loss: 0.0257 - acc: 7.5000e-04 - val_loss: 0.0248 - val_acc: 1.0000e-03\n",
            "Epoch 9/50\n",
            " - 0s - loss: 0.0236 - acc: 7.5000e-04 - val_loss: 0.0229 - val_acc: 1.0000e-03\n",
            "Epoch 10/50\n",
            " - 0s - loss: 0.0220 - acc: 7.5000e-04 - val_loss: 0.0216 - val_acc: 1.0000e-03\n",
            "Epoch 11/50\n",
            " - 0s - loss: 0.0206 - acc: 7.5000e-04 - val_loss: 0.0202 - val_acc: 1.0000e-03\n",
            "Epoch 12/50\n",
            " - 0s - loss: 0.0194 - acc: 7.5000e-04 - val_loss: 0.0191 - val_acc: 1.0000e-03\n",
            "Epoch 13/50\n",
            " - 0s - loss: 0.0183 - acc: 7.5000e-04 - val_loss: 0.0181 - val_acc: 1.0000e-03\n",
            "Epoch 14/50\n",
            " - 0s - loss: 0.0173 - acc: 7.5000e-04 - val_loss: 0.0170 - val_acc: 1.0000e-03\n",
            "Epoch 15/50\n",
            " - 0s - loss: 0.0163 - acc: 7.5000e-04 - val_loss: 0.0162 - val_acc: 1.0000e-03\n",
            "Epoch 16/50\n",
            " - 0s - loss: 0.0154 - acc: 7.5000e-04 - val_loss: 0.0152 - val_acc: 1.0000e-03\n",
            "Epoch 17/50\n",
            " - 0s - loss: 0.0145 - acc: 7.5000e-04 - val_loss: 0.0143 - val_acc: 1.0000e-03\n",
            "Epoch 18/50\n",
            " - 0s - loss: 0.0135 - acc: 7.5000e-04 - val_loss: 0.0134 - val_acc: 1.0000e-03\n",
            "Epoch 19/50\n",
            " - 0s - loss: 0.0126 - acc: 7.5000e-04 - val_loss: 0.0127 - val_acc: 1.0000e-03\n",
            "Epoch 20/50\n",
            " - 0s - loss: 0.0117 - acc: 7.5000e-04 - val_loss: 0.0117 - val_acc: 1.0000e-03\n",
            "Epoch 21/50\n",
            " - 0s - loss: 0.0109 - acc: 7.5000e-04 - val_loss: 0.0107 - val_acc: 1.0000e-03\n",
            "Epoch 22/50\n",
            " - 0s - loss: 0.0101 - acc: 7.5000e-04 - val_loss: 0.0099 - val_acc: 1.0000e-03\n",
            "Epoch 23/50\n",
            " - 0s - loss: 0.0092 - acc: 7.5000e-04 - val_loss: 0.0090 - val_acc: 1.0000e-03\n",
            "Epoch 24/50\n",
            " - 0s - loss: 0.0084 - acc: 7.5000e-04 - val_loss: 0.0083 - val_acc: 1.0000e-03\n",
            "Epoch 25/50\n",
            " - 0s - loss: 0.0077 - acc: 7.5000e-04 - val_loss: 0.0075 - val_acc: 1.0000e-03\n",
            "Epoch 26/50\n",
            " - 0s - loss: 0.0070 - acc: 7.5000e-04 - val_loss: 0.0068 - val_acc: 1.0000e-03\n",
            "Epoch 27/50\n",
            " - 0s - loss: 0.0064 - acc: 7.5000e-04 - val_loss: 0.0062 - val_acc: 1.0000e-03\n",
            "Epoch 28/50\n",
            " - 0s - loss: 0.0058 - acc: 7.5000e-04 - val_loss: 0.0056 - val_acc: 1.0000e-03\n",
            "Epoch 29/50\n",
            " - 0s - loss: 0.0054 - acc: 7.5000e-04 - val_loss: 0.0052 - val_acc: 1.0000e-03\n",
            "Epoch 30/50\n",
            " - 0s - loss: 0.0048 - acc: 7.5000e-04 - val_loss: 0.0047 - val_acc: 1.0000e-03\n",
            "Epoch 31/50\n",
            " - 0s - loss: 0.0045 - acc: 7.5000e-04 - val_loss: 0.0043 - val_acc: 1.0000e-03\n",
            "Epoch 32/50\n",
            " - 0s - loss: 0.0041 - acc: 7.5000e-04 - val_loss: 0.0040 - val_acc: 1.0000e-03\n"
          ],
          "name": "stdout"
        },
        {
          "output_type": "stream",
          "text": [
            "Epoch 33/50\n",
            " - 0s - loss: 0.0038 - acc: 7.5000e-04 - val_loss: 0.0036 - val_acc: 1.0000e-03\n",
            "Epoch 34/50\n",
            " - 0s - loss: 0.0035 - acc: 7.5000e-04 - val_loss: 0.0034 - val_acc: 1.0000e-03\n",
            "Epoch 35/50\n",
            " - 0s - loss: 0.0033 - acc: 7.5000e-04 - val_loss: 0.0031 - val_acc: 1.0000e-03\n",
            "Epoch 36/50\n",
            " - 0s - loss: 0.0031 - acc: 7.5000e-04 - val_loss: 0.0030 - val_acc: 1.0000e-03\n",
            "Epoch 37/50\n",
            " - 0s - loss: 0.0029 - acc: 7.5000e-04 - val_loss: 0.0027 - val_acc: 1.0000e-03\n",
            "Epoch 38/50\n",
            " - 0s - loss: 0.0027 - acc: 7.5000e-04 - val_loss: 0.0026 - val_acc: 1.0000e-03\n",
            "Epoch 39/50\n",
            " - 0s - loss: 0.0026 - acc: 7.5000e-04 - val_loss: 0.0025 - val_acc: 1.0000e-03\n",
            "Epoch 40/50\n",
            " - 0s - loss: 0.0024 - acc: 7.5000e-04 - val_loss: 0.0023 - val_acc: 1.0000e-03\n",
            "Epoch 41/50\n",
            " - 0s - loss: 0.0023 - acc: 7.5000e-04 - val_loss: 0.0022 - val_acc: 1.0000e-03\n",
            "Epoch 42/50\n",
            " - 0s - loss: 0.0021 - acc: 7.5000e-04 - val_loss: 0.0020 - val_acc: 1.0000e-03\n",
            "Epoch 43/50\n",
            " - 0s - loss: 0.0020 - acc: 7.5000e-04 - val_loss: 0.0019 - val_acc: 1.0000e-03\n",
            "Epoch 44/50\n",
            " - 0s - loss: 0.0019 - acc: 7.5000e-04 - val_loss: 0.0018 - val_acc: 1.0000e-03\n",
            "Epoch 45/50\n",
            " - 0s - loss: 0.0018 - acc: 7.5000e-04 - val_loss: 0.0017 - val_acc: 1.0000e-03\n",
            "Epoch 46/50\n",
            " - 0s - loss: 0.0017 - acc: 7.5000e-04 - val_loss: 0.0016 - val_acc: 1.0000e-03\n",
            "Epoch 47/50\n",
            " - 0s - loss: 0.0016 - acc: 7.5000e-04 - val_loss: 0.0015 - val_acc: 1.0000e-03\n",
            "Epoch 48/50\n",
            " - 0s - loss: 0.0015 - acc: 7.5000e-04 - val_loss: 0.0015 - val_acc: 1.0000e-03\n",
            "Epoch 49/50\n",
            " - 0s - loss: 0.0014 - acc: 7.5000e-04 - val_loss: 0.0013 - val_acc: 1.0000e-03\n",
            "Epoch 50/50\n",
            " - 0s - loss: 0.0014 - acc: 7.5000e-04 - val_loss: 0.0013 - val_acc: 1.0000e-03\n"
          ],
          "name": "stdout"
        }
      ]
    },
    {
      "metadata": {
        "id": "eWeNn1lilvbS",
        "colab_type": "text"
      },
      "cell_type": "markdown",
      "source": [
        "## 3. Using ReLU"
      ]
    },
    {
      "metadata": {
        "id": "LyglADWqmIZt",
        "colab_type": "code",
        "colab": {
          "base_uri": "https://localhost:8080/",
          "height": 1714
        },
        "collapsed": true,
        "outputId": "d3559213-514d-4e2d-cb28-0098e7e7532c"
      },
      "cell_type": "code",
      "source": [
        "model_3 = Sequential()\n",
        "model_3.add(Dense(32, input_shape=(X.shape[1],), activation='relu'))\n",
        "model_3.add(Dense(32, activation='relu'))\n",
        "model_3.add(Dense(16, activation='relu'))\n",
        "model_3.add(Dense(1))\n",
        "  \n",
        "model_3.compile(loss='mse',optimizer='adam',metrics=['accuracy'])\n",
        "model_3_history = model_3.fit(X_train, y_train,\n",
        "                             batch_size = batch_size,\n",
        "                             epochs = epochs,\n",
        "                             verbose = 2,\n",
        "                             validation_data=(X_test,y_test))"
      ],
      "execution_count": 77,
      "outputs": [
        {
          "output_type": "stream",
          "text": [
            "Train on 12000 samples, validate on 3000 samples\n",
            "Epoch 1/50\n",
            " - 1s - loss: 5.4183 - acc: 2.5000e-04 - val_loss: 0.3664 - val_acc: 0.0000e+00\n",
            "Epoch 2/50\n",
            " - 0s - loss: 0.1488 - acc: 0.0000e+00 - val_loss: 0.0766 - val_acc: 0.0000e+00\n",
            "Epoch 3/50\n",
            " - 0s - loss: 0.0592 - acc: 0.0000e+00 - val_loss: 0.0428 - val_acc: 0.0000e+00\n",
            "Epoch 4/50\n",
            " - 0s - loss: 0.0324 - acc: 0.0000e+00 - val_loss: 0.0243 - val_acc: 0.0000e+00\n",
            "Epoch 5/50\n",
            " - 0s - loss: 0.0197 - acc: 0.0000e+00 - val_loss: 0.0157 - val_acc: 0.0000e+00\n",
            "Epoch 6/50\n",
            " - 0s - loss: 0.0132 - acc: 0.0000e+00 - val_loss: 0.0108 - val_acc: 0.0000e+00\n",
            "Epoch 7/50\n",
            " - 0s - loss: 0.0092 - acc: 0.0000e+00 - val_loss: 0.0076 - val_acc: 0.0000e+00\n",
            "Epoch 8/50\n",
            " - 0s - loss: 0.0067 - acc: 0.0000e+00 - val_loss: 0.0057 - val_acc: 0.0000e+00\n",
            "Epoch 9/50\n",
            " - 0s - loss: 0.0051 - acc: 0.0000e+00 - val_loss: 0.0044 - val_acc: 0.0000e+00\n",
            "Epoch 10/50\n",
            " - 0s - loss: 0.0041 - acc: 0.0000e+00 - val_loss: 0.0037 - val_acc: 3.3333e-04\n",
            "Epoch 11/50\n",
            " - 0s - loss: 0.0034 - acc: 4.1667e-04 - val_loss: 0.0031 - val_acc: 6.6667e-04\n",
            "Epoch 12/50\n",
            " - 0s - loss: 0.0030 - acc: 5.8333e-04 - val_loss: 0.0027 - val_acc: 6.6667e-04\n",
            "Epoch 13/50\n",
            " - 0s - loss: 0.0026 - acc: 6.6667e-04 - val_loss: 0.0024 - val_acc: 6.6667e-04\n",
            "Epoch 14/50\n",
            " - 0s - loss: 0.0023 - acc: 7.5000e-04 - val_loss: 0.0022 - val_acc: 1.0000e-03\n",
            "Epoch 15/50\n",
            " - 0s - loss: 0.0021 - acc: 7.5000e-04 - val_loss: 0.0019 - val_acc: 1.0000e-03\n",
            "Epoch 16/50\n",
            " - 0s - loss: 0.0018 - acc: 7.5000e-04 - val_loss: 0.0017 - val_acc: 1.0000e-03\n",
            "Epoch 17/50\n",
            " - 0s - loss: 0.0017 - acc: 7.5000e-04 - val_loss: 0.0016 - val_acc: 1.0000e-03\n",
            "Epoch 18/50\n",
            " - 0s - loss: 0.0015 - acc: 7.5000e-04 - val_loss: 0.0014 - val_acc: 1.0000e-03\n",
            "Epoch 19/50\n",
            " - 0s - loss: 0.0014 - acc: 7.5000e-04 - val_loss: 0.0013 - val_acc: 1.0000e-03\n",
            "Epoch 20/50\n",
            " - 0s - loss: 0.0013 - acc: 7.5000e-04 - val_loss: 0.0012 - val_acc: 1.0000e-03\n",
            "Epoch 21/50\n",
            " - 0s - loss: 0.0012 - acc: 7.5000e-04 - val_loss: 0.0011 - val_acc: 1.0000e-03\n",
            "Epoch 22/50\n",
            " - 0s - loss: 0.0011 - acc: 7.5000e-04 - val_loss: 0.0010 - val_acc: 1.0000e-03\n",
            "Epoch 23/50\n",
            " - 0s - loss: 0.0010 - acc: 7.5000e-04 - val_loss: 9.6386e-04 - val_acc: 1.0000e-03\n",
            "Epoch 24/50\n",
            " - 0s - loss: 9.4002e-04 - acc: 7.5000e-04 - val_loss: 9.1175e-04 - val_acc: 1.0000e-03\n",
            "Epoch 25/50\n",
            " - 0s - loss: 8.7908e-04 - acc: 7.5000e-04 - val_loss: 8.4021e-04 - val_acc: 1.0000e-03\n",
            "Epoch 26/50\n",
            " - 0s - loss: 8.2124e-04 - acc: 7.5000e-04 - val_loss: 7.7404e-04 - val_acc: 1.0000e-03\n",
            "Epoch 27/50\n",
            " - 0s - loss: 7.6331e-04 - acc: 7.5000e-04 - val_loss: 7.2782e-04 - val_acc: 1.0000e-03\n",
            "Epoch 28/50\n",
            " - 0s - loss: 7.1767e-04 - acc: 7.5000e-04 - val_loss: 6.7739e-04 - val_acc: 1.0000e-03\n",
            "Epoch 29/50\n",
            " - 0s - loss: 6.7297e-04 - acc: 7.5000e-04 - val_loss: 6.6180e-04 - val_acc: 1.0000e-03\n",
            "Epoch 30/50\n",
            " - 0s - loss: 6.3979e-04 - acc: 7.5000e-04 - val_loss: 6.0412e-04 - val_acc: 1.0000e-03\n",
            "Epoch 31/50\n",
            " - 0s - loss: 6.0169e-04 - acc: 7.5000e-04 - val_loss: 5.6202e-04 - val_acc: 1.0000e-03\n",
            "Epoch 32/50\n",
            " - 0s - loss: 5.6989e-04 - acc: 7.5000e-04 - val_loss: 5.3996e-04 - val_acc: 1.0000e-03\n"
          ],
          "name": "stdout"
        },
        {
          "output_type": "stream",
          "text": [
            "Epoch 33/50\n",
            " - 0s - loss: 5.4088e-04 - acc: 7.5000e-04 - val_loss: 5.0071e-04 - val_acc: 1.0000e-03\n",
            "Epoch 34/50\n",
            " - 0s - loss: 5.0671e-04 - acc: 7.5000e-04 - val_loss: 4.7713e-04 - val_acc: 1.0000e-03\n",
            "Epoch 35/50\n",
            " - 0s - loss: 4.8428e-04 - acc: 7.5000e-04 - val_loss: 4.7010e-04 - val_acc: 1.0000e-03\n",
            "Epoch 36/50\n",
            " - 0s - loss: 4.5542e-04 - acc: 7.5000e-04 - val_loss: 4.2531e-04 - val_acc: 1.0000e-03\n",
            "Epoch 37/50\n",
            " - 0s - loss: 4.3155e-04 - acc: 7.5000e-04 - val_loss: 4.3526e-04 - val_acc: 1.0000e-03\n",
            "Epoch 38/50\n",
            " - 0s - loss: 4.1692e-04 - acc: 7.5000e-04 - val_loss: 3.8751e-04 - val_acc: 1.0000e-03\n",
            "Epoch 39/50\n",
            " - 0s - loss: 3.9136e-04 - acc: 7.5000e-04 - val_loss: 3.6634e-04 - val_acc: 1.0000e-03\n",
            "Epoch 40/50\n",
            " - 0s - loss: 3.7217e-04 - acc: 7.5000e-04 - val_loss: 3.5204e-04 - val_acc: 1.0000e-03\n",
            "Epoch 41/50\n",
            " - 0s - loss: 3.5326e-04 - acc: 7.5000e-04 - val_loss: 3.3290e-04 - val_acc: 1.0000e-03\n",
            "Epoch 42/50\n",
            " - 0s - loss: 3.3699e-04 - acc: 7.5000e-04 - val_loss: 3.2272e-04 - val_acc: 1.0000e-03\n",
            "Epoch 43/50\n",
            " - 0s - loss: 3.1918e-04 - acc: 7.5000e-04 - val_loss: 3.0897e-04 - val_acc: 1.0000e-03\n",
            "Epoch 44/50\n",
            " - 0s - loss: 3.0735e-04 - acc: 7.5000e-04 - val_loss: 2.9438e-04 - val_acc: 1.0000e-03\n",
            "Epoch 45/50\n",
            " - 0s - loss: 2.9508e-04 - acc: 7.5000e-04 - val_loss: 2.6962e-04 - val_acc: 1.0000e-03\n",
            "Epoch 46/50\n",
            " - 0s - loss: 2.7883e-04 - acc: 7.5000e-04 - val_loss: 2.5551e-04 - val_acc: 1.0000e-03\n",
            "Epoch 47/50\n",
            " - 0s - loss: 2.6454e-04 - acc: 7.5000e-04 - val_loss: 2.5350e-04 - val_acc: 1.0000e-03\n",
            "Epoch 48/50\n",
            " - 0s - loss: 2.5533e-04 - acc: 7.5000e-04 - val_loss: 2.3506e-04 - val_acc: 1.0000e-03\n",
            "Epoch 49/50\n",
            " - 0s - loss: 2.4016e-04 - acc: 7.5000e-04 - val_loss: 2.2915e-04 - val_acc: 1.0000e-03\n",
            "Epoch 50/50\n",
            " - 0s - loss: 2.2712e-04 - acc: 7.5000e-04 - val_loss: 2.1149e-04 - val_acc: 1.0000e-03\n"
          ],
          "name": "stdout"
        }
      ]
    },
    {
      "metadata": {
        "id": "fk3TnyBamdgV",
        "colab_type": "text"
      },
      "cell_type": "markdown",
      "source": [
        "## 4. Using LeakyReLU\n"
      ]
    },
    {
      "metadata": {
        "id": "7bWke45onAQK",
        "colab_type": "code",
        "colab": {
          "base_uri": "https://localhost:8080/",
          "height": 1714
        },
        "collapsed": true,
        "outputId": "e361a1af-7ae6-4976-cd03-0d5b9dbc704f"
      },
      "cell_type": "code",
      "source": [
        "model_4 = Sequential()\n",
        "model_4.add(Dense(32, input_shape=(X.shape[1],)))\n",
        "model_4.add(LeakyReLU(0.01))\n",
        "model_4.add(Dense(32))\n",
        "model_4.add(LeakyReLU(0.01))\n",
        "model_4.add(Dense(16))\n",
        "model_4.add(LeakyReLU(0.01))\n",
        "model_4.add(Dense(1))\n",
        "  \n",
        "model_4.compile(loss='mse',optimizer='adam',metrics=['accuracy'])\n",
        "model_4_history = model_4.fit(X_train, y_train,\n",
        "                             batch_size = batch_size,\n",
        "                             epochs = epochs,\n",
        "                             verbose = 2,\n",
        "                             validation_data=(X_test,y_test))"
      ],
      "execution_count": 78,
      "outputs": [
        {
          "output_type": "stream",
          "text": [
            "Train on 12000 samples, validate on 3000 samples\n",
            "Epoch 1/50\n",
            " - 1s - loss: 14.1179 - acc: 7.5000e-04 - val_loss: 5.5214 - val_acc: 6.6667e-04\n",
            "Epoch 2/50\n",
            " - 0s - loss: 1.0956 - acc: 8.3333e-05 - val_loss: 0.0309 - val_acc: 0.0000e+00\n",
            "Epoch 3/50\n",
            " - 0s - loss: 0.0260 - acc: 4.1667e-04 - val_loss: 0.0153 - val_acc: 3.3333e-04\n",
            "Epoch 4/50\n",
            " - 0s - loss: 0.0131 - acc: 5.8333e-04 - val_loss: 0.0102 - val_acc: 3.3333e-04\n",
            "Epoch 5/50\n",
            " - 0s - loss: 0.0093 - acc: 6.6667e-04 - val_loss: 0.0080 - val_acc: 1.0000e-03\n",
            "Epoch 6/50\n",
            " - 0s - loss: 0.0073 - acc: 7.5000e-04 - val_loss: 0.0065 - val_acc: 1.0000e-03\n",
            "Epoch 7/50\n",
            " - 0s - loss: 0.0060 - acc: 7.5000e-04 - val_loss: 0.0053 - val_acc: 1.0000e-03\n",
            "Epoch 8/50\n",
            " - 0s - loss: 0.0050 - acc: 7.5000e-04 - val_loss: 0.0045 - val_acc: 1.0000e-03\n",
            "Epoch 9/50\n",
            " - 0s - loss: 0.0042 - acc: 7.5000e-04 - val_loss: 0.0039 - val_acc: 1.0000e-03\n",
            "Epoch 10/50\n",
            " - 0s - loss: 0.0037 - acc: 7.5000e-04 - val_loss: 0.0035 - val_acc: 1.0000e-03\n",
            "Epoch 11/50\n",
            " - 0s - loss: 0.0033 - acc: 7.5000e-04 - val_loss: 0.0031 - val_acc: 1.0000e-03\n",
            "Epoch 12/50\n",
            " - 0s - loss: 0.0030 - acc: 7.5000e-04 - val_loss: 0.0029 - val_acc: 1.0000e-03\n",
            "Epoch 13/50\n",
            " - 0s - loss: 0.0027 - acc: 7.5000e-04 - val_loss: 0.0026 - val_acc: 1.0000e-03\n",
            "Epoch 14/50\n",
            " - 0s - loss: 0.0025 - acc: 7.5000e-04 - val_loss: 0.0024 - val_acc: 1.0000e-03\n",
            "Epoch 15/50\n",
            " - 0s - loss: 0.0023 - acc: 7.5000e-04 - val_loss: 0.0023 - val_acc: 1.0000e-03\n",
            "Epoch 16/50\n",
            " - 0s - loss: 0.0021 - acc: 7.5000e-04 - val_loss: 0.0021 - val_acc: 1.0000e-03\n",
            "Epoch 17/50\n",
            " - 0s - loss: 0.0020 - acc: 7.5000e-04 - val_loss: 0.0020 - val_acc: 1.0000e-03\n",
            "Epoch 18/50\n",
            " - 0s - loss: 0.0019 - acc: 7.5000e-04 - val_loss: 0.0019 - val_acc: 1.0000e-03\n",
            "Epoch 19/50\n",
            " - 0s - loss: 0.0018 - acc: 7.5000e-04 - val_loss: 0.0018 - val_acc: 1.0000e-03\n",
            "Epoch 20/50\n",
            " - 0s - loss: 0.0017 - acc: 7.5000e-04 - val_loss: 0.0017 - val_acc: 1.0000e-03\n",
            "Epoch 21/50\n",
            " - 0s - loss: 0.0015 - acc: 7.5000e-04 - val_loss: 0.0015 - val_acc: 1.0000e-03\n",
            "Epoch 22/50\n",
            " - 0s - loss: 0.0014 - acc: 7.5000e-04 - val_loss: 0.0014 - val_acc: 1.0000e-03\n",
            "Epoch 23/50\n",
            " - 0s - loss: 0.0013 - acc: 7.5000e-04 - val_loss: 0.0013 - val_acc: 1.0000e-03\n",
            "Epoch 24/50\n",
            " - 0s - loss: 0.0013 - acc: 7.5000e-04 - val_loss: 0.0013 - val_acc: 1.0000e-03\n",
            "Epoch 25/50\n",
            " - 0s - loss: 0.0012 - acc: 7.5000e-04 - val_loss: 0.0012 - val_acc: 1.0000e-03\n",
            "Epoch 26/50\n",
            " - 0s - loss: 0.0011 - acc: 7.5000e-04 - val_loss: 0.0011 - val_acc: 1.0000e-03\n",
            "Epoch 27/50\n",
            " - 0s - loss: 0.0011 - acc: 7.5000e-04 - val_loss: 0.0011 - val_acc: 1.0000e-03\n",
            "Epoch 28/50\n",
            " - 0s - loss: 0.0010 - acc: 7.5000e-04 - val_loss: 0.0010 - val_acc: 1.0000e-03\n",
            "Epoch 29/50\n",
            " - 0s - loss: 9.5410e-04 - acc: 7.5000e-04 - val_loss: 9.5075e-04 - val_acc: 1.0000e-03\n",
            "Epoch 30/50\n",
            " - 0s - loss: 9.0194e-04 - acc: 7.5000e-04 - val_loss: 9.0730e-04 - val_acc: 1.0000e-03\n",
            "Epoch 31/50\n",
            " - 0s - loss: 8.5325e-04 - acc: 7.5000e-04 - val_loss: 8.5799e-04 - val_acc: 1.0000e-03\n",
            "Epoch 32/50\n",
            " - 0s - loss: 8.0982e-04 - acc: 7.5000e-04 - val_loss: 8.1175e-04 - val_acc: 1.0000e-03\n"
          ],
          "name": "stdout"
        },
        {
          "output_type": "stream",
          "text": [
            "Epoch 33/50\n",
            " - 0s - loss: 7.6502e-04 - acc: 7.5000e-04 - val_loss: 7.6962e-04 - val_acc: 1.0000e-03\n",
            "Epoch 34/50\n",
            " - 0s - loss: 7.2452e-04 - acc: 7.5000e-04 - val_loss: 7.3104e-04 - val_acc: 1.0000e-03\n",
            "Epoch 35/50\n",
            " - 0s - loss: 6.8271e-04 - acc: 7.5000e-04 - val_loss: 6.8500e-04 - val_acc: 1.0000e-03\n",
            "Epoch 36/50\n",
            " - 0s - loss: 6.4225e-04 - acc: 7.5000e-04 - val_loss: 6.4933e-04 - val_acc: 1.0000e-03\n",
            "Epoch 37/50\n",
            " - 0s - loss: 6.0511e-04 - acc: 7.5000e-04 - val_loss: 6.1113e-04 - val_acc: 1.0000e-03\n",
            "Epoch 38/50\n",
            " - 0s - loss: 5.7261e-04 - acc: 7.5000e-04 - val_loss: 5.6918e-04 - val_acc: 1.0000e-03\n",
            "Epoch 39/50\n",
            " - 0s - loss: 5.3528e-04 - acc: 7.5000e-04 - val_loss: 5.3742e-04 - val_acc: 1.0000e-03\n",
            "Epoch 40/50\n",
            " - 0s - loss: 5.0292e-04 - acc: 7.5000e-04 - val_loss: 5.1018e-04 - val_acc: 1.0000e-03\n",
            "Epoch 41/50\n",
            " - 0s - loss: 4.8034e-04 - acc: 7.5000e-04 - val_loss: 5.1192e-04 - val_acc: 1.0000e-03\n",
            "Epoch 42/50\n",
            " - 0s - loss: 4.4682e-04 - acc: 7.5000e-04 - val_loss: 4.5275e-04 - val_acc: 1.0000e-03\n",
            "Epoch 43/50\n",
            " - 0s - loss: 4.1683e-04 - acc: 7.5000e-04 - val_loss: 4.2765e-04 - val_acc: 1.0000e-03\n",
            "Epoch 44/50\n",
            " - 0s - loss: 3.9800e-04 - acc: 7.5000e-04 - val_loss: 4.0207e-04 - val_acc: 1.0000e-03\n",
            "Epoch 45/50\n",
            " - 0s - loss: 3.7174e-04 - acc: 7.5000e-04 - val_loss: 3.7655e-04 - val_acc: 1.0000e-03\n",
            "Epoch 46/50\n",
            " - 0s - loss: 3.5277e-04 - acc: 7.5000e-04 - val_loss: 3.6352e-04 - val_acc: 1.0000e-03\n",
            "Epoch 47/50\n",
            " - 0s - loss: 3.3250e-04 - acc: 7.5000e-04 - val_loss: 3.3690e-04 - val_acc: 1.0000e-03\n",
            "Epoch 48/50\n",
            " - 0s - loss: 3.1796e-04 - acc: 7.5000e-04 - val_loss: 3.1751e-04 - val_acc: 1.0000e-03\n",
            "Epoch 49/50\n",
            " - 0s - loss: 3.0160e-04 - acc: 7.5000e-04 - val_loss: 3.0428e-04 - val_acc: 1.0000e-03\n",
            "Epoch 50/50\n",
            " - 0s - loss: 2.8161e-04 - acc: 7.5000e-04 - val_loss: 2.9047e-04 - val_acc: 1.0000e-03\n"
          ],
          "name": "stdout"
        }
      ]
    },
    {
      "metadata": {
        "id": "D8KU8KnNnRG7",
        "colab_type": "text"
      },
      "cell_type": "markdown",
      "source": [
        "## 5. Using PReLU"
      ]
    },
    {
      "metadata": {
        "id": "0a8YFZeCnfQO",
        "colab_type": "code",
        "colab": {
          "base_uri": "https://localhost:8080/",
          "height": 1714
        },
        "collapsed": true,
        "outputId": "353a16e9-633c-47ce-d4e9-9283224b9c86"
      },
      "cell_type": "code",
      "source": [
        "model_5 = Sequential()\n",
        "model_5.add(Dense(32, input_shape=(X.shape[1],)))\n",
        "model_5.add(PReLU())\n",
        "model_5.add(Dense(32))\n",
        "model_5.add(PReLU())\n",
        "model_5.add(Dense(16))\n",
        "model_5.add(PReLU())\n",
        "model_5.add(Dense(1))\n",
        "  \n",
        "model_5.compile(loss='mse',optimizer='adam',metrics=['accuracy'])\n",
        "model_5_history = model_5.fit(X_train, y_train,\n",
        "                             batch_size = batch_size,\n",
        "                             epochs = epochs,\n",
        "                             verbose = 2,\n",
        "                             validation_data=(X_test,y_test))"
      ],
      "execution_count": 79,
      "outputs": [
        {
          "output_type": "stream",
          "text": [
            "Train on 12000 samples, validate on 3000 samples\n",
            "Epoch 1/50\n",
            " - 1s - loss: 18.4383 - acc: 5.0000e-04 - val_loss: 12.7509 - val_acc: 0.0000e+00\n",
            "Epoch 2/50\n",
            " - 0s - loss: 5.2042 - acc: 0.0000e+00 - val_loss: 0.6875 - val_acc: 0.0000e+00\n",
            "Epoch 3/50\n",
            " - 0s - loss: 0.3123 - acc: 0.0000e+00 - val_loss: 0.1507 - val_acc: 0.0000e+00\n",
            "Epoch 4/50\n",
            " - 0s - loss: 0.1078 - acc: 0.0000e+00 - val_loss: 0.0757 - val_acc: 0.0000e+00\n",
            "Epoch 5/50\n",
            " - 0s - loss: 0.0588 - acc: 0.0000e+00 - val_loss: 0.0457 - val_acc: 0.0000e+00\n",
            "Epoch 6/50\n",
            " - 0s - loss: 0.0378 - acc: 0.0000e+00 - val_loss: 0.0309 - val_acc: 0.0000e+00\n",
            "Epoch 7/50\n",
            " - 0s - loss: 0.0266 - acc: 1.6667e-04 - val_loss: 0.0220 - val_acc: 3.3333e-04\n",
            "Epoch 8/50\n",
            " - 0s - loss: 0.0195 - acc: 4.1667e-04 - val_loss: 0.0164 - val_acc: 6.6667e-04\n",
            "Epoch 9/50\n",
            " - 0s - loss: 0.0150 - acc: 5.8333e-04 - val_loss: 0.0127 - val_acc: 1.0000e-03\n",
            "Epoch 10/50\n",
            " - 0s - loss: 0.0119 - acc: 5.8333e-04 - val_loss: 0.0102 - val_acc: 1.0000e-03\n",
            "Epoch 11/50\n",
            " - 0s - loss: 0.0098 - acc: 6.6667e-04 - val_loss: 0.0085 - val_acc: 1.0000e-03\n",
            "Epoch 12/50\n",
            " - 0s - loss: 0.0083 - acc: 7.5000e-04 - val_loss: 0.0073 - val_acc: 1.0000e-03\n",
            "Epoch 13/50\n",
            " - 0s - loss: 0.0072 - acc: 7.5000e-04 - val_loss: 0.0064 - val_acc: 1.0000e-03\n",
            "Epoch 14/50\n",
            " - 0s - loss: 0.0064 - acc: 7.5000e-04 - val_loss: 0.0057 - val_acc: 1.0000e-03\n",
            "Epoch 15/50\n",
            " - 0s - loss: 0.0057 - acc: 7.5000e-04 - val_loss: 0.0051 - val_acc: 1.0000e-03\n",
            "Epoch 16/50\n",
            " - 0s - loss: 0.0052 - acc: 7.5000e-04 - val_loss: 0.0046 - val_acc: 1.0000e-03\n",
            "Epoch 17/50\n",
            " - 0s - loss: 0.0047 - acc: 7.5000e-04 - val_loss: 0.0042 - val_acc: 1.0000e-03\n",
            "Epoch 18/50\n",
            " - 0s - loss: 0.0043 - acc: 7.5000e-04 - val_loss: 0.0039 - val_acc: 1.0000e-03\n",
            "Epoch 19/50\n",
            " - 0s - loss: 0.0040 - acc: 7.5000e-04 - val_loss: 0.0036 - val_acc: 1.0000e-03\n",
            "Epoch 20/50\n",
            " - 0s - loss: 0.0037 - acc: 7.5000e-04 - val_loss: 0.0034 - val_acc: 1.0000e-03\n",
            "Epoch 21/50\n",
            " - 0s - loss: 0.0035 - acc: 7.5000e-04 - val_loss: 0.0032 - val_acc: 1.0000e-03\n",
            "Epoch 22/50\n",
            " - 0s - loss: 0.0033 - acc: 7.5000e-04 - val_loss: 0.0030 - val_acc: 1.0000e-03\n",
            "Epoch 23/50\n",
            " - 0s - loss: 0.0031 - acc: 7.5000e-04 - val_loss: 0.0028 - val_acc: 1.0000e-03\n",
            "Epoch 24/50\n",
            " - 0s - loss: 0.0029 - acc: 7.5000e-04 - val_loss: 0.0027 - val_acc: 1.0000e-03\n",
            "Epoch 25/50\n",
            " - 0s - loss: 0.0028 - acc: 7.5000e-04 - val_loss: 0.0026 - val_acc: 1.0000e-03\n",
            "Epoch 26/50\n",
            " - 0s - loss: 0.0026 - acc: 7.5000e-04 - val_loss: 0.0024 - val_acc: 1.0000e-03\n",
            "Epoch 27/50\n",
            " - 0s - loss: 0.0025 - acc: 7.5000e-04 - val_loss: 0.0023 - val_acc: 1.0000e-03\n",
            "Epoch 28/50\n",
            " - 0s - loss: 0.0024 - acc: 7.5000e-04 - val_loss: 0.0022 - val_acc: 1.0000e-03\n",
            "Epoch 29/50\n",
            " - 0s - loss: 0.0023 - acc: 7.5000e-04 - val_loss: 0.0021 - val_acc: 1.0000e-03\n",
            "Epoch 30/50\n",
            " - 0s - loss: 0.0022 - acc: 7.5000e-04 - val_loss: 0.0021 - val_acc: 1.0000e-03\n",
            "Epoch 31/50\n",
            " - 0s - loss: 0.0021 - acc: 7.5000e-04 - val_loss: 0.0020 - val_acc: 1.0000e-03\n",
            "Epoch 32/50\n",
            " - 0s - loss: 0.0020 - acc: 7.5000e-04 - val_loss: 0.0019 - val_acc: 1.0000e-03\n"
          ],
          "name": "stdout"
        },
        {
          "output_type": "stream",
          "text": [
            "Epoch 33/50\n",
            " - 0s - loss: 0.0020 - acc: 7.5000e-04 - val_loss: 0.0018 - val_acc: 1.0000e-03\n",
            "Epoch 34/50\n",
            " - 0s - loss: 0.0019 - acc: 7.5000e-04 - val_loss: 0.0018 - val_acc: 1.0000e-03\n",
            "Epoch 35/50\n",
            " - 0s - loss: 0.0018 - acc: 7.5000e-04 - val_loss: 0.0017 - val_acc: 1.0000e-03\n",
            "Epoch 36/50\n",
            " - 0s - loss: 0.0018 - acc: 7.5000e-04 - val_loss: 0.0017 - val_acc: 1.0000e-03\n",
            "Epoch 37/50\n",
            " - 0s - loss: 0.0017 - acc: 7.5000e-04 - val_loss: 0.0016 - val_acc: 1.0000e-03\n",
            "Epoch 38/50\n",
            " - 0s - loss: 0.0017 - acc: 7.5000e-04 - val_loss: 0.0016 - val_acc: 1.0000e-03\n",
            "Epoch 39/50\n",
            " - 0s - loss: 0.0016 - acc: 7.5000e-04 - val_loss: 0.0015 - val_acc: 1.0000e-03\n",
            "Epoch 40/50\n",
            " - 0s - loss: 0.0015 - acc: 7.5000e-04 - val_loss: 0.0015 - val_acc: 1.0000e-03\n",
            "Epoch 41/50\n",
            " - 0s - loss: 0.0015 - acc: 7.5000e-04 - val_loss: 0.0015 - val_acc: 1.0000e-03\n",
            "Epoch 42/50\n",
            " - 0s - loss: 0.0015 - acc: 7.5000e-04 - val_loss: 0.0014 - val_acc: 1.0000e-03\n",
            "Epoch 43/50\n",
            " - 0s - loss: 0.0014 - acc: 7.5000e-04 - val_loss: 0.0014 - val_acc: 1.0000e-03\n",
            "Epoch 44/50\n",
            " - 0s - loss: 0.0014 - acc: 7.5000e-04 - val_loss: 0.0014 - val_acc: 1.0000e-03\n",
            "Epoch 45/50\n",
            " - 0s - loss: 0.0013 - acc: 7.5000e-04 - val_loss: 0.0013 - val_acc: 1.0000e-03\n",
            "Epoch 46/50\n",
            " - 0s - loss: 0.0013 - acc: 7.5000e-04 - val_loss: 0.0012 - val_acc: 1.0000e-03\n",
            "Epoch 47/50\n",
            " - 0s - loss: 0.0012 - acc: 7.5000e-04 - val_loss: 0.0012 - val_acc: 1.0000e-03\n",
            "Epoch 48/50\n",
            " - 0s - loss: 0.0012 - acc: 7.5000e-04 - val_loss: 0.0012 - val_acc: 1.0000e-03\n",
            "Epoch 49/50\n",
            " - 0s - loss: 0.0012 - acc: 7.5000e-04 - val_loss: 0.0011 - val_acc: 1.0000e-03\n",
            "Epoch 50/50\n",
            " - 0s - loss: 0.0011 - acc: 7.5000e-04 - val_loss: 0.0011 - val_acc: 1.0000e-03\n"
          ],
          "name": "stdout"
        }
      ]
    },
    {
      "metadata": {
        "id": "Sw10K4fAn8ZN",
        "colab_type": "text"
      },
      "cell_type": "markdown",
      "source": [
        "## 6. Using Linear Function"
      ]
    },
    {
      "metadata": {
        "id": "xHN_efc3oT_c",
        "colab_type": "code",
        "colab": {
          "base_uri": "https://localhost:8080/",
          "height": 1714
        },
        "collapsed": true,
        "outputId": "7ee8fc40-50e6-452b-ec1a-7dea276f0da4"
      },
      "cell_type": "code",
      "source": [
        "model_6 = Sequential()\n",
        "model_6.add(Dense(32, input_shape=(X.shape[1],)))\n",
        "model_6.add(Dense(32, activation='linear'))\n",
        "model_6.add(Dense(16, activation='linear'))\n",
        "model_6.add(Dense(1))\n",
        "  \n",
        "model_6.compile(loss='mse',optimizer='adam',metrics=['accuracy'])\n",
        "model_6_history = model_6.fit(X_train, y_train,\n",
        "                             batch_size = batch_size,\n",
        "                             epochs = epochs,\n",
        "                             verbose = 2,\n",
        "                             validation_data=(X_test,y_test))"
      ],
      "execution_count": 80,
      "outputs": [
        {
          "output_type": "stream",
          "text": [
            "Train on 12000 samples, validate on 3000 samples\n",
            "Epoch 1/50\n",
            " - 1s - loss: 1.7843 - acc: 5.0000e-04 - val_loss: 0.0842 - val_acc: 1.0000e-03\n",
            "Epoch 2/50\n",
            " - 0s - loss: 0.0515 - acc: 7.5000e-04 - val_loss: 0.0294 - val_acc: 1.0000e-03\n",
            "Epoch 3/50\n",
            " - 0s - loss: 0.0223 - acc: 7.5000e-04 - val_loss: 0.0153 - val_acc: 1.0000e-03\n",
            "Epoch 4/50\n",
            " - 0s - loss: 0.0115 - acc: 7.5000e-04 - val_loss: 0.0078 - val_acc: 1.0000e-03\n",
            "Epoch 5/50\n",
            " - 0s - loss: 0.0057 - acc: 7.5000e-04 - val_loss: 0.0039 - val_acc: 1.0000e-03\n",
            "Epoch 6/50\n",
            " - 0s - loss: 0.0030 - acc: 7.5000e-04 - val_loss: 0.0023 - val_acc: 1.0000e-03\n",
            "Epoch 7/50\n",
            " - 0s - loss: 0.0019 - acc: 7.5000e-04 - val_loss: 0.0016 - val_acc: 1.0000e-03\n",
            "Epoch 8/50\n",
            " - 0s - loss: 0.0014 - acc: 7.5000e-04 - val_loss: 0.0013 - val_acc: 1.0000e-03\n",
            "Epoch 9/50\n",
            " - 0s - loss: 0.0012 - acc: 7.5000e-04 - val_loss: 0.0011 - val_acc: 1.0000e-03\n",
            "Epoch 10/50\n",
            " - 0s - loss: 0.0010 - acc: 7.5000e-04 - val_loss: 9.7516e-04 - val_acc: 1.0000e-03\n",
            "Epoch 11/50\n",
            " - 0s - loss: 9.2623e-04 - acc: 7.5000e-04 - val_loss: 8.8820e-04 - val_acc: 1.0000e-03\n",
            "Epoch 12/50\n",
            " - 0s - loss: 8.4678e-04 - acc: 7.5000e-04 - val_loss: 8.1851e-04 - val_acc: 1.0000e-03\n",
            "Epoch 13/50\n",
            " - 0s - loss: 7.8186e-04 - acc: 7.5000e-04 - val_loss: 7.5838e-04 - val_acc: 1.0000e-03\n",
            "Epoch 14/50\n",
            " - 0s - loss: 7.2005e-04 - acc: 7.5000e-04 - val_loss: 6.9420e-04 - val_acc: 1.0000e-03\n",
            "Epoch 15/50\n",
            " - 0s - loss: 6.6597e-04 - acc: 7.5000e-04 - val_loss: 6.3227e-04 - val_acc: 1.0000e-03\n",
            "Epoch 16/50\n",
            " - 0s - loss: 6.1008e-04 - acc: 7.5000e-04 - val_loss: 5.7831e-04 - val_acc: 1.0000e-03\n",
            "Epoch 17/50\n",
            " - 0s - loss: 5.6032e-04 - acc: 7.5000e-04 - val_loss: 5.3620e-04 - val_acc: 1.0000e-03\n",
            "Epoch 18/50\n",
            " - 0s - loss: 5.0916e-04 - acc: 7.5000e-04 - val_loss: 4.8014e-04 - val_acc: 1.0000e-03\n",
            "Epoch 19/50\n",
            " - 0s - loss: 4.6266e-04 - acc: 7.5000e-04 - val_loss: 4.3640e-04 - val_acc: 1.0000e-03\n",
            "Epoch 20/50\n",
            " - 0s - loss: 4.1804e-04 - acc: 7.5000e-04 - val_loss: 3.9235e-04 - val_acc: 1.0000e-03\n",
            "Epoch 21/50\n",
            " - 0s - loss: 3.7540e-04 - acc: 7.5000e-04 - val_loss: 3.5217e-04 - val_acc: 1.0000e-03\n",
            "Epoch 22/50\n",
            " - 0s - loss: 3.3689e-04 - acc: 7.5000e-04 - val_loss: 3.1556e-04 - val_acc: 1.0000e-03\n",
            "Epoch 23/50\n",
            " - 0s - loss: 3.0061e-04 - acc: 7.5000e-04 - val_loss: 2.8188e-04 - val_acc: 1.0000e-03\n",
            "Epoch 24/50\n",
            " - 0s - loss: 2.6678e-04 - acc: 7.5000e-04 - val_loss: 2.5324e-04 - val_acc: 1.0000e-03\n",
            "Epoch 25/50\n",
            " - 0s - loss: 2.3647e-04 - acc: 7.5000e-04 - val_loss: 2.1951e-04 - val_acc: 1.0000e-03\n",
            "Epoch 26/50\n",
            " - 0s - loss: 2.0715e-04 - acc: 7.5000e-04 - val_loss: 1.9383e-04 - val_acc: 1.0000e-03\n",
            "Epoch 27/50\n",
            " - 0s - loss: 1.8295e-04 - acc: 7.5000e-04 - val_loss: 1.7401e-04 - val_acc: 1.0000e-03\n",
            "Epoch 28/50\n",
            " - 0s - loss: 1.5782e-04 - acc: 7.5000e-04 - val_loss: 1.4370e-04 - val_acc: 1.0000e-03\n",
            "Epoch 29/50\n",
            " - 0s - loss: 1.3571e-04 - acc: 7.5000e-04 - val_loss: 1.2344e-04 - val_acc: 1.0000e-03\n",
            "Epoch 30/50\n",
            " - 0s - loss: 1.1591e-04 - acc: 7.5000e-04 - val_loss: 1.0616e-04 - val_acc: 1.0000e-03\n",
            "Epoch 31/50\n",
            " - 0s - loss: 1.0058e-04 - acc: 7.5000e-04 - val_loss: 9.0632e-05 - val_acc: 1.0000e-03\n",
            "Epoch 32/50\n"
          ],
          "name": "stdout"
        },
        {
          "output_type": "stream",
          "text": [
            " - 0s - loss: 8.4376e-05 - acc: 7.5000e-04 - val_loss: 7.5980e-05 - val_acc: 1.0000e-03\n",
            "Epoch 33/50\n",
            " - 0s - loss: 7.0722e-05 - acc: 7.5000e-04 - val_loss: 6.5178e-05 - val_acc: 1.0000e-03\n",
            "Epoch 34/50\n",
            " - 0s - loss: 6.0773e-05 - acc: 7.5000e-04 - val_loss: 5.5037e-05 - val_acc: 1.0000e-03\n",
            "Epoch 35/50\n",
            " - 0s - loss: 4.9706e-05 - acc: 7.5000e-04 - val_loss: 4.6972e-05 - val_acc: 1.0000e-03\n",
            "Epoch 36/50\n",
            " - 0s - loss: 4.1134e-05 - acc: 7.5000e-04 - val_loss: 3.8203e-05 - val_acc: 1.0000e-03\n",
            "Epoch 37/50\n",
            " - 0s - loss: 3.3994e-05 - acc: 7.5000e-04 - val_loss: 3.0343e-05 - val_acc: 1.0000e-03\n",
            "Epoch 38/50\n",
            " - 0s - loss: 2.7643e-05 - acc: 7.5000e-04 - val_loss: 2.4971e-05 - val_acc: 1.0000e-03\n",
            "Epoch 39/50\n",
            " - 0s - loss: 2.2356e-05 - acc: 7.5000e-04 - val_loss: 1.9889e-05 - val_acc: 1.0000e-03\n",
            "Epoch 40/50\n",
            " - 0s - loss: 1.8367e-05 - acc: 7.5000e-04 - val_loss: 1.6699e-05 - val_acc: 1.0000e-03\n",
            "Epoch 41/50\n",
            " - 0s - loss: 1.4565e-05 - acc: 7.5000e-04 - val_loss: 1.3261e-05 - val_acc: 1.0000e-03\n",
            "Epoch 42/50\n",
            " - 0s - loss: 1.1809e-05 - acc: 7.5000e-04 - val_loss: 1.0216e-05 - val_acc: 1.0000e-03\n",
            "Epoch 43/50\n",
            " - 0s - loss: 9.1886e-06 - acc: 7.5000e-04 - val_loss: 8.1720e-06 - val_acc: 1.0000e-03\n",
            "Epoch 44/50\n",
            " - 0s - loss: 7.3437e-06 - acc: 7.5000e-04 - val_loss: 6.5145e-06 - val_acc: 1.0000e-03\n",
            "Epoch 45/50\n",
            " - 0s - loss: 5.7441e-06 - acc: 7.5000e-04 - val_loss: 5.0504e-06 - val_acc: 1.0000e-03\n",
            "Epoch 46/50\n",
            " - 0s - loss: 4.5788e-06 - acc: 7.5000e-04 - val_loss: 4.0939e-06 - val_acc: 1.0000e-03\n",
            "Epoch 47/50\n",
            " - 0s - loss: 3.5234e-06 - acc: 7.5000e-04 - val_loss: 3.1891e-06 - val_acc: 1.0000e-03\n",
            "Epoch 48/50\n",
            " - 0s - loss: 2.8343e-06 - acc: 7.5000e-04 - val_loss: 2.4913e-06 - val_acc: 1.0000e-03\n",
            "Epoch 49/50\n",
            " - 0s - loss: 2.1825e-06 - acc: 7.5000e-04 - val_loss: 1.9145e-06 - val_acc: 1.0000e-03\n",
            "Epoch 50/50\n",
            " - 0s - loss: 1.7303e-06 - acc: 7.5000e-04 - val_loss: 1.5152e-06 - val_acc: 1.0000e-03\n"
          ],
          "name": "stdout"
        }
      ]
    },
    {
      "metadata": {
        "id": "N-EwaaWiomH5",
        "colab_type": "text"
      },
      "cell_type": "markdown",
      "source": [
        "## 7. Using Elu"
      ]
    },
    {
      "metadata": {
        "id": "INZGp283olva",
        "colab_type": "code",
        "colab": {
          "base_uri": "https://localhost:8080/",
          "height": 1714
        },
        "collapsed": true,
        "outputId": "08f139bf-6395-42f7-d773-1db323185e5b"
      },
      "cell_type": "code",
      "source": [
        "model_7 = Sequential()\n",
        "model_7.add(Dense(32, input_shape=(X.shape[1],), activation='elu'))\n",
        "model_7.add(Dense(32, activation='elu'))\n",
        "model_7.add(Dense(16, activation='elu'))\n",
        "model_7.add(Dense(1))\n",
        "model_7.compile(loss='mse',optimizer='adam',metrics=['accuracy'])\n",
        "model_7_history = model_7.fit(X_train, y_train,\n",
        "                             batch_size = batch_size,\n",
        "                             epochs = epochs,\n",
        "                             verbose = 2,\n",
        "                             validation_data=(X_test,y_test))"
      ],
      "execution_count": 81,
      "outputs": [
        {
          "output_type": "stream",
          "text": [
            "Train on 12000 samples, validate on 3000 samples\n",
            "Epoch 1/50\n",
            " - 1s - loss: 2.4504 - acc: 0.0000e+00 - val_loss: 0.1039 - val_acc: 0.0000e+00\n",
            "Epoch 2/50\n",
            " - 0s - loss: 0.0728 - acc: 0.0000e+00 - val_loss: 0.0441 - val_acc: 0.0000e+00\n",
            "Epoch 3/50\n",
            " - 0s - loss: 0.0337 - acc: 8.3333e-05 - val_loss: 0.0276 - val_acc: 0.0000e+00\n",
            "Epoch 4/50\n",
            " - 0s - loss: 0.0225 - acc: 1.6667e-04 - val_loss: 0.0199 - val_acc: 0.0000e+00\n",
            "Epoch 5/50\n",
            " - 0s - loss: 0.0168 - acc: 3.3333e-04 - val_loss: 0.0154 - val_acc: 6.6667e-04\n",
            "Epoch 6/50\n",
            " - 0s - loss: 0.0134 - acc: 7.5000e-04 - val_loss: 0.0125 - val_acc: 1.0000e-03\n",
            "Epoch 7/50\n",
            " - 0s - loss: 0.0112 - acc: 7.5000e-04 - val_loss: 0.0107 - val_acc: 1.0000e-03\n",
            "Epoch 8/50\n",
            " - 0s - loss: 0.0097 - acc: 7.5000e-04 - val_loss: 0.0094 - val_acc: 1.0000e-03\n",
            "Epoch 9/50\n",
            " - 0s - loss: 0.0086 - acc: 7.5000e-04 - val_loss: 0.0084 - val_acc: 1.0000e-03\n",
            "Epoch 10/50\n",
            " - 0s - loss: 0.0078 - acc: 7.5000e-04 - val_loss: 0.0076 - val_acc: 1.0000e-03\n",
            "Epoch 11/50\n",
            " - 0s - loss: 0.0072 - acc: 7.5000e-04 - val_loss: 0.0070 - val_acc: 1.0000e-03\n",
            "Epoch 12/50\n",
            " - 0s - loss: 0.0066 - acc: 7.5000e-04 - val_loss: 0.0065 - val_acc: 1.0000e-03\n",
            "Epoch 13/50\n",
            " - 0s - loss: 0.0061 - acc: 7.5000e-04 - val_loss: 0.0060 - val_acc: 1.0000e-03\n",
            "Epoch 14/50\n",
            " - 0s - loss: 0.0057 - acc: 7.5000e-04 - val_loss: 0.0056 - val_acc: 1.0000e-03\n",
            "Epoch 15/50\n",
            " - 0s - loss: 0.0053 - acc: 7.5000e-04 - val_loss: 0.0052 - val_acc: 1.0000e-03\n",
            "Epoch 16/50\n",
            " - 0s - loss: 0.0049 - acc: 7.5000e-04 - val_loss: 0.0048 - val_acc: 1.0000e-03\n",
            "Epoch 17/50\n",
            " - 0s - loss: 0.0045 - acc: 7.5000e-04 - val_loss: 0.0045 - val_acc: 1.0000e-03\n",
            "Epoch 18/50\n",
            " - 0s - loss: 0.0042 - acc: 7.5000e-04 - val_loss: 0.0041 - val_acc: 1.0000e-03\n",
            "Epoch 19/50\n",
            " - 0s - loss: 0.0038 - acc: 7.5000e-04 - val_loss: 0.0037 - val_acc: 1.0000e-03\n",
            "Epoch 20/50\n",
            " - 0s - loss: 0.0035 - acc: 7.5000e-04 - val_loss: 0.0034 - val_acc: 1.0000e-03\n",
            "Epoch 21/50\n",
            " - 0s - loss: 0.0032 - acc: 7.5000e-04 - val_loss: 0.0031 - val_acc: 1.0000e-03\n",
            "Epoch 22/50\n",
            " - 0s - loss: 0.0029 - acc: 7.5000e-04 - val_loss: 0.0029 - val_acc: 1.0000e-03\n",
            "Epoch 23/50\n",
            " - 0s - loss: 0.0027 - acc: 7.5000e-04 - val_loss: 0.0026 - val_acc: 1.0000e-03\n",
            "Epoch 24/50\n",
            " - 0s - loss: 0.0025 - acc: 7.5000e-04 - val_loss: 0.0024 - val_acc: 1.0000e-03\n",
            "Epoch 25/50\n",
            " - 0s - loss: 0.0023 - acc: 7.5000e-04 - val_loss: 0.0022 - val_acc: 1.0000e-03\n",
            "Epoch 26/50\n",
            " - 0s - loss: 0.0021 - acc: 7.5000e-04 - val_loss: 0.0020 - val_acc: 1.0000e-03\n",
            "Epoch 27/50\n",
            " - 0s - loss: 0.0019 - acc: 7.5000e-04 - val_loss: 0.0019 - val_acc: 1.0000e-03\n",
            "Epoch 28/50\n",
            " - 0s - loss: 0.0018 - acc: 7.5000e-04 - val_loss: 0.0017 - val_acc: 1.0000e-03\n",
            "Epoch 29/50\n",
            " - 0s - loss: 0.0016 - acc: 7.5000e-04 - val_loss: 0.0016 - val_acc: 1.0000e-03\n",
            "Epoch 30/50\n",
            " - 0s - loss: 0.0015 - acc: 7.5000e-04 - val_loss: 0.0015 - val_acc: 1.0000e-03\n",
            "Epoch 31/50\n",
            " - 0s - loss: 0.0014 - acc: 7.5000e-04 - val_loss: 0.0014 - val_acc: 1.0000e-03\n",
            "Epoch 32/50\n",
            " - 0s - loss: 0.0013 - acc: 7.5000e-04 - val_loss: 0.0013 - val_acc: 1.0000e-03\n"
          ],
          "name": "stdout"
        },
        {
          "output_type": "stream",
          "text": [
            "Epoch 33/50\n",
            " - 0s - loss: 0.0012 - acc: 7.5000e-04 - val_loss: 0.0012 - val_acc: 1.0000e-03\n",
            "Epoch 34/50\n",
            " - 0s - loss: 0.0012 - acc: 7.5000e-04 - val_loss: 0.0011 - val_acc: 1.0000e-03\n",
            "Epoch 35/50\n",
            " - 0s - loss: 0.0011 - acc: 7.5000e-04 - val_loss: 0.0011 - val_acc: 1.0000e-03\n",
            "Epoch 36/50\n",
            " - 0s - loss: 0.0010 - acc: 7.5000e-04 - val_loss: 0.0010 - val_acc: 1.0000e-03\n",
            "Epoch 37/50\n",
            " - 0s - loss: 9.7511e-04 - acc: 7.5000e-04 - val_loss: 9.7491e-04 - val_acc: 1.0000e-03\n",
            "Epoch 38/50\n",
            " - 0s - loss: 9.3560e-04 - acc: 7.5000e-04 - val_loss: 9.1882e-04 - val_acc: 1.0000e-03\n",
            "Epoch 39/50\n",
            " - 0s - loss: 8.9144e-04 - acc: 7.5000e-04 - val_loss: 8.7411e-04 - val_acc: 1.0000e-03\n",
            "Epoch 40/50\n",
            " - 0s - loss: 8.4796e-04 - acc: 7.5000e-04 - val_loss: 8.3035e-04 - val_acc: 1.0000e-03\n",
            "Epoch 41/50\n",
            " - 0s - loss: 8.1553e-04 - acc: 7.5000e-04 - val_loss: 8.0937e-04 - val_acc: 1.0000e-03\n",
            "Epoch 42/50\n",
            " - 0s - loss: 7.8214e-04 - acc: 7.5000e-04 - val_loss: 7.6162e-04 - val_acc: 1.0000e-03\n",
            "Epoch 43/50\n",
            " - 0s - loss: 7.5081e-04 - acc: 7.5000e-04 - val_loss: 7.4153e-04 - val_acc: 1.0000e-03\n",
            "Epoch 44/50\n",
            " - 0s - loss: 7.2575e-04 - acc: 7.5000e-04 - val_loss: 7.1303e-04 - val_acc: 1.0000e-03\n",
            "Epoch 45/50\n",
            " - 0s - loss: 6.9514e-04 - acc: 7.5000e-04 - val_loss: 6.8271e-04 - val_acc: 1.0000e-03\n",
            "Epoch 46/50\n",
            " - 0s - loss: 6.7048e-04 - acc: 7.5000e-04 - val_loss: 6.5598e-04 - val_acc: 1.0000e-03\n",
            "Epoch 47/50\n",
            " - 0s - loss: 6.5005e-04 - acc: 7.5000e-04 - val_loss: 6.6018e-04 - val_acc: 1.0000e-03\n",
            "Epoch 48/50\n",
            " - 0s - loss: 6.3435e-04 - acc: 7.5000e-04 - val_loss: 6.2363e-04 - val_acc: 1.0000e-03\n",
            "Epoch 49/50\n",
            " - 0s - loss: 6.0682e-04 - acc: 7.5000e-04 - val_loss: 5.9872e-04 - val_acc: 1.0000e-03\n",
            "Epoch 50/50\n",
            " - 0s - loss: 5.8663e-04 - acc: 7.5000e-04 - val_loss: 5.9288e-04 - val_acc: 1.0000e-03\n"
          ],
          "name": "stdout"
        }
      ]
    },
    {
      "metadata": {
        "id": "BJbE7cAVNPe2",
        "colab_type": "text"
      },
      "cell_type": "markdown",
      "source": [
        "## 8. Using hard_sigmoid\n"
      ]
    },
    {
      "metadata": {
        "id": "IiOFzUxBNSVS",
        "colab_type": "code",
        "colab": {
          "base_uri": "https://localhost:8080/",
          "height": 1714
        },
        "collapsed": true,
        "outputId": "a47fcc52-7c66-4417-9e74-7ecef2a11b6b"
      },
      "cell_type": "code",
      "source": [
        "model_8 = Sequential()\n",
        "model_8.add(Dense(32, input_shape=(X.shape[1],), activation='hard_sigmoid'))\n",
        "model_8.add(Dense(32, activation='hard_sigmoid'))\n",
        "model_8.add(Dense(16, activation='hard_sigmoid'))\n",
        "model_8.add(Dense(1))\n",
        "  \n",
        "model_8.compile(loss='mse',optimizer='adam',metrics=['accuracy'])\n",
        "model_8_history = model_8.fit(X_train, y_train,\n",
        "                             batch_size = batch_size,\n",
        "                             epochs = epochs,\n",
        "                             verbose = 2,\n",
        "                             validation_data=(X_test,y_test))"
      ],
      "execution_count": 82,
      "outputs": [
        {
          "output_type": "stream",
          "text": [
            "Train on 12000 samples, validate on 3000 samples\n",
            "Epoch 1/50\n",
            " - 1s - loss: 6.4197 - acc: 0.0000e+00 - val_loss: 3.2478 - val_acc: 0.0000e+00\n",
            "Epoch 2/50\n",
            " - 0s - loss: 1.8565 - acc: 0.0000e+00 - val_loss: 1.1494 - val_acc: 0.0000e+00\n",
            "Epoch 3/50\n",
            " - 0s - loss: 1.0155 - acc: 0.0000e+00 - val_loss: 0.8979 - val_acc: 0.0000e+00\n",
            "Epoch 4/50\n",
            " - 0s - loss: 0.8337 - acc: 0.0000e+00 - val_loss: 0.7631 - val_acc: 0.0000e+00\n",
            "Epoch 5/50\n",
            " - 0s - loss: 0.7256 - acc: 0.0000e+00 - val_loss: 0.6689 - val_acc: 0.0000e+00\n",
            "Epoch 6/50\n",
            " - 0s - loss: 0.6161 - acc: 0.0000e+00 - val_loss: 0.5417 - val_acc: 0.0000e+00\n",
            "Epoch 7/50\n",
            " - 0s - loss: 0.4919 - acc: 0.0000e+00 - val_loss: 0.4333 - val_acc: 0.0000e+00\n",
            "Epoch 8/50\n",
            " - 0s - loss: 0.3938 - acc: 0.0000e+00 - val_loss: 0.3415 - val_acc: 0.0000e+00\n",
            "Epoch 9/50\n",
            " - 0s - loss: 0.3068 - acc: 0.0000e+00 - val_loss: 0.2616 - val_acc: 0.0000e+00\n",
            "Epoch 10/50\n",
            " - 0s - loss: 0.2334 - acc: 0.0000e+00 - val_loss: 0.1962 - val_acc: 0.0000e+00\n",
            "Epoch 11/50\n",
            " - 0s - loss: 0.1764 - acc: 0.0000e+00 - val_loss: 0.1494 - val_acc: 0.0000e+00\n",
            "Epoch 12/50\n",
            " - 0s - loss: 0.1375 - acc: 0.0000e+00 - val_loss: 0.1186 - val_acc: 0.0000e+00\n",
            "Epoch 13/50\n",
            " - 0s - loss: 0.1122 - acc: 0.0000e+00 - val_loss: 0.0984 - val_acc: 0.0000e+00\n",
            "Epoch 14/50\n",
            " - 0s - loss: 0.0949 - acc: 0.0000e+00 - val_loss: 0.0845 - val_acc: 0.0000e+00\n",
            "Epoch 15/50\n",
            " - 0s - loss: 0.0824 - acc: 0.0000e+00 - val_loss: 0.0740 - val_acc: 0.0000e+00\n",
            "Epoch 16/50\n",
            " - 0s - loss: 0.0725 - acc: 0.0000e+00 - val_loss: 0.0654 - val_acc: 0.0000e+00\n",
            "Epoch 17/50\n",
            " - 0s - loss: 0.0641 - acc: 0.0000e+00 - val_loss: 0.0580 - val_acc: 0.0000e+00\n",
            "Epoch 18/50\n",
            " - 0s - loss: 0.0568 - acc: 0.0000e+00 - val_loss: 0.0516 - val_acc: 0.0000e+00\n",
            "Epoch 19/50\n",
            " - 0s - loss: 0.0504 - acc: 0.0000e+00 - val_loss: 0.0461 - val_acc: 0.0000e+00\n",
            "Epoch 20/50\n",
            " - 0s - loss: 0.0451 - acc: 0.0000e+00 - val_loss: 0.0416 - val_acc: 0.0000e+00\n",
            "Epoch 21/50\n",
            " - 0s - loss: 0.0408 - acc: 0.0000e+00 - val_loss: 0.0380 - val_acc: 0.0000e+00\n",
            "Epoch 22/50\n",
            " - 0s - loss: 0.0374 - acc: 0.0000e+00 - val_loss: 0.0350 - val_acc: 0.0000e+00\n",
            "Epoch 23/50\n",
            " - 0s - loss: 0.0345 - acc: 0.0000e+00 - val_loss: 0.0326 - val_acc: 0.0000e+00\n",
            "Epoch 24/50\n",
            " - 0s - loss: 0.0321 - acc: 0.0000e+00 - val_loss: 0.0305 - val_acc: 0.0000e+00\n",
            "Epoch 25/50\n",
            " - 0s - loss: 0.0300 - acc: 0.0000e+00 - val_loss: 0.0287 - val_acc: 0.0000e+00\n",
            "Epoch 26/50\n",
            " - 0s - loss: 0.0282 - acc: 0.0000e+00 - val_loss: 0.0272 - val_acc: 0.0000e+00\n",
            "Epoch 27/50\n",
            " - 0s - loss: 0.0267 - acc: 0.0000e+00 - val_loss: 0.0258 - val_acc: 0.0000e+00\n",
            "Epoch 28/50\n",
            " - 0s - loss: 0.0253 - acc: 0.0000e+00 - val_loss: 0.0247 - val_acc: 0.0000e+00\n",
            "Epoch 29/50\n",
            " - 0s - loss: 0.0241 - acc: 0.0000e+00 - val_loss: 0.0236 - val_acc: 0.0000e+00\n",
            "Epoch 30/50\n",
            " - 0s - loss: 0.0230 - acc: 0.0000e+00 - val_loss: 0.0227 - val_acc: 0.0000e+00\n",
            "Epoch 31/50\n",
            " - 0s - loss: 0.0220 - acc: 0.0000e+00 - val_loss: 0.0218 - val_acc: 0.0000e+00\n",
            "Epoch 32/50\n",
            " - 0s - loss: 0.0211 - acc: 0.0000e+00 - val_loss: 0.0210 - val_acc: 0.0000e+00\n"
          ],
          "name": "stdout"
        },
        {
          "output_type": "stream",
          "text": [
            "Epoch 33/50\n",
            " - 0s - loss: 0.0203 - acc: 0.0000e+00 - val_loss: 0.0202 - val_acc: 0.0000e+00\n",
            "Epoch 34/50\n",
            " - 0s - loss: 0.0195 - acc: 0.0000e+00 - val_loss: 0.0195 - val_acc: 0.0000e+00\n",
            "Epoch 35/50\n",
            " - 0s - loss: 0.0188 - acc: 0.0000e+00 - val_loss: 0.0187 - val_acc: 0.0000e+00\n",
            "Epoch 36/50\n",
            " - 0s - loss: 0.0180 - acc: 0.0000e+00 - val_loss: 0.0180 - val_acc: 0.0000e+00\n",
            "Epoch 37/50\n",
            " - 0s - loss: 0.0173 - acc: 0.0000e+00 - val_loss: 0.0174 - val_acc: 0.0000e+00\n",
            "Epoch 38/50\n",
            " - 0s - loss: 0.0167 - acc: 0.0000e+00 - val_loss: 0.0167 - val_acc: 0.0000e+00\n",
            "Epoch 39/50\n",
            " - 0s - loss: 0.0160 - acc: 0.0000e+00 - val_loss: 0.0162 - val_acc: 0.0000e+00\n",
            "Epoch 40/50\n",
            " - 0s - loss: 0.0154 - acc: 0.0000e+00 - val_loss: 0.0155 - val_acc: 0.0000e+00\n",
            "Epoch 41/50\n",
            " - 0s - loss: 0.0148 - acc: 0.0000e+00 - val_loss: 0.0150 - val_acc: 0.0000e+00\n",
            "Epoch 42/50\n",
            " - 0s - loss: 0.0142 - acc: 0.0000e+00 - val_loss: 0.0144 - val_acc: 0.0000e+00\n",
            "Epoch 43/50\n",
            " - 0s - loss: 0.0136 - acc: 0.0000e+00 - val_loss: 0.0138 - val_acc: 0.0000e+00\n",
            "Epoch 44/50\n",
            " - 0s - loss: 0.0131 - acc: 0.0000e+00 - val_loss: 0.0133 - val_acc: 0.0000e+00\n",
            "Epoch 45/50\n",
            " - 0s - loss: 0.0125 - acc: 0.0000e+00 - val_loss: 0.0127 - val_acc: 0.0000e+00\n",
            "Epoch 46/50\n",
            " - 0s - loss: 0.0120 - acc: 0.0000e+00 - val_loss: 0.0122 - val_acc: 0.0000e+00\n",
            "Epoch 47/50\n",
            " - 0s - loss: 0.0115 - acc: 0.0000e+00 - val_loss: 0.0117 - val_acc: 0.0000e+00\n",
            "Epoch 48/50\n",
            " - 0s - loss: 0.0110 - acc: 0.0000e+00 - val_loss: 0.0112 - val_acc: 0.0000e+00\n",
            "Epoch 49/50\n",
            " - 0s - loss: 0.0105 - acc: 0.0000e+00 - val_loss: 0.0108 - val_acc: 0.0000e+00\n",
            "Epoch 50/50\n",
            " - 0s - loss: 0.0101 - acc: 0.0000e+00 - val_loss: 0.0103 - val_acc: 0.0000e+00\n"
          ],
          "name": "stdout"
        }
      ]
    },
    {
      "metadata": {
        "id": "OS39uLDgo9A6",
        "colab_type": "text"
      },
      "cell_type": "markdown",
      "source": [
        "## Plot the Result and Compare"
      ]
    },
    {
      "metadata": {
        "id": "OmSj0RHupUsH",
        "colab_type": "code",
        "colab": {
          "base_uri": "https://localhost:8080/",
          "height": 677
        },
        "outputId": "7e0155c3-b3b8-485c-e330-e4139ad90b70"
      },
      "cell_type": "code",
      "source": [
        "\n",
        "fig,(ax1,ax2) = plt.subplots(1,2,figsize=(20,10))\n",
        "\n",
        "\n",
        "ax1.plot(model_1_history.history['loss'],color='b',linewidth=2,label='Sigmoid')\n",
        "ax1.plot(model_2_history.history['loss'],color='g',linewidth=2,label='Tanh')\n",
        "ax1.plot(model_3_history.history['loss'],color='r',linewidth=2,label='ReLU')\n",
        "ax1.plot(model_4_history.history['loss'],color='c',linewidth=2,label='LeakyReLU')\n",
        "ax1.plot(model_5_history.history['loss'],color='m',linewidth=2,label='PReLU')\n",
        "ax1.plot(model_6_history.history['loss'],color='y',linewidth=2,label='Linear')\n",
        "ax1.plot(model_7_history.history['loss'],color='k',linewidth=2,label='Elu')\n",
        "ax1.plot(model_8_history.history['loss'],color='tan',linewidth=2,label='hard_Sigmoid')\n",
        "ax1.legend(frameon=True,edgecolor='black')\n",
        "ax1.set_xlabel('Epochs')\n",
        "ax1.set_ylabel('Training Loss')\n",
        "ax1.set_ylim([0,1e-1])\n",
        "ax1.grid(True,color='black',linestyle='dotted',linewidth=1,alpha=.3)\n",
        "ax1.set_title('Compare the Training Loss')\n",
        "\n",
        "\n",
        "ax2.plot(model_1_history.history['val_loss'],color='b',linewidth=2,label='Sigmoid')\n",
        "ax2.plot(model_2_history.history['val_loss'],color='g',linewidth=2,label='Tanh')\n",
        "ax2.plot(model_3_history.history['val_loss'],color='r',linewidth=2,label='ReLU')\n",
        "ax2.plot(model_4_history.history['val_loss'],color='c',linewidth=2,label='LeakyReLU')\n",
        "ax2.plot(model_5_history.history['val_loss'],color='m',linewidth=2,label='PReLU')\n",
        "ax2.plot(model_6_history.history['val_loss'],color='y',linewidth=2,label='Linear')\n",
        "ax2.plot(model_7_history.history['val_loss'],color='k',linewidth=2,label='Elu')\n",
        "ax2.plot(model_8_history.history['val_loss'],color='tan',linewidth=2,label='hard_Sigmoid')\n",
        "ax2.legend(frameon=True,edgecolor='black')\n",
        "ax2.set_xlabel('Epochs')\n",
        "ax2.set_ylabel('Test Loss')\n",
        "ax2.set_ylim([0,1e-1])\n",
        "ax2.grid(True,color='black',linestyle='dotted',linewidth=1,alpha=.3)\n",
        "ax2.set_title('Compare the Test Loss')\n",
        "\n",
        "\n",
        "fig.suptitle('Compare the different Activation Functions on a regression task',fontsize=16, fontweight='bold')\n",
        "plt.show()"
      ],
      "execution_count": 85,
      "outputs": [
        {
          "output_type": "display_data",
          "data": {
            "image/png": "[encoded data removed]",
            "text/plain": [
              "<matplotlib.figure.Figure at 0x7f8c778828d0>"
            ]
          },
          "metadata": {
            "tags": []
          }
        }
      ]
    }
  ]
}