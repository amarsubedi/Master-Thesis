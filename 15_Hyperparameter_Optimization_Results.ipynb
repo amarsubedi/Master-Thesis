{
  "nbformat": 4,
  "nbformat_minor": 0,
  "metadata": {
    "colab": {
      "name": "15_Hyperparameter_Optimization_Results.ipynb",
      "version": "0.3.2",
      "provenance": [],
      "collapsed_sections": [],
      "include_colab_link": true
    }
  },
  "cells": [
    {
      "cell_type": "markdown",
      "metadata": {
        "id": "view-in-github",
        "colab_type": "text"
      },
      "source": [
        "[View in Colaboratory](https://colab.research.google.com/github/redcican/Master-Thesis/blob/master/15_Hyperparameter_Optimization_Results.ipynb)"
      ]
    },
    {
      "metadata": {
        "id": "q6We0LWzyKZU",
        "colab_type": "text"
      },
      "cell_type": "markdown",
      "source": [
        "## Evaluate the Result of 4 different Methods to tune the Hyperparameters"
      ]
    },
    {
      "metadata": {
        "id": "RJHV179YyS8A",
        "colab_type": "code",
        "colab": {
          "base_uri": "https://localhost:8080/",
          "height": 202
        },
        "collapsed": true,
        "outputId": "e28b5e01-fdb3-45d1-d02a-8d72acf16822"
      },
      "cell_type": "code",
      "source": [
        "!wget https://raw.githubusercontent.com/redcican/Master-Thesis/master/car.csv"
      ],
      "execution_count": 1,
      "outputs": [
        {
          "output_type": "stream",
          "text": [
            "--2018-06-26 11:10:31--  https://raw.githubusercontent.com/redcican/Master-Thesis/master/car.csv\r\n",
            "Resolving raw.githubusercontent.com (raw.githubusercontent.com)... 151.101.0.133, 151.101.64.133, 151.101.128.133, ...\n",
            "Connecting to raw.githubusercontent.com (raw.githubusercontent.com)|151.101.0.133|:443... connected.\n",
            "HTTP request sent, awaiting response... 200 OK\n",
            "Length: 25973 (25K) [text/plain]\n",
            "Saving to: ‘car.csv.1’\n",
            "\n",
            "car.csv.1           100%[===================>]  25.36K  --.-KB/s    in 0.01s   \n",
            "\n",
            "2018-06-26 11:10:31 (1.71 MB/s) - ‘car.csv.1’ saved [25973/25973]\n",
            "\n"
          ],
          "name": "stdout"
        }
      ]
    },
    {
      "metadata": {
        "id": "QNPqU6i5ygP-",
        "colab_type": "code",
        "colab": {}
      },
      "cell_type": "code",
      "source": [
        "from sklearn.model_selection import train_test_split\n",
        "import numpy as np\n",
        "import pandas as pd\n",
        "import matplotlib.pyplot as plt\n",
        "%matplotlib inline\n",
        "import seaborn as sns"
      ],
      "execution_count": 0,
      "outputs": []
    },
    {
      "metadata": {
        "id": "x6bJ2fPeypre",
        "colab_type": "code",
        "colab": {
          "base_uri": "https://localhost:8080/",
          "height": 212
        },
        "outputId": "897f8e2e-a21e-4405-eb60-414a17782761"
      },
      "cell_type": "code",
      "source": [
        "df = pd.read_csv('car.csv')\n",
        "print(df.shape)\n",
        "type(df)  # pandas.core.frame.DataFrame.\n",
        "df.head()"
      ],
      "execution_count": 3,
      "outputs": [
        {
          "output_type": "stream",
          "text": [
            "(1728, 7)\n"
          ],
          "name": "stdout"
        },
        {
          "output_type": "execute_result",
          "data": {
            "text/html": [
              "<div>\n",
              "<style scoped>\n",
              "    .dataframe tbody tr th:only-of-type {\n",
              "        vertical-align: middle;\n",
              "    }\n",
              "\n",
              "    .dataframe tbody tr th {\n",
              "        vertical-align: top;\n",
              "    }\n",
              "\n",
              "    .dataframe thead th {\n",
              "        text-align: right;\n",
              "    }\n",
              "</style>\n",
              "<table border=\"1\" class=\"dataframe\">\n",
              "  <thead>\n",
              "    <tr style=\"text-align: right;\">\n",
              "      <th></th>\n",
              "      <th>Bying</th>\n",
              "      <th>Maint</th>\n",
              "      <th>Doors</th>\n",
              "      <th>Persons</th>\n",
              "      <th>Lug_Boot</th>\n",
              "      <th>Safety</th>\n",
              "      <th>Class_Val</th>\n",
              "    </tr>\n",
              "  </thead>\n",
              "  <tbody>\n",
              "    <tr>\n",
              "      <th>0</th>\n",
              "      <td>4</td>\n",
              "      <td>4</td>\n",
              "      <td>2</td>\n",
              "      <td>2</td>\n",
              "      <td>1</td>\n",
              "      <td>1</td>\n",
              "      <td>1</td>\n",
              "    </tr>\n",
              "    <tr>\n",
              "      <th>1</th>\n",
              "      <td>4</td>\n",
              "      <td>4</td>\n",
              "      <td>2</td>\n",
              "      <td>2</td>\n",
              "      <td>1</td>\n",
              "      <td>2</td>\n",
              "      <td>1</td>\n",
              "    </tr>\n",
              "    <tr>\n",
              "      <th>2</th>\n",
              "      <td>4</td>\n",
              "      <td>4</td>\n",
              "      <td>2</td>\n",
              "      <td>2</td>\n",
              "      <td>1</td>\n",
              "      <td>3</td>\n",
              "      <td>1</td>\n",
              "    </tr>\n",
              "    <tr>\n",
              "      <th>3</th>\n",
              "      <td>4</td>\n",
              "      <td>4</td>\n",
              "      <td>2</td>\n",
              "      <td>2</td>\n",
              "      <td>2</td>\n",
              "      <td>1</td>\n",
              "      <td>1</td>\n",
              "    </tr>\n",
              "    <tr>\n",
              "      <th>4</th>\n",
              "      <td>4</td>\n",
              "      <td>4</td>\n",
              "      <td>2</td>\n",
              "      <td>2</td>\n",
              "      <td>2</td>\n",
              "      <td>2</td>\n",
              "      <td>1</td>\n",
              "    </tr>\n",
              "  </tbody>\n",
              "</table>\n",
              "</div>"
            ],
            "text/plain": [
              "   Bying  Maint  Doors  Persons  Lug_Boot  Safety  Class_Val\n",
              "0      4      4      2        2         1       1          1\n",
              "1      4      4      2        2         1       2          1\n",
              "2      4      4      2        2         1       3          1\n",
              "3      4      4      2        2         2       1          1\n",
              "4      4      4      2        2         2       2          1"
            ]
          },
          "metadata": {
            "tags": []
          },
          "execution_count": 3
        }
      ]
    },
    {
      "metadata": {
        "id": "UIVplvuXywJM",
        "colab_type": "code",
        "colab": {
          "base_uri": "https://localhost:8080/",
          "height": 34
        },
        "outputId": "2c94b45d-4a8b-45d5-db2e-957f2fbee974"
      },
      "cell_type": "code",
      "source": [
        "X = df.values[:,:-1]\n",
        "y = pd.get_dummies(df['Class_Val']).values\n",
        "print(X.shape,y.shape)\n",
        "input_dim = X.shape[1]"
      ],
      "execution_count": 4,
      "outputs": [
        {
          "output_type": "stream",
          "text": [
            "((1728, 6), (1728, 4))\n"
          ],
          "name": "stdout"
        }
      ]
    },
    {
      "metadata": {
        "id": "Za_LGCaFyzeZ",
        "colab_type": "code",
        "colab": {
          "base_uri": "https://localhost:8080/",
          "height": 34
        },
        "outputId": "2401d84b-7178-409c-985d-5c0044da4fd1"
      },
      "cell_type": "code",
      "source": [
        "X_train, X_test, y_train, y_test = train_test_split(X, y, test_size=0.2,random_state=0)\n",
        "print(X_train.shape, y_train.shape, X_test.shape, y_test.shape)"
      ],
      "execution_count": 5,
      "outputs": [
        {
          "output_type": "stream",
          "text": [
            "((1382, 6), (1382, 4), (346, 6), (346, 4))\n"
          ],
          "name": "stdout"
        }
      ]
    },
    {
      "metadata": {
        "id": "JFw26HOhzhfs",
        "colab_type": "code",
        "colab": {}
      },
      "cell_type": "code",
      "source": [
        "from sklearn.metrics import classification_report,confusion_matrix\n",
        "from keras.models import Sequential\n",
        "from keras.layers import Dense, Dropout"
      ],
      "execution_count": 0,
      "outputs": []
    },
    {
      "metadata": {
        "id": "3IGXqtik2JT9",
        "colab_type": "code",
        "colab": {}
      },
      "cell_type": "code",
      "source": [
        "def plot_confusion_matrix(model, X, y):\n",
        "    y_pred = model.predict_classes(X, verbose=0)\n",
        "    plt.figure(figsize=(8, 6))\n",
        "    sns.heatmap(pd.DataFrame(confusion_matrix(y, y_pred)), annot=True, fmt='d', cmap='YlGnBu', alpha=0.8, vmin=0)"
      ],
      "execution_count": 0,
      "outputs": []
    },
    {
      "metadata": {
        "id": "-_ABkwnRyT7d",
        "colab_type": "text"
      },
      "cell_type": "markdown",
      "source": [
        "## 1.Grid Search"
      ]
    },
    {
      "metadata": {
        "id": "c5_SKTbHyV7P",
        "colab_type": "code",
        "colab": {
          "base_uri": "https://localhost:8080/",
          "height": 3394
        },
        "collapsed": true,
        "outputId": "3c6b59b4-aab2-4dc8-f2e8-793244a0bed2"
      },
      "cell_type": "code",
      "source": [
        "model_1 = Sequential()\n",
        "model_1.add(Dense(256, input_dim=input_dim, activation='relu',kernel_initializer='he_normal'))\n",
        "model_1.add(Dropout(0.2))\n",
        "model_1.add(Dense(256, activation='relu',kernel_initializer='he_normal'))\n",
        "model_1.add(Dropout(0.5))\n",
        "model_1.add(Dense(4, activation='softmax',kernel_initializer='he_normal'))\n",
        "model_1.compile(\n",
        "        loss='categorical_crossentropy',\n",
        "        optimizer='Nadam',\n",
        "        metrics=['accuracy'])\n",
        "model_1_history=model_1.fit(X_train,y_train, batch_size=16,epochs=100,validation_data=(X_test,y_test),verbose=2 )"
      ],
      "execution_count": 64,
      "outputs": [
        {
          "output_type": "stream",
          "text": [
            "Train on 1382 samples, validate on 346 samples\n",
            "Epoch 1/100\n",
            " - 1s - loss: 1.0916 - acc: 0.6664 - val_loss: 0.5512 - val_acc: 0.7832\n",
            "Epoch 2/100\n",
            " - 0s - loss: 0.6278 - acc: 0.7337 - val_loss: 0.5446 - val_acc: 0.7399\n",
            "Epoch 3/100\n",
            " - 0s - loss: 0.5116 - acc: 0.7656 - val_loss: 0.4064 - val_acc: 0.8353\n",
            "Epoch 4/100\n",
            " - 0s - loss: 0.4668 - acc: 0.8075 - val_loss: 0.3654 - val_acc: 0.8728\n",
            "Epoch 5/100\n",
            " - 0s - loss: 0.4271 - acc: 0.8075 - val_loss: 0.3083 - val_acc: 0.8757\n",
            "Epoch 6/100\n",
            " - 0s - loss: 0.4015 - acc: 0.8292 - val_loss: 0.2957 - val_acc: 0.8757\n",
            "Epoch 7/100\n",
            " - 0s - loss: 0.3901 - acc: 0.8329 - val_loss: 0.2803 - val_acc: 0.8960\n",
            "Epoch 8/100\n",
            " - 0s - loss: 0.3582 - acc: 0.8423 - val_loss: 0.3172 - val_acc: 0.8555\n",
            "Epoch 9/100\n",
            " - 0s - loss: 0.3275 - acc: 0.8553 - val_loss: 0.3529 - val_acc: 0.8237\n",
            "Epoch 10/100\n",
            " - 0s - loss: 0.3221 - acc: 0.8705 - val_loss: 0.2554 - val_acc: 0.8988\n",
            "Epoch 11/100\n",
            " - 0s - loss: 0.3138 - acc: 0.8611 - val_loss: 0.2394 - val_acc: 0.8873\n",
            "Epoch 12/100\n",
            " - 0s - loss: 0.3096 - acc: 0.8698 - val_loss: 0.2562 - val_acc: 0.8902\n",
            "Epoch 13/100\n",
            " - 0s - loss: 0.2644 - acc: 0.8849 - val_loss: 0.2234 - val_acc: 0.8873\n",
            "Epoch 14/100\n",
            " - 0s - loss: 0.2839 - acc: 0.8763 - val_loss: 0.2405 - val_acc: 0.8931\n",
            "Epoch 15/100\n",
            " - 0s - loss: 0.2494 - acc: 0.8922 - val_loss: 0.2472 - val_acc: 0.8786\n",
            "Epoch 16/100\n",
            " - 0s - loss: 0.2606 - acc: 0.8842 - val_loss: 0.2329 - val_acc: 0.8988\n",
            "Epoch 17/100\n",
            " - 0s - loss: 0.2433 - acc: 0.8915 - val_loss: 0.1980 - val_acc: 0.9133\n",
            "Epoch 18/100\n",
            " - 0s - loss: 0.2277 - acc: 0.9074 - val_loss: 0.2616 - val_acc: 0.8786\n",
            "Epoch 19/100\n",
            " - 0s - loss: 0.2448 - acc: 0.9001 - val_loss: 0.2012 - val_acc: 0.9306\n",
            "Epoch 20/100\n",
            " - 0s - loss: 0.2354 - acc: 0.8973 - val_loss: 0.2006 - val_acc: 0.9249\n",
            "Epoch 21/100\n",
            " - 0s - loss: 0.2183 - acc: 0.9016 - val_loss: 0.1991 - val_acc: 0.9191\n",
            "Epoch 22/100\n",
            " - 0s - loss: 0.2150 - acc: 0.9067 - val_loss: 0.1897 - val_acc: 0.9191\n",
            "Epoch 23/100\n",
            " - 0s - loss: 0.1987 - acc: 0.9204 - val_loss: 0.2043 - val_acc: 0.9249\n",
            "Epoch 24/100\n",
            " - 0s - loss: 0.2045 - acc: 0.9103 - val_loss: 0.1789 - val_acc: 0.9306\n",
            "Epoch 25/100\n",
            " - 0s - loss: 0.2094 - acc: 0.9059 - val_loss: 0.1765 - val_acc: 0.9277\n",
            "Epoch 26/100\n",
            " - 0s - loss: 0.2018 - acc: 0.9139 - val_loss: 0.1831 - val_acc: 0.9277\n",
            "Epoch 27/100\n",
            " - 0s - loss: 0.1854 - acc: 0.9139 - val_loss: 0.1785 - val_acc: 0.9220\n",
            "Epoch 28/100\n",
            " - 0s - loss: 0.1865 - acc: 0.9305 - val_loss: 0.1900 - val_acc: 0.9162\n",
            "Epoch 29/100\n",
            " - 0s - loss: 0.1727 - acc: 0.9219 - val_loss: 0.1828 - val_acc: 0.9162\n",
            "Epoch 30/100\n",
            " - 0s - loss: 0.1769 - acc: 0.9313 - val_loss: 0.1678 - val_acc: 0.9335\n",
            "Epoch 31/100\n",
            " - 0s - loss: 0.1765 - acc: 0.9197 - val_loss: 0.1700 - val_acc: 0.9335\n",
            "Epoch 32/100\n",
            " - 0s - loss: 0.1721 - acc: 0.9247 - val_loss: 0.1494 - val_acc: 0.9364\n",
            "Epoch 33/100\n",
            " - 0s - loss: 0.1667 - acc: 0.9211 - val_loss: 0.1831 - val_acc: 0.9162\n",
            "Epoch 34/100\n"
          ],
          "name": "stdout"
        },
        {
          "output_type": "stream",
          "text": [
            " - 0s - loss: 0.1642 - acc: 0.9262 - val_loss: 0.1566 - val_acc: 0.9277\n",
            "Epoch 35/100\n",
            " - 0s - loss: 0.1766 - acc: 0.9233 - val_loss: 0.2160 - val_acc: 0.9104\n",
            "Epoch 36/100\n",
            " - 0s - loss: 0.1808 - acc: 0.9269 - val_loss: 0.1823 - val_acc: 0.9306\n",
            "Epoch 37/100\n",
            " - 0s - loss: 0.1669 - acc: 0.9284 - val_loss: 0.1523 - val_acc: 0.9422\n",
            "Epoch 38/100\n",
            " - 0s - loss: 0.1609 - acc: 0.9334 - val_loss: 0.1500 - val_acc: 0.9364\n",
            "Epoch 39/100\n",
            " - 0s - loss: 0.1629 - acc: 0.9305 - val_loss: 0.1501 - val_acc: 0.9509\n",
            "Epoch 40/100\n",
            " - 0s - loss: 0.1485 - acc: 0.9356 - val_loss: 0.1656 - val_acc: 0.9451\n",
            "Epoch 41/100\n",
            " - 0s - loss: 0.1419 - acc: 0.9356 - val_loss: 0.1534 - val_acc: 0.9393\n",
            "Epoch 42/100\n",
            " - 0s - loss: 0.1580 - acc: 0.9276 - val_loss: 0.1410 - val_acc: 0.9451\n",
            "Epoch 43/100\n",
            " - 0s - loss: 0.1348 - acc: 0.9450 - val_loss: 0.1605 - val_acc: 0.9422\n",
            "Epoch 44/100\n",
            " - 0s - loss: 0.1448 - acc: 0.9378 - val_loss: 0.1570 - val_acc: 0.9335\n",
            "Epoch 45/100\n",
            " - 0s - loss: 0.1440 - acc: 0.9385 - val_loss: 0.2021 - val_acc: 0.9133\n",
            "Epoch 46/100\n",
            " - 0s - loss: 0.1480 - acc: 0.9334 - val_loss: 0.1372 - val_acc: 0.9566\n",
            "Epoch 47/100\n",
            " - 0s - loss: 0.1382 - acc: 0.9407 - val_loss: 0.1395 - val_acc: 0.9306\n",
            "Epoch 48/100\n",
            " - 0s - loss: 0.1328 - acc: 0.9493 - val_loss: 0.1715 - val_acc: 0.9335\n",
            "Epoch 49/100\n",
            " - 0s - loss: 0.1387 - acc: 0.9378 - val_loss: 0.1556 - val_acc: 0.9335\n",
            "Epoch 50/100\n",
            " - 0s - loss: 0.1285 - acc: 0.9363 - val_loss: 0.1468 - val_acc: 0.9480\n",
            "Epoch 51/100\n",
            " - 0s - loss: 0.1475 - acc: 0.9363 - val_loss: 0.1248 - val_acc: 0.9422\n",
            "Epoch 52/100\n",
            " - 0s - loss: 0.1083 - acc: 0.9486 - val_loss: 0.1384 - val_acc: 0.9451\n",
            "Epoch 53/100\n",
            " - 0s - loss: 0.1123 - acc: 0.9522 - val_loss: 0.1600 - val_acc: 0.9335\n",
            "Epoch 54/100\n",
            " - 0s - loss: 0.1283 - acc: 0.9443 - val_loss: 0.1355 - val_acc: 0.9451\n",
            "Epoch 55/100\n",
            " - 0s - loss: 0.1197 - acc: 0.9544 - val_loss: 0.1291 - val_acc: 0.9509\n",
            "Epoch 56/100\n",
            " - 0s - loss: 0.1235 - acc: 0.9392 - val_loss: 0.1164 - val_acc: 0.9538\n",
            "Epoch 57/100\n",
            " - 0s - loss: 0.1105 - acc: 0.9508 - val_loss: 0.1279 - val_acc: 0.9595\n",
            "Epoch 58/100\n",
            " - 0s - loss: 0.1146 - acc: 0.9559 - val_loss: 0.1540 - val_acc: 0.9306\n",
            "Epoch 59/100\n",
            " - 0s - loss: 0.1083 - acc: 0.9522 - val_loss: 0.1578 - val_acc: 0.9451\n",
            "Epoch 60/100\n",
            " - 0s - loss: 0.1151 - acc: 0.9530 - val_loss: 0.1206 - val_acc: 0.9422\n",
            "Epoch 61/100\n",
            " - 0s - loss: 0.1156 - acc: 0.9493 - val_loss: 0.1141 - val_acc: 0.9538\n",
            "Epoch 62/100\n",
            " - 0s - loss: 0.1278 - acc: 0.9436 - val_loss: 0.1420 - val_acc: 0.9480\n",
            "Epoch 63/100\n",
            " - 0s - loss: 0.1032 - acc: 0.9595 - val_loss: 0.1079 - val_acc: 0.9509\n",
            "Epoch 64/100\n",
            " - 0s - loss: 0.1170 - acc: 0.9486 - val_loss: 0.1431 - val_acc: 0.9509\n",
            "Epoch 65/100\n",
            " - 0s - loss: 0.1120 - acc: 0.9493 - val_loss: 0.1380 - val_acc: 0.9422\n",
            "Epoch 66/100\n",
            " - 0s - loss: 0.0998 - acc: 0.9580 - val_loss: 0.1186 - val_acc: 0.9480\n",
            "Epoch 67/100\n",
            " - 0s - loss: 0.0937 - acc: 0.9667 - val_loss: 0.1540 - val_acc: 0.9364\n"
          ],
          "name": "stdout"
        },
        {
          "output_type": "stream",
          "text": [
            "Epoch 68/100\n",
            " - 0s - loss: 0.1071 - acc: 0.9559 - val_loss: 0.1428 - val_acc: 0.9393\n",
            "Epoch 69/100\n",
            " - 0s - loss: 0.0995 - acc: 0.9580 - val_loss: 0.1312 - val_acc: 0.9538\n",
            "Epoch 70/100\n",
            " - 0s - loss: 0.1053 - acc: 0.9515 - val_loss: 0.1143 - val_acc: 0.9653\n",
            "Epoch 71/100\n",
            " - 0s - loss: 0.1114 - acc: 0.9522 - val_loss: 0.1250 - val_acc: 0.9538\n",
            "Epoch 72/100\n",
            " - 0s - loss: 0.0950 - acc: 0.9616 - val_loss: 0.1296 - val_acc: 0.9538\n",
            "Epoch 73/100\n",
            " - 0s - loss: 0.1045 - acc: 0.9631 - val_loss: 0.1090 - val_acc: 0.9538\n",
            "Epoch 74/100\n",
            " - 0s - loss: 0.1004 - acc: 0.9551 - val_loss: 0.1259 - val_acc: 0.9480\n",
            "Epoch 75/100\n",
            " - 0s - loss: 0.0858 - acc: 0.9711 - val_loss: 0.1354 - val_acc: 0.9509\n",
            "Epoch 76/100\n",
            " - 0s - loss: 0.1055 - acc: 0.9588 - val_loss: 0.1150 - val_acc: 0.9624\n",
            "Epoch 77/100\n",
            " - 0s - loss: 0.0933 - acc: 0.9595 - val_loss: 0.1256 - val_acc: 0.9422\n",
            "Epoch 78/100\n",
            " - 0s - loss: 0.0952 - acc: 0.9624 - val_loss: 0.1137 - val_acc: 0.9624\n",
            "Epoch 79/100\n",
            " - 0s - loss: 0.0913 - acc: 0.9595 - val_loss: 0.1114 - val_acc: 0.9538\n",
            "Epoch 80/100\n",
            " - 0s - loss: 0.0977 - acc: 0.9616 - val_loss: 0.1297 - val_acc: 0.9509\n",
            "Epoch 81/100\n",
            " - 0s - loss: 0.0850 - acc: 0.9616 - val_loss: 0.1137 - val_acc: 0.9566\n",
            "Epoch 82/100\n",
            " - 0s - loss: 0.0689 - acc: 0.9732 - val_loss: 0.0990 - val_acc: 0.9538\n",
            "Epoch 83/100\n",
            " - 0s - loss: 0.0731 - acc: 0.9732 - val_loss: 0.1174 - val_acc: 0.9566\n",
            "Epoch 84/100\n",
            " - 0s - loss: 0.0749 - acc: 0.9689 - val_loss: 0.1066 - val_acc: 0.9566\n",
            "Epoch 85/100\n",
            " - 0s - loss: 0.0896 - acc: 0.9602 - val_loss: 0.1045 - val_acc: 0.9682\n",
            "Epoch 86/100\n",
            " - 0s - loss: 0.0794 - acc: 0.9660 - val_loss: 0.1038 - val_acc: 0.9595\n",
            "Epoch 87/100\n",
            " - 0s - loss: 0.0930 - acc: 0.9624 - val_loss: 0.0913 - val_acc: 0.9740\n",
            "Epoch 88/100\n",
            " - 0s - loss: 0.0823 - acc: 0.9718 - val_loss: 0.1143 - val_acc: 0.9509\n",
            "Epoch 89/100\n",
            " - 0s - loss: 0.1029 - acc: 0.9624 - val_loss: 0.0920 - val_acc: 0.9624\n",
            "Epoch 90/100\n",
            " - 0s - loss: 0.0740 - acc: 0.9711 - val_loss: 0.1189 - val_acc: 0.9595\n",
            "Epoch 91/100\n",
            " - 0s - loss: 0.0827 - acc: 0.9660 - val_loss: 0.1155 - val_acc: 0.9595\n",
            "Epoch 92/100\n",
            " - 0s - loss: 0.0680 - acc: 0.9740 - val_loss: 0.1227 - val_acc: 0.9624\n",
            "Epoch 93/100\n",
            " - 0s - loss: 0.0926 - acc: 0.9580 - val_loss: 0.0847 - val_acc: 0.9769\n",
            "Epoch 94/100\n",
            " - 0s - loss: 0.0629 - acc: 0.9740 - val_loss: 0.0938 - val_acc: 0.9624\n",
            "Epoch 95/100\n",
            " - 0s - loss: 0.0906 - acc: 0.9631 - val_loss: 0.1193 - val_acc: 0.9566\n",
            "Epoch 96/100\n",
            " - 0s - loss: 0.0816 - acc: 0.9689 - val_loss: 0.0894 - val_acc: 0.9682\n",
            "Epoch 97/100\n",
            " - 0s - loss: 0.0660 - acc: 0.9703 - val_loss: 0.1067 - val_acc: 0.9653\n",
            "Epoch 98/100\n",
            " - 0s - loss: 0.0792 - acc: 0.9711 - val_loss: 0.0928 - val_acc: 0.9595\n",
            "Epoch 99/100\n",
            " - 0s - loss: 0.0694 - acc: 0.9682 - val_loss: 0.0934 - val_acc: 0.9653\n",
            "Epoch 100/100\n",
            " - 0s - loss: 0.0587 - acc: 0.9747 - val_loss: 0.0889 - val_acc: 0.9711\n"
          ],
          "name": "stdout"
        }
      ]
    },
    {
      "metadata": {
        "id": "Lqz75diZ1HY_",
        "colab_type": "code",
        "colab": {
          "base_uri": "https://localhost:8080/",
          "height": 84
        },
        "outputId": "3a01a1d7-8d4b-49c7-d948-dc1a7c7a246c"
      },
      "cell_type": "code",
      "source": [
        "model_1_train_score = model_1.evaluate(X_train,y_train,verbose=0)\n",
        "model_1_score = model_1.evaluate(X_test,y_test,verbose=0)\n",
        "print(\"Train loss: \",model_1_train_score[0])\n",
        "print(\"Test loss: \",model_1_score[0])\n",
        "print(\"Train accuracy: %.4f%%\"% (model_1_train_score[1]*100))\n",
        "print(\"Test accuracy: %.4f%%\"%(model_1_score[1]*100))"
      ],
      "execution_count": 65,
      "outputs": [
        {
          "output_type": "stream",
          "text": [
            "('Train loss: ', 0.030188280978064353)\n",
            "('Test loss: ', 0.08891730044424706)\n",
            "Train accuracy: 98.9870%\n",
            "Test accuracy: 97.1098%\n"
          ],
          "name": "stdout"
        }
      ]
    },
    {
      "metadata": {
        "id": "QitWU8xj1l24",
        "colab_type": "code",
        "colab": {
          "base_uri": "https://localhost:8080/",
          "height": 525
        },
        "outputId": "8c5f82b4-7669-4d2d-a1d6-4bae5eaf4ff0"
      },
      "cell_type": "code",
      "source": [
        "y_pred_class = model_1.predict_classes(X_test,verbose=0)\n",
        "y_test_class = np.argmax(y_test,axis=1)\n",
        "print(classification_report(y_test_class,y_pred_class))\n",
        "plot_confusion_matrix(model_1, X_test, y_test_class)"
      ],
      "execution_count": 67,
      "outputs": [
        {
          "output_type": "stream",
          "text": [
            "             precision    recall  f1-score   support\n",
            "\n",
            "          0       0.98      0.99      0.99       240\n",
            "          1       0.96      0.92      0.94        79\n",
            "          2       0.89      1.00      0.94        17\n",
            "          3       1.00      0.80      0.89        10\n",
            "\n",
            "avg / total       0.97      0.97      0.97       346\n",
            "\n"
          ],
          "name": "stdout"
        },
        {
          "output_type": "display_data",
          "data": {
            "image/png": "[encoded data removed]",
            "text/plain": [
              "<matplotlib.figure.Figure at 0x7f506090a550>"
            ]
          },
          "metadata": {
            "tags": []
          }
        }
      ]
    },
    {
      "metadata": {
        "id": "g0Uq4WO33XTq",
        "colab_type": "text"
      },
      "cell_type": "markdown",
      "source": [
        "## 2. Random Search"
      ]
    },
    {
      "metadata": {
        "id": "clfAGAww2Ms7",
        "colab_type": "code",
        "colab": {
          "base_uri": "https://localhost:8080/",
          "height": 3394
        },
        "collapsed": true,
        "outputId": "142c1b99-35eb-400b-9cfd-2198f42d0aac"
      },
      "cell_type": "code",
      "source": [
        "model_2 = Sequential()\n",
        "model_2.add(Dense(64, input_dim=input_dim, activation='tanh',kernel_initializer='he_uniform'))\n",
        "model_2.add(Dropout(0.0))\n",
        "model_2.add(Dense(8, activation='tanh',kernel_initializer='he_uniform'))\n",
        "model_2.add(Dropout(0.0))\n",
        "model_2.add(Dense(4, activation='softmax',kernel_initializer='he_uniform'))\n",
        "model_2.compile(\n",
        "        loss='categorical_crossentropy',\n",
        "        optimizer='Adadelta',\n",
        "        metrics=['accuracy'])\n",
        "model_2_history=model_2.fit(X_train,y_train, batch_size=128,epochs=100,validation_data=(X_test,y_test),verbose=2 )"
      ],
      "execution_count": 43,
      "outputs": [
        {
          "output_type": "stream",
          "text": [
            "Train on 1382 samples, validate on 346 samples\n",
            "Epoch 1/100\n",
            " - 1s - loss: 0.9981 - acc: 0.6946 - val_loss: 0.9480 - val_acc: 0.6936\n",
            "Epoch 2/100\n",
            " - 0s - loss: 0.9106 - acc: 0.7019 - val_loss: 0.8896 - val_acc: 0.6936\n",
            "Epoch 3/100\n",
            " - 0s - loss: 0.8641 - acc: 0.7019 - val_loss: 0.8531 - val_acc: 0.6936\n",
            "Epoch 4/100\n",
            " - 0s - loss: 0.8338 - acc: 0.7019 - val_loss: 0.8266 - val_acc: 0.6936\n",
            "Epoch 5/100\n",
            " - 0s - loss: 0.8085 - acc: 0.7019 - val_loss: 0.7992 - val_acc: 0.6936\n",
            "Epoch 6/100\n",
            " - 0s - loss: 0.7831 - acc: 0.7019 - val_loss: 0.7717 - val_acc: 0.6936\n",
            "Epoch 7/100\n",
            " - 0s - loss: 0.7581 - acc: 0.7026 - val_loss: 0.7431 - val_acc: 0.6965\n",
            "Epoch 8/100\n",
            " - 0s - loss: 0.7316 - acc: 0.7077 - val_loss: 0.7190 - val_acc: 0.6965\n",
            "Epoch 9/100\n",
            " - 0s - loss: 0.7052 - acc: 0.7135 - val_loss: 0.6917 - val_acc: 0.7139\n",
            "Epoch 10/100\n",
            " - 0s - loss: 0.6839 - acc: 0.7207 - val_loss: 0.6693 - val_acc: 0.7399\n",
            "Epoch 11/100\n",
            " - 0s - loss: 0.6625 - acc: 0.7308 - val_loss: 0.6510 - val_acc: 0.7659\n",
            "Epoch 12/100\n",
            " - 0s - loss: 0.6422 - acc: 0.7424 - val_loss: 0.6316 - val_acc: 0.7254\n",
            "Epoch 13/100\n",
            " - 0s - loss: 0.6258 - acc: 0.7446 - val_loss: 0.6076 - val_acc: 0.7630\n",
            "Epoch 14/100\n",
            " - 0s - loss: 0.6064 - acc: 0.7605 - val_loss: 0.5928 - val_acc: 0.7428\n",
            "Epoch 15/100\n",
            " - 0s - loss: 0.5912 - acc: 0.7598 - val_loss: 0.5751 - val_acc: 0.7919\n",
            "Epoch 16/100\n",
            " - 0s - loss: 0.5770 - acc: 0.7721 - val_loss: 0.5564 - val_acc: 0.7890\n",
            "Epoch 17/100\n",
            " - 0s - loss: 0.5625 - acc: 0.7822 - val_loss: 0.5467 - val_acc: 0.7717\n",
            "Epoch 18/100\n",
            " - 0s - loss: 0.5527 - acc: 0.7808 - val_loss: 0.5257 - val_acc: 0.7919\n",
            "Epoch 19/100\n",
            " - 0s - loss: 0.5258 - acc: 0.7808 - val_loss: 0.5022 - val_acc: 0.8035\n",
            "Epoch 20/100\n",
            " - 0s - loss: 0.5018 - acc: 0.7952 - val_loss: 0.4941 - val_acc: 0.7977\n",
            "Epoch 21/100\n",
            " - 0s - loss: 0.4862 - acc: 0.7952 - val_loss: 0.4770 - val_acc: 0.8179\n",
            "Epoch 22/100\n",
            " - 0s - loss: 0.4706 - acc: 0.8148 - val_loss: 0.4502 - val_acc: 0.8150\n",
            "Epoch 23/100\n",
            " - 0s - loss: 0.4568 - acc: 0.8133 - val_loss: 0.4735 - val_acc: 0.7775\n",
            "Epoch 24/100\n",
            " - 0s - loss: 0.4476 - acc: 0.8104 - val_loss: 0.4319 - val_acc: 0.8208\n",
            "Epoch 25/100\n",
            " - 0s - loss: 0.4310 - acc: 0.8249 - val_loss: 0.4226 - val_acc: 0.8295\n",
            "Epoch 26/100\n",
            " - 0s - loss: 0.4174 - acc: 0.8300 - val_loss: 0.4195 - val_acc: 0.8150\n",
            "Epoch 27/100\n",
            " - 0s - loss: 0.4194 - acc: 0.8242 - val_loss: 0.3993 - val_acc: 0.8382\n",
            "Epoch 28/100\n",
            " - 0s - loss: 0.3972 - acc: 0.8430 - val_loss: 0.4038 - val_acc: 0.8266\n",
            "Epoch 29/100\n",
            " - 0s - loss: 0.3981 - acc: 0.8372 - val_loss: 0.3843 - val_acc: 0.8497\n",
            "Epoch 30/100\n",
            " - 0s - loss: 0.3916 - acc: 0.8401 - val_loss: 0.3807 - val_acc: 0.8439\n",
            "Epoch 31/100\n",
            " - 0s - loss: 0.3870 - acc: 0.8415 - val_loss: 0.3677 - val_acc: 0.8555\n",
            "Epoch 32/100\n",
            " - 0s - loss: 0.3740 - acc: 0.8502 - val_loss: 0.3730 - val_acc: 0.8584\n",
            "Epoch 33/100\n",
            " - 0s - loss: 0.3608 - acc: 0.8538 - val_loss: 0.3611 - val_acc: 0.8584\n",
            "Epoch 34/100\n",
            " - 0s - loss: 0.3560 - acc: 0.8647 - val_loss: 0.3557 - val_acc: 0.8584\n",
            "Epoch 35/100\n",
            " - 0s - loss: 0.3446 - acc: 0.8712 - val_loss: 0.3933 - val_acc: 0.8121\n",
            "Epoch 36/100\n"
          ],
          "name": "stdout"
        },
        {
          "output_type": "stream",
          "text": [
            " - 0s - loss: 0.3465 - acc: 0.8647 - val_loss: 0.3448 - val_acc: 0.8584\n",
            "Epoch 37/100\n",
            " - 0s - loss: 0.3308 - acc: 0.8705 - val_loss: 0.3419 - val_acc: 0.8671\n",
            "Epoch 38/100\n",
            " - 0s - loss: 0.3247 - acc: 0.8792 - val_loss: 0.3236 - val_acc: 0.8786\n",
            "Epoch 39/100\n",
            " - 0s - loss: 0.3148 - acc: 0.8777 - val_loss: 0.3368 - val_acc: 0.8584\n",
            "Epoch 40/100\n",
            " - 0s - loss: 0.3060 - acc: 0.8828 - val_loss: 0.3061 - val_acc: 0.8931\n",
            "Epoch 41/100\n",
            " - 0s - loss: 0.3053 - acc: 0.8857 - val_loss: 0.3021 - val_acc: 0.8931\n",
            "Epoch 42/100\n",
            " - 0s - loss: 0.2995 - acc: 0.8842 - val_loss: 0.3000 - val_acc: 0.8873\n",
            "Epoch 43/100\n",
            " - 0s - loss: 0.3021 - acc: 0.8806 - val_loss: 0.3103 - val_acc: 0.8931\n",
            "Epoch 44/100\n",
            " - 0s - loss: 0.2952 - acc: 0.8864 - val_loss: 0.2917 - val_acc: 0.9017\n",
            "Epoch 45/100\n",
            " - 0s - loss: 0.2829 - acc: 0.8951 - val_loss: 0.3046 - val_acc: 0.8931\n",
            "Epoch 46/100\n",
            " - 0s - loss: 0.2824 - acc: 0.8958 - val_loss: 0.2889 - val_acc: 0.8960\n",
            "Epoch 47/100\n",
            " - 0s - loss: 0.2797 - acc: 0.8987 - val_loss: 0.2808 - val_acc: 0.9017\n",
            "Epoch 48/100\n",
            " - 0s - loss: 0.2784 - acc: 0.8944 - val_loss: 0.3037 - val_acc: 0.8902\n",
            "Epoch 49/100\n",
            " - 0s - loss: 0.2742 - acc: 0.8980 - val_loss: 0.2815 - val_acc: 0.8988\n",
            "Epoch 50/100\n",
            " - 0s - loss: 0.2678 - acc: 0.9023 - val_loss: 0.2702 - val_acc: 0.9017\n",
            "Epoch 51/100\n",
            " - 0s - loss: 0.2572 - acc: 0.9059 - val_loss: 0.2683 - val_acc: 0.8931\n",
            "Epoch 52/100\n",
            " - 0s - loss: 0.2590 - acc: 0.9016 - val_loss: 0.2685 - val_acc: 0.8873\n",
            "Epoch 53/100\n",
            " - 0s - loss: 0.2610 - acc: 0.8973 - val_loss: 0.2688 - val_acc: 0.8988\n",
            "Epoch 54/100\n",
            " - 0s - loss: 0.2546 - acc: 0.9052 - val_loss: 0.2627 - val_acc: 0.8844\n",
            "Epoch 55/100\n",
            " - 0s - loss: 0.2527 - acc: 0.9009 - val_loss: 0.2594 - val_acc: 0.9191\n",
            "Epoch 56/100\n",
            " - 0s - loss: 0.2407 - acc: 0.9074 - val_loss: 0.2575 - val_acc: 0.8902\n",
            "Epoch 57/100\n",
            " - 0s - loss: 0.2415 - acc: 0.9124 - val_loss: 0.2740 - val_acc: 0.8902\n",
            "Epoch 58/100\n",
            " - 0s - loss: 0.2498 - acc: 0.9045 - val_loss: 0.2647 - val_acc: 0.8960\n",
            "Epoch 59/100\n",
            " - 0s - loss: 0.2391 - acc: 0.9038 - val_loss: 0.2689 - val_acc: 0.9104\n",
            "Epoch 60/100\n",
            " - 0s - loss: 0.2339 - acc: 0.9132 - val_loss: 0.2465 - val_acc: 0.9017\n",
            "Epoch 61/100\n",
            " - 0s - loss: 0.2295 - acc: 0.9146 - val_loss: 0.2427 - val_acc: 0.9075\n",
            "Epoch 62/100\n",
            " - 0s - loss: 0.2284 - acc: 0.9168 - val_loss: 0.2459 - val_acc: 0.9191\n",
            "Epoch 63/100\n",
            " - 0s - loss: 0.2303 - acc: 0.9096 - val_loss: 0.2491 - val_acc: 0.8988\n",
            "Epoch 64/100\n",
            " - 0s - loss: 0.2302 - acc: 0.9117 - val_loss: 0.2619 - val_acc: 0.9017\n",
            "Epoch 65/100\n",
            " - 0s - loss: 0.2295 - acc: 0.9088 - val_loss: 0.2589 - val_acc: 0.9046\n",
            "Epoch 66/100\n",
            " - 0s - loss: 0.2205 - acc: 0.9219 - val_loss: 0.2390 - val_acc: 0.9191\n",
            "Epoch 67/100\n",
            " - 0s - loss: 0.2371 - acc: 0.9103 - val_loss: 0.2358 - val_acc: 0.9220\n",
            "Epoch 68/100\n",
            " - 0s - loss: 0.2173 - acc: 0.9175 - val_loss: 0.2320 - val_acc: 0.9191\n",
            "Epoch 69/100\n",
            " - 0s - loss: 0.2130 - acc: 0.9190 - val_loss: 0.2433 - val_acc: 0.9017\n"
          ],
          "name": "stdout"
        },
        {
          "output_type": "stream",
          "text": [
            "Epoch 70/100\n",
            " - 0s - loss: 0.2105 - acc: 0.9226 - val_loss: 0.2274 - val_acc: 0.9191\n",
            "Epoch 71/100\n",
            " - 0s - loss: 0.2154 - acc: 0.9204 - val_loss: 0.2259 - val_acc: 0.9162\n",
            "Epoch 72/100\n",
            " - 0s - loss: 0.2060 - acc: 0.9204 - val_loss: 0.2269 - val_acc: 0.9133\n",
            "Epoch 73/100\n",
            " - 0s - loss: 0.2045 - acc: 0.9305 - val_loss: 0.2289 - val_acc: 0.9104\n",
            "Epoch 74/100\n",
            " - 0s - loss: 0.2088 - acc: 0.9226 - val_loss: 0.2239 - val_acc: 0.9162\n",
            "Epoch 75/100\n",
            " - 0s - loss: 0.2041 - acc: 0.9219 - val_loss: 0.2335 - val_acc: 0.9017\n",
            "Epoch 76/100\n",
            " - 0s - loss: 0.2018 - acc: 0.9226 - val_loss: 0.2182 - val_acc: 0.9191\n",
            "Epoch 77/100\n",
            " - 0s - loss: 0.2077 - acc: 0.9211 - val_loss: 0.2241 - val_acc: 0.9162\n",
            "Epoch 78/100\n",
            " - 0s - loss: 0.2049 - acc: 0.9240 - val_loss: 0.2209 - val_acc: 0.9162\n",
            "Epoch 79/100\n",
            " - 0s - loss: 0.2024 - acc: 0.9204 - val_loss: 0.2288 - val_acc: 0.9162\n",
            "Epoch 80/100\n",
            " - 0s - loss: 0.1947 - acc: 0.9291 - val_loss: 0.2174 - val_acc: 0.9162\n",
            "Epoch 81/100\n",
            " - 0s - loss: 0.1940 - acc: 0.9298 - val_loss: 0.2338 - val_acc: 0.9046\n",
            "Epoch 82/100\n",
            " - 0s - loss: 0.1996 - acc: 0.9240 - val_loss: 0.2134 - val_acc: 0.9191\n",
            "Epoch 83/100\n",
            " - 0s - loss: 0.1948 - acc: 0.9240 - val_loss: 0.2288 - val_acc: 0.9017\n",
            "Epoch 84/100\n",
            " - 0s - loss: 0.1977 - acc: 0.9291 - val_loss: 0.2143 - val_acc: 0.9191\n",
            "Epoch 85/100\n",
            " - 0s - loss: 0.1927 - acc: 0.9284 - val_loss: 0.2123 - val_acc: 0.9220\n",
            "Epoch 86/100\n",
            " - 0s - loss: 0.1919 - acc: 0.9276 - val_loss: 0.2162 - val_acc: 0.9075\n",
            "Epoch 87/100\n",
            " - 0s - loss: 0.1916 - acc: 0.9226 - val_loss: 0.2146 - val_acc: 0.9133\n",
            "Epoch 88/100\n",
            " - 0s - loss: 0.1861 - acc: 0.9334 - val_loss: 0.2114 - val_acc: 0.9220\n",
            "Epoch 89/100\n",
            " - 0s - loss: 0.1848 - acc: 0.9334 - val_loss: 0.2072 - val_acc: 0.9249\n",
            "Epoch 90/100\n",
            " - 0s - loss: 0.1864 - acc: 0.9276 - val_loss: 0.2260 - val_acc: 0.9104\n",
            "Epoch 91/100\n",
            " - 0s - loss: 0.1889 - acc: 0.9327 - val_loss: 0.2130 - val_acc: 0.9191\n",
            "Epoch 92/100\n",
            " - 0s - loss: 0.1867 - acc: 0.9320 - val_loss: 0.2121 - val_acc: 0.9075\n",
            "Epoch 93/100\n",
            " - 0s - loss: 0.1781 - acc: 0.9385 - val_loss: 0.2093 - val_acc: 0.9162\n",
            "Epoch 94/100\n",
            " - 0s - loss: 0.1813 - acc: 0.9320 - val_loss: 0.2062 - val_acc: 0.9249\n",
            "Epoch 95/100\n",
            " - 0s - loss: 0.1766 - acc: 0.9370 - val_loss: 0.2018 - val_acc: 0.9249\n",
            "Epoch 96/100\n",
            " - 0s - loss: 0.1866 - acc: 0.9349 - val_loss: 0.2027 - val_acc: 0.9220\n",
            "Epoch 97/100\n",
            " - 0s - loss: 0.1765 - acc: 0.9349 - val_loss: 0.2003 - val_acc: 0.9249\n",
            "Epoch 98/100\n",
            " - 0s - loss: 0.1787 - acc: 0.9363 - val_loss: 0.2010 - val_acc: 0.9249\n",
            "Epoch 99/100\n",
            " - 0s - loss: 0.1771 - acc: 0.9334 - val_loss: 0.1977 - val_acc: 0.9220\n",
            "Epoch 100/100\n",
            " - 0s - loss: 0.1733 - acc: 0.9363 - val_loss: 0.2112 - val_acc: 0.9162\n"
          ],
          "name": "stdout"
        }
      ]
    },
    {
      "metadata": {
        "id": "T6xOJK2h4Rbt",
        "colab_type": "code",
        "colab": {
          "base_uri": "https://localhost:8080/",
          "height": 84
        },
        "outputId": "86eb20fb-ec4b-47a6-8ab7-4abbe05fb757"
      },
      "cell_type": "code",
      "source": [
        "model_2_train_score = model_2.evaluate(X_train,y_train,verbose=0)\n",
        "model_2_score = model_2.evaluate(X_test,y_test,verbose=0)\n",
        "print(\"Train loss: \",model_2_train_score[0])\n",
        "print(\"Test loss: \",model_2_score[0])\n",
        "print(\"Train accuracy: %.4f%%\"% (model_2_train_score[1]*100))\n",
        "print(\"Test accuracy: %.4f%%\"%(model_2_score[1]*100))"
      ],
      "execution_count": 44,
      "outputs": [
        {
          "output_type": "stream",
          "text": [
            "('Train loss: ', 0.18144990611880715)\n",
            "('Test loss: ', 0.21116091956982033)\n",
            "Train accuracy: 92.4023%\n",
            "Test accuracy: 91.6185%\n"
          ],
          "name": "stdout"
        }
      ]
    },
    {
      "metadata": {
        "id": "hcHHhh1G4bFb",
        "colab_type": "code",
        "colab": {
          "base_uri": "https://localhost:8080/",
          "height": 525
        },
        "outputId": "30474839-405f-4269-a2f0-aec54905463b"
      },
      "cell_type": "code",
      "source": [
        "y_pred_class = model_2.predict_classes(X_test,verbose=0)\n",
        "y_test_class = np.argmax(y_test,axis=1)\n",
        "print(classification_report(y_test_class,y_pred_class))\n",
        "plot_confusion_matrix(model_2, X_test, y_test_class)"
      ],
      "execution_count": 53,
      "outputs": [
        {
          "output_type": "stream",
          "text": [
            "             precision    recall  f1-score   support\n",
            "\n",
            "          0       0.98      0.97      0.97       240\n",
            "          1       0.89      0.90      0.89        79\n",
            "          2       0.76      0.76      0.76        17\n",
            "          3       0.82      0.90      0.86        10\n",
            "\n",
            "avg / total       0.94      0.94      0.94       346\n",
            "\n"
          ],
          "name": "stdout"
        },
        {
          "output_type": "display_data",
          "data": {
            "image/png": "[encoded data removed]",
            "text/plain": [
              "<matplotlib.figure.Figure at 0x7f5061f6cdd0>"
            ]
          },
          "metadata": {
            "tags": []
          }
        }
      ]
    },
    {
      "metadata": {
        "id": "AqiXdFuf4wxw",
        "colab_type": "text"
      },
      "cell_type": "markdown",
      "source": [
        "## 3. Gaussian Process"
      ]
    },
    {
      "metadata": {
        "id": "t2fUJPuF4t_D",
        "colab_type": "code",
        "colab": {
          "base_uri": "https://localhost:8080/",
          "height": 3394
        },
        "collapsed": true,
        "outputId": "ebda0818-33b4-4254-d824-db86daf77e9d"
      },
      "cell_type": "code",
      "source": [
        "model_3 = Sequential()\n",
        "model_3.add(Dense(256, input_dim=input_dim, activation='tanh',kernel_initializer='glorot_uniform'))\n",
        "model_3.add(Dropout(0.0))\n",
        "model_3.add(Dense(256, activation='tanh',kernel_initializer='glorot_uniform'))\n",
        "model_3.add(Dropout(0.0))\n",
        "model_3.add(Dense(4, activation='softmax',kernel_initializer='glorot_uniform'))\n",
        "model_3.compile(\n",
        "        loss='categorical_crossentropy',\n",
        "        optimizer='Nadam',\n",
        "        metrics=['accuracy'])\n",
        "model_3_history=model_3.fit(X_train,y_train, batch_size=16,epochs=100,validation_data=(X_test,y_test),verbose=2 )"
      ],
      "execution_count": 48,
      "outputs": [
        {
          "output_type": "stream",
          "text": [
            "Train on 1382 samples, validate on 346 samples\n",
            "Epoch 1/100\n",
            " - 1s - loss: 0.6958 - acc: 0.7004 - val_loss: 0.7296 - val_acc: 0.7023\n",
            "Epoch 2/100\n",
            " - 0s - loss: 0.5303 - acc: 0.7771 - val_loss: 1.1988 - val_acc: 0.5173\n",
            "Epoch 3/100\n",
            " - 0s - loss: 0.4546 - acc: 0.8068 - val_loss: 0.3706 - val_acc: 0.8237\n",
            "Epoch 4/100\n",
            " - 0s - loss: 0.3649 - acc: 0.8357 - val_loss: 0.2820 - val_acc: 0.8931\n",
            "Epoch 5/100\n",
            " - 0s - loss: 0.3091 - acc: 0.8842 - val_loss: 0.2624 - val_acc: 0.8931\n",
            "Epoch 6/100\n",
            " - 0s - loss: 0.2793 - acc: 0.8864 - val_loss: 0.2462 - val_acc: 0.9017\n",
            "Epoch 7/100\n",
            " - 0s - loss: 0.2636 - acc: 0.8900 - val_loss: 0.3697 - val_acc: 0.8584\n",
            "Epoch 8/100\n",
            " - 0s - loss: 0.2464 - acc: 0.9030 - val_loss: 0.3241 - val_acc: 0.8728\n",
            "Epoch 9/100\n",
            " - 0s - loss: 0.2319 - acc: 0.9074 - val_loss: 0.2060 - val_acc: 0.9220\n",
            "Epoch 10/100\n",
            " - 0s - loss: 0.2101 - acc: 0.9204 - val_loss: 0.3590 - val_acc: 0.8266\n",
            "Epoch 11/100\n",
            " - 0s - loss: 0.1997 - acc: 0.9247 - val_loss: 0.1775 - val_acc: 0.9306\n",
            "Epoch 12/100\n",
            " - 0s - loss: 0.1922 - acc: 0.9168 - val_loss: 0.3414 - val_acc: 0.8353\n",
            "Epoch 13/100\n",
            " - 0s - loss: 0.1763 - acc: 0.9269 - val_loss: 0.1767 - val_acc: 0.9335\n",
            "Epoch 14/100\n",
            " - 0s - loss: 0.1720 - acc: 0.9334 - val_loss: 0.1657 - val_acc: 0.9335\n",
            "Epoch 15/100\n",
            " - 0s - loss: 0.1473 - acc: 0.9392 - val_loss: 0.1703 - val_acc: 0.9249\n",
            "Epoch 16/100\n",
            " - 0s - loss: 0.1559 - acc: 0.9342 - val_loss: 0.1737 - val_acc: 0.9133\n",
            "Epoch 17/100\n",
            " - 0s - loss: 0.1344 - acc: 0.9486 - val_loss: 0.1422 - val_acc: 0.9480\n",
            "Epoch 18/100\n",
            " - 0s - loss: 0.1303 - acc: 0.9493 - val_loss: 0.2376 - val_acc: 0.8815\n",
            "Epoch 19/100\n",
            " - 0s - loss: 0.1184 - acc: 0.9501 - val_loss: 0.1182 - val_acc: 0.9509\n",
            "Epoch 20/100\n",
            " - 0s - loss: 0.1184 - acc: 0.9515 - val_loss: 0.1224 - val_acc: 0.9509\n",
            "Epoch 21/100\n",
            " - 0s - loss: 0.1103 - acc: 0.9544 - val_loss: 0.1905 - val_acc: 0.9191\n",
            "Epoch 22/100\n",
            " - 0s - loss: 0.1103 - acc: 0.9609 - val_loss: 0.1020 - val_acc: 0.9711\n",
            "Epoch 23/100\n",
            " - 0s - loss: 0.0922 - acc: 0.9653 - val_loss: 0.1301 - val_acc: 0.9480\n",
            "Epoch 24/100\n",
            " - 0s - loss: 0.0849 - acc: 0.9703 - val_loss: 0.2178 - val_acc: 0.9133\n",
            "Epoch 25/100\n",
            " - 0s - loss: 0.0806 - acc: 0.9696 - val_loss: 0.1061 - val_acc: 0.9682\n",
            "Epoch 26/100\n",
            " - 0s - loss: 0.0721 - acc: 0.9776 - val_loss: 0.0951 - val_acc: 0.9682\n",
            "Epoch 27/100\n",
            " - 0s - loss: 0.0668 - acc: 0.9740 - val_loss: 0.1140 - val_acc: 0.9451\n",
            "Epoch 28/100\n",
            " - 0s - loss: 0.0651 - acc: 0.9805 - val_loss: 0.1061 - val_acc: 0.9538\n",
            "Epoch 29/100\n",
            " - 0s - loss: 0.0612 - acc: 0.9790 - val_loss: 0.0933 - val_acc: 0.9682\n",
            "Epoch 30/100\n",
            " - 0s - loss: 0.0535 - acc: 0.9826 - val_loss: 0.0729 - val_acc: 0.9827\n",
            "Epoch 31/100\n",
            " - 0s - loss: 0.0425 - acc: 0.9899 - val_loss: 0.0700 - val_acc: 0.9769\n",
            "Epoch 32/100\n",
            " - 0s - loss: 0.0514 - acc: 0.9855 - val_loss: 0.0980 - val_acc: 0.9595\n",
            "Epoch 33/100\n",
            " - 0s - loss: 0.0606 - acc: 0.9776 - val_loss: 0.0738 - val_acc: 0.9740\n",
            "Epoch 34/100\n"
          ],
          "name": "stdout"
        },
        {
          "output_type": "stream",
          "text": [
            " - 0s - loss: 0.0362 - acc: 0.9884 - val_loss: 0.0708 - val_acc: 0.9711\n",
            "Epoch 35/100\n",
            " - 0s - loss: 0.0306 - acc: 0.9928 - val_loss: 0.0580 - val_acc: 0.9884\n",
            "Epoch 36/100\n",
            " - 0s - loss: 0.0313 - acc: 0.9920 - val_loss: 0.1094 - val_acc: 0.9653\n",
            "Epoch 37/100\n",
            " - 0s - loss: 0.0324 - acc: 0.9906 - val_loss: 0.1477 - val_acc: 0.9335\n",
            "Epoch 38/100\n",
            " - 0s - loss: 0.0318 - acc: 0.9920 - val_loss: 0.0738 - val_acc: 0.9711\n",
            "Epoch 39/100\n",
            " - 0s - loss: 0.0213 - acc: 0.9964 - val_loss: 0.0580 - val_acc: 0.9855\n",
            "Epoch 40/100\n",
            " - 0s - loss: 0.0345 - acc: 0.9877 - val_loss: 0.0804 - val_acc: 0.9769\n",
            "Epoch 41/100\n",
            " - 0s - loss: 0.0256 - acc: 0.9971 - val_loss: 0.0510 - val_acc: 0.9798\n",
            "Epoch 42/100\n",
            " - 0s - loss: 0.0320 - acc: 0.9928 - val_loss: 0.0573 - val_acc: 0.9798\n",
            "Epoch 43/100\n",
            " - 0s - loss: 0.0259 - acc: 0.9935 - val_loss: 0.0539 - val_acc: 0.9884\n",
            "Epoch 44/100\n",
            " - 0s - loss: 0.0193 - acc: 0.9957 - val_loss: 0.0879 - val_acc: 0.9624\n",
            "Epoch 45/100\n",
            " - 0s - loss: 0.0251 - acc: 0.9920 - val_loss: 0.0614 - val_acc: 0.9855\n",
            "Epoch 46/100\n",
            " - 0s - loss: 0.0222 - acc: 0.9906 - val_loss: 0.0408 - val_acc: 0.9884\n",
            "Epoch 47/100\n",
            " - 0s - loss: 0.0124 - acc: 0.9986 - val_loss: 0.0311 - val_acc: 0.9884\n",
            "Epoch 48/100\n",
            " - 0s - loss: 0.0113 - acc: 0.9986 - val_loss: 0.0618 - val_acc: 0.9711\n",
            "Epoch 49/100\n",
            " - 0s - loss: 0.0213 - acc: 0.9928 - val_loss: 0.0382 - val_acc: 0.9855\n",
            "Epoch 50/100\n",
            " - 0s - loss: 0.0212 - acc: 0.9920 - val_loss: 0.0573 - val_acc: 0.9827\n",
            "Epoch 51/100\n",
            " - 0s - loss: 0.0195 - acc: 0.9935 - val_loss: 0.0505 - val_acc: 0.9798\n",
            "Epoch 52/100\n",
            " - 0s - loss: 0.0089 - acc: 0.9993 - val_loss: 0.0234 - val_acc: 0.9971\n",
            "Epoch 53/100\n",
            " - 0s - loss: 0.0087 - acc: 0.9993 - val_loss: 0.0363 - val_acc: 0.9913\n",
            "Epoch 54/100\n",
            " - 0s - loss: 0.0058 - acc: 1.0000 - val_loss: 0.0201 - val_acc: 0.9942\n",
            "Epoch 55/100\n",
            " - 0s - loss: 0.0047 - acc: 1.0000 - val_loss: 0.0239 - val_acc: 0.9942\n",
            "Epoch 56/100\n",
            " - 0s - loss: 0.0082 - acc: 0.9993 - val_loss: 0.0324 - val_acc: 0.9913\n",
            "Epoch 57/100\n",
            " - 0s - loss: 0.0052 - acc: 1.0000 - val_loss: 0.0263 - val_acc: 0.9884\n",
            "Epoch 58/100\n",
            " - 0s - loss: 0.0044 - acc: 1.0000 - val_loss: 0.0231 - val_acc: 0.9942\n",
            "Epoch 59/100\n",
            " - 0s - loss: 0.0054 - acc: 0.9993 - val_loss: 0.0290 - val_acc: 0.9913\n",
            "Epoch 60/100\n",
            " - 0s - loss: 0.1958 - acc: 0.9436 - val_loss: 0.1553 - val_acc: 0.9220\n",
            "Epoch 61/100\n",
            " - 0s - loss: 0.0843 - acc: 0.9682 - val_loss: 0.0849 - val_acc: 0.9595\n",
            "Epoch 62/100\n",
            " - 0s - loss: 0.0327 - acc: 0.9884 - val_loss: 0.0411 - val_acc: 0.9855\n",
            "Epoch 63/100\n",
            " - 0s - loss: 0.0112 - acc: 0.9964 - val_loss: 0.0273 - val_acc: 0.9913\n",
            "Epoch 64/100\n",
            " - 0s - loss: 0.0071 - acc: 0.9993 - val_loss: 0.0215 - val_acc: 0.9913\n",
            "Epoch 65/100\n",
            " - 0s - loss: 0.0049 - acc: 1.0000 - val_loss: 0.0236 - val_acc: 0.9971\n",
            "Epoch 66/100\n",
            " - 0s - loss: 0.0038 - acc: 1.0000 - val_loss: 0.0217 - val_acc: 0.9942\n",
            "Epoch 67/100\n",
            " - 0s - loss: 0.0034 - acc: 1.0000 - val_loss: 0.0229 - val_acc: 0.9942\n"
          ],
          "name": "stdout"
        },
        {
          "output_type": "stream",
          "text": [
            "Epoch 68/100\n",
            " - 0s - loss: 0.0031 - acc: 1.0000 - val_loss: 0.0202 - val_acc: 0.9942\n",
            "Epoch 69/100\n",
            " - 0s - loss: 0.0029 - acc: 1.0000 - val_loss: 0.0199 - val_acc: 0.9942\n",
            "Epoch 70/100\n",
            " - 0s - loss: 0.0029 - acc: 1.0000 - val_loss: 0.0228 - val_acc: 0.9942\n",
            "Epoch 71/100\n",
            " - 0s - loss: 0.0027 - acc: 1.0000 - val_loss: 0.0241 - val_acc: 0.9942\n",
            "Epoch 72/100\n",
            " - 0s - loss: 0.0024 - acc: 1.0000 - val_loss: 0.0196 - val_acc: 0.9971\n",
            "Epoch 73/100\n",
            " - 0s - loss: 0.0023 - acc: 1.0000 - val_loss: 0.0161 - val_acc: 0.9942\n",
            "Epoch 74/100\n",
            " - 0s - loss: 0.0023 - acc: 1.0000 - val_loss: 0.0167 - val_acc: 0.9971\n",
            "Epoch 75/100\n",
            " - 0s - loss: 0.0019 - acc: 1.0000 - val_loss: 0.0177 - val_acc: 0.9971\n",
            "Epoch 76/100\n",
            " - 0s - loss: 0.0019 - acc: 1.0000 - val_loss: 0.0169 - val_acc: 0.9942\n",
            "Epoch 77/100\n",
            " - 0s - loss: 0.0018 - acc: 1.0000 - val_loss: 0.0195 - val_acc: 0.9971\n",
            "Epoch 78/100\n",
            " - 0s - loss: 0.0017 - acc: 1.0000 - val_loss: 0.0139 - val_acc: 0.9942\n",
            "Epoch 79/100\n",
            " - 0s - loss: 0.0017 - acc: 1.0000 - val_loss: 0.0127 - val_acc: 0.9971\n",
            "Epoch 80/100\n",
            " - 0s - loss: 0.0016 - acc: 1.0000 - val_loss: 0.0210 - val_acc: 0.9971\n",
            "Epoch 81/100\n",
            " - 0s - loss: 0.0016 - acc: 1.0000 - val_loss: 0.0139 - val_acc: 0.9971\n",
            "Epoch 82/100\n",
            " - 0s - loss: 0.0014 - acc: 1.0000 - val_loss: 0.0113 - val_acc: 0.9971\n",
            "Epoch 83/100\n",
            " - 0s - loss: 0.0014 - acc: 1.0000 - val_loss: 0.0195 - val_acc: 0.9971\n",
            "Epoch 84/100\n",
            " - 0s - loss: 0.0014 - acc: 1.0000 - val_loss: 0.0171 - val_acc: 0.9971\n",
            "Epoch 85/100\n",
            " - 0s - loss: 0.0013 - acc: 1.0000 - val_loss: 0.0148 - val_acc: 0.9971\n",
            "Epoch 86/100\n",
            " - 0s - loss: 0.0013 - acc: 1.0000 - val_loss: 0.0191 - val_acc: 0.9971\n",
            "Epoch 87/100\n",
            " - 0s - loss: 0.0012 - acc: 1.0000 - val_loss: 0.0125 - val_acc: 0.9942\n",
            "Epoch 88/100\n",
            " - 0s - loss: 0.0012 - acc: 1.0000 - val_loss: 0.0157 - val_acc: 0.9971\n",
            "Epoch 89/100\n",
            " - 0s - loss: 0.0011 - acc: 1.0000 - val_loss: 0.0146 - val_acc: 0.9971\n",
            "Epoch 90/100\n",
            " - 0s - loss: 0.0010 - acc: 1.0000 - val_loss: 0.0107 - val_acc: 0.9971\n",
            "Epoch 91/100\n",
            " - 0s - loss: 9.7677e-04 - acc: 1.0000 - val_loss: 0.0142 - val_acc: 0.9971\n",
            "Epoch 92/100\n",
            " - 0s - loss: 0.0010 - acc: 1.0000 - val_loss: 0.0083 - val_acc: 0.9971\n",
            "Epoch 93/100\n",
            " - 0s - loss: 0.1939 - acc: 0.9660 - val_loss: 0.5182 - val_acc: 0.8613\n",
            "Epoch 94/100\n",
            " - 0s - loss: 0.1471 - acc: 0.9436 - val_loss: 0.0885 - val_acc: 0.9566\n",
            "Epoch 95/100\n",
            " - 0s - loss: 0.0316 - acc: 0.9913 - val_loss: 0.0535 - val_acc: 0.9913\n",
            "Epoch 96/100\n",
            " - 0s - loss: 0.0216 - acc: 0.9935 - val_loss: 0.0330 - val_acc: 0.9913\n",
            "Epoch 97/100\n",
            " - 0s - loss: 0.0097 - acc: 1.0000 - val_loss: 0.0232 - val_acc: 0.9971\n",
            "Epoch 98/100\n",
            " - 0s - loss: 0.0046 - acc: 1.0000 - val_loss: 0.0205 - val_acc: 0.9942\n",
            "Epoch 99/100\n",
            " - 0s - loss: 0.0038 - acc: 1.0000 - val_loss: 0.0170 - val_acc: 0.9971\n",
            "Epoch 100/100\n",
            " - 0s - loss: 0.0031 - acc: 1.0000 - val_loss: 0.0210 - val_acc: 0.9942\n"
          ],
          "name": "stdout"
        }
      ]
    },
    {
      "metadata": {
        "id": "AUKt4Mnv5Tde",
        "colab_type": "code",
        "colab": {
          "base_uri": "https://localhost:8080/",
          "height": 84
        },
        "outputId": "02230c81-e47b-4976-a012-bcbc385a3f8b"
      },
      "cell_type": "code",
      "source": [
        "model_3_train_score = model_3.evaluate(X_train,y_train,verbose=0)\n",
        "model_3_score = model_3.evaluate(X_test,y_test,verbose=0)\n",
        "print(\"Train loss: \",model_3_train_score[0])\n",
        "print(\"Test loss: \",model_3_score[0])\n",
        "print(\"Train accuracy: %.4f%%\"% (model_3_train_score[1]*100))\n",
        "print(\"Test accuracy: %.4f%%\"%(model_3_score[1]*100))"
      ],
      "execution_count": 49,
      "outputs": [
        {
          "output_type": "stream",
          "text": [
            "('Train loss: ', 0.0025419136002614645)\n",
            "('Test loss: ', 0.021032969774193847)\n",
            "Train accuracy: 100.0000%\n",
            "Test accuracy: 99.4220%\n"
          ],
          "name": "stdout"
        }
      ]
    },
    {
      "metadata": {
        "id": "w55ON96U5wbA",
        "colab_type": "code",
        "colab": {
          "base_uri": "https://localhost:8080/",
          "height": 525
        },
        "outputId": "0bc2d748-a99a-4a3f-f015-6dc4d45080b0"
      },
      "cell_type": "code",
      "source": [
        "y_pred_class = model_3.predict_classes(X_test,verbose=0)\n",
        "y_test_class = np.argmax(y_test,axis=1)\n",
        "print(classification_report(y_test_class,y_pred_class))\n",
        "plot_confusion_matrix(model_3, X_test, y_test_class)"
      ],
      "execution_count": 52,
      "outputs": [
        {
          "output_type": "stream",
          "text": [
            "             precision    recall  f1-score   support\n",
            "\n",
            "          0       1.00      1.00      1.00       240\n",
            "          1       0.99      0.99      0.99        79\n",
            "          2       0.94      1.00      0.97        17\n",
            "          3       1.00      1.00      1.00        10\n",
            "\n",
            "avg / total       0.99      0.99      0.99       346\n",
            "\n"
          ],
          "name": "stdout"
        },
        {
          "output_type": "display_data",
          "data": {
            "image/png": "[encoded data removed]",
            "text/plain": [
              "<matplotlib.figure.Figure at 0x7f5061f33f10>"
            ]
          },
          "metadata": {
            "tags": []
          }
        }
      ]
    },
    {
      "metadata": {
        "id": "-w-DSZv256ft",
        "colab_type": "text"
      },
      "cell_type": "markdown",
      "source": [
        "## 4. TPE Search"
      ]
    },
    {
      "metadata": {
        "id": "0sgRhGWx5poR",
        "colab_type": "code",
        "colab": {
          "base_uri": "https://localhost:8080/",
          "height": 3394
        },
        "collapsed": true,
        "outputId": "2f38183b-4146-4274-a345-45f4cc527ef4"
      },
      "cell_type": "code",
      "source": [
        "model_4 = Sequential()\n",
        "model_4.add(Dense(64, input_dim=input_dim, activation='relu',kernel_initializer='he_normal'))\n",
        "model_4.add(Dropout(0.0))\n",
        "model_4.add(Dense(64, activation='relu',kernel_initializer='he_uniform'))\n",
        "model_4.add(Dropout(0.1))\n",
        "model_4.add(Dense(4, activation='softmax',kernel_initializer='lecun_uniform'))\n",
        "model_4.compile(\n",
        "        loss='categorical_crossentropy',\n",
        "        optimizer='Nadam',\n",
        "        metrics=['accuracy'])\n",
        "model_4_history=model_4.fit(X_train,y_train, batch_size=16,epochs=100,validation_data=(X_test,y_test),verbose=2 )"
      ],
      "execution_count": 55,
      "outputs": [
        {
          "output_type": "stream",
          "text": [
            "Train on 1382 samples, validate on 346 samples\n",
            "Epoch 1/100\n",
            " - 1s - loss: 0.8224 - acc: 0.6881 - val_loss: 0.5271 - val_acc: 0.7746\n",
            "Epoch 2/100\n",
            " - 0s - loss: 0.5083 - acc: 0.7887 - val_loss: 0.4130 - val_acc: 0.8382\n",
            "Epoch 3/100\n",
            " - 0s - loss: 0.4229 - acc: 0.8205 - val_loss: 0.3691 - val_acc: 0.8295\n",
            "Epoch 4/100\n",
            " - 0s - loss: 0.3624 - acc: 0.8553 - val_loss: 0.3106 - val_acc: 0.8728\n",
            "Epoch 5/100\n",
            " - 0s - loss: 0.3098 - acc: 0.8712 - val_loss: 0.2989 - val_acc: 0.8844\n",
            "Epoch 6/100\n",
            " - 0s - loss: 0.2938 - acc: 0.8849 - val_loss: 0.2878 - val_acc: 0.8844\n",
            "Epoch 7/100\n",
            " - 0s - loss: 0.2825 - acc: 0.8755 - val_loss: 0.2512 - val_acc: 0.8931\n",
            "Epoch 8/100\n",
            " - 0s - loss: 0.2610 - acc: 0.8915 - val_loss: 0.4853 - val_acc: 0.7717\n",
            "Epoch 9/100\n",
            " - 0s - loss: 0.2539 - acc: 0.8973 - val_loss: 0.2243 - val_acc: 0.9046\n",
            "Epoch 10/100\n",
            " - 0s - loss: 0.2467 - acc: 0.9009 - val_loss: 0.2247 - val_acc: 0.9133\n",
            "Epoch 11/100\n",
            " - 0s - loss: 0.2266 - acc: 0.9110 - val_loss: 0.2545 - val_acc: 0.8902\n",
            "Epoch 12/100\n",
            " - 0s - loss: 0.2170 - acc: 0.9074 - val_loss: 0.2070 - val_acc: 0.9133\n",
            "Epoch 13/100\n",
            " - 0s - loss: 0.2143 - acc: 0.9088 - val_loss: 0.2198 - val_acc: 0.9104\n",
            "Epoch 14/100\n",
            " - 0s - loss: 0.2029 - acc: 0.9182 - val_loss: 0.2248 - val_acc: 0.9017\n",
            "Epoch 15/100\n",
            " - 0s - loss: 0.1961 - acc: 0.9284 - val_loss: 0.2376 - val_acc: 0.9075\n",
            "Epoch 16/100\n",
            " - 0s - loss: 0.1822 - acc: 0.9269 - val_loss: 0.1894 - val_acc: 0.9133\n",
            "Epoch 17/100\n",
            " - 0s - loss: 0.1957 - acc: 0.9190 - val_loss: 0.2845 - val_acc: 0.8873\n",
            "Epoch 18/100\n",
            " - 0s - loss: 0.1820 - acc: 0.9211 - val_loss: 0.2350 - val_acc: 0.8931\n",
            "Epoch 19/100\n",
            " - 0s - loss: 0.1785 - acc: 0.9233 - val_loss: 0.2167 - val_acc: 0.9017\n",
            "Epoch 20/100\n",
            " - 0s - loss: 0.1704 - acc: 0.9320 - val_loss: 0.1906 - val_acc: 0.9277\n",
            "Epoch 21/100\n",
            " - 0s - loss: 0.1608 - acc: 0.9392 - val_loss: 0.2036 - val_acc: 0.9335\n",
            "Epoch 22/100\n",
            " - 0s - loss: 0.1599 - acc: 0.9342 - val_loss: 0.1750 - val_acc: 0.9162\n",
            "Epoch 23/100\n",
            " - 0s - loss: 0.1595 - acc: 0.9421 - val_loss: 0.1788 - val_acc: 0.9277\n",
            "Epoch 24/100\n",
            " - 0s - loss: 0.1570 - acc: 0.9342 - val_loss: 0.1745 - val_acc: 0.9249\n",
            "Epoch 25/100\n",
            " - 0s - loss: 0.1593 - acc: 0.9392 - val_loss: 0.1704 - val_acc: 0.9306\n",
            "Epoch 26/100\n",
            " - 0s - loss: 0.1383 - acc: 0.9457 - val_loss: 0.1811 - val_acc: 0.9277\n",
            "Epoch 27/100\n",
            " - 0s - loss: 0.1458 - acc: 0.9385 - val_loss: 0.2555 - val_acc: 0.9046\n",
            "Epoch 28/100\n",
            " - 0s - loss: 0.1515 - acc: 0.9385 - val_loss: 0.1856 - val_acc: 0.9306\n",
            "Epoch 29/100\n",
            " - 0s - loss: 0.1377 - acc: 0.9457 - val_loss: 0.1673 - val_acc: 0.9364\n",
            "Epoch 30/100\n",
            " - 0s - loss: 0.1474 - acc: 0.9436 - val_loss: 0.1507 - val_acc: 0.9335\n",
            "Epoch 31/100\n",
            " - 0s - loss: 0.1335 - acc: 0.9465 - val_loss: 0.1507 - val_acc: 0.9335\n",
            "Epoch 32/100\n",
            " - 0s - loss: 0.1285 - acc: 0.9508 - val_loss: 0.1813 - val_acc: 0.9220\n",
            "Epoch 33/100\n",
            " - 0s - loss: 0.1294 - acc: 0.9522 - val_loss: 0.1786 - val_acc: 0.9249\n",
            "Epoch 34/100\n"
          ],
          "name": "stdout"
        },
        {
          "output_type": "stream",
          "text": [
            " - 0s - loss: 0.1369 - acc: 0.9450 - val_loss: 0.1916 - val_acc: 0.9075\n",
            "Epoch 35/100\n",
            " - 0s - loss: 0.1333 - acc: 0.9443 - val_loss: 0.1481 - val_acc: 0.9364\n",
            "Epoch 36/100\n",
            " - 0s - loss: 0.1284 - acc: 0.9493 - val_loss: 0.1574 - val_acc: 0.9335\n",
            "Epoch 37/100\n",
            " - 0s - loss: 0.1190 - acc: 0.9544 - val_loss: 0.1469 - val_acc: 0.9480\n",
            "Epoch 38/100\n",
            " - 0s - loss: 0.1142 - acc: 0.9595 - val_loss: 0.1970 - val_acc: 0.9191\n",
            "Epoch 39/100\n",
            " - 0s - loss: 0.1322 - acc: 0.9414 - val_loss: 0.1588 - val_acc: 0.9393\n",
            "Epoch 40/100\n",
            " - 0s - loss: 0.1162 - acc: 0.9493 - val_loss: 0.1552 - val_acc: 0.9306\n",
            "Epoch 41/100\n",
            " - 0s - loss: 0.1185 - acc: 0.9537 - val_loss: 0.1341 - val_acc: 0.9509\n",
            "Epoch 42/100\n",
            " - 0s - loss: 0.1164 - acc: 0.9530 - val_loss: 0.1584 - val_acc: 0.9364\n",
            "Epoch 43/100\n",
            " - 0s - loss: 0.1021 - acc: 0.9609 - val_loss: 0.1427 - val_acc: 0.9509\n",
            "Epoch 44/100\n",
            " - 0s - loss: 0.1092 - acc: 0.9537 - val_loss: 0.1904 - val_acc: 0.9249\n",
            "Epoch 45/100\n",
            " - 0s - loss: 0.1110 - acc: 0.9515 - val_loss: 0.1494 - val_acc: 0.9422\n",
            "Epoch 46/100\n",
            " - 0s - loss: 0.1166 - acc: 0.9522 - val_loss: 0.1218 - val_acc: 0.9538\n",
            "Epoch 47/100\n",
            " - 0s - loss: 0.1108 - acc: 0.9580 - val_loss: 0.1213 - val_acc: 0.9566\n",
            "Epoch 48/100\n",
            " - 0s - loss: 0.0940 - acc: 0.9696 - val_loss: 0.1183 - val_acc: 0.9566\n",
            "Epoch 49/100\n",
            " - 0s - loss: 0.1078 - acc: 0.9493 - val_loss: 0.1465 - val_acc: 0.9422\n",
            "Epoch 50/100\n",
            " - 0s - loss: 0.0936 - acc: 0.9645 - val_loss: 0.1465 - val_acc: 0.9393\n",
            "Epoch 51/100\n",
            " - 0s - loss: 0.1144 - acc: 0.9493 - val_loss: 0.1364 - val_acc: 0.9538\n",
            "Epoch 52/100\n",
            " - 0s - loss: 0.0936 - acc: 0.9602 - val_loss: 0.1089 - val_acc: 0.9711\n",
            "Epoch 53/100\n",
            " - 0s - loss: 0.1004 - acc: 0.9559 - val_loss: 0.1252 - val_acc: 0.9624\n",
            "Epoch 54/100\n",
            " - 0s - loss: 0.0958 - acc: 0.9616 - val_loss: 0.1286 - val_acc: 0.9566\n",
            "Epoch 55/100\n",
            " - 0s - loss: 0.0738 - acc: 0.9740 - val_loss: 0.1556 - val_acc: 0.9335\n",
            "Epoch 56/100\n",
            " - 0s - loss: 0.0867 - acc: 0.9660 - val_loss: 0.1147 - val_acc: 0.9566\n",
            "Epoch 57/100\n",
            " - 0s - loss: 0.0849 - acc: 0.9638 - val_loss: 0.1143 - val_acc: 0.9538\n",
            "Epoch 58/100\n",
            " - 0s - loss: 0.0825 - acc: 0.9631 - val_loss: 0.1085 - val_acc: 0.9566\n",
            "Epoch 59/100\n",
            " - 0s - loss: 0.0917 - acc: 0.9653 - val_loss: 0.1216 - val_acc: 0.9422\n",
            "Epoch 60/100\n",
            " - 0s - loss: 0.0822 - acc: 0.9638 - val_loss: 0.1093 - val_acc: 0.9538\n",
            "Epoch 61/100\n",
            " - 0s - loss: 0.0767 - acc: 0.9725 - val_loss: 0.1134 - val_acc: 0.9480\n",
            "Epoch 62/100\n",
            " - 0s - loss: 0.0740 - acc: 0.9660 - val_loss: 0.1001 - val_acc: 0.9711\n",
            "Epoch 63/100\n",
            " - 0s - loss: 0.0806 - acc: 0.9638 - val_loss: 0.1004 - val_acc: 0.9566\n",
            "Epoch 64/100\n",
            " - 0s - loss: 0.0788 - acc: 0.9682 - val_loss: 0.1036 - val_acc: 0.9711\n",
            "Epoch 65/100\n",
            " - 0s - loss: 0.0884 - acc: 0.9624 - val_loss: 0.1218 - val_acc: 0.9595\n",
            "Epoch 66/100\n",
            " - 0s - loss: 0.0861 - acc: 0.9667 - val_loss: 0.1269 - val_acc: 0.9480\n",
            "Epoch 67/100\n",
            " - 0s - loss: 0.0900 - acc: 0.9580 - val_loss: 0.1097 - val_acc: 0.9653\n"
          ],
          "name": "stdout"
        },
        {
          "output_type": "stream",
          "text": [
            "Epoch 68/100\n",
            " - 0s - loss: 0.0778 - acc: 0.9660 - val_loss: 0.0892 - val_acc: 0.9769\n",
            "Epoch 69/100\n",
            " - 0s - loss: 0.0734 - acc: 0.9645 - val_loss: 0.0975 - val_acc: 0.9595\n",
            "Epoch 70/100\n",
            " - 0s - loss: 0.0675 - acc: 0.9711 - val_loss: 0.0937 - val_acc: 0.9711\n",
            "Epoch 71/100\n",
            " - 0s - loss: 0.0781 - acc: 0.9682 - val_loss: 0.1386 - val_acc: 0.9451\n",
            "Epoch 72/100\n",
            " - 0s - loss: 0.0953 - acc: 0.9544 - val_loss: 0.1074 - val_acc: 0.9566\n",
            "Epoch 73/100\n",
            " - 0s - loss: 0.0717 - acc: 0.9696 - val_loss: 0.1027 - val_acc: 0.9595\n",
            "Epoch 74/100\n",
            " - 0s - loss: 0.0705 - acc: 0.9711 - val_loss: 0.1053 - val_acc: 0.9624\n",
            "Epoch 75/100\n",
            " - 0s - loss: 0.0712 - acc: 0.9711 - val_loss: 0.1199 - val_acc: 0.9566\n",
            "Epoch 76/100\n",
            " - 0s - loss: 0.0649 - acc: 0.9725 - val_loss: 0.0839 - val_acc: 0.9740\n",
            "Epoch 77/100\n",
            " - 0s - loss: 0.0743 - acc: 0.9682 - val_loss: 0.0869 - val_acc: 0.9653\n",
            "Epoch 78/100\n",
            " - 0s - loss: 0.0620 - acc: 0.9732 - val_loss: 0.0784 - val_acc: 0.9740\n",
            "Epoch 79/100\n",
            " - 0s - loss: 0.0709 - acc: 0.9667 - val_loss: 0.0826 - val_acc: 0.9769\n",
            "Epoch 80/100\n",
            " - 0s - loss: 0.0707 - acc: 0.9703 - val_loss: 0.0989 - val_acc: 0.9653\n",
            "Epoch 81/100\n",
            " - 0s - loss: 0.0602 - acc: 0.9754 - val_loss: 0.0903 - val_acc: 0.9682\n",
            "Epoch 82/100\n",
            " - 0s - loss: 0.0595 - acc: 0.9747 - val_loss: 0.1455 - val_acc: 0.9306\n",
            "Epoch 83/100\n",
            " - 0s - loss: 0.0519 - acc: 0.9761 - val_loss: 0.1582 - val_acc: 0.9422\n",
            "Epoch 84/100\n",
            " - 0s - loss: 0.0632 - acc: 0.9740 - val_loss: 0.0811 - val_acc: 0.9711\n",
            "Epoch 85/100\n",
            " - 0s - loss: 0.0561 - acc: 0.9761 - val_loss: 0.0979 - val_acc: 0.9682\n",
            "Epoch 86/100\n",
            " - 0s - loss: 0.0691 - acc: 0.9711 - val_loss: 0.0982 - val_acc: 0.9653\n",
            "Epoch 87/100\n",
            " - 0s - loss: 0.0644 - acc: 0.9732 - val_loss: 0.0860 - val_acc: 0.9595\n",
            "Epoch 88/100\n",
            " - 0s - loss: 0.0441 - acc: 0.9834 - val_loss: 0.0961 - val_acc: 0.9624\n",
            "Epoch 89/100\n",
            " - 0s - loss: 0.0512 - acc: 0.9805 - val_loss: 0.0788 - val_acc: 0.9653\n",
            "Epoch 90/100\n",
            " - 0s - loss: 0.0650 - acc: 0.9732 - val_loss: 0.1171 - val_acc: 0.9480\n",
            "Epoch 91/100\n",
            " - 0s - loss: 0.0639 - acc: 0.9725 - val_loss: 0.0963 - val_acc: 0.9653\n",
            "Epoch 92/100\n",
            " - 0s - loss: 0.0693 - acc: 0.9718 - val_loss: 0.1004 - val_acc: 0.9653\n",
            "Epoch 93/100\n",
            " - 0s - loss: 0.0620 - acc: 0.9711 - val_loss: 0.1028 - val_acc: 0.9538\n",
            "Epoch 94/100\n",
            " - 0s - loss: 0.0500 - acc: 0.9834 - val_loss: 0.0909 - val_acc: 0.9595\n",
            "Epoch 95/100\n",
            " - 0s - loss: 0.0476 - acc: 0.9761 - val_loss: 0.0866 - val_acc: 0.9653\n",
            "Epoch 96/100\n",
            " - 0s - loss: 0.0557 - acc: 0.9776 - val_loss: 0.0821 - val_acc: 0.9769\n",
            "Epoch 97/100\n",
            " - 0s - loss: 0.0566 - acc: 0.9754 - val_loss: 0.0603 - val_acc: 0.9855\n",
            "Epoch 98/100\n",
            " - 0s - loss: 0.0398 - acc: 0.9834 - val_loss: 0.1023 - val_acc: 0.9595\n",
            "Epoch 99/100\n",
            " - 0s - loss: 0.0624 - acc: 0.9797 - val_loss: 0.0855 - val_acc: 0.9653\n",
            "Epoch 100/100\n",
            " - 0s - loss: 0.0714 - acc: 0.9711 - val_loss: 0.0641 - val_acc: 0.9711\n"
          ],
          "name": "stdout"
        }
      ]
    },
    {
      "metadata": {
        "id": "OtVV723r7Btv",
        "colab_type": "code",
        "colab": {
          "base_uri": "https://localhost:8080/",
          "height": 84
        },
        "outputId": "c098c126-d77e-46f1-e498-0fb134e4e99b"
      },
      "cell_type": "code",
      "source": [
        "model_4_train_score = model_4.evaluate(X_train,y_train,verbose=0)\n",
        "model_4_score = model_4.evaluate(X_test,y_test,verbose=0)\n",
        "print(\"Train loss: \",model_4_train_score[0])\n",
        "print(\"Test loss: \",model_4_score[0])\n",
        "print(\"Train accuracy: %.4f%%\"% (model_4_train_score[1]*100))\n",
        "print(\"Test accuracy: %.4f%%\"%(model_4_score[1]*100))"
      ],
      "execution_count": 56,
      "outputs": [
        {
          "output_type": "stream",
          "text": [
            "('Train loss: ', 0.0284541633897437)\n",
            "('Test loss: ', 0.06408180429928564)\n",
            "Train accuracy: 99.2041%\n",
            "Test accuracy: 97.1098%\n"
          ],
          "name": "stdout"
        }
      ]
    },
    {
      "metadata": {
        "id": "CpXIFqhF7NwI",
        "colab_type": "code",
        "colab": {
          "base_uri": "https://localhost:8080/",
          "height": 525
        },
        "outputId": "0d9efc68-473c-4ae4-8968-7c4fbcb7795a"
      },
      "cell_type": "code",
      "source": [
        "y_pred_class = model_4.predict_classes(X_test,verbose=0)\n",
        "y_test_class = np.argmax(y_test,axis=1)\n",
        "print(classification_report(y_test_class,y_pred_class))\n",
        "plot_confusion_matrix(model_4, X_test, y_test_class)"
      ],
      "execution_count": 66,
      "outputs": [
        {
          "output_type": "stream",
          "text": [
            "             precision    recall  f1-score   support\n",
            "\n",
            "          0       0.99      0.98      0.99       240\n",
            "          1       0.94      0.94      0.94        79\n",
            "          2       0.89      1.00      0.94        17\n",
            "          3       0.91      1.00      0.95        10\n",
            "\n",
            "avg / total       0.97      0.97      0.97       346\n",
            "\n"
          ],
          "name": "stdout"
        },
        {
          "output_type": "display_data",
          "data": {
            "image/png": "[encoded data removed]",
            "text/plain": [
              "<matplotlib.figure.Figure at 0x7f50618aa950>"
            ]
          },
          "metadata": {
            "tags": []
          }
        }
      ]
    },
    {
      "metadata": {
        "id": "oxqI7ESU7SN5",
        "colab_type": "code",
        "colab": {}
      },
      "cell_type": "code",
      "source": [
        ""
      ],
      "execution_count": 0,
      "outputs": []
    }
  ]
}