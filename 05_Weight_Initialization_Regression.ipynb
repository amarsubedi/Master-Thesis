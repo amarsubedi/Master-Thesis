{
  "nbformat": 4,
  "nbformat_minor": 0,
  "metadata": {
    "colab": {
      "name": "05_Weight Initialization Regression.ipynb",
      "version": "0.3.2",
      "provenance": [],
      "collapsed_sections": []
    },
    "kernelspec": {
      "name": "python3",
      "display_name": "Python 3"
    },
    "accelerator": "GPU"
  },
  "cells": [
    {
      "cell_type": "markdown",
      "metadata": {
        "id": "view-in-github",
        "colab_type": "text"
      },
      "source": [
        "[View in Colaboratory](https://colab.research.google.com/github/redcican/Master-Thesis/blob/master/05_Weight_Initialization_Regression.ipynb)"
      ]
    },
    {
      "metadata": {
        "id": "rnofyjdg0F3h",
        "colab_type": "text"
      },
      "cell_type": "markdown",
      "source": [
        "## Weight Initialization Compare by using Regression Cases"
      ]
    },
    {
      "metadata": {
        "id": "RBOlq1AR0OqC",
        "colab_type": "text"
      },
      "cell_type": "markdown",
      "source": [
        "### 1. Data Visualliaztion and Preprocessing"
      ]
    },
    {
      "metadata": {
        "id": "I8ZN3akR0Tqw",
        "colab_type": "code",
        "colab": {
          "resources": {
            "http://localhost:8080/nbextensions/google.colab/files.js": {
              "data": "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",
              "ok": true,
              "headers": [
                [
                  "content-type",
                  "application/javascript"
                ]
              ],
              "status": 200,
              "status_text": ""
            }
          },
          "base_uri": "https://localhost:8080/",
          "height": 92
        },
        "outputId": "29e1ceea-4ef6-411c-f1bd-04a50cf9b705"
      },
      "cell_type": "code",
      "source": [
        "from google.colab import files\n",
        "\n",
        "uploaded = files.upload()\n",
        "\n",
        "for fn in uploaded.keys():\n",
        "  print('User uploaded file \"{name}\" with length {length} bytes'.format(\n",
        "      name=fn, length=len(uploaded[fn])))"
      ],
      "execution_count": 2,
      "outputs": [
        {
          "output_type": "display_data",
          "data": {
            "text/html": [
              "\n",
              "     <input type=\"file\" id=\"files-6537e5ec-a01c-4ba2-9fcc-aa252a773f9f\" name=\"files[]\" multiple disabled />\n",
              "     <output id=\"result-6537e5ec-a01c-4ba2-9fcc-aa252a773f9f\">\n",
              "      Upload widget is only available when the cell has been executed in the\n",
              "      current browser session. Please rerun this cell to enable.\n",
              "      </output>\n",
              "      <script src=\"/nbextensions/google.colab/files.js\"></script> "
            ],
            "text/plain": [
              "<IPython.core.display.HTML object>"
            ]
          },
          "metadata": {
            "tags": []
          }
        },
        {
          "output_type": "stream",
          "text": [
            "Saving FFS_01433.csv to FFS_01433.csv\n",
            "User uploaded file \"FFS_01433.csv\" with length 14378532 bytes\n"
          ],
          "name": "stdout"
        }
      ]
    },
    {
      "metadata": {
        "id": "rEbABuUz0Vac",
        "colab_type": "code",
        "colab": {}
      },
      "cell_type": "code",
      "source": [
        "%matplotlib inline\n",
        "%config InlineBacken.figure_format='retina'\n",
        "import matplotlib.pyplot as plt\n",
        "import pandas as pd\n",
        "import numpy as np\n",
        "import seaborn as sns"
      ],
      "execution_count": 0,
      "outputs": []
    },
    {
      "metadata": {
        "id": "5R21s82R1Y8j",
        "colab_type": "code",
        "colab": {}
      },
      "cell_type": "code",
      "source": [
        "from keras.models import Sequential\n",
        "from keras.layers import Dense, Activation, initializers\n",
        "from keras import optimizers\n",
        "from sklearn.utils import shuffle\n",
        "from sklearn.cross_validation import train_test_split\n",
        "from sklearn.preprocessing import StandardScaler\n",
        "from keras.callbacks import EarlyStopping, TensorBoard"
      ],
      "execution_count": 0,
      "outputs": []
    },
    {
      "metadata": {
        "id": "gJzYgeP71-v3",
        "colab_type": "code",
        "colab": {
          "base_uri": "https://localhost:8080/",
          "height": 244
        },
        "outputId": "f8bd08c8-f8e9-46fc-8164-c201b8fd045e"
      },
      "cell_type": "code",
      "source": [
        "rawdf = pd.read_csv('FFS_01433.csv')\n",
        "rawdf.head()"
      ],
      "execution_count": 5,
      "outputs": [
        {
          "output_type": "execute_result",
          "data": {
            "text/html": [
              "<div>\n",
              "<style scoped>\n",
              "    .dataframe tbody tr th:only-of-type {\n",
              "        vertical-align: middle;\n",
              "    }\n",
              "\n",
              "    .dataframe tbody tr th {\n",
              "        vertical-align: top;\n",
              "    }\n",
              "\n",
              "    .dataframe thead th {\n",
              "        text-align: right;\n",
              "    }\n",
              "</style>\n",
              "<table border=\"1\" class=\"dataframe\">\n",
              "  <thead>\n",
              "    <tr style=\"text-align: right;\">\n",
              "      <th></th>\n",
              "      <th>I1</th>\n",
              "      <th>I2</th>\n",
              "      <th>I3</th>\n",
              "      <th>I4</th>\n",
              "      <th>I5</th>\n",
              "      <th>I6</th>\n",
              "      <th>I7</th>\n",
              "      <th>I8</th>\n",
              "      <th>I9</th>\n",
              "      <th>I10</th>\n",
              "      <th>...</th>\n",
              "      <th>I32</th>\n",
              "      <th>I33</th>\n",
              "      <th>I34</th>\n",
              "      <th>I35</th>\n",
              "      <th>I36</th>\n",
              "      <th>I37</th>\n",
              "      <th>I38</th>\n",
              "      <th>I39</th>\n",
              "      <th>I40</th>\n",
              "      <th>D</th>\n",
              "    </tr>\n",
              "  </thead>\n",
              "  <tbody>\n",
              "    <tr>\n",
              "      <th>0</th>\n",
              "      <td>33.39</td>\n",
              "      <td>36.24</td>\n",
              "      <td>27.68</td>\n",
              "      <td>25.24</td>\n",
              "      <td>19.23</td>\n",
              "      <td>18.15</td>\n",
              "      <td>22.40</td>\n",
              "      <td>41.06</td>\n",
              "      <td>40.67</td>\n",
              "      <td>41.43</td>\n",
              "      <td>...</td>\n",
              "      <td>25.82</td>\n",
              "      <td>26.96</td>\n",
              "      <td>27.24</td>\n",
              "      <td>19.44</td>\n",
              "      <td>18.20</td>\n",
              "      <td>21.10</td>\n",
              "      <td>32.18</td>\n",
              "      <td>37.47</td>\n",
              "      <td>39.98</td>\n",
              "      <td>107.5</td>\n",
              "    </tr>\n",
              "    <tr>\n",
              "      <th>1</th>\n",
              "      <td>27.72</td>\n",
              "      <td>31.35</td>\n",
              "      <td>30.80</td>\n",
              "      <td>25.55</td>\n",
              "      <td>20.82</td>\n",
              "      <td>22.28</td>\n",
              "      <td>20.66</td>\n",
              "      <td>31.29</td>\n",
              "      <td>34.35</td>\n",
              "      <td>33.95</td>\n",
              "      <td>...</td>\n",
              "      <td>25.82</td>\n",
              "      <td>26.96</td>\n",
              "      <td>27.24</td>\n",
              "      <td>19.44</td>\n",
              "      <td>18.20</td>\n",
              "      <td>21.10</td>\n",
              "      <td>32.18</td>\n",
              "      <td>37.47</td>\n",
              "      <td>39.98</td>\n",
              "      <td>107.5</td>\n",
              "    </tr>\n",
              "    <tr>\n",
              "      <th>2</th>\n",
              "      <td>27.72</td>\n",
              "      <td>31.35</td>\n",
              "      <td>30.80</td>\n",
              "      <td>25.55</td>\n",
              "      <td>20.82</td>\n",
              "      <td>22.28</td>\n",
              "      <td>20.66</td>\n",
              "      <td>31.29</td>\n",
              "      <td>34.35</td>\n",
              "      <td>33.95</td>\n",
              "      <td>...</td>\n",
              "      <td>30.11</td>\n",
              "      <td>29.02</td>\n",
              "      <td>26.32</td>\n",
              "      <td>18.23</td>\n",
              "      <td>18.10</td>\n",
              "      <td>21.34</td>\n",
              "      <td>40.32</td>\n",
              "      <td>41.33</td>\n",
              "      <td>35.51</td>\n",
              "      <td>107.5</td>\n",
              "    </tr>\n",
              "    <tr>\n",
              "      <th>3</th>\n",
              "      <td>32.33</td>\n",
              "      <td>28.40</td>\n",
              "      <td>24.78</td>\n",
              "      <td>27.88</td>\n",
              "      <td>20.32</td>\n",
              "      <td>17.44</td>\n",
              "      <td>21.35</td>\n",
              "      <td>41.28</td>\n",
              "      <td>40.31</td>\n",
              "      <td>38.46</td>\n",
              "      <td>...</td>\n",
              "      <td>25.82</td>\n",
              "      <td>26.96</td>\n",
              "      <td>27.24</td>\n",
              "      <td>19.44</td>\n",
              "      <td>18.20</td>\n",
              "      <td>21.10</td>\n",
              "      <td>32.18</td>\n",
              "      <td>37.47</td>\n",
              "      <td>39.98</td>\n",
              "      <td>107.5</td>\n",
              "    </tr>\n",
              "    <tr>\n",
              "      <th>4</th>\n",
              "      <td>32.33</td>\n",
              "      <td>28.40</td>\n",
              "      <td>24.78</td>\n",
              "      <td>27.88</td>\n",
              "      <td>20.32</td>\n",
              "      <td>17.44</td>\n",
              "      <td>21.35</td>\n",
              "      <td>41.28</td>\n",
              "      <td>40.31</td>\n",
              "      <td>38.46</td>\n",
              "      <td>...</td>\n",
              "      <td>30.45</td>\n",
              "      <td>29.61</td>\n",
              "      <td>37.12</td>\n",
              "      <td>18.79</td>\n",
              "      <td>23.47</td>\n",
              "      <td>19.89</td>\n",
              "      <td>44.17</td>\n",
              "      <td>32.37</td>\n",
              "      <td>46.24</td>\n",
              "      <td>107.5</td>\n",
              "    </tr>\n",
              "  </tbody>\n",
              "</table>\n",
              "<p>5 rows × 41 columns</p>\n",
              "</div>"
            ],
            "text/plain": [
              "      I1     I2     I3     I4     I5     I6     I7     I8     I9    I10  \\\n",
              "0  33.39  36.24  27.68  25.24  19.23  18.15  22.40  41.06  40.67  41.43   \n",
              "1  27.72  31.35  30.80  25.55  20.82  22.28  20.66  31.29  34.35  33.95   \n",
              "2  27.72  31.35  30.80  25.55  20.82  22.28  20.66  31.29  34.35  33.95   \n",
              "3  32.33  28.40  24.78  27.88  20.32  17.44  21.35  41.28  40.31  38.46   \n",
              "4  32.33  28.40  24.78  27.88  20.32  17.44  21.35  41.28  40.31  38.46   \n",
              "\n",
              "   ...      I32    I33    I34    I35    I36    I37    I38    I39    I40      D  \n",
              "0  ...    25.82  26.96  27.24  19.44  18.20  21.10  32.18  37.47  39.98  107.5  \n",
              "1  ...    25.82  26.96  27.24  19.44  18.20  21.10  32.18  37.47  39.98  107.5  \n",
              "2  ...    30.11  29.02  26.32  18.23  18.10  21.34  40.32  41.33  35.51  107.5  \n",
              "3  ...    25.82  26.96  27.24  19.44  18.20  21.10  32.18  37.47  39.98  107.5  \n",
              "4  ...    30.45  29.61  37.12  18.79  23.47  19.89  44.17  32.37  46.24  107.5  \n",
              "\n",
              "[5 rows x 41 columns]"
            ]
          },
          "metadata": {
            "tags": []
          },
          "execution_count": 5
        }
      ]
    },
    {
      "metadata": {
        "id": "ejRwohCS2QxE",
        "colab_type": "code",
        "colab": {
          "base_uri": "https://localhost:8080/",
          "height": 333
        },
        "outputId": "fe78394a-a5dd-42b5-9a1e-11d140670df8"
      },
      "cell_type": "code",
      "source": [
        "pd.options.display.float_format='{:,.2f}'.format\n",
        "rawdf.describe()"
      ],
      "execution_count": 6,
      "outputs": [
        {
          "output_type": "execute_result",
          "data": {
            "text/html": [
              "<div>\n",
              "<style scoped>\n",
              "    .dataframe tbody tr th:only-of-type {\n",
              "        vertical-align: middle;\n",
              "    }\n",
              "\n",
              "    .dataframe tbody tr th {\n",
              "        vertical-align: top;\n",
              "    }\n",
              "\n",
              "    .dataframe thead th {\n",
              "        text-align: right;\n",
              "    }\n",
              "</style>\n",
              "<table border=\"1\" class=\"dataframe\">\n",
              "  <thead>\n",
              "    <tr style=\"text-align: right;\">\n",
              "      <th></th>\n",
              "      <th>I1</th>\n",
              "      <th>I2</th>\n",
              "      <th>I3</th>\n",
              "      <th>I4</th>\n",
              "      <th>I5</th>\n",
              "      <th>I6</th>\n",
              "      <th>I7</th>\n",
              "      <th>I8</th>\n",
              "      <th>I9</th>\n",
              "      <th>I10</th>\n",
              "      <th>...</th>\n",
              "      <th>I32</th>\n",
              "      <th>I33</th>\n",
              "      <th>I34</th>\n",
              "      <th>I35</th>\n",
              "      <th>I36</th>\n",
              "      <th>I37</th>\n",
              "      <th>I38</th>\n",
              "      <th>I39</th>\n",
              "      <th>I40</th>\n",
              "      <th>D</th>\n",
              "    </tr>\n",
              "  </thead>\n",
              "  <tbody>\n",
              "    <tr>\n",
              "      <th>count</th>\n",
              "      <td>58,905.00</td>\n",
              "      <td>58,905.00</td>\n",
              "      <td>58,905.00</td>\n",
              "      <td>58,905.00</td>\n",
              "      <td>58,905.00</td>\n",
              "      <td>58,905.00</td>\n",
              "      <td>58,905.00</td>\n",
              "      <td>58,905.00</td>\n",
              "      <td>58,905.00</td>\n",
              "      <td>58,905.00</td>\n",
              "      <td>...</td>\n",
              "      <td>58,905.00</td>\n",
              "      <td>58,905.00</td>\n",
              "      <td>58,905.00</td>\n",
              "      <td>58,905.00</td>\n",
              "      <td>58,905.00</td>\n",
              "      <td>58,905.00</td>\n",
              "      <td>58,905.00</td>\n",
              "      <td>58,905.00</td>\n",
              "      <td>58,905.00</td>\n",
              "      <td>58,905.00</td>\n",
              "    </tr>\n",
              "    <tr>\n",
              "      <th>mean</th>\n",
              "      <td>30.03</td>\n",
              "      <td>29.06</td>\n",
              "      <td>29.97</td>\n",
              "      <td>28.55</td>\n",
              "      <td>20.21</td>\n",
              "      <td>19.55</td>\n",
              "      <td>19.93</td>\n",
              "      <td>39.96</td>\n",
              "      <td>41.69</td>\n",
              "      <td>40.70</td>\n",
              "      <td>...</td>\n",
              "      <td>30.55</td>\n",
              "      <td>28.31</td>\n",
              "      <td>29.86</td>\n",
              "      <td>21.24</td>\n",
              "      <td>20.15</td>\n",
              "      <td>19.95</td>\n",
              "      <td>39.42</td>\n",
              "      <td>38.59</td>\n",
              "      <td>40.49</td>\n",
              "      <td>116.55</td>\n",
              "    </tr>\n",
              "    <tr>\n",
              "      <th>std</th>\n",
              "      <td>2.82</td>\n",
              "      <td>3.23</td>\n",
              "      <td>2.67</td>\n",
              "      <td>2.52</td>\n",
              "      <td>1.55</td>\n",
              "      <td>1.49</td>\n",
              "      <td>1.93</td>\n",
              "      <td>4.03</td>\n",
              "      <td>4.14</td>\n",
              "      <td>3.94</td>\n",
              "      <td>...</td>\n",
              "      <td>3.45</td>\n",
              "      <td>1.97</td>\n",
              "      <td>3.42</td>\n",
              "      <td>2.97</td>\n",
              "      <td>1.95</td>\n",
              "      <td>1.62</td>\n",
              "      <td>3.30</td>\n",
              "      <td>3.81</td>\n",
              "      <td>3.91</td>\n",
              "      <td>4.09</td>\n",
              "    </tr>\n",
              "    <tr>\n",
              "      <th>min</th>\n",
              "      <td>23.22</td>\n",
              "      <td>22.73</td>\n",
              "      <td>24.78</td>\n",
              "      <td>23.81</td>\n",
              "      <td>17.18</td>\n",
              "      <td>15.69</td>\n",
              "      <td>15.49</td>\n",
              "      <td>31.29</td>\n",
              "      <td>32.37</td>\n",
              "      <td>32.32</td>\n",
              "      <td>...</td>\n",
              "      <td>22.73</td>\n",
              "      <td>25.76</td>\n",
              "      <td>23.81</td>\n",
              "      <td>17.18</td>\n",
              "      <td>15.69</td>\n",
              "      <td>15.49</td>\n",
              "      <td>31.29</td>\n",
              "      <td>32.37</td>\n",
              "      <td>32.32</td>\n",
              "      <td>107.50</td>\n",
              "    </tr>\n",
              "    <tr>\n",
              "      <th>25%</th>\n",
              "      <td>28.91</td>\n",
              "      <td>27.62</td>\n",
              "      <td>27.68</td>\n",
              "      <td>26.40</td>\n",
              "      <td>18.94</td>\n",
              "      <td>18.76</td>\n",
              "      <td>18.68</td>\n",
              "      <td>35.34</td>\n",
              "      <td>38.23</td>\n",
              "      <td>36.81</td>\n",
              "      <td>...</td>\n",
              "      <td>27.32</td>\n",
              "      <td>26.74</td>\n",
              "      <td>27.24</td>\n",
              "      <td>19.01</td>\n",
              "      <td>19.26</td>\n",
              "      <td>18.77</td>\n",
              "      <td>37.83</td>\n",
              "      <td>33.82</td>\n",
              "      <td>39.03</td>\n",
              "      <td>113.72</td>\n",
              "    </tr>\n",
              "    <tr>\n",
              "      <th>50%</th>\n",
              "      <td>30.54</td>\n",
              "      <td>29.70</td>\n",
              "      <td>30.21</td>\n",
              "      <td>28.28</td>\n",
              "      <td>20.32</td>\n",
              "      <td>19.36</td>\n",
              "      <td>20.76</td>\n",
              "      <td>41.06</td>\n",
              "      <td>40.67</td>\n",
              "      <td>40.54</td>\n",
              "      <td>...</td>\n",
              "      <td>30.16</td>\n",
              "      <td>28.45</td>\n",
              "      <td>30.25</td>\n",
              "      <td>20.17</td>\n",
              "      <td>20.52</td>\n",
              "      <td>19.97</td>\n",
              "      <td>39.81</td>\n",
              "      <td>39.42</td>\n",
              "      <td>40.99</td>\n",
              "      <td>116.53</td>\n",
              "    </tr>\n",
              "    <tr>\n",
              "      <th>75%</th>\n",
              "      <td>32.33</td>\n",
              "      <td>30.73</td>\n",
              "      <td>31.83</td>\n",
              "      <td>29.94</td>\n",
              "      <td>21.45</td>\n",
              "      <td>20.97</td>\n",
              "      <td>21.35</td>\n",
              "      <td>41.98</td>\n",
              "      <td>44.66</td>\n",
              "      <td>43.28</td>\n",
              "      <td>...</td>\n",
              "      <td>34.25</td>\n",
              "      <td>29.08</td>\n",
              "      <td>31.51</td>\n",
              "      <td>22.29</td>\n",
              "      <td>21.91</td>\n",
              "      <td>21.34</td>\n",
              "      <td>41.41</td>\n",
              "      <td>41.71</td>\n",
              "      <td>43.01</td>\n",
              "      <td>119.63</td>\n",
              "    </tr>\n",
              "    <tr>\n",
              "      <th>max</th>\n",
              "      <td>35.27</td>\n",
              "      <td>36.24</td>\n",
              "      <td>35.66</td>\n",
              "      <td>37.12</td>\n",
              "      <td>27.14</td>\n",
              "      <td>23.47</td>\n",
              "      <td>23.02</td>\n",
              "      <td>49.65</td>\n",
              "      <td>50.00</td>\n",
              "      <td>50.00</td>\n",
              "      <td>...</td>\n",
              "      <td>36.24</td>\n",
              "      <td>35.66</td>\n",
              "      <td>37.12</td>\n",
              "      <td>27.14</td>\n",
              "      <td>23.47</td>\n",
              "      <td>23.02</td>\n",
              "      <td>49.65</td>\n",
              "      <td>50.00</td>\n",
              "      <td>50.00</td>\n",
              "      <td>130.79</td>\n",
              "    </tr>\n",
              "  </tbody>\n",
              "</table>\n",
              "<p>8 rows × 41 columns</p>\n",
              "</div>"
            ],
            "text/plain": [
              "             I1        I2        I3        I4        I5        I6        I7  \\\n",
              "count 58,905.00 58,905.00 58,905.00 58,905.00 58,905.00 58,905.00 58,905.00   \n",
              "mean      30.03     29.06     29.97     28.55     20.21     19.55     19.93   \n",
              "std        2.82      3.23      2.67      2.52      1.55      1.49      1.93   \n",
              "min       23.22     22.73     24.78     23.81     17.18     15.69     15.49   \n",
              "25%       28.91     27.62     27.68     26.40     18.94     18.76     18.68   \n",
              "50%       30.54     29.70     30.21     28.28     20.32     19.36     20.76   \n",
              "75%       32.33     30.73     31.83     29.94     21.45     20.97     21.35   \n",
              "max       35.27     36.24     35.66     37.12     27.14     23.47     23.02   \n",
              "\n",
              "             I8        I9       I10    ...          I32       I33       I34  \\\n",
              "count 58,905.00 58,905.00 58,905.00    ...    58,905.00 58,905.00 58,905.00   \n",
              "mean      39.96     41.69     40.70    ...        30.55     28.31     29.86   \n",
              "std        4.03      4.14      3.94    ...         3.45      1.97      3.42   \n",
              "min       31.29     32.37     32.32    ...        22.73     25.76     23.81   \n",
              "25%       35.34     38.23     36.81    ...        27.32     26.74     27.24   \n",
              "50%       41.06     40.67     40.54    ...        30.16     28.45     30.25   \n",
              "75%       41.98     44.66     43.28    ...        34.25     29.08     31.51   \n",
              "max       49.65     50.00     50.00    ...        36.24     35.66     37.12   \n",
              "\n",
              "            I35       I36       I37       I38       I39       I40         D  \n",
              "count 58,905.00 58,905.00 58,905.00 58,905.00 58,905.00 58,905.00 58,905.00  \n",
              "mean      21.24     20.15     19.95     39.42     38.59     40.49    116.55  \n",
              "std        2.97      1.95      1.62      3.30      3.81      3.91      4.09  \n",
              "min       17.18     15.69     15.49     31.29     32.37     32.32    107.50  \n",
              "25%       19.01     19.26     18.77     37.83     33.82     39.03    113.72  \n",
              "50%       20.17     20.52     19.97     39.81     39.42     40.99    116.53  \n",
              "75%       22.29     21.91     21.34     41.41     41.71     43.01    119.63  \n",
              "max       27.14     23.47     23.02     49.65     50.00     50.00    130.79  \n",
              "\n",
              "[8 rows x 41 columns]"
            ]
          },
          "metadata": {
            "tags": []
          },
          "execution_count": 6
        }
      ]
    },
    {
      "metadata": {
        "id": "7bRAlHAX2Vst",
        "colab_type": "code",
        "colab": {
          "base_uri": "https://localhost:8080/",
          "height": 1110
        },
        "outputId": "19dd4cf5-e850-4869-bf77-071715c6ccf5"
      },
      "cell_type": "code",
      "source": [
        "plt.style.use('seaborn-white')\n",
        "rawdf.hist(figsize=(15,15))\n",
        "plt.tight_layout()"
      ],
      "execution_count": 7,
      "outputs": [
        {
          "output_type": "display_data",
          "data": {
            "image/png": "[encoded data removed]",
            "text/plain": [
              "<matplotlib.figure.Figure at 0x7f88f4551f98>"
            ]
          },
          "metadata": {
            "tags": []
          }
        }
      ]
    },
    {
      "metadata": {
        "id": "kI_9cTQb252T",
        "colab_type": "code",
        "colab": {
          "base_uri": "https://localhost:8080/",
          "height": 610
        },
        "outputId": "aa2e846f-9a86-49a6-b598-a9b3ef28fb62"
      },
      "cell_type": "code",
      "source": [
        "plt.figure(figsize=(5,10))\n",
        "sns.heatmap(rawdf.corr()[['D']], annot=True, vmin=-1,vmax=1,)"
      ],
      "execution_count": 8,
      "outputs": [
        {
          "output_type": "execute_result",
          "data": {
            "text/plain": [
              "<matplotlib.axes._subplots.AxesSubplot at 0x7f88f3b993c8>"
            ]
          },
          "metadata": {
            "tags": []
          },
          "execution_count": 8
        },
        {
          "output_type": "display_data",
          "data": {
            "image/png": "[encoded data removed]",
            "text/plain": [
              "<matplotlib.figure.Figure at 0x7f88f3bd1710>"
            ]
          },
          "metadata": {
            "tags": []
          }
        }
      ]
    },
    {
      "metadata": {
        "id": "Kmb-Wn8W3wxv",
        "colab_type": "code",
        "colab": {}
      },
      "cell_type": "code",
      "source": [
        "df = rawdf.copy()\n",
        "\n",
        "#feature scale\n",
        "ss = StandardScaler()\n",
        "scale_features = ['I1','I2','I3','I4','I5','I6','I7','I8','I9','I10',\n",
        "                 'I11','I12','I13','I14','I15','I16','I17','I18','I19','I20',\n",
        "                 'I21','I22','I23','I24','I25','I26','I27','I28','I29','I30',\n",
        "                 'I31','I32','I33','I34','I35','I36','I37','I38','I39','I40','D']\n",
        "df[scale_features] = ss.fit_transform(df[scale_features])"
      ],
      "execution_count": 0,
      "outputs": []
    },
    {
      "metadata": {
        "id": "8Y9zsZZ446At",
        "colab_type": "code",
        "colab": {
          "base_uri": "https://localhost:8080/",
          "height": 244
        },
        "outputId": "437d3627-40f2-40d4-a41a-471c96118b75"
      },
      "cell_type": "code",
      "source": [
        "df.head()"
      ],
      "execution_count": 10,
      "outputs": [
        {
          "output_type": "execute_result",
          "data": {
            "text/html": [
              "<div>\n",
              "<style scoped>\n",
              "    .dataframe tbody tr th:only-of-type {\n",
              "        vertical-align: middle;\n",
              "    }\n",
              "\n",
              "    .dataframe tbody tr th {\n",
              "        vertical-align: top;\n",
              "    }\n",
              "\n",
              "    .dataframe thead th {\n",
              "        text-align: right;\n",
              "    }\n",
              "</style>\n",
              "<table border=\"1\" class=\"dataframe\">\n",
              "  <thead>\n",
              "    <tr style=\"text-align: right;\">\n",
              "      <th></th>\n",
              "      <th>I1</th>\n",
              "      <th>I2</th>\n",
              "      <th>I3</th>\n",
              "      <th>I4</th>\n",
              "      <th>I5</th>\n",
              "      <th>I6</th>\n",
              "      <th>I7</th>\n",
              "      <th>I8</th>\n",
              "      <th>I9</th>\n",
              "      <th>I10</th>\n",
              "      <th>...</th>\n",
              "      <th>I32</th>\n",
              "      <th>I33</th>\n",
              "      <th>I34</th>\n",
              "      <th>I35</th>\n",
              "      <th>I36</th>\n",
              "      <th>I37</th>\n",
              "      <th>I38</th>\n",
              "      <th>I39</th>\n",
              "      <th>I40</th>\n",
              "      <th>D</th>\n",
              "    </tr>\n",
              "  </thead>\n",
              "  <tbody>\n",
              "    <tr>\n",
              "      <th>0</th>\n",
              "      <td>1.19</td>\n",
              "      <td>2.22</td>\n",
              "      <td>-0.86</td>\n",
              "      <td>-1.31</td>\n",
              "      <td>-0.63</td>\n",
              "      <td>-0.94</td>\n",
              "      <td>1.28</td>\n",
              "      <td>0.27</td>\n",
              "      <td>-0.25</td>\n",
              "      <td>0.19</td>\n",
              "      <td>...</td>\n",
              "      <td>-1.37</td>\n",
              "      <td>-0.68</td>\n",
              "      <td>-0.77</td>\n",
              "      <td>-0.60</td>\n",
              "      <td>-1.00</td>\n",
              "      <td>0.71</td>\n",
              "      <td>-2.20</td>\n",
              "      <td>-0.29</td>\n",
              "      <td>-0.13</td>\n",
              "      <td>-2.21</td>\n",
              "    </tr>\n",
              "    <tr>\n",
              "      <th>1</th>\n",
              "      <td>-0.82</td>\n",
              "      <td>0.71</td>\n",
              "      <td>0.31</td>\n",
              "      <td>-1.19</td>\n",
              "      <td>0.39</td>\n",
              "      <td>1.83</td>\n",
              "      <td>0.38</td>\n",
              "      <td>-2.15</td>\n",
              "      <td>-1.77</td>\n",
              "      <td>-1.71</td>\n",
              "      <td>...</td>\n",
              "      <td>-1.37</td>\n",
              "      <td>-0.68</td>\n",
              "      <td>-0.77</td>\n",
              "      <td>-0.60</td>\n",
              "      <td>-1.00</td>\n",
              "      <td>0.71</td>\n",
              "      <td>-2.20</td>\n",
              "      <td>-0.29</td>\n",
              "      <td>-0.13</td>\n",
              "      <td>-2.21</td>\n",
              "    </tr>\n",
              "    <tr>\n",
              "      <th>2</th>\n",
              "      <td>-0.82</td>\n",
              "      <td>0.71</td>\n",
              "      <td>0.31</td>\n",
              "      <td>-1.19</td>\n",
              "      <td>0.39</td>\n",
              "      <td>1.83</td>\n",
              "      <td>0.38</td>\n",
              "      <td>-2.15</td>\n",
              "      <td>-1.77</td>\n",
              "      <td>-1.71</td>\n",
              "      <td>...</td>\n",
              "      <td>-0.13</td>\n",
              "      <td>0.36</td>\n",
              "      <td>-1.04</td>\n",
              "      <td>-1.01</td>\n",
              "      <td>-1.05</td>\n",
              "      <td>0.86</td>\n",
              "      <td>0.27</td>\n",
              "      <td>0.72</td>\n",
              "      <td>-1.28</td>\n",
              "      <td>-2.21</td>\n",
              "    </tr>\n",
              "    <tr>\n",
              "      <th>3</th>\n",
              "      <td>0.82</td>\n",
              "      <td>-0.21</td>\n",
              "      <td>-1.95</td>\n",
              "      <td>-0.26</td>\n",
              "      <td>0.07</td>\n",
              "      <td>-1.42</td>\n",
              "      <td>0.74</td>\n",
              "      <td>0.33</td>\n",
              "      <td>-0.33</td>\n",
              "      <td>-0.57</td>\n",
              "      <td>...</td>\n",
              "      <td>-1.37</td>\n",
              "      <td>-0.68</td>\n",
              "      <td>-0.77</td>\n",
              "      <td>-0.60</td>\n",
              "      <td>-1.00</td>\n",
              "      <td>0.71</td>\n",
              "      <td>-2.20</td>\n",
              "      <td>-0.29</td>\n",
              "      <td>-0.13</td>\n",
              "      <td>-2.21</td>\n",
              "    </tr>\n",
              "    <tr>\n",
              "      <th>4</th>\n",
              "      <td>0.82</td>\n",
              "      <td>-0.21</td>\n",
              "      <td>-1.95</td>\n",
              "      <td>-0.26</td>\n",
              "      <td>0.07</td>\n",
              "      <td>-1.42</td>\n",
              "      <td>0.74</td>\n",
              "      <td>0.33</td>\n",
              "      <td>-0.33</td>\n",
              "      <td>-0.57</td>\n",
              "      <td>...</td>\n",
              "      <td>-0.03</td>\n",
              "      <td>0.66</td>\n",
              "      <td>2.12</td>\n",
              "      <td>-0.82</td>\n",
              "      <td>1.70</td>\n",
              "      <td>-0.04</td>\n",
              "      <td>1.44</td>\n",
              "      <td>-1.63</td>\n",
              "      <td>1.47</td>\n",
              "      <td>-2.21</td>\n",
              "    </tr>\n",
              "  </tbody>\n",
              "</table>\n",
              "<p>5 rows × 41 columns</p>\n",
              "</div>"
            ],
            "text/plain": [
              "     I1    I2    I3    I4    I5    I6   I7    I8    I9   I10  ...    I32  \\\n",
              "0  1.19  2.22 -0.86 -1.31 -0.63 -0.94 1.28  0.27 -0.25  0.19  ...  -1.37   \n",
              "1 -0.82  0.71  0.31 -1.19  0.39  1.83 0.38 -2.15 -1.77 -1.71  ...  -1.37   \n",
              "2 -0.82  0.71  0.31 -1.19  0.39  1.83 0.38 -2.15 -1.77 -1.71  ...  -0.13   \n",
              "3  0.82 -0.21 -1.95 -0.26  0.07 -1.42 0.74  0.33 -0.33 -0.57  ...  -1.37   \n",
              "4  0.82 -0.21 -1.95 -0.26  0.07 -1.42 0.74  0.33 -0.33 -0.57  ...  -0.03   \n",
              "\n",
              "    I33   I34   I35   I36   I37   I38   I39   I40     D  \n",
              "0 -0.68 -0.77 -0.60 -1.00  0.71 -2.20 -0.29 -0.13 -2.21  \n",
              "1 -0.68 -0.77 -0.60 -1.00  0.71 -2.20 -0.29 -0.13 -2.21  \n",
              "2  0.36 -1.04 -1.01 -1.05  0.86  0.27  0.72 -1.28 -2.21  \n",
              "3 -0.68 -0.77 -0.60 -1.00  0.71 -2.20 -0.29 -0.13 -2.21  \n",
              "4  0.66  2.12 -0.82  1.70 -0.04  1.44 -1.63  1.47 -2.21  \n",
              "\n",
              "[5 rows x 41 columns]"
            ]
          },
          "metadata": {
            "tags": []
          },
          "execution_count": 10
        }
      ]
    },
    {
      "metadata": {
        "id": "4sDCOCFe5wYR",
        "colab_type": "code",
        "colab": {
          "base_uri": "https://localhost:8080/",
          "height": 610
        },
        "outputId": "099b53c0-9cb9-4bff-ecf3-27afb20031e2"
      },
      "cell_type": "code",
      "source": [
        "plt.figure(figsize=(5,10))\n",
        "tempdf = df.corr()[['D']].sort_values('D',ascending=False)\n",
        "sns.heatmap(tempdf, annot=True, vmin=-1,vmax=1,)"
      ],
      "execution_count": 13,
      "outputs": [
        {
          "output_type": "execute_result",
          "data": {
            "text/plain": [
              "<matplotlib.axes._subplots.AxesSubplot at 0x7f88efb78710>"
            ]
          },
          "metadata": {
            "tags": []
          },
          "execution_count": 13
        },
        {
          "output_type": "display_data",
          "data": {
            "image/png": "[encoded data removed]",
            "text/plain": [
              "<matplotlib.figure.Figure at 0x7f88efbffb38>"
            ]
          },
          "metadata": {
            "tags": []
          }
        }
      ]
    },
    {
      "metadata": {
        "id": "3HwMpVmjEzu4",
        "colab_type": "code",
        "colab": {
          "base_uri": "https://localhost:8080/",
          "height": 35
        },
        "outputId": "6e92fa1d-19f7-45aa-f4d4-a236590fa583"
      },
      "cell_type": "code",
      "source": [
        "X = df.drop(['D'],axis=1).values\n",
        "y = (df['D'].values).reshape(-1,1)\n",
        "\n",
        "X_train, X_test, y_train, y_test = train_test_split(X, y, test_size=0.2, random_state=0)\n",
        "print(X_train.shape, y_train.shape, X_test.shape, y_test.shape)"
      ],
      "execution_count": 15,
      "outputs": [
        {
          "output_type": "stream",
          "text": [
            "(47124, 40) (47124, 1) (11781, 40) (11781, 1)\n"
          ],
          "name": "stdout"
        }
      ]
    },
    {
      "metadata": {
        "id": "WxN3vbgHGVxw",
        "colab_type": "text"
      },
      "cell_type": "markdown",
      "source": [
        "### 2. Building a Deep Neural Network Using ReLU as activation function"
      ]
    },
    {
      "metadata": {
        "id": "7PSFsISqIGWA",
        "colab_type": "text"
      },
      "cell_type": "markdown",
      "source": [
        "#### plot the loss"
      ]
    },
    {
      "metadata": {
        "id": "GDrx7odIIFwZ",
        "colab_type": "code",
        "colab": {}
      },
      "cell_type": "code",
      "source": [
        "def plot_loss(history):\n",
        "    historydf = pd.DataFrame(history.history, index=history.epoch)\n",
        "    plt.figure(figsize=(8, 6))\n",
        "    historydf.plot(ylim=(0, historydf.values.max()))\n",
        "    plt.title('Loss: %.3f' % history.history['loss'][-1])"
      ],
      "execution_count": 0,
      "outputs": []
    },
    {
      "metadata": {
        "id": "P_N7dY91JR5O",
        "colab_type": "text"
      },
      "cell_type": "markdown",
      "source": [
        "### 2.1 Initialze with ReLU and value of Zeros"
      ]
    },
    {
      "metadata": {
        "id": "yKL4hE-7FuLw",
        "colab_type": "code",
        "colab": {}
      },
      "cell_type": "code",
      "source": [
        "model_1 = Sequential()\n",
        "model_1.add(Dense(64, input_shape=(X.shape[1],), activation='relu',kernel_initializer='zeros'))\n",
        "model_1.add(Dense(32, activation='relu', kernel_initializer='zeros'))\n",
        "model_1.add(Dense(16, activation='relu', kernel_initializer='zeros'))\n",
        "model_1.add(Dense(8, activation='relu',kernel_initializer='zeros'))\n",
        "model_1.add(Dense(1))"
      ],
      "execution_count": 0,
      "outputs": []
    },
    {
      "metadata": {
        "id": "SmK1rIf_HMDi",
        "colab_type": "code",
        "colab": {
          "base_uri": "https://localhost:8080/",
          "height": 3415
        },
        "collapsed": true,
        "outputId": "67f1d9dc-f931-409e-e432-281ce8b8ee1c"
      },
      "cell_type": "code",
      "source": [
        "model_1.compile('adam','mse')\n",
        "model_1_history = model_1.fit(X_train, y_train, epochs=100, verbose=1, validation_split=0.2)"
      ],
      "execution_count": 17,
      "outputs": [
        {
          "output_type": "stream",
          "text": [
            "Train on 37699 samples, validate on 9425 samples\n",
            "Epoch 1/100\n",
            "37699/37699 [==============================] - 10s 269us/step - loss: 0.9912 - val_loss: 1.0099\n",
            "Epoch 2/100\n",
            "37699/37699 [==============================] - 9s 246us/step - loss: 0.9912 - val_loss: 1.0099\n",
            "Epoch 3/100\n",
            "24928/37699 [==================>...........] - ETA: 2s - loss: 0.9870"
          ],
          "name": "stdout"
        },
        {
          "output_type": "stream",
          "text": [
            "37699/37699 [==============================] - 9s 247us/step - loss: 0.9913 - val_loss: 1.0099\n",
            "Epoch 4/100\n",
            "37699/37699 [==============================] - 9s 249us/step - loss: 0.9912 - val_loss: 1.0099\n",
            "Epoch 5/100\n",
            "37699/37699 [==============================] - 9s 248us/step - loss: 0.9913 - val_loss: 1.0100\n",
            "Epoch 6/100\n",
            "10144/37699 [=======>......................] - ETA: 6s - loss: 1.0014"
          ],
          "name": "stdout"
        },
        {
          "output_type": "stream",
          "text": [
            "37699/37699 [==============================] - 9s 246us/step - loss: 0.9912 - val_loss: 1.0102\n",
            "Epoch 7/100\n",
            "37699/37699 [==============================] - 9s 245us/step - loss: 0.9913 - val_loss: 1.0100\n",
            "Epoch 8/100\n",
            "37699/37699 [==============================] - 9s 245us/step - loss: 0.9912 - val_loss: 1.0099\n",
            "Epoch 9/100\n",
            " 8192/37699 [=====>........................] - ETA: 6s - loss: 0.9939"
          ],
          "name": "stdout"
        },
        {
          "output_type": "stream",
          "text": [
            "37699/37699 [==============================] - 9s 246us/step - loss: 0.9913 - val_loss: 1.0100\n",
            "Epoch 10/100\n",
            "37699/37699 [==============================] - 9s 247us/step - loss: 0.9912 - val_loss: 1.0099\n",
            "Epoch 11/100\n",
            "37699/37699 [==============================] - 9s 248us/step - loss: 0.9911 - val_loss: 1.0102\n",
            "Epoch 12/100\n",
            " 7104/37699 [====>.........................] - ETA: 7s - loss: 0.9890"
          ],
          "name": "stdout"
        },
        {
          "output_type": "stream",
          "text": [
            "37699/37699 [==============================] - 9s 248us/step - loss: 0.9913 - val_loss: 1.0099\n",
            "Epoch 13/100\n",
            "37699/37699 [==============================] - 9s 246us/step - loss: 0.9912 - val_loss: 1.0100\n",
            "Epoch 14/100\n",
            "37699/37699 [==============================] - 9s 246us/step - loss: 0.9912 - val_loss: 1.0099\n",
            "Epoch 15/100\n",
            " 7392/37699 [====>.........................] - ETA: 6s - loss: 0.9868"
          ],
          "name": "stdout"
        },
        {
          "output_type": "stream",
          "text": [
            "37699/37699 [==============================] - 9s 246us/step - loss: 0.9913 - val_loss: 1.0102\n",
            "Epoch 16/100\n",
            "37699/37699 [==============================] - 9s 244us/step - loss: 0.9913 - val_loss: 1.0100\n",
            "Epoch 17/100\n",
            "37699/37699 [==============================] - 9s 247us/step - loss: 0.9912 - val_loss: 1.0100\n",
            "Epoch 18/100\n",
            " 7456/37699 [====>.........................] - ETA: 6s - loss: 1.0082"
          ],
          "name": "stdout"
        },
        {
          "output_type": "stream",
          "text": [
            "37699/37699 [==============================] - 9s 244us/step - loss: 0.9912 - val_loss: 1.0099\n",
            "Epoch 19/100\n",
            "37699/37699 [==============================] - 9s 248us/step - loss: 0.9911 - val_loss: 1.0101\n",
            "Epoch 20/100\n",
            "37699/37699 [==============================] - 9s 247us/step - loss: 0.9913 - val_loss: 1.0101\n",
            "Epoch 21/100\n",
            " 7136/37699 [====>.........................] - ETA: 7s - loss: 1.0241"
          ],
          "name": "stdout"
        },
        {
          "output_type": "stream",
          "text": [
            "37699/37699 [==============================] - 9s 249us/step - loss: 0.9912 - val_loss: 1.0099\n",
            "Epoch 22/100\n",
            "37699/37699 [==============================] - 9s 248us/step - loss: 0.9912 - val_loss: 1.0100\n",
            "Epoch 23/100\n",
            "37699/37699 [==============================] - 9s 250us/step - loss: 0.9913 - val_loss: 1.0099\n",
            "Epoch 24/100\n",
            " 6592/37699 [====>.........................] - ETA: 7s - loss: 0.9924"
          ],
          "name": "stdout"
        },
        {
          "output_type": "stream",
          "text": [
            "37699/37699 [==============================] - 9s 247us/step - loss: 0.9912 - val_loss: 1.0099\n",
            "Epoch 25/100\n",
            "37699/37699 [==============================] - 9s 247us/step - loss: 0.9913 - val_loss: 1.0099\n",
            "Epoch 26/100\n",
            "37699/37699 [==============================] - 9s 250us/step - loss: 0.9912 - val_loss: 1.0100\n",
            "Epoch 27/100\n",
            " 6464/37699 [====>.........................] - ETA: 7s - loss: 0.9859"
          ],
          "name": "stdout"
        },
        {
          "output_type": "stream",
          "text": [
            "37699/37699 [==============================] - 9s 249us/step - loss: 0.9912 - val_loss: 1.0100\n",
            "Epoch 28/100\n",
            "37699/37699 [==============================] - 9s 247us/step - loss: 0.9912 - val_loss: 1.0100\n",
            "Epoch 29/100\n",
            "37699/37699 [==============================] - 9s 249us/step - loss: 0.9913 - val_loss: 1.0099\n",
            "Epoch 30/100\n",
            " 6688/37699 [====>.........................] - ETA: 7s - loss: 0.9809"
          ],
          "name": "stdout"
        },
        {
          "output_type": "stream",
          "text": [
            "37699/37699 [==============================] - 9s 248us/step - loss: 0.9912 - val_loss: 1.0099\n",
            "Epoch 31/100\n",
            "37699/37699 [==============================] - 9s 249us/step - loss: 0.9912 - val_loss: 1.0099\n",
            "Epoch 32/100\n",
            "37699/37699 [==============================] - 9s 246us/step - loss: 0.9913 - val_loss: 1.0099\n",
            "Epoch 33/100\n",
            " 6752/37699 [====>.........................] - ETA: 7s - loss: 1.0031"
          ],
          "name": "stdout"
        },
        {
          "output_type": "stream",
          "text": [
            "37699/37699 [==============================] - 9s 249us/step - loss: 0.9913 - val_loss: 1.0099\n",
            "Epoch 34/100\n",
            "37699/37699 [==============================] - 9s 246us/step - loss: 0.9912 - val_loss: 1.0099\n",
            "Epoch 35/100\n",
            "37699/37699 [==============================] - 9s 246us/step - loss: 0.9912 - val_loss: 1.0100\n",
            "Epoch 36/100\n",
            " 7168/37699 [====>.........................] - ETA: 7s - loss: 0.9724"
          ],
          "name": "stdout"
        },
        {
          "output_type": "stream",
          "text": [
            "37699/37699 [==============================] - 9s 247us/step - loss: 0.9912 - val_loss: 1.0100\n",
            "Epoch 37/100\n",
            "37699/37699 [==============================] - 9s 247us/step - loss: 0.9912 - val_loss: 1.0099\n",
            "Epoch 38/100\n",
            "37699/37699 [==============================] - 9s 248us/step - loss: 0.9913 - val_loss: 1.0100\n",
            "Epoch 39/100\n",
            " 6848/37699 [====>.........................] - ETA: 7s - loss: 0.9736"
          ],
          "name": "stdout"
        },
        {
          "output_type": "stream",
          "text": [
            "37699/37699 [==============================] - 9s 248us/step - loss: 0.9912 - val_loss: 1.0100\n",
            "Epoch 40/100\n",
            "37699/37699 [==============================] - 9s 245us/step - loss: 0.9912 - val_loss: 1.0099\n",
            "Epoch 41/100\n",
            "37699/37699 [==============================] - 9s 247us/step - loss: 0.9913 - val_loss: 1.0099\n",
            "Epoch 42/100\n",
            " 7040/37699 [====>.........................] - ETA: 7s - loss: 0.9851"
          ],
          "name": "stdout"
        },
        {
          "output_type": "stream",
          "text": [
            "37699/37699 [==============================] - 9s 249us/step - loss: 0.9913 - val_loss: 1.0100\n",
            "Epoch 43/100\n",
            "37699/37699 [==============================] - 9s 248us/step - loss: 0.9913 - val_loss: 1.0099\n",
            "Epoch 44/100\n",
            "37699/37699 [==============================] - 9s 244us/step - loss: 0.9913 - val_loss: 1.0100\n",
            "Epoch 45/100\n",
            " 7232/37699 [====>.........................] - ETA: 7s - loss: 1.0006"
          ],
          "name": "stdout"
        },
        {
          "output_type": "stream",
          "text": [
            "37699/37699 [==============================] - 9s 248us/step - loss: 0.9912 - val_loss: 1.0099\n",
            "Epoch 46/100\n",
            "37699/37699 [==============================] - 9s 250us/step - loss: 0.9912 - val_loss: 1.0099\n",
            "Epoch 47/100\n",
            "37699/37699 [==============================] - 9s 248us/step - loss: 0.9912 - val_loss: 1.0099\n",
            "Epoch 48/100\n",
            " 6656/37699 [====>.........................] - ETA: 7s - loss: 0.9928"
          ],
          "name": "stdout"
        },
        {
          "output_type": "stream",
          "text": [
            "37699/37699 [==============================] - 9s 248us/step - loss: 0.9912 - val_loss: 1.0100\n",
            "Epoch 49/100\n",
            "37699/37699 [==============================] - 9s 249us/step - loss: 0.9912 - val_loss: 1.0099\n",
            "Epoch 50/100\n",
            "37699/37699 [==============================] - 9s 247us/step - loss: 0.9912 - val_loss: 1.0099\n",
            "Epoch 51/100\n",
            " 6816/37699 [====>.........................] - ETA: 7s - loss: 0.9877"
          ],
          "name": "stdout"
        },
        {
          "output_type": "stream",
          "text": [
            "37699/37699 [==============================] - 9s 247us/step - loss: 0.9912 - val_loss: 1.0099\n",
            "Epoch 52/100\n",
            "37699/37699 [==============================] - 9s 248us/step - loss: 0.9912 - val_loss: 1.0100\n",
            "Epoch 53/100\n",
            "37699/37699 [==============================] - 9s 248us/step - loss: 0.9912 - val_loss: 1.0100\n",
            "Epoch 54/100\n",
            " 6720/37699 [====>.........................] - ETA: 7s - loss: 1.0097"
          ],
          "name": "stdout"
        },
        {
          "output_type": "stream",
          "text": [
            "37699/37699 [==============================] - 9s 246us/step - loss: 0.9913 - val_loss: 1.0102\n",
            "Epoch 55/100\n",
            "37699/37699 [==============================] - 9s 244us/step - loss: 0.9912 - val_loss: 1.0101\n",
            "Epoch 56/100\n",
            "37699/37699 [==============================] - 9s 241us/step - loss: 0.9912 - val_loss: 1.0099\n",
            "Epoch 57/100\n",
            " 8544/37699 [=====>........................] - ETA: 6s - loss: 1.0069"
          ],
          "name": "stdout"
        },
        {
          "output_type": "stream",
          "text": [
            "37699/37699 [==============================] - 9s 246us/step - loss: 0.9912 - val_loss: 1.0103\n",
            "Epoch 58/100\n",
            "37699/37699 [==============================] - 9s 248us/step - loss: 0.9913 - val_loss: 1.0099\n",
            "Epoch 59/100\n",
            "37699/37699 [==============================] - 9s 246us/step - loss: 0.9912 - val_loss: 1.0099\n",
            "Epoch 60/100\n",
            " 7360/37699 [====>.........................] - ETA: 7s - loss: 0.9852"
          ],
          "name": "stdout"
        },
        {
          "output_type": "stream",
          "text": [
            "37699/37699 [==============================] - 9s 247us/step - loss: 0.9912 - val_loss: 1.0100\n",
            "Epoch 61/100\n",
            "37699/37699 [==============================] - 9s 246us/step - loss: 0.9912 - val_loss: 1.0102\n",
            "Epoch 62/100\n",
            "37699/37699 [==============================] - 9s 246us/step - loss: 0.9912 - val_loss: 1.0100\n",
            "Epoch 63/100\n",
            " 6976/37699 [====>.........................] - ETA: 7s - loss: 1.0065"
          ],
          "name": "stdout"
        },
        {
          "output_type": "stream",
          "text": [
            "37699/37699 [==============================] - 9s 247us/step - loss: 0.9912 - val_loss: 1.0099\n",
            "Epoch 64/100\n",
            "37699/37699 [==============================] - 9s 245us/step - loss: 0.9912 - val_loss: 1.0099\n",
            "Epoch 65/100\n",
            "37699/37699 [==============================] - 9s 248us/step - loss: 0.9913 - val_loss: 1.0100\n",
            "Epoch 66/100\n",
            " 7008/37699 [====>.........................] - ETA: 7s - loss: 0.9889"
          ],
          "name": "stdout"
        },
        {
          "output_type": "stream",
          "text": [
            "37699/37699 [==============================] - 9s 247us/step - loss: 0.9912 - val_loss: 1.0101\n",
            "Epoch 67/100\n",
            "37699/37699 [==============================] - 9s 246us/step - loss: 0.9913 - val_loss: 1.0100\n",
            "Epoch 68/100\n",
            "37699/37699 [==============================] - 9s 247us/step - loss: 0.9913 - val_loss: 1.0099\n",
            "Epoch 69/100\n",
            " 7264/37699 [====>.........................] - ETA: 7s - loss: 0.9749"
          ],
          "name": "stdout"
        },
        {
          "output_type": "stream",
          "text": [
            "37699/37699 [==============================] - 9s 247us/step - loss: 0.9913 - val_loss: 1.0099\n",
            "Epoch 70/100\n",
            "37699/37699 [==============================] - 9s 248us/step - loss: 0.9912 - val_loss: 1.0100\n",
            "Epoch 71/100\n",
            "37699/37699 [==============================] - 9s 246us/step - loss: 0.9913 - val_loss: 1.0100\n",
            "Epoch 72/100\n",
            " 7104/37699 [====>.........................] - ETA: 7s - loss: 1.0010"
          ],
          "name": "stdout"
        },
        {
          "output_type": "stream",
          "text": [
            "37699/37699 [==============================] - 9s 246us/step - loss: 0.9913 - val_loss: 1.0099\n",
            "Epoch 73/100\n",
            "37699/37699 [==============================] - 9s 247us/step - loss: 0.9912 - val_loss: 1.0100\n",
            "Epoch 74/100\n",
            "37699/37699 [==============================] - 9s 246us/step - loss: 0.9912 - val_loss: 1.0101\n",
            "Epoch 75/100\n",
            " 7392/37699 [====>.........................] - ETA: 7s - loss: 1.0088"
          ],
          "name": "stdout"
        },
        {
          "output_type": "stream",
          "text": [
            "37699/37699 [==============================] - 9s 246us/step - loss: 0.9913 - val_loss: 1.0099\n",
            "Epoch 76/100\n",
            "37699/37699 [==============================] - 9s 245us/step - loss: 0.9912 - val_loss: 1.0100\n",
            "Epoch 77/100\n",
            "37699/37699 [==============================] - 9s 247us/step - loss: 0.9912 - val_loss: 1.0099\n",
            "Epoch 78/100\n",
            " 7200/37699 [====>.........................] - ETA: 7s - loss: 0.9853"
          ],
          "name": "stdout"
        },
        {
          "output_type": "stream",
          "text": [
            "37699/37699 [==============================] - 9s 248us/step - loss: 0.9912 - val_loss: 1.0102\n",
            "Epoch 79/100\n",
            "37699/37699 [==============================] - 9s 247us/step - loss: 0.9913 - val_loss: 1.0100\n",
            "Epoch 80/100\n",
            "37699/37699 [==============================] - 9s 247us/step - loss: 0.9912 - val_loss: 1.0100\n",
            "Epoch 81/100\n",
            " 7136/37699 [====>.........................] - ETA: 7s - loss: 1.0245"
          ],
          "name": "stdout"
        },
        {
          "output_type": "stream",
          "text": [
            "37699/37699 [==============================] - 9s 246us/step - loss: 0.9913 - val_loss: 1.0099\n",
            "Epoch 82/100\n",
            "37699/37699 [==============================] - 9s 247us/step - loss: 0.9912 - val_loss: 1.0099\n",
            "Epoch 83/100\n",
            "37699/37699 [==============================] - 9s 246us/step - loss: 0.9912 - val_loss: 1.0099\n",
            "Epoch 84/100\n",
            " 7264/37699 [====>.........................] - ETA: 7s - loss: 0.9969"
          ],
          "name": "stdout"
        },
        {
          "output_type": "stream",
          "text": [
            "37699/37699 [==============================] - 9s 249us/step - loss: 0.9913 - val_loss: 1.0100\n",
            "Epoch 85/100\n",
            "37699/37699 [==============================] - 9s 247us/step - loss: 0.9913 - val_loss: 1.0099\n",
            "Epoch 86/100\n",
            "37699/37699 [==============================] - 9s 247us/step - loss: 0.9912 - val_loss: 1.0100\n",
            "Epoch 87/100\n",
            " 6784/37699 [====>.........................] - ETA: 7s - loss: 0.9945"
          ],
          "name": "stdout"
        },
        {
          "output_type": "stream",
          "text": [
            "37699/37699 [==============================] - 9s 249us/step - loss: 0.9912 - val_loss: 1.0099\n",
            "Epoch 88/100\n",
            "37699/37699 [==============================] - 9s 250us/step - loss: 0.9912 - val_loss: 1.0099\n",
            "Epoch 89/100\n",
            "37699/37699 [==============================] - 9s 246us/step - loss: 0.9912 - val_loss: 1.0099\n",
            "Epoch 90/100\n",
            " 6752/37699 [====>.........................] - ETA: 7s - loss: 1.0151"
          ],
          "name": "stdout"
        },
        {
          "output_type": "stream",
          "text": [
            "37699/37699 [==============================] - 9s 247us/step - loss: 0.9912 - val_loss: 1.0102\n",
            "Epoch 91/100\n",
            "37699/37699 [==============================] - 9s 246us/step - loss: 0.9913 - val_loss: 1.0099\n",
            "Epoch 92/100\n",
            "37699/37699 [==============================] - 9s 245us/step - loss: 0.9912 - val_loss: 1.0100\n",
            "Epoch 93/100\n",
            " 7552/37699 [=====>........................] - ETA: 6s - loss: 1.0031"
          ],
          "name": "stdout"
        },
        {
          "output_type": "stream",
          "text": [
            "37699/37699 [==============================] - 9s 245us/step - loss: 0.9912 - val_loss: 1.0099\n",
            "Epoch 94/100\n",
            "37699/37699 [==============================] - 9s 245us/step - loss: 0.9913 - val_loss: 1.0099\n",
            "Epoch 95/100\n",
            "37699/37699 [==============================] - 9s 244us/step - loss: 0.9913 - val_loss: 1.0099\n",
            "Epoch 96/100\n",
            " 7712/37699 [=====>........................] - ETA: 7s - loss: 0.9893"
          ],
          "name": "stdout"
        },
        {
          "output_type": "stream",
          "text": [
            "37699/37699 [==============================] - 9s 246us/step - loss: 0.9913 - val_loss: 1.0099\n",
            "Epoch 97/100\n",
            "37699/37699 [==============================] - 9s 245us/step - loss: 0.9912 - val_loss: 1.0101\n",
            "Epoch 98/100\n",
            "37699/37699 [==============================] - 9s 246us/step - loss: 0.9913 - val_loss: 1.0100\n",
            "Epoch 99/100\n",
            " 7616/37699 [=====>........................] - ETA: 7s - loss: 0.9686"
          ],
          "name": "stdout"
        },
        {
          "output_type": "stream",
          "text": [
            "37699/37699 [==============================] - 9s 247us/step - loss: 0.9912 - val_loss: 1.0099\n",
            "Epoch 100/100\n",
            "37699/37699 [==============================] - 9s 245us/step - loss: 0.9912 - val_loss: 1.0099\n"
          ],
          "name": "stdout"
        }
      ]
    },
    {
      "metadata": {
        "id": "5PHVDwXiLzwt",
        "colab_type": "text"
      },
      "cell_type": "markdown",
      "source": [
        "### 2.2 Initialize with ReLU and RandomNormal mean=0.0, stddev=0.4"
      ]
    },
    {
      "metadata": {
        "id": "9QIgFhpWLLCR",
        "colab_type": "code",
        "colab": {}
      },
      "cell_type": "code",
      "source": [
        "init = initializers.RandomNormal(mean=0.0, stddev=0.4)\n",
        "model_2 = Sequential()\n",
        "model_2.add(Dense(64, input_shape=(X.shape[1],), activation='relu',kernel_initializer=init))\n",
        "model_2.add(Dense(32, activation='relu', kernel_initializer= init))\n",
        "model_2.add(Dense(16, activation='relu', kernel_initializer=init))\n",
        "model_2.add(Dense(8, activation='relu',kernel_initializer=init))\n",
        "model_2.add(Dense(1))"
      ],
      "execution_count": 0,
      "outputs": []
    },
    {
      "metadata": {
        "id": "kgnaX5iCMWV1",
        "colab_type": "code",
        "colab": {
          "base_uri": "https://localhost:8080/",
          "height": 1113
        },
        "collapsed": true,
        "outputId": "3bbf9916-4999-427d-c0f3-38225429c87d"
      },
      "cell_type": "code",
      "source": [
        "model_2.compile('adam','mse')\n",
        "early_stop = EarlyStopping(monitor='val_loss', patience=3, verbose=1)\n",
        "model_2_history = model_2.fit(X_train,y_train,epochs=50, verbose=1, \n",
        "                              validation_split=0.2,callbacks=[early_stop])"
      ],
      "execution_count": 28,
      "outputs": [
        {
          "output_type": "stream",
          "text": [
            "Train on 37699 samples, validate on 9425 samples\n",
            "Epoch 1/50\n",
            "37699/37699 [==============================] - 10s 253us/step - loss: 1.5079 - val_loss: 0.6732\n",
            "Epoch 2/50\n",
            "37699/37699 [==============================] - 10s 252us/step - loss: 0.5817 - val_loss: 0.5273\n",
            "Epoch 3/50\n",
            "24480/37699 [==================>...........] - ETA: 3s - loss: 0.4929"
          ],
          "name": "stdout"
        },
        {
          "output_type": "stream",
          "text": [
            "37699/37699 [==============================] - 9s 250us/step - loss: 0.4830 - val_loss: 0.4725\n",
            "Epoch 4/50\n",
            "37699/37699 [==============================] - 9s 251us/step - loss: 0.4314 - val_loss: 0.4223\n",
            "Epoch 5/50\n",
            "37699/37699 [==============================] - 9s 251us/step - loss: 0.3948 - val_loss: 0.4026\n",
            "Epoch 6/50\n",
            "10144/37699 [=======>......................] - ETA: 6s - loss: 0.3790"
          ],
          "name": "stdout"
        },
        {
          "output_type": "stream",
          "text": [
            "37699/37699 [==============================] - 9s 248us/step - loss: 0.3694 - val_loss: 0.3787\n",
            "Epoch 7/50\n",
            "37699/37699 [==============================] - 9s 250us/step - loss: 0.3480 - val_loss: 0.3605\n",
            "Epoch 8/50\n",
            "37699/37699 [==============================] - 10s 252us/step - loss: 0.3328 - val_loss: 0.3493\n",
            "Epoch 9/50\n",
            " 6816/37699 [====>.........................] - ETA: 7s - loss: 0.3239"
          ],
          "name": "stdout"
        },
        {
          "output_type": "stream",
          "text": [
            "37699/37699 [==============================] - 9s 251us/step - loss: 0.3207 - val_loss: 0.3352\n",
            "Epoch 10/50\n",
            "37699/37699 [==============================] - 9s 249us/step - loss: 0.3089 - val_loss: 0.3293\n",
            "Epoch 11/50\n",
            "37699/37699 [==============================] - 9s 249us/step - loss: 0.3006 - val_loss: 0.3258\n",
            "Epoch 12/50\n",
            " 6944/37699 [====>.........................] - ETA: 7s - loss: 0.2863"
          ],
          "name": "stdout"
        },
        {
          "output_type": "stream",
          "text": [
            "37699/37699 [==============================] - 9s 249us/step - loss: 0.2917 - val_loss: 0.3274\n",
            "Epoch 13/50\n",
            "37699/37699 [==============================] - 9s 252us/step - loss: 0.2859 - val_loss: 0.3350\n",
            "Epoch 14/50\n",
            "37699/37699 [==============================] - 9s 251us/step - loss: 0.2799 - val_loss: 0.3099\n",
            "Epoch 15/50\n",
            " 6304/37699 [====>.........................] - ETA: 7s - loss: 0.2657"
          ],
          "name": "stdout"
        },
        {
          "output_type": "stream",
          "text": [
            "37699/37699 [==============================] - 10s 252us/step - loss: 0.2745 - val_loss: 0.3205\n",
            "Epoch 16/50\n",
            "37699/37699 [==============================] - 9s 252us/step - loss: 0.2703 - val_loss: 0.3078\n",
            "Epoch 17/50\n",
            "37699/37699 [==============================] - 9s 252us/step - loss: 0.2653 - val_loss: 0.3377\n",
            "Epoch 18/50\n",
            " 5984/37699 [===>..........................] - ETA: 7s - loss: 0.2534"
          ],
          "name": "stdout"
        },
        {
          "output_type": "stream",
          "text": [
            "37699/37699 [==============================] - 9s 251us/step - loss: 0.2618 - val_loss: 0.3004\n",
            "Epoch 19/50\n",
            "37699/37699 [==============================] - 9s 250us/step - loss: 0.2587 - val_loss: 0.3067\n",
            "Epoch 20/50\n",
            "37699/37699 [==============================] - 9s 252us/step - loss: 0.2549 - val_loss: 0.3056\n",
            "Epoch 21/50\n",
            " 6304/37699 [====>.........................] - ETA: 7s - loss: 0.2413"
          ],
          "name": "stdout"
        },
        {
          "output_type": "stream",
          "text": [
            "37699/37699 [==============================] - 9s 250us/step - loss: 0.2521 - val_loss: 0.2968\n",
            "Epoch 22/50\n",
            "37699/37699 [==============================] - 9s 250us/step - loss: 0.2495 - val_loss: 0.2982\n",
            "Epoch 23/50\n",
            "37699/37699 [==============================] - 9s 251us/step - loss: 0.2461 - val_loss: 0.2924\n",
            "Epoch 24/50\n",
            " 6496/37699 [====>.........................] - ETA: 7s - loss: 0.2450"
          ],
          "name": "stdout"
        },
        {
          "output_type": "stream",
          "text": [
            "37699/37699 [==============================] - 9s 250us/step - loss: 0.2446 - val_loss: 0.2921\n",
            "Epoch 25/50\n",
            "37699/37699 [==============================] - 9s 251us/step - loss: 0.2418 - val_loss: 0.2892\n",
            "Epoch 26/50\n",
            "37699/37699 [==============================] - 9s 251us/step - loss: 0.2395 - val_loss: 0.2936\n",
            "Epoch 27/50\n",
            " 6368/37699 [====>.........................] - ETA: 7s - loss: 0.2324"
          ],
          "name": "stdout"
        },
        {
          "output_type": "stream",
          "text": [
            "37699/37699 [==============================] - 9s 251us/step - loss: 0.2380 - val_loss: 0.2899\n",
            "Epoch 28/50\n",
            "37699/37699 [==============================] - 9s 251us/step - loss: 0.2349 - val_loss: 0.2875\n",
            "Epoch 29/50\n",
            "37699/37699 [==============================] - 10s 253us/step - loss: 0.2342 - val_loss: 0.2897\n",
            "Epoch 30/50\n",
            " 6304/37699 [====>.........................] - ETA: 7s - loss: 0.2307"
          ],
          "name": "stdout"
        },
        {
          "output_type": "stream",
          "text": [
            "37699/37699 [==============================] - 9s 251us/step - loss: 0.2325 - val_loss: 0.2905\n",
            "Epoch 31/50\n",
            "37699/37699 [==============================] - 10s 253us/step - loss: 0.2314 - val_loss: 0.3010\n",
            "Epoch 00031: early stopping\n"
          ],
          "name": "stdout"
        }
      ]
    },
    {
      "metadata": {
        "id": "YmJeJNG8Oo1M",
        "colab_type": "text"
      },
      "cell_type": "markdown",
      "source": [
        "### 2.3 Initialize with ReLU and RandomNormal mean=0.0, stddev=0.1\n",
        "\n"
      ]
    },
    {
      "metadata": {
        "id": "lJ8HpUuJOj_L",
        "colab_type": "code",
        "colab": {}
      },
      "cell_type": "code",
      "source": [
        "init = initializers.RandomNormal(mean=0.0, stddev=0.1)\n",
        "model_3 = Sequential()\n",
        "model_3.add(Dense(64, input_shape=(X.shape[1],), activation='relu',kernel_initializer=init))\n",
        "model_3.add(Dense(32, activation='relu', kernel_initializer= init))\n",
        "model_3.add(Dense(16, activation='relu', kernel_initializer=init))\n",
        "model_3.add(Dense(8, activation='relu',kernel_initializer=init))\n",
        "model_3.add(Dense(1))"
      ],
      "execution_count": 0,
      "outputs": []
    },
    {
      "metadata": {
        "id": "1MhP40QfO0Rh",
        "colab_type": "code",
        "colab": {
          "base_uri": "https://localhost:8080/",
          "height": 676
        },
        "collapsed": true,
        "outputId": "a2625c23-17d1-4663-e259-056d8374847f"
      },
      "cell_type": "code",
      "source": [
        "model_3.compile('adam','mse')\n",
        "early_stop = EarlyStopping(monitor='val_loss', patience=3, verbose=1)\n",
        "model_3_history = model_3.fit(X_train,y_train,epochs=50, verbose=1, \n",
        "                              validation_split=0.2,callbacks=[early_stop])"
      ],
      "execution_count": 36,
      "outputs": [
        {
          "output_type": "stream",
          "text": [
            "Train on 37699 samples, validate on 9425 samples\n",
            "Epoch 1/50\n",
            "37699/37699 [==============================] - 10s 258us/step - loss: 0.4316 - val_loss: 0.3606\n",
            "Epoch 2/50\n",
            "37699/37699 [==============================] - 10s 254us/step - loss: 0.3377 - val_loss: 0.3352\n",
            "Epoch 3/50\n",
            "23648/37699 [=================>............] - ETA: 3s - loss: 0.3117"
          ],
          "name": "stdout"
        },
        {
          "output_type": "stream",
          "text": [
            "37699/37699 [==============================] - 10s 256us/step - loss: 0.3112 - val_loss: 0.3118\n",
            "Epoch 4/50\n",
            "37699/37699 [==============================] - 10s 254us/step - loss: 0.2923 - val_loss: 0.3043\n",
            "Epoch 5/50\n",
            "37699/37699 [==============================] - 9s 251us/step - loss: 0.2785 - val_loss: 0.2859\n",
            "Epoch 6/50\n",
            " 9216/37699 [======>.......................] - ETA: 6s - loss: 0.2694"
          ],
          "name": "stdout"
        },
        {
          "output_type": "stream",
          "text": [
            "37699/37699 [==============================] - 10s 254us/step - loss: 0.2678 - val_loss: 0.2841\n",
            "Epoch 7/50\n",
            "37699/37699 [==============================] - 9s 252us/step - loss: 0.2592 - val_loss: 0.2795\n",
            "Epoch 8/50\n",
            "37699/37699 [==============================] - 10s 254us/step - loss: 0.2514 - val_loss: 0.2753\n",
            "Epoch 9/50\n",
            " 6656/37699 [====>.........................] - ETA: 7s - loss: 0.2328"
          ],
          "name": "stdout"
        },
        {
          "output_type": "stream",
          "text": [
            "37699/37699 [==============================] - 10s 255us/step - loss: 0.2461 - val_loss: 0.2682\n",
            "Epoch 10/50\n",
            "37699/37699 [==============================] - 10s 253us/step - loss: 0.2408 - val_loss: 0.2681\n",
            "Epoch 11/50\n",
            "37699/37699 [==============================] - 10s 253us/step - loss: 0.2346 - val_loss: 0.2659\n",
            "Epoch 12/50\n",
            " 5600/37699 [===>..........................] - ETA: 7s - loss: 0.2301"
          ],
          "name": "stdout"
        },
        {
          "output_type": "stream",
          "text": [
            "37699/37699 [==============================] - 10s 252us/step - loss: 0.2310 - val_loss: 0.2826\n",
            "Epoch 13/50\n",
            "37699/37699 [==============================] - 10s 252us/step - loss: 0.2281 - val_loss: 0.2617\n",
            "Epoch 14/50\n",
            "37699/37699 [==============================] - 10s 253us/step - loss: 0.2229 - val_loss: 0.2675\n",
            "Epoch 15/50\n",
            " 5216/37699 [===>..........................] - ETA: 7s - loss: 0.2229"
          ],
          "name": "stdout"
        },
        {
          "output_type": "stream",
          "text": [
            "37699/37699 [==============================] - 10s 256us/step - loss: 0.2199 - val_loss: 0.2517\n",
            "Epoch 16/50\n",
            "37699/37699 [==============================] - 9s 252us/step - loss: 0.2166 - val_loss: 0.2541\n",
            "Epoch 17/50\n",
            "37699/37699 [==============================] - 10s 253us/step - loss: 0.2158 - val_loss: 0.2541\n",
            "Epoch 18/50\n",
            " 5568/37699 [===>..........................] - ETA: 7s - loss: 0.2021"
          ],
          "name": "stdout"
        },
        {
          "output_type": "stream",
          "text": [
            "37699/37699 [==============================] - 10s 253us/step - loss: 0.2121 - val_loss: 0.2542\n",
            "Epoch 00018: early stopping\n"
          ],
          "name": "stdout"
        }
      ]
    },
    {
      "metadata": {
        "id": "pY0hqpjZRLrb",
        "colab_type": "text"
      },
      "cell_type": "markdown",
      "source": [
        "### 2.4 Initialize with ReLU and Xavier Initialization"
      ]
    },
    {
      "metadata": {
        "id": "wl66p7OfRCuU",
        "colab_type": "code",
        "colab": {}
      },
      "cell_type": "code",
      "source": [
        "init = initializers.glorot_normal()\n",
        "model_4 = Sequential()\n",
        "model_4.add(Dense(64, input_shape=(X.shape[1],), activation='relu',kernel_initializer=init))\n",
        "model_4.add(Dense(32, activation='relu', kernel_initializer= init))\n",
        "model_4.add(Dense(16, activation='relu', kernel_initializer=init))\n",
        "model_4.add(Dense(8, activation='relu',kernel_initializer=init))\n",
        "model_4.add(Dense(1))"
      ],
      "execution_count": 0,
      "outputs": []
    },
    {
      "metadata": {
        "id": "fVUWJvIsS5Ai",
        "colab_type": "code",
        "colab": {
          "base_uri": "https://localhost:8080/",
          "height": 710
        },
        "collapsed": true,
        "outputId": "45cfffe1-b0da-4244-d64a-5c7c1dc1bf64"
      },
      "cell_type": "code",
      "source": [
        "model_4.compile('adam','mse')\n",
        "early_stop = EarlyStopping(monitor='val_loss', patience=3, verbose=1)\n",
        "model_4_history = model_4.fit(X_train,y_train,epochs=50, verbose=1, \n",
        "                              validation_split=0.2,callbacks=[early_stop])"
      ],
      "execution_count": 39,
      "outputs": [
        {
          "output_type": "stream",
          "text": [
            "Train on 37699 samples, validate on 9425 samples\n",
            "Epoch 1/50\n",
            "37699/37699 [==============================] - 10s 258us/step - loss: 0.4431 - val_loss: 0.3601\n",
            "Epoch 2/50\n",
            "37699/37699 [==============================] - 10s 252us/step - loss: 0.3378 - val_loss: 0.3284\n",
            "Epoch 3/50\n",
            "24160/37699 [==================>...........] - ETA: 3s - loss: 0.3084"
          ],
          "name": "stdout"
        },
        {
          "output_type": "stream",
          "text": [
            "37699/37699 [==============================] - 10s 254us/step - loss: 0.3071 - val_loss: 0.3056\n",
            "Epoch 4/50\n",
            "37699/37699 [==============================] - 10s 254us/step - loss: 0.2877 - val_loss: 0.2976\n",
            "Epoch 5/50\n",
            "37699/37699 [==============================] - 10s 253us/step - loss: 0.2729 - val_loss: 0.2826\n",
            "Epoch 6/50\n",
            " 9024/37699 [======>.......................] - ETA: 6s - loss: 0.2568"
          ],
          "name": "stdout"
        },
        {
          "output_type": "stream",
          "text": [
            "37699/37699 [==============================] - 10s 256us/step - loss: 0.2605 - val_loss: 0.2804\n",
            "Epoch 7/50\n",
            "37699/37699 [==============================] - 10s 252us/step - loss: 0.2520 - val_loss: 0.2837\n",
            "Epoch 8/50\n",
            "37699/37699 [==============================] - 10s 254us/step - loss: 0.2437 - val_loss: 0.2735\n",
            "Epoch 9/50\n",
            " 6176/37699 [===>..........................] - ETA: 7s - loss: 0.2367"
          ],
          "name": "stdout"
        },
        {
          "output_type": "stream",
          "text": [
            "37699/37699 [==============================] - 10s 254us/step - loss: 0.2382 - val_loss: 0.2696\n",
            "Epoch 10/50\n",
            "37699/37699 [==============================] - 10s 253us/step - loss: 0.2341 - val_loss: 0.2647\n",
            "Epoch 11/50\n",
            "37699/37699 [==============================] - 10s 254us/step - loss: 0.2286 - val_loss: 0.2627\n",
            "Epoch 12/50\n",
            " 5344/37699 [===>..........................] - ETA: 7s - loss: 0.2147"
          ],
          "name": "stdout"
        },
        {
          "output_type": "stream",
          "text": [
            "37699/37699 [==============================] - 9s 252us/step - loss: 0.2251 - val_loss: 0.2617\n",
            "Epoch 13/50\n",
            "37699/37699 [==============================] - 10s 254us/step - loss: 0.2217 - val_loss: 0.2632\n",
            "Epoch 14/50\n",
            "37699/37699 [==============================] - 10s 254us/step - loss: 0.2186 - val_loss: 0.2593\n",
            "Epoch 15/50\n",
            " 5312/37699 [===>..........................] - ETA: 7s - loss: 0.2092"
          ],
          "name": "stdout"
        },
        {
          "output_type": "stream",
          "text": [
            "37699/37699 [==============================] - 10s 252us/step - loss: 0.2166 - val_loss: 0.2593\n",
            "Epoch 16/50\n",
            "37699/37699 [==============================] - 9s 252us/step - loss: 0.2142 - val_loss: 0.2558\n",
            "Epoch 17/50\n",
            "37699/37699 [==============================] - 9s 252us/step - loss: 0.2115 - val_loss: 0.2582\n",
            "Epoch 18/50\n",
            " 5728/37699 [===>..........................] - ETA: 7s - loss: 0.2116"
          ],
          "name": "stdout"
        },
        {
          "output_type": "stream",
          "text": [
            "37699/37699 [==============================] - 10s 253us/step - loss: 0.2098 - val_loss: 0.2584\n",
            "Epoch 19/50\n",
            "37699/37699 [==============================] - 10s 253us/step - loss: 0.2080 - val_loss: 0.2569\n",
            "Epoch 00019: early stopping\n"
          ],
          "name": "stdout"
        }
      ]
    },
    {
      "metadata": {
        "id": "eqji3JtuUCFl",
        "colab_type": "text"
      },
      "cell_type": "markdown",
      "source": [
        "### 2.5 Initialize with ReLU He_normal"
      ]
    },
    {
      "metadata": {
        "id": "9wetCZ9XT_PJ",
        "colab_type": "code",
        "colab": {}
      },
      "cell_type": "code",
      "source": [
        "init = initializers.he_normal()\n",
        "model_5 = Sequential()\n",
        "model_5.add(Dense(64, input_shape=(X.shape[1],), activation='relu',kernel_initializer=init))\n",
        "model_5.add(Dense(32, activation='relu', kernel_initializer= init))\n",
        "model_5.add(Dense(16, activation='relu', kernel_initializer=init))\n",
        "model_5.add(Dense(8, activation='relu',kernel_initializer=init))\n",
        "model_5.add(Dense(1))"
      ],
      "execution_count": 0,
      "outputs": []
    },
    {
      "metadata": {
        "id": "bFCDNbUlUOo6",
        "colab_type": "code",
        "colab": {
          "base_uri": "https://localhost:8080/",
          "height": 844
        },
        "collapsed": true,
        "outputId": "08647688-5b05-46f8-9e82-9e00df3ad39c"
      },
      "cell_type": "code",
      "source": [
        "model_5.compile('adam','mse')\n",
        "early_stop = EarlyStopping(monitor='val_loss', patience=3, verbose=1)\n",
        "model_5_history = model_5.fit(X_train,y_train,epochs=50, verbose=1, \n",
        "                              validation_split=0.2,callbacks=[early_stop])"
      ],
      "execution_count": 42,
      "outputs": [
        {
          "output_type": "stream",
          "text": [
            "Train on 37699 samples, validate on 9425 samples\n",
            "Epoch 1/50\n",
            "37699/37699 [==============================] - 10s 259us/step - loss: 0.4781 - val_loss: 0.3938\n",
            "Epoch 2/50\n",
            "37699/37699 [==============================] - 9s 252us/step - loss: 0.3591 - val_loss: 0.3539\n",
            "Epoch 3/50\n",
            "24512/37699 [==================>...........] - ETA: 3s - loss: 0.3278"
          ],
          "name": "stdout"
        },
        {
          "output_type": "stream",
          "text": [
            "37699/37699 [==============================] - 9s 249us/step - loss: 0.3246 - val_loss: 0.3315\n",
            "Epoch 4/50\n",
            "37699/37699 [==============================] - 9s 251us/step - loss: 0.3056 - val_loss: 0.3218\n",
            "Epoch 5/50\n",
            "37699/37699 [==============================] - 9s 250us/step - loss: 0.2907 - val_loss: 0.3104\n",
            "Epoch 6/50\n",
            "10080/37699 [=======>......................] - ETA: 6s - loss: 0.2749"
          ],
          "name": "stdout"
        },
        {
          "output_type": "stream",
          "text": [
            "37699/37699 [==============================] - 9s 249us/step - loss: 0.2802 - val_loss: 0.3040\n",
            "Epoch 7/50\n",
            "37699/37699 [==============================] - 9s 251us/step - loss: 0.2694 - val_loss: 0.2991\n",
            "Epoch 8/50\n",
            "37699/37699 [==============================] - 9s 252us/step - loss: 0.2626 - val_loss: 0.2951\n",
            "Epoch 9/50\n",
            " 7744/37699 [=====>........................] - ETA: 7s - loss: 0.2493"
          ],
          "name": "stdout"
        },
        {
          "output_type": "stream",
          "text": [
            "37699/37699 [==============================] - 9s 251us/step - loss: 0.2546 - val_loss: 0.2883\n",
            "Epoch 10/50\n",
            "37699/37699 [==============================] - 9s 252us/step - loss: 0.2484 - val_loss: 0.2910\n",
            "Epoch 11/50\n",
            "37699/37699 [==============================] - 9s 251us/step - loss: 0.2432 - val_loss: 0.2835\n",
            "Epoch 12/50\n",
            " 6528/37699 [====>.........................] - ETA: 7s - loss: 0.2377"
          ],
          "name": "stdout"
        },
        {
          "output_type": "stream",
          "text": [
            "37699/37699 [==============================] - 9s 251us/step - loss: 0.2380 - val_loss: 0.2755\n",
            "Epoch 13/50\n",
            "37699/37699 [==============================] - 9s 251us/step - loss: 0.2352 - val_loss: 0.2784\n",
            "Epoch 14/50\n",
            "37699/37699 [==============================] - 9s 251us/step - loss: 0.2308 - val_loss: 0.2748\n",
            "Epoch 15/50\n",
            " 6496/37699 [====>.........................] - ETA: 7s - loss: 0.2114"
          ],
          "name": "stdout"
        },
        {
          "output_type": "stream",
          "text": [
            "37699/37699 [==============================] - 9s 250us/step - loss: 0.2269 - val_loss: 0.2764\n",
            "Epoch 16/50\n",
            "37699/37699 [==============================] - 9s 251us/step - loss: 0.2245 - val_loss: 0.2722\n",
            "Epoch 17/50\n",
            "37699/37699 [==============================] - 9s 251us/step - loss: 0.2218 - val_loss: 0.2751\n",
            "Epoch 18/50\n",
            " 6240/37699 [===>..........................] - ETA: 7s - loss: 0.2098"
          ],
          "name": "stdout"
        },
        {
          "output_type": "stream",
          "text": [
            "37699/37699 [==============================] - 9s 252us/step - loss: 0.2194 - val_loss: 0.2743\n",
            "Epoch 19/50\n",
            "37699/37699 [==============================] - 9s 250us/step - loss: 0.2179 - val_loss: 0.2697\n",
            "Epoch 20/50\n",
            "37699/37699 [==============================] - 9s 249us/step - loss: 0.2144 - val_loss: 0.2679\n",
            "Epoch 21/50\n",
            " 7168/37699 [====>.........................] - ETA: 7s - loss: 0.2059"
          ],
          "name": "stdout"
        },
        {
          "output_type": "stream",
          "text": [
            "37699/37699 [==============================] - 9s 248us/step - loss: 0.2126 - val_loss: 0.2716\n",
            "Epoch 22/50\n",
            "37699/37699 [==============================] - 9s 248us/step - loss: 0.2105 - val_loss: 0.2705\n",
            "Epoch 23/50\n",
            "37699/37699 [==============================] - 9s 246us/step - loss: 0.2104 - val_loss: 0.2679\n",
            "Epoch 00023: early stopping\n"
          ],
          "name": "stdout"
        }
      ]
    },
    {
      "metadata": {
        "id": "KnUPICZ3VMJn",
        "colab_type": "text"
      },
      "cell_type": "markdown",
      "source": [
        "### 2.6 Initialize with ReLU He_Uniform"
      ]
    },
    {
      "metadata": {
        "id": "BgcW1B1BUSGK",
        "colab_type": "code",
        "colab": {}
      },
      "cell_type": "code",
      "source": [
        "init = initializers.he_uniform()\n",
        "model_6 = Sequential()\n",
        "model_6.add(Dense(64, input_shape=(X.shape[1],), activation='relu',kernel_initializer=init))\n",
        "model_6.add(Dense(32, activation='relu', kernel_initializer= init))\n",
        "model_6.add(Dense(16, activation='relu', kernel_initializer=init))\n",
        "model_6.add(Dense(8, activation='relu',kernel_initializer=init))\n",
        "model_6.add(Dense(1))"
      ],
      "execution_count": 0,
      "outputs": []
    },
    {
      "metadata": {
        "id": "op6pBzKYVTl7",
        "colab_type": "code",
        "colab": {
          "base_uri": "https://localhost:8080/",
          "height": 811
        },
        "collapsed": true,
        "outputId": "a2f31187-5cf5-4b7e-eaa0-ffe02c39057a"
      },
      "cell_type": "code",
      "source": [
        "model_6.compile('adam','mse')\n",
        "early_stop = EarlyStopping(monitor='val_loss', patience=3, verbose=1)\n",
        "model_6_history = model_6.fit(X_train,y_train,epochs=50, verbose=1, \n",
        "                              validation_split=0.2,callbacks=[early_stop])"
      ],
      "execution_count": 45,
      "outputs": [
        {
          "output_type": "stream",
          "text": [
            "Train on 37699 samples, validate on 9425 samples\n",
            "Epoch 1/50\n",
            "37699/37699 [==============================] - 10s 265us/step - loss: 0.6350 - val_loss: 0.4351\n",
            "Epoch 2/50\n",
            "37699/37699 [==============================] - 9s 251us/step - loss: 0.3927 - val_loss: 0.3754\n",
            "Epoch 3/50\n",
            "24288/37699 [==================>...........] - ETA: 3s - loss: 0.3550"
          ],
          "name": "stdout"
        },
        {
          "output_type": "stream",
          "text": [
            "37699/37699 [==============================] - 9s 250us/step - loss: 0.3500 - val_loss: 0.3511\n",
            "Epoch 4/50\n",
            "37699/37699 [==============================] - 9s 251us/step - loss: 0.3271 - val_loss: 0.3297\n",
            "Epoch 5/50\n",
            "37699/37699 [==============================] - 9s 249us/step - loss: 0.3087 - val_loss: 0.3314\n",
            "Epoch 6/50\n",
            "10304/37699 [=======>......................] - ETA: 6s - loss: 0.2942"
          ],
          "name": "stdout"
        },
        {
          "output_type": "stream",
          "text": [
            "37699/37699 [==============================] - 9s 250us/step - loss: 0.2950 - val_loss: 0.3133\n",
            "Epoch 7/50\n",
            "37699/37699 [==============================] - 9s 247us/step - loss: 0.2824 - val_loss: 0.3045\n",
            "Epoch 8/50\n",
            "37699/37699 [==============================] - 9s 246us/step - loss: 0.2728 - val_loss: 0.2920\n",
            "Epoch 9/50\n",
            " 8864/37699 [======>.......................] - ETA: 6s - loss: 0.2612"
          ],
          "name": "stdout"
        },
        {
          "output_type": "stream",
          "text": [
            "37699/37699 [==============================] - 9s 249us/step - loss: 0.2671 - val_loss: 0.2989\n",
            "Epoch 10/50\n",
            "37699/37699 [==============================] - 9s 248us/step - loss: 0.2597 - val_loss: 0.3018\n",
            "Epoch 11/50\n",
            "37699/37699 [==============================] - 9s 246us/step - loss: 0.2537 - val_loss: 0.2896\n",
            "Epoch 12/50\n",
            " 8320/37699 [=====>........................] - ETA: 6s - loss: 0.2489"
          ],
          "name": "stdout"
        },
        {
          "output_type": "stream",
          "text": [
            "37699/37699 [==============================] - 9s 246us/step - loss: 0.2487 - val_loss: 0.2795\n",
            "Epoch 13/50\n",
            "37699/37699 [==============================] - 9s 247us/step - loss: 0.2447 - val_loss: 0.2822\n",
            "Epoch 14/50\n",
            "37699/37699 [==============================] - 9s 245us/step - loss: 0.2396 - val_loss: 0.2866\n",
            "Epoch 15/50\n",
            " 8672/37699 [=====>........................] - ETA: 6s - loss: 0.2348"
          ],
          "name": "stdout"
        },
        {
          "output_type": "stream",
          "text": [
            "37699/37699 [==============================] - 9s 246us/step - loss: 0.2362 - val_loss: 0.2771\n",
            "Epoch 16/50\n",
            "37699/37699 [==============================] - 9s 243us/step - loss: 0.2317 - val_loss: 0.2778\n",
            "Epoch 17/50\n",
            "37699/37699 [==============================] - 9s 244us/step - loss: 0.2299 - val_loss: 0.2790\n",
            "Epoch 18/50\n",
            " 9056/37699 [======>.......................] - ETA: 6s - loss: 0.2247"
          ],
          "name": "stdout"
        },
        {
          "output_type": "stream",
          "text": [
            "37699/37699 [==============================] - 9s 244us/step - loss: 0.2264 - val_loss: 0.2741\n",
            "Epoch 19/50\n",
            "37699/37699 [==============================] - 9s 246us/step - loss: 0.2238 - val_loss: 0.2724\n",
            "Epoch 20/50\n",
            "37699/37699 [==============================] - 9s 247us/step - loss: 0.2218 - val_loss: 0.2745\n",
            "Epoch 21/50\n",
            " 8384/37699 [=====>........................] - ETA: 6s - loss: 0.2156"
          ],
          "name": "stdout"
        },
        {
          "output_type": "stream",
          "text": [
            "37699/37699 [==============================] - 9s 246us/step - loss: 0.2194 - val_loss: 0.2784\n",
            "Epoch 22/50\n",
            "37699/37699 [==============================] - 9s 246us/step - loss: 0.2174 - val_loss: 0.2755\n",
            "Epoch 00022: early stopping\n"
          ],
          "name": "stdout"
        }
      ]
    },
    {
      "metadata": {
        "id": "mVHgzTBwVVqg",
        "colab_type": "code",
        "colab": {
          "base_uri": "https://localhost:8080/",
          "height": 809
        },
        "outputId": "f539955e-f92a-4e4b-c988-b46415ccf329"
      },
      "cell_type": "code",
      "source": [
        "fig, ((ax1, ax2), (ax3, ax4),(ax5,ax6)) = plt.subplots(3,2,figsize=(16,12))\n",
        "ax1.plot(model_1_history.history['loss'],color='b')\n",
        "ax1.plot(model_1_history.history['val_loss'],color='r')\n",
        "ax1.set_title('Initialize with Zeros')\n",
        "ax1.grid(True, color='black',linestyle='dotted',linewidth=1,alpha=0.3)\n",
        "\n",
        "ax2.plot(model_2_history.history['loss'],color='b')\n",
        "ax2.plot(model_2_history.history['val_loss'],color='r')\n",
        "ax2.set_title('Initialize with RandomNormal sttdev=0.4')\n",
        "ax2.grid(True, color='black',linestyle='dotted',linewidth=1,alpha=0.3)\n",
        "\n",
        "ax3.plot(model_3_history.history['loss'],color='b')\n",
        "ax3.plot(model_3_history.history['val_loss'],color='r')\n",
        "ax3.set_title('Initialize with RandomNormal sttdev=0.1')\n",
        "ax3.grid(True, color='black',linestyle='dotted',linewidth=1,alpha=0.3)\n",
        "\n",
        "ax4.plot(model_4_history.history['loss'],color='b')\n",
        "ax4.plot(model_4_history.history['val_loss'],color='r')\n",
        "ax4.set_title('Initialize with Xavier_Initialization')\n",
        "ax4.grid(True, color='black',linestyle='dotted',linewidth=1,alpha=0.3)\n",
        "\n",
        "ax5.plot(model_5_history.history['loss'],color='b')\n",
        "ax5.plot(model_5_history.history['val_loss'],color='r')\n",
        "ax5.set_title('Initialize with He_Normal')\n",
        "ax5.grid(True, color='black',linestyle='dotted',linewidth=1,alpha=0.3)\n",
        "\n",
        "ax6.plot(model_6_history.history['loss'],color='b',label='Loss')\n",
        "ax6.plot(model_6_history.history['val_loss'],color='r',label='Validation_Loss')\n",
        "ax6.set_title('Initialize with He_Uniform')\n",
        "ax6.grid(True, color='black',linestyle='dotted',linewidth=1,alpha=0.3)\n",
        "\n",
        "handles, labels = ax6.get_legend_handles_labels()\n",
        "fig.legend(handles, labels,loc='upper center',ncol=1,fontsize=16,frameon=True,edgecolor='black',shadow=True)"
      ],
      "execution_count": 116,
      "outputs": [
        {
          "output_type": "execute_result",
          "data": {
            "text/plain": [
              "<matplotlib.legend.Legend at 0x7f88aac60d68>"
            ]
          },
          "metadata": {
            "tags": []
          },
          "execution_count": 116
        },
        {
          "output_type": "display_data",
          "data": {
            "image/png": "[encoded data removed]",
            "text/plain": [
              "<matplotlib.figure.Figure at 0x7f88ab23b898>"
            ]
          },
          "metadata": {
            "tags": []
          }
        }
      ]
    },
    {
      "metadata": {
        "id": "ENRjVlg830OC",
        "colab_type": "text"
      },
      "cell_type": "markdown",
      "source": [
        "## 3. Building a Deep Neural Network using Tanh as activation function"
      ]
    },
    {
      "metadata": {
        "id": "dYUP64o93_AQ",
        "colab_type": "text"
      },
      "cell_type": "markdown",
      "source": [
        "### 3.1 Initialze with Tanh and RandomUniform"
      ]
    },
    {
      "metadata": {
        "id": "Zp_o2Rqf3rpX",
        "colab_type": "code",
        "colab": {}
      },
      "cell_type": "code",
      "source": [
        "init2 = initializers.RandomUniform()\n",
        "model_1 = Sequential()\n",
        "model_1.add(Dense(64, input_shape=(X.shape[1],), activation='tanh',kernel_initializer=init2))\n",
        "model_1.add(Dense(32, activation='tanh', kernel_initializer= init2))\n",
        "model_1.add(Dense(16, activation='tanh', kernel_initializer=init2))\n",
        "model_1.add(Dense(8, activation='tanh',kernel_initializer=init2))\n",
        "model_1.add(Dense(1))"
      ],
      "execution_count": 0,
      "outputs": []
    },
    {
      "metadata": {
        "id": "3-ORHzim4YrH",
        "colab_type": "code",
        "colab": {
          "base_uri": "https://localhost:8080/",
          "height": 858
        },
        "collapsed": true,
        "outputId": "ae758dd7-2cda-408c-ec2c-1e09925c40fa"
      },
      "cell_type": "code",
      "source": [
        "model_1.compile('adam','mse')\n",
        "early_stop = EarlyStopping(monitor='val_loss', patience=3, verbose=1)\n",
        "model_1_history = model_1.fit(X_train,y_train,epochs=50, verbose=1, \n",
        "                              validation_split=0.2,callbacks=[early_stop])"
      ],
      "execution_count": 120,
      "outputs": [
        {
          "output_type": "stream",
          "text": [
            "Train on 37699 samples, validate on 9425 samples\n",
            "Epoch 1/50\n",
            "37699/37699 [==============================] - 10s 264us/step - loss: 0.5129 - val_loss: 0.5029\n",
            "Epoch 2/50\n",
            "37699/37699 [==============================] - 10s 256us/step - loss: 0.4903 - val_loss: 0.4872\n",
            "Epoch 3/50\n",
            "23200/37699 [=================>............] - ETA: 3s - loss: 0.4612"
          ],
          "name": "stdout"
        },
        {
          "output_type": "stream",
          "text": [
            "37699/37699 [==============================] - 10s 258us/step - loss: 0.4507 - val_loss: 0.4085\n",
            "Epoch 4/50\n",
            "37699/37699 [==============================] - 10s 258us/step - loss: 0.3933 - val_loss: 0.3751\n",
            "Epoch 5/50\n",
            "37699/37699 [==============================] - 10s 254us/step - loss: 0.3691 - val_loss: 0.3599\n",
            "Epoch 6/50\n",
            " 8768/37699 [=====>........................] - ETA: 6s - loss: 0.3563"
          ],
          "name": "stdout"
        },
        {
          "output_type": "stream",
          "text": [
            "37699/37699 [==============================] - 10s 253us/step - loss: 0.3517 - val_loss: 0.3694\n",
            "Epoch 7/50\n",
            "37699/37699 [==============================] - 9s 251us/step - loss: 0.3401 - val_loss: 0.3333\n",
            "Epoch 8/50\n",
            "37699/37699 [==============================] - 10s 253us/step - loss: 0.3293 - val_loss: 0.3309\n",
            "Epoch 9/50\n",
            " 7040/37699 [====>.........................] - ETA: 7s - loss: 0.3273"
          ],
          "name": "stdout"
        },
        {
          "output_type": "stream",
          "text": [
            "37699/37699 [==============================] - 10s 258us/step - loss: 0.3206 - val_loss: 0.3206\n",
            "Epoch 10/50\n",
            "37699/37699 [==============================] - 10s 257us/step - loss: 0.3122 - val_loss: 0.3160\n",
            "Epoch 11/50\n",
            "37699/37699 [==============================] - 10s 253us/step - loss: 0.3040 - val_loss: 0.3107\n",
            "Epoch 12/50\n",
            " 5504/37699 [===>..........................] - ETA: 7s - loss: 0.2858"
          ],
          "name": "stdout"
        },
        {
          "output_type": "stream",
          "text": [
            "37699/37699 [==============================] - 10s 254us/step - loss: 0.2967 - val_loss: 0.3152\n",
            "Epoch 13/50\n",
            "37699/37699 [==============================] - 10s 253us/step - loss: 0.2899 - val_loss: 0.3046\n",
            "Epoch 14/50\n",
            "37699/37699 [==============================] - 10s 256us/step - loss: 0.2851 - val_loss: 0.2960\n",
            "Epoch 15/50\n",
            " 5632/37699 [===>..........................] - ETA: 7s - loss: 0.2829"
          ],
          "name": "stdout"
        },
        {
          "output_type": "stream",
          "text": [
            "37699/37699 [==============================] - 10s 256us/step - loss: 0.2784 - val_loss: 0.2960\n",
            "Epoch 16/50\n",
            "37699/37699 [==============================] - 10s 253us/step - loss: 0.2731 - val_loss: 0.2925\n",
            "Epoch 17/50\n",
            "37699/37699 [==============================] - 10s 253us/step - loss: 0.2691 - val_loss: 0.2891\n",
            "Epoch 18/50\n",
            " 5536/37699 [===>..........................] - ETA: 7s - loss: 0.2675"
          ],
          "name": "stdout"
        },
        {
          "output_type": "stream",
          "text": [
            "37699/37699 [==============================] - 10s 255us/step - loss: 0.2640 - val_loss: 0.2858\n",
            "Epoch 19/50\n",
            "37699/37699 [==============================] - 10s 257us/step - loss: 0.2599 - val_loss: 0.2892\n",
            "Epoch 20/50\n",
            "37699/37699 [==============================] - 10s 255us/step - loss: 0.2552 - val_loss: 0.2818\n",
            "Epoch 21/50\n",
            " 5088/37699 [===>..........................] - ETA: 7s - loss: 0.2482"
          ],
          "name": "stdout"
        },
        {
          "output_type": "stream",
          "text": [
            "37699/37699 [==============================] - 10s 257us/step - loss: 0.2510 - val_loss: 0.2750\n",
            "Epoch 22/50\n",
            "37699/37699 [==============================] - 10s 253us/step - loss: 0.2476 - val_loss: 0.2788\n",
            "Epoch 23/50\n",
            "37699/37699 [==============================] - 10s 257us/step - loss: 0.2431 - val_loss: 0.2768\n",
            "Epoch 24/50\n",
            " 4864/37699 [==>...........................] - ETA: 7s - loss: 0.2372"
          ],
          "name": "stdout"
        },
        {
          "output_type": "stream",
          "text": [
            "37699/37699 [==============================] - 10s 257us/step - loss: 0.2410 - val_loss: 0.2762\n",
            "Epoch 00024: early stopping\n"
          ],
          "name": "stdout"
        }
      ]
    },
    {
      "metadata": {
        "id": "D0x60f1u4lSy",
        "colab_type": "text"
      },
      "cell_type": "markdown",
      "source": [
        " ### 3.2 Initialize with Tanh and RandomNormal mean=0.0, stddev=0.05"
      ]
    },
    {
      "metadata": {
        "id": "TEAJiR5w4dWm",
        "colab_type": "code",
        "colab": {}
      },
      "cell_type": "code",
      "source": [
        "init2 = initializers.RandomNormal(mean=0.0, stddev=0.05)\n",
        "model_2 = Sequential()\n",
        "model_2.add(Dense(64, input_shape=(X.shape[1],), activation='tanh',kernel_initializer=init2))\n",
        "model_2.add(Dense(32, activation='tanh', kernel_initializer= init2))\n",
        "model_2.add(Dense(16, activation='tanh', kernel_initializer=init2))\n",
        "model_2.add(Dense(8, activation='tanh',kernel_initializer=init2))\n",
        "model_2.add(Dense(1))"
      ],
      "execution_count": 0,
      "outputs": []
    },
    {
      "metadata": {
        "id": "V8csytfx5IxQ",
        "colab_type": "code",
        "colab": {
          "base_uri": "https://localhost:8080/",
          "height": 723
        },
        "collapsed": true,
        "outputId": "f1208866-61cd-4436-8c31-1477b49253c9"
      },
      "cell_type": "code",
      "source": [
        "model_2.compile('adam','mse')\n",
        "early_stop = EarlyStopping(monitor='val_loss', patience=3, verbose=1)\n",
        "model_2_history = model_2.fit(X_train,y_train,epochs=50, verbose=1, \n",
        "                              validation_split=0.2,callbacks=[early_stop])"
      ],
      "execution_count": 122,
      "outputs": [
        {
          "output_type": "stream",
          "text": [
            "Train on 37699 samples, validate on 9425 samples\n",
            "Epoch 1/50\n",
            "37699/37699 [==============================] - 10s 269us/step - loss: 0.5087 - val_loss: 0.4895\n",
            "Epoch 2/50\n",
            "37699/37699 [==============================] - 10s 256us/step - loss: 0.4572 - val_loss: 0.4222\n",
            "Epoch 3/50\n",
            "23136/37699 [=================>............] - ETA: 3s - loss: 0.3951"
          ],
          "name": "stdout"
        },
        {
          "output_type": "stream",
          "text": [
            "37699/37699 [==============================] - 10s 257us/step - loss: 0.3824 - val_loss: 0.3539\n",
            "Epoch 4/50\n",
            "37699/37699 [==============================] - 10s 256us/step - loss: 0.3418 - val_loss: 0.3398\n",
            "Epoch 5/50\n",
            "37699/37699 [==============================] - 10s 258us/step - loss: 0.3202 - val_loss: 0.3182\n",
            "Epoch 6/50\n",
            " 8288/37699 [=====>........................] - ETA: 7s - loss: 0.3071"
          ],
          "name": "stdout"
        },
        {
          "output_type": "stream",
          "text": [
            "37699/37699 [==============================] - 10s 258us/step - loss: 0.3065 - val_loss: 0.3043\n",
            "Epoch 7/50\n",
            "37699/37699 [==============================] - 10s 256us/step - loss: 0.2942 - val_loss: 0.2967\n",
            "Epoch 8/50\n",
            "37699/37699 [==============================] - 10s 256us/step - loss: 0.2855 - val_loss: 0.2932\n",
            "Epoch 9/50\n",
            " 6016/37699 [===>..........................] - ETA: 7s - loss: 0.2795"
          ],
          "name": "stdout"
        },
        {
          "output_type": "stream",
          "text": [
            "37699/37699 [==============================] - 10s 259us/step - loss: 0.2776 - val_loss: 0.2887\n",
            "Epoch 10/50\n",
            "37699/37699 [==============================] - 10s 256us/step - loss: 0.2713 - val_loss: 0.2850\n",
            "Epoch 11/50\n",
            "37699/37699 [==============================] - 10s 258us/step - loss: 0.2648 - val_loss: 0.2804\n",
            "Epoch 12/50\n",
            " 4864/37699 [==>...........................] - ETA: 8s - loss: 0.2548"
          ],
          "name": "stdout"
        },
        {
          "output_type": "stream",
          "text": [
            "37699/37699 [==============================] - 10s 259us/step - loss: 0.2586 - val_loss: 0.2757\n",
            "Epoch 13/50\n",
            "37699/37699 [==============================] - 10s 256us/step - loss: 0.2540 - val_loss: 0.2807\n",
            "Epoch 14/50\n",
            "37699/37699 [==============================] - 10s 258us/step - loss: 0.2491 - val_loss: 0.2686\n",
            "Epoch 15/50\n",
            " 4576/37699 [==>...........................] - ETA: 8s - loss: 0.2401"
          ],
          "name": "stdout"
        },
        {
          "output_type": "stream",
          "text": [
            "37699/37699 [==============================] - 10s 258us/step - loss: 0.2443 - val_loss: 0.2757\n",
            "Epoch 16/50\n",
            "37699/37699 [==============================] - 10s 257us/step - loss: 0.2402 - val_loss: 0.2694\n",
            "Epoch 17/50\n",
            "37699/37699 [==============================] - 10s 257us/step - loss: 0.2363 - val_loss: 0.2662\n",
            "Epoch 18/50\n",
            " 4768/37699 [==>...........................] - ETA: 8s - loss: 0.2424"
          ],
          "name": "stdout"
        },
        {
          "output_type": "stream",
          "text": [
            "37699/37699 [==============================] - 10s 258us/step - loss: 0.2331 - val_loss: 0.2673\n",
            "Epoch 19/50\n",
            "37699/37699 [==============================] - 10s 257us/step - loss: 0.2296 - val_loss: 0.2691\n",
            "Epoch 20/50\n",
            "37699/37699 [==============================] - 10s 258us/step - loss: 0.2262 - val_loss: 0.2735\n",
            "Epoch 00020: early stopping\n"
          ],
          "name": "stdout"
        }
      ]
    },
    {
      "metadata": {
        "id": "RjUw_Ol85IKp",
        "colab_type": "text"
      },
      "cell_type": "markdown",
      "source": [
        "### 3.3 Initialize with Tanh and TruncatedNormal"
      ]
    },
    {
      "metadata": {
        "id": "NFFGrztB5TRV",
        "colab_type": "code",
        "colab": {}
      },
      "cell_type": "code",
      "source": [
        "init2 = initializers.TruncatedNormal()\n",
        "model_3 = Sequential()\n",
        "model_3.add(Dense(64, input_shape=(X.shape[1],), activation='tanh',kernel_initializer=init2))\n",
        "model_3.add(Dense(32, activation='tanh', kernel_initializer= init2))\n",
        "model_3.add(Dense(16, activation='tanh', kernel_initializer=init2))\n",
        "model_3.add(Dense(8, activation='tanh',kernel_initializer=init2))\n",
        "model_3.add(Dense(1))"
      ],
      "execution_count": 0,
      "outputs": []
    },
    {
      "metadata": {
        "id": "C5XB3u_R5mKa",
        "colab_type": "code",
        "colab": {
          "base_uri": "https://localhost:8080/",
          "height": 891
        },
        "collapsed": true,
        "outputId": "6b3048f8-33a4-4943-93d7-b2e53b09ba07"
      },
      "cell_type": "code",
      "source": [
        "model_3.compile('adam','mse')\n",
        "early_stop = EarlyStopping(monitor='val_loss', patience=3, verbose=1)\n",
        "model_3_history = model_3.fit(X_train,y_train,epochs=50, verbose=1, \n",
        "                              validation_split=0.2,callbacks=[early_stop])"
      ],
      "execution_count": 124,
      "outputs": [
        {
          "output_type": "stream",
          "text": [
            "Train on 37699 samples, validate on 9425 samples\n",
            "Epoch 1/50\n",
            "37699/37699 [==============================] - 10s 269us/step - loss: 0.5091 - val_loss: 0.4861\n",
            "Epoch 2/50\n",
            "37699/37699 [==============================] - 10s 258us/step - loss: 0.4756 - val_loss: 0.4421\n",
            "Epoch 3/50\n",
            "23072/37699 [=================>............] - ETA: 3s - loss: 0.4134"
          ],
          "name": "stdout"
        },
        {
          "output_type": "stream",
          "text": [
            "37699/37699 [==============================] - 10s 259us/step - loss: 0.4022 - val_loss: 0.3678\n",
            "Epoch 4/50\n",
            "37699/37699 [==============================] - 10s 259us/step - loss: 0.3559 - val_loss: 0.3379\n",
            "Epoch 5/50\n",
            "37699/37699 [==============================] - 10s 258us/step - loss: 0.3346 - val_loss: 0.3310\n",
            "Epoch 6/50\n",
            " 8256/37699 [=====>........................] - ETA: 7s - loss: 0.3214"
          ],
          "name": "stdout"
        },
        {
          "output_type": "stream",
          "text": [
            "37699/37699 [==============================] - 10s 255us/step - loss: 0.3179 - val_loss: 0.3172\n",
            "Epoch 7/50\n",
            "37699/37699 [==============================] - 10s 258us/step - loss: 0.3065 - val_loss: 0.3158\n",
            "Epoch 8/50\n",
            "37699/37699 [==============================] - 10s 259us/step - loss: 0.2965 - val_loss: 0.2998\n",
            "Epoch 9/50\n",
            " 5664/37699 [===>..........................] - ETA: 8s - loss: 0.3037"
          ],
          "name": "stdout"
        },
        {
          "output_type": "stream",
          "text": [
            "37699/37699 [==============================] - 10s 260us/step - loss: 0.2883 - val_loss: 0.2902\n",
            "Epoch 10/50\n",
            "37699/37699 [==============================] - 10s 258us/step - loss: 0.2800 - val_loss: 0.2886\n",
            "Epoch 11/50\n",
            "37699/37699 [==============================] - 10s 256us/step - loss: 0.2730 - val_loss: 0.2926\n",
            "Epoch 12/50\n",
            " 5152/37699 [===>..........................] - ETA: 7s - loss: 0.2684"
          ],
          "name": "stdout"
        },
        {
          "output_type": "stream",
          "text": [
            "37699/37699 [==============================] - 10s 255us/step - loss: 0.2668 - val_loss: 0.2839\n",
            "Epoch 13/50\n",
            "37699/37699 [==============================] - 10s 256us/step - loss: 0.2592 - val_loss: 0.2763\n",
            "Epoch 14/50\n",
            "37699/37699 [==============================] - 10s 255us/step - loss: 0.2548 - val_loss: 0.2796\n",
            "Epoch 15/50\n",
            " 5376/37699 [===>..........................] - ETA: 7s - loss: 0.2467"
          ],
          "name": "stdout"
        },
        {
          "output_type": "stream",
          "text": [
            "37699/37699 [==============================] - 10s 256us/step - loss: 0.2504 - val_loss: 0.2770\n",
            "Epoch 16/50\n",
            "37699/37699 [==============================] - 10s 255us/step - loss: 0.2453 - val_loss: 0.2688\n",
            "Epoch 17/50\n",
            "37699/37699 [==============================] - 10s 254us/step - loss: 0.2414 - val_loss: 0.2711\n",
            "Epoch 18/50\n",
            " 5536/37699 [===>..........................] - ETA: 7s - loss: 0.2365"
          ],
          "name": "stdout"
        },
        {
          "output_type": "stream",
          "text": [
            "37699/37699 [==============================] - 10s 255us/step - loss: 0.2376 - val_loss: 0.2696\n",
            "Epoch 19/50\n",
            "37699/37699 [==============================] - 10s 254us/step - loss: 0.2328 - val_loss: 0.2682\n",
            "Epoch 20/50\n",
            "37699/37699 [==============================] - 10s 255us/step - loss: 0.2302 - val_loss: 0.2700\n",
            "Epoch 21/50\n",
            " 5536/37699 [===>..........................] - ETA: 7s - loss: 0.2209"
          ],
          "name": "stdout"
        },
        {
          "output_type": "stream",
          "text": [
            "37699/37699 [==============================] - 10s 256us/step - loss: 0.2277 - val_loss: 0.2666\n",
            "Epoch 22/50\n",
            "37699/37699 [==============================] - 10s 254us/step - loss: 0.2243 - val_loss: 0.2633\n",
            "Epoch 23/50\n",
            "37699/37699 [==============================] - 10s 254us/step - loss: 0.2227 - val_loss: 0.2635\n",
            "Epoch 24/50\n",
            " 5536/37699 [===>..........................] - ETA: 7s - loss: 0.2222"
          ],
          "name": "stdout"
        },
        {
          "output_type": "stream",
          "text": [
            "37699/37699 [==============================] - 10s 255us/step - loss: 0.2201 - val_loss: 0.2642\n",
            "Epoch 25/50\n",
            "37699/37699 [==============================] - 10s 255us/step - loss: 0.2166 - val_loss: 0.2634\n",
            "Epoch 00025: early stopping\n"
          ],
          "name": "stdout"
        }
      ]
    },
    {
      "metadata": {
        "id": "7DaPm1V15smx",
        "colab_type": "text"
      },
      "cell_type": "markdown",
      "source": [
        "### 3.4 Initialize with Tanh and Xavier Normal Initialization"
      ]
    },
    {
      "metadata": {
        "id": "q1caEivu50Fi",
        "colab_type": "code",
        "colab": {}
      },
      "cell_type": "code",
      "source": [
        "init2 = initializers.glorot_normal()\n",
        "model_4 = Sequential()\n",
        "model_4.add(Dense(64, input_shape=(X.shape[1],), activation='tanh',kernel_initializer=init2))\n",
        "model_4.add(Dense(32, activation='tanh', kernel_initializer= init2))\n",
        "model_4.add(Dense(16, activation='tanh', kernel_initializer=init2))\n",
        "model_4.add(Dense(8, activation='tanh',kernel_initializer=init2))\n",
        "model_4.add(Dense(1))"
      ],
      "execution_count": 0,
      "outputs": []
    },
    {
      "metadata": {
        "id": "kqRx1FJX6Akp",
        "colab_type": "code",
        "colab": {
          "base_uri": "https://localhost:8080/",
          "height": 522
        },
        "collapsed": true,
        "outputId": "750a18ef-28e2-4c2f-81f1-2a789993af38"
      },
      "cell_type": "code",
      "source": [
        "model_4.compile('adam','mse')\n",
        "early_stop = EarlyStopping(monitor='val_loss', patience=3, verbose=1)\n",
        "model_4_history = model_4.fit(X_train,y_train,epochs=50, verbose=1, \n",
        "                              validation_split=0.2,callbacks=[early_stop])"
      ],
      "execution_count": 126,
      "outputs": [
        {
          "output_type": "stream",
          "text": [
            "Train on 37699 samples, validate on 9425 samples\n",
            "Epoch 1/50\n",
            "37699/37699 [==============================] - 10s 269us/step - loss: 0.4565 - val_loss: 0.3899\n",
            "Epoch 2/50\n",
            "37699/37699 [==============================] - 10s 254us/step - loss: 0.3603 - val_loss: 0.3405\n",
            "Epoch 3/50\n",
            "23648/37699 [=================>............] - ETA: 3s - loss: 0.3298"
          ],
          "name": "stdout"
        },
        {
          "output_type": "stream",
          "text": [
            "37699/37699 [==============================] - 10s 258us/step - loss: 0.3263 - val_loss: 0.3255\n",
            "Epoch 4/50\n",
            "37699/37699 [==============================] - 10s 255us/step - loss: 0.3054 - val_loss: 0.3086\n",
            "Epoch 5/50\n",
            "37699/37699 [==============================] - 10s 256us/step - loss: 0.2917 - val_loss: 0.3001\n",
            "Epoch 6/50\n",
            " 8960/37699 [======>.......................] - ETA: 6s - loss: 0.2756"
          ],
          "name": "stdout"
        },
        {
          "output_type": "stream",
          "text": [
            "37699/37699 [==============================] - 10s 257us/step - loss: 0.2796 - val_loss: 0.2947\n",
            "Epoch 7/50\n",
            "37699/37699 [==============================] - 10s 258us/step - loss: 0.2710 - val_loss: 0.2809\n",
            "Epoch 8/50\n",
            "37699/37699 [==============================] - 10s 257us/step - loss: 0.2640 - val_loss: 0.2838\n",
            "Epoch 9/50\n",
            " 6240/37699 [===>..........................] - ETA: 7s - loss: 0.2520"
          ],
          "name": "stdout"
        },
        {
          "output_type": "stream",
          "text": [
            "37699/37699 [==============================] - 10s 257us/step - loss: 0.2573 - val_loss: 0.2782\n",
            "Epoch 10/50\n",
            "37699/37699 [==============================] - 10s 256us/step - loss: 0.2517 - val_loss: 0.2760\n",
            "Epoch 11/50\n",
            "37699/37699 [==============================] - 10s 258us/step - loss: 0.2460 - val_loss: 0.2738\n",
            "Epoch 12/50\n",
            " 5056/37699 [===>..........................] - ETA: 7s - loss: 0.2407"
          ],
          "name": "stdout"
        },
        {
          "output_type": "stream",
          "text": [
            "37699/37699 [==============================] - 10s 258us/step - loss: 0.2415 - val_loss: 0.2812\n",
            "Epoch 13/50\n",
            "37699/37699 [==============================] - 10s 260us/step - loss: 0.2371 - val_loss: 0.2751\n",
            "Epoch 14/50\n",
            "37699/37699 [==============================] - 10s 260us/step - loss: 0.2322 - val_loss: 0.2740\n",
            "Epoch 00014: early stopping\n"
          ],
          "name": "stdout"
        }
      ]
    },
    {
      "metadata": {
        "id": "6zU9EHsi6YfL",
        "colab_type": "text"
      },
      "cell_type": "markdown",
      "source": [
        "### 3.5 Initialize with Tanh and Xavier Uniform Initialization"
      ]
    },
    {
      "metadata": {
        "id": "N4ggMpl16ncu",
        "colab_type": "code",
        "colab": {}
      },
      "cell_type": "code",
      "source": [
        "init2 = initializers.glorot_uniform()\n",
        "model_5 = Sequential()\n",
        "model_5.add(Dense(64, input_shape=(X.shape[1],), activation='tanh',kernel_initializer=init2))\n",
        "model_5.add(Dense(32, activation='tanh', kernel_initializer= init2))\n",
        "model_5.add(Dense(16, activation='tanh', kernel_initializer=init2))\n",
        "model_5.add(Dense(8, activation='tanh',kernel_initializer=init2))\n",
        "model_5.add(Dense(1))"
      ],
      "execution_count": 0,
      "outputs": []
    },
    {
      "metadata": {
        "id": "tTxSXA9b6zSL",
        "colab_type": "code",
        "colab": {
          "base_uri": "https://localhost:8080/",
          "height": 589
        },
        "collapsed": true,
        "outputId": "dd9bbfec-f033-4d95-bf97-47689253ac8d"
      },
      "cell_type": "code",
      "source": [
        "model_5.compile('adam','mse')\n",
        "early_stop = EarlyStopping(monitor='val_loss', patience=3, verbose=1)\n",
        "tbCallBack = TensorBoard(log_dir='./Graph', histogram_freq=0, write_graph=True, write_images=True)\n",
        "model_5_history = model_5.fit(X_train,y_train,epochs=50, verbose=1, \n",
        "                              validation_split=0.2,callbacks=[early_stop,tbCallBack])"
      ],
      "execution_count": 131,
      "outputs": [
        {
          "output_type": "stream",
          "text": [
            "Train on 37699 samples, validate on 9425 samples\n",
            "Epoch 1/50\n",
            "37699/37699 [==============================] - 10s 268us/step - loss: 0.4588 - val_loss: 0.3925\n",
            "Epoch 2/50\n",
            "37699/37699 [==============================] - 10s 262us/step - loss: 0.3609 - val_loss: 0.3429\n",
            "Epoch 3/50\n",
            "22496/37699 [================>.............] - ETA: 3s - loss: 0.3327"
          ],
          "name": "stdout"
        },
        {
          "output_type": "stream",
          "text": [
            "37699/37699 [==============================] - 10s 263us/step - loss: 0.3273 - val_loss: 0.3213\n",
            "Epoch 4/50\n",
            "37699/37699 [==============================] - 10s 263us/step - loss: 0.3055 - val_loss: 0.3169\n",
            "Epoch 5/50\n",
            "37699/37699 [==============================] - 10s 262us/step - loss: 0.2913 - val_loss: 0.3053\n",
            "Epoch 6/50\n",
            " 7808/37699 [=====>........................] - ETA: 7s - loss: 0.2703"
          ],
          "name": "stdout"
        },
        {
          "output_type": "stream",
          "text": [
            "37699/37699 [==============================] - 10s 263us/step - loss: 0.2790 - val_loss: 0.2946\n",
            "Epoch 7/50\n",
            "37699/37699 [==============================] - 10s 263us/step - loss: 0.2697 - val_loss: 0.2926\n",
            "Epoch 8/50\n",
            "37699/37699 [==============================] - 10s 263us/step - loss: 0.2618 - val_loss: 0.2857\n",
            "Epoch 9/50\n",
            " 5248/37699 [===>..........................] - ETA: 7s - loss: 0.2492"
          ],
          "name": "stdout"
        },
        {
          "output_type": "stream",
          "text": [
            "37699/37699 [==============================] - 10s 264us/step - loss: 0.2550 - val_loss: 0.2809\n",
            "Epoch 10/50\n",
            "37699/37699 [==============================] - 10s 263us/step - loss: 0.2496 - val_loss: 0.2790\n",
            "Epoch 11/50\n",
            "37699/37699 [==============================] - 10s 265us/step - loss: 0.2446 - val_loss: 0.2784\n",
            "Epoch 12/50\n",
            " 4320/37699 [==>...........................] - ETA: 8s - loss: 0.2322"
          ],
          "name": "stdout"
        },
        {
          "output_type": "stream",
          "text": [
            "37699/37699 [==============================] - 10s 264us/step - loss: 0.2400 - val_loss: 0.2756\n",
            "Epoch 13/50\n",
            "37699/37699 [==============================] - 10s 262us/step - loss: 0.2368 - val_loss: 0.2703\n",
            "Epoch 14/50\n",
            "37699/37699 [==============================] - 10s 263us/step - loss: 0.2328 - val_loss: 0.2766\n",
            "Epoch 15/50\n",
            " 4160/37699 [==>...........................] - ETA: 8s - loss: 0.2162"
          ],
          "name": "stdout"
        },
        {
          "output_type": "stream",
          "text": [
            "37699/37699 [==============================] - 10s 263us/step - loss: 0.2285 - val_loss: 0.2759\n",
            "Epoch 16/50\n",
            "37699/37699 [==============================] - 10s 265us/step - loss: 0.2252 - val_loss: 0.2829\n",
            "Epoch 00016: early stopping\n"
          ],
          "name": "stdout"
        }
      ]
    },
    {
      "metadata": {
        "id": "i2-dLOAi634a",
        "colab_type": "text"
      },
      "cell_type": "markdown",
      "source": [
        "### 3.6 Initialize with Tanh and He_Normal Initialization"
      ]
    },
    {
      "metadata": {
        "id": "TXK9Ll0o68ml",
        "colab_type": "code",
        "colab": {}
      },
      "cell_type": "code",
      "source": [
        "init2 = initializers.he_normal()\n",
        "model_6 = Sequential()\n",
        "model_6.add(Dense(64, input_shape=(X.shape[1],), activation='tanh',kernel_initializer=init2))\n",
        "model_6.add(Dense(32, activation='tanh', kernel_initializer= init2))\n",
        "model_6.add(Dense(16, activation='tanh', kernel_initializer=init2))\n",
        "model_6.add(Dense(8, activation='tanh',kernel_initializer=init2))\n",
        "model_6.add(Dense(1))"
      ],
      "execution_count": 0,
      "outputs": []
    },
    {
      "metadata": {
        "id": "zMQmwit_7NcH",
        "colab_type": "code",
        "colab": {
          "base_uri": "https://localhost:8080/",
          "height": 522
        },
        "collapsed": true,
        "outputId": "725ccaae-854f-4e2e-ad4c-e590e51e358c"
      },
      "cell_type": "code",
      "source": [
        "model_6.compile('adam','mse')\n",
        "early_stop = EarlyStopping(monitor='val_loss', patience=3, verbose=1)\n",
        "model_6_history = model_6.fit(X_train,y_train,epochs=50, verbose=1, \n",
        "                              validation_split=0.2,callbacks=[early_stop])"
      ],
      "execution_count": 140,
      "outputs": [
        {
          "output_type": "stream",
          "text": [
            "Train on 37699 samples, validate on 9425 samples\n",
            "Epoch 1/50\n",
            "37699/37699 [==============================] - 11s 279us/step - loss: 0.4741 - val_loss: 0.4066\n",
            "Epoch 2/50\n",
            "37699/37699 [==============================] - 10s 264us/step - loss: 0.3668 - val_loss: 0.3591\n",
            "Epoch 3/50\n",
            "22912/37699 [=================>............] - ETA: 3s - loss: 0.3283"
          ],
          "name": "stdout"
        },
        {
          "output_type": "stream",
          "text": [
            "37699/37699 [==============================] - 10s 263us/step - loss: 0.3276 - val_loss: 0.3270\n",
            "Epoch 4/50\n",
            "37699/37699 [==============================] - 10s 265us/step - loss: 0.3060 - val_loss: 0.3203\n",
            "Epoch 5/50\n",
            "37699/37699 [==============================] - 10s 263us/step - loss: 0.2906 - val_loss: 0.3040\n",
            "Epoch 6/50\n",
            " 8096/37699 [=====>........................] - ETA: 7s - loss: 0.2761"
          ],
          "name": "stdout"
        },
        {
          "output_type": "stream",
          "text": [
            "37699/37699 [==============================] - 10s 266us/step - loss: 0.2807 - val_loss: 0.2972\n",
            "Epoch 7/50\n",
            "37699/37699 [==============================] - 10s 264us/step - loss: 0.2707 - val_loss: 0.2959\n",
            "Epoch 8/50\n",
            "37699/37699 [==============================] - 10s 264us/step - loss: 0.2649 - val_loss: 0.2950\n",
            "Epoch 9/50\n",
            " 5248/37699 [===>..........................] - ETA: 8s - loss: 0.2519"
          ],
          "name": "stdout"
        },
        {
          "output_type": "stream",
          "text": [
            "37699/37699 [==============================] - 10s 262us/step - loss: 0.2565 - val_loss: 0.2887\n",
            "Epoch 10/50\n",
            "37699/37699 [==============================] - 10s 264us/step - loss: 0.2510 - val_loss: 0.2819\n",
            "Epoch 11/50\n",
            "37699/37699 [==============================] - 10s 264us/step - loss: 0.2466 - val_loss: 0.2801\n",
            "Epoch 12/50\n",
            " 4384/37699 [==>...........................] - ETA: 8s - loss: 0.2272"
          ],
          "name": "stdout"
        },
        {
          "output_type": "stream",
          "text": [
            "37699/37699 [==============================] - 10s 264us/step - loss: 0.2406 - val_loss: 0.2810\n",
            "Epoch 13/50\n",
            "37699/37699 [==============================] - 10s 265us/step - loss: 0.2380 - val_loss: 0.2821\n",
            "Epoch 14/50\n",
            "37699/37699 [==============================] - 10s 268us/step - loss: 0.2340 - val_loss: 0.2836\n",
            "Epoch 00014: early stopping\n"
          ],
          "name": "stdout"
        }
      ]
    },
    {
      "metadata": {
        "id": "wF4h6BsQ7aHZ",
        "colab_type": "code",
        "colab": {
          "base_uri": "https://localhost:8080/",
          "height": 809
        },
        "outputId": "1ecd1778-9cd5-454f-f688-987e8fd8a378"
      },
      "cell_type": "code",
      "source": [
        "fig, ((ax1, ax2), (ax3, ax4),(ax5,ax6)) = plt.subplots(3,2,figsize=(16,12))\n",
        "ax1.plot(model_1_history.history['loss'],color='b')\n",
        "ax1.plot(model_1_history.history['val_loss'],color='r')\n",
        "ax1.set_title('Initialize with RandomUniform')\n",
        "ax1.grid(True, color='black',linestyle='dotted',linewidth=1,alpha=0.3)\n",
        "\n",
        "ax2.plot(model_2_history.history['loss'],color='b')\n",
        "ax2.plot(model_2_history.history['val_loss'],color='r')\n",
        "ax2.set_title('Initialize with RandomNormal sttdev=0.05')\n",
        "ax2.grid(True, color='black',linestyle='dotted',linewidth=1,alpha=0.3)\n",
        "\n",
        "ax3.plot(model_3_history.history['loss'],color='b')\n",
        "ax3.plot(model_3_history.history['val_loss'],color='r')\n",
        "ax3.set_title('Initialize with TruncatedNormal')\n",
        "ax3.grid(True, color='black',linestyle='dotted',linewidth=1,alpha=0.3)\n",
        "\n",
        "ax4.plot(model_4_history.history['loss'],color='b')\n",
        "ax4.plot(model_4_history.history['val_loss'],color='r')\n",
        "ax4.set_title('Initialize with Xavier Normal ')\n",
        "ax4.grid(True, color='black',linestyle='dotted',linewidth=1,alpha=0.3)\n",
        "\n",
        "ax5.plot(model_5_history.history['loss'],color='b')\n",
        "ax5.plot(model_5_history.history['val_loss'],color='r')\n",
        "ax5.set_title('Initialize with Xavier Uniform')\n",
        "ax5.grid(True, color='black',linestyle='dotted',linewidth=1,alpha=0.3)\n",
        "\n",
        "ax6.plot(model_6_history.history['loss'],color='b',label='Loss')\n",
        "ax6.plot(model_6_history.history['val_loss'],color='r',label='Validation_Loss')\n",
        "ax6.set_title('Initialize with He Normal')\n",
        "ax6.grid(True, color='black',linestyle='dotted',linewidth=1,alpha=0.3)\n",
        "\n",
        "handles, labels = ax6.get_legend_handles_labels()\n",
        "fig.legend(handles, labels,loc='upper center',ncol=1,fontsize=16,frameon=True,edgecolor='black',shadow=True)"
      ],
      "execution_count": 142,
      "outputs": [
        {
          "output_type": "execute_result",
          "data": {
            "text/plain": [
              "<matplotlib.legend.Legend at 0x7f889a5fa4e0>"
            ]
          },
          "metadata": {
            "tags": []
          },
          "execution_count": 142
        },
        {
          "output_type": "display_data",
          "data": {
            "image/png": "[encoded data removed]",
            "text/plain": [
              "<matplotlib.figure.Figure at 0x7f889dc23a58>"
            ]
          },
          "metadata": {
            "tags": []
          }
        }
      ]
    }
  ]
}