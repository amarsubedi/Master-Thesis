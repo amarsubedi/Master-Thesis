{
  "nbformat": 4,
  "nbformat_minor": 0,
  "metadata": {
    "colab": {
      "name": "09_Advanced_Optimization_Algorithms_FashionMnist.ipynb",
      "version": "0.3.2",
      "provenance": [],
      "collapsed_sections": []
    },
    "kernelspec": {
      "name": "python3",
      "display_name": "Python 3"
    },
    "accelerator": "GPU"
  },
  "cells": [
    {
      "cell_type": "markdown",
      "metadata": {
        "id": "view-in-github",
        "colab_type": "text"
      },
      "source": [
        "[View in Colaboratory](https://colab.research.google.com/github/redcican/Master-Thesis/blob/master/09_Advanced_Optimization_Algorithms_FashionMnist.ipynb)"
      ]
    },
    {
      "metadata": {
        "id": "-hfQjQHRuEtC",
        "colab_type": "text"
      },
      "cell_type": "markdown",
      "source": [
        "# 09 Comparison of Different Advanced Optimization Algorithms Using FashionMNIST\n"
      ]
    },
    {
      "metadata": {
        "id": "50UzrChcvTSK",
        "colab_type": "text"
      },
      "cell_type": "markdown",
      "source": [
        "## 1. Introduction to the Dataset\n",
        "\n",
        "Fashion-MNIST is a dataset of Zalando's article images—consisting of a training set of 60,000 examples and a test set of 10,000 examples. Each example is a 28x28 grayscale image, associated with a label from 10 classes\n",
        "\n",
        "Labels:\n",
        "\n",
        "\n",
        "*   0 : T-shirt/top\n",
        "*   1 : Trouser\n",
        "*   2 : Pullover\n",
        "*   3 : Dress\n",
        "*   4 : Coat\n",
        "*   5 : Sandal\n",
        "*   6 : Shirt\n",
        "*   7 : Sneake\n",
        "*   8 : Bag\n",
        "*   9 : Ankle Boot\n",
        "\n",
        "\n",
        "\n",
        "\n",
        "\n",
        "\n",
        "\n",
        "\n",
        "\n"
      ]
    },
    {
      "metadata": {
        "id": "wm7kYOQVxVDg",
        "colab_type": "text"
      },
      "cell_type": "markdown",
      "source": [
        "## 2. Data Preprocessing"
      ]
    },
    {
      "metadata": {
        "id": "e8LMmAMqwa3V",
        "colab_type": "code",
        "colab": {
          "base_uri": "https://localhost:8080/",
          "height": 34
        },
        "outputId": "027c597a-a777-4ccc-f6c5-737278e563d4"
      },
      "cell_type": "code",
      "source": [
        "from keras.utils import to_categorical\n",
        "import numpy as np\n",
        "import pandas as pd\n",
        "from sklearn.model_selection import train_test_split"
      ],
      "execution_count": 5,
      "outputs": [
        {
          "output_type": "stream",
          "text": [
            "Using TensorFlow backend.\n"
          ],
          "name": "stderr"
        }
      ]
    },
    {
      "metadata": {
        "id": "ujmFWslkxhd8",
        "colab_type": "code",
        "colab": {
          "resources": {
            "http://localhost:8080/nbextensions/google.colab/files.js": {
              "data": "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",
              "ok": true,
              "headers": [
                [
                  "content-type",
                  "application/javascript"
                ]
              ],
              "status": 200,
              "status_text": ""
            }
          },
          "base_uri": "https://localhost:8080/",
          "height": 92
        },
        "outputId": "522bee76-4ec3-463e-8b51-9d419ed1657b"
      },
      "cell_type": "code",
      "source": [
        "from google.colab import files\n",
        "\n",
        "uploaded = files.upload()\n",
        "\n",
        "for fn in uploaded.keys():\n",
        "  print('User uploaded file \"{name}\" with length {length} bytes'.format(\n",
        "      name=fn, length=len(uploaded[fn])))"
      ],
      "execution_count": 2,
      "outputs": [
        {
          "output_type": "display_data",
          "data": {
            "text/html": [
              "\n",
              "     <input type=\"file\" id=\"files-e87aa36d-ca8a-40fc-aaa5-5afba59b0204\" name=\"files[]\" multiple disabled />\n",
              "     <output id=\"result-e87aa36d-ca8a-40fc-aaa5-5afba59b0204\">\n",
              "      Upload widget is only available when the cell has been executed in the\n",
              "      current browser session. Please rerun this cell to enable.\n",
              "      </output>\n",
              "      <script src=\"/nbextensions/google.colab/files.js\"></script> "
            ],
            "text/plain": [
              "<IPython.core.display.HTML object>"
            ]
          },
          "metadata": {
            "tags": []
          }
        },
        {
          "output_type": "stream",
          "text": [
            "Saving fashion-mnist_train.csv to fashion-mnist_train.csv\n",
            "User uploaded file \"fashion-mnist_train.csv\" with length 133047193 bytes\n"
          ],
          "name": "stdout"
        }
      ]
    },
    {
      "metadata": {
        "id": "OySeCV1RxjCt",
        "colab_type": "code",
        "colab": {
          "resources": {
            "http://localhost:8080/nbextensions/google.colab/files.js": {
              "data": "Ly8gQ29weXJpZ2h0IDIwMTcgR29vZ2xlIExMQwovLwovLyBMaWNlbnNlZCB1bmRlciB0aGUgQXBhY2hlIExpY2Vuc2UsIFZlcnNpb24gMi4wICh0aGUgIkxpY2Vuc2UiKTsKLy8geW91IG1heSBub3QgdXNlIHRoaXMgZmlsZSBleGNlcHQgaW4gY29tcGxpYW5jZSB3aXRoIHRoZSBMaWNlbnNlLgovLyBZb3UgbWF5IG9idGFpbiBhIGNvcHkgb2YgdGhlIExpY2Vuc2UgYXQKLy8KLy8gICAgICBodHRwOi8vd3d3LmFwYWNoZS5vcmcvbGljZW5zZXMvTElDRU5TRS0yLjAKLy8KLy8gVW5sZXNzIHJlcXVpcmVkIGJ5IGFwcGxpY2FibGUgbGF3IG9yIGFncmVlZCB0byBpbiB3cml0aW5nLCBzb2Z0d2FyZQovLyBkaXN0cmlidXRlZCB1bmRlciB0aGUgTGljZW5zZSBpcyBkaXN0cmlidXRlZCBvbiBhbiAiQVMgSVMiIEJBU0lTLAovLyBXSVRIT1VUIFdBUlJBTlRJRVMgT1IgQ09ORElUSU9OUyBPRiBBTlkgS0lORCwgZWl0aGVyIGV4cHJlc3Mgb3IgaW1wbGllZC4KLy8gU2VlIHRoZSBMaWNlbnNlIGZvciB0aGUgc3BlY2lmaWMgbGFuZ3VhZ2UgZ292ZXJuaW5nIHBlcm1pc3Npb25zIGFuZAovLyBsaW1pdGF0aW9ucyB1bmRlciB0aGUgTGljZW5zZS4KCi8qKgogKiBAZmlsZW92ZXJ2aWV3IEhlbHBlcnMgZm9yIGdvb2dsZS5jb2xhYiBQeXRob24gbW9kdWxlLgogKi8KKGZ1bmN0aW9uKHNjb3BlKSB7CmZ1bmN0aW9uIHNwYW4odGV4dCwgc3R5bGVBdHRyaWJ1dGVzID0ge30pIHsKICBjb25zdCBlbGVtZW50ID0gZG9jdW1lbnQuY3JlYXRlRWxlbWVudCgnc3BhbicpOwogIGVsZW1lbnQudGV4dENvbnRlbnQgPSB0ZXh0OwogIGZvciAoY29uc3Qga2V5IG9mIE9iamVjdC5rZXlzKHN0eWxlQXR0cmlidXRlcykpIHsKICAgIGVsZW1lbnQuc3R5bGVba2V5XSA9IHN0eWxlQXR0cmlidXRlc1trZXldOwogIH0KICByZXR1cm4gZWxlbWVudDsKfQoKLy8gTWF4IG51bWJlciBvZiBieXRlcyB3aGljaCB3aWxsIGJlIHVwbG9hZGVkIGF0IGEgdGltZS4KY29uc3QgTUFYX1BBWUxPQURfU0laRSA9IDEwMCAqIDEwMjQ7Ci8vIE1heCBhbW91bnQgb2YgdGltZSB0byBibG9jayB3YWl0aW5nIGZvciB0aGUgdXNlci4KY29uc3QgRklMRV9DSEFOR0VfVElNRU9VVF9NUyA9IDMwICogMTAwMDsKCmZ1bmN0aW9uIF91cGxvYWRGaWxlcyhpbnB1dElkLCBvdXRwdXRJZCkgewogIGNvbnN0IHN0ZXBzID0gdXBsb2FkRmlsZXNTdGVwKGlucHV0SWQsIG91dHB1dElkKTsKICBjb25zdCBvdXRwdXRFbGVtZW50ID0gZG9jdW1lbnQuZ2V0RWxlbWVudEJ5SWQob3V0cHV0SWQpOwogIC8vIENhY2hlIHN0ZXBzIG9uIHRoZSBvdXRwdXRFbGVtZW50IHRvIG1ha2UgaXQgYXZhaWxhYmxlIGZvciB0aGUgbmV4dCBjYWxsCiAgLy8gdG8gdXBsb2FkRmlsZXNDb250aW51ZSBmcm9tIFB5dGhvbi4KICBvdXRwdXRFbGVtZW50LnN0ZXBzID0gc3RlcHM7CgogIHJldHVybiBfdXBsb2FkRmlsZXNDb250aW51ZShvdXRwdXRJZCk7Cn0KCi8vIFRoaXMgaXMgcm91Z2hseSBhbiBhc3luYyBnZW5lcmF0b3IgKG5vdCBzdXBwb3J0ZWQgaW4gdGhlIGJyb3dzZXIgeWV0KSwKLy8gd2hlcmUgdGhlcmUgYXJlIG11bHRpcGxlIGFzeW5jaHJvbm91cyBzdGVwcyBhbmQgdGhlIFB5dGhvbiBzaWRlIGlzIGdvaW5nCi8vIHRvIHBvbGwgZm9yIGNvbXBsZXRpb24gb2YgZWFjaCBzdGVwLgovLyBUaGlzIHVzZXMgYSBQcm9taXNlIHRvIGJsb2NrIHRoZSBweXRob24gc2lkZSBvbiBjb21wbGV0aW9uIG9mIGVhY2ggc3RlcCwKLy8gdGhlbiBwYXNzZXMgdGhlIHJlc3VsdCBvZiB0aGUgcHJldmlvdXMgc3RlcCBhcyB0aGUgaW5wdXQgdG8gdGhlIG5leHQgc3RlcC4KZnVuY3Rpb24gX3VwbG9hZEZpbGVzQ29udGludWUob3V0cHV0SWQpIHsKICBjb25zdCBvdXRwdXRFbGVtZW50ID0gZG9jdW1lbnQuZ2V0RWxlbWVudEJ5SWQob3V0cHV0SWQpOwogIGNvbnN0IHN0ZXBzID0gb3V0cHV0RWxlbWVudC5zdGVwczsKCiAgY29uc3QgbmV4dCA9IHN0ZXBzLm5leHQob3V0cHV0RWxlbWVudC5sYXN0UHJvbWlzZVZhbHVlKTsKICByZXR1cm4gUHJvbWlzZS5yZXNvbHZlKG5leHQudmFsdWUucHJvbWlzZSkudGhlbigodmFsdWUpID0+IHsKICAgIC8vIENhY2hlIHRoZSBsYXN0IHByb21pc2UgdmFsdWUgdG8gbWFrZSBpdCBhdmFpbGFibGUgdG8gdGhlIG5leHQKICAgIC8vIHN0ZXAgb2YgdGhlIGdlbmVyYXRvci4KICAgIG91dHB1dEVsZW1lbnQubGFzdFByb21pc2VWYWx1ZSA9IHZhbHVlOwogICAgcmV0dXJuIG5leHQudmFsdWUucmVzcG9uc2U7CiAgfSk7Cn0KCi8qKgogKiBHZW5lcmF0b3IgZnVuY3Rpb24gd2hpY2ggaXMgY2FsbGVkIGJldHdlZW4gZWFjaCBhc3luYyBzdGVwIG9mIHRoZSB1cGxvYWQKICogcHJvY2Vzcy4KICogQHBhcmFtIHtzdHJpbmd9IGlucHV0SWQgRWxlbWVudCBJRCBvZiB0aGUgaW5wdXQgZmlsZSBwaWNrZXIgZWxlbWVudC4KICogQHBhcmFtIHtzdHJpbmd9IG91dHB1dElkIEVsZW1lbnQgSUQgb2YgdGhlIG91dHB1dCBkaXNwbGF5LgogKiBAcmV0dXJuIHshSXRlcmFibGU8IU9iamVjdD59IEl0ZXJhYmxlIG9mIG5leHQgc3RlcHMuCiAqLwpmdW5jdGlvbiogdXBsb2FkRmlsZXNTdGVwKGlucHV0SWQsIG91dHB1dElkKSB7CiAgY29uc3QgaW5wdXRFbGVtZW50ID0gZG9jdW1lbnQuZ2V0RWxlbWVudEJ5SWQoaW5wdXRJZCk7CiAgaW5wdXRFbGVtZW50LmRpc2FibGVkID0gZmFsc2U7CgogIGNvbnN0IG91dHB1dEVsZW1lbnQgPSBkb2N1bWVudC5nZXRFbGVtZW50QnlJZChvdXRwdXRJZCk7CiAgb3V0cHV0RWxlbWVudC5pbm5lckhUTUwgPSAnJzsKCiAgY29uc3QgcGlja2VkUHJvbWlzZSA9IG5ldyBQcm9taXNlKChyZXNvbHZlKSA9PiB7CiAgICBpbnB1dEVsZW1lbnQuYWRkRXZlbnRMaXN0ZW5lcignY2hhbmdlJywgKGUpID0+IHsKICAgICAgcmVzb2x2ZShlLnRhcmdldC5maWxlcyk7CiAgICB9KTsKICB9KTsKCiAgY29uc3QgY2FuY2VsID0gZG9jdW1lbnQuY3JlYXRlRWxlbWVudCgnYnV0dG9uJyk7CiAgaW5wdXRFbGVtZW50LnBhcmVudEVsZW1lbnQuYXBwZW5kQ2hpbGQoY2FuY2VsKTsKICBjYW5jZWwudGV4dENvbnRlbnQgPSAnQ2FuY2VsIHVwbG9hZCc7CiAgY29uc3QgY2FuY2VsUHJvbWlzZSA9IG5ldyBQcm9taXNlKChyZXNvbHZlKSA9PiB7CiAgICBjYW5jZWwub25jbGljayA9ICgpID0+IHsKICAgICAgcmVzb2x2ZShudWxsKTsKICAgIH07CiAgfSk7CgogIC8vIENhbmNlbCB1cGxvYWQgaWYgdXNlciBoYXNuJ3QgcGlja2VkIGFueXRoaW5nIGluIHRpbWVvdXQuCiAgY29uc3QgdGltZW91dFByb21pc2UgPSBuZXcgUHJvbWlzZSgocmVzb2x2ZSkgPT4gewogICAgc2V0VGltZW91dCgoKSA9PiB7CiAgICAgIHJlc29sdmUobnVsbCk7CiAgICB9LCBGSUxFX0NIQU5HRV9USU1FT1VUX01TKTsKICB9KTsKCiAgLy8gV2FpdCBmb3IgdGhlIHVzZXIgdG8gcGljayB0aGUgZmlsZXMuCiAgY29uc3QgZmlsZXMgPSB5aWVsZCB7CiAgICBwcm9taXNlOiBQcm9taXNlLnJhY2UoW3BpY2tlZFByb21pc2UsIHRpbWVvdXRQcm9taXNlLCBjYW5jZWxQcm9taXNlXSksCiAgICByZXNwb25zZTogewogICAgICBhY3Rpb246ICdzdGFydGluZycsCiAgICB9CiAgfTsKCiAgaWYgKCFmaWxlcykgewogICAgcmV0dXJuIHsKICAgICAgcmVzcG9uc2U6IHsKICAgICAgICBhY3Rpb246ICdjb21wbGV0ZScsCiAgICAgIH0KICAgIH07CiAgfQoKICBjYW5jZWwucmVtb3ZlKCk7CgogIC8vIERpc2FibGUgdGhlIGlucHV0IGVsZW1lbnQgc2luY2UgZnVydGhlciBwaWNrcyBhcmUgbm90IGFsbG93ZWQuCiAgaW5wdXRFbGVtZW50LmRpc2FibGVkID0gdHJ1ZTsKCiAgZm9yIChjb25zdCBmaWxlIG9mIGZpbGVzKSB7CiAgICBjb25zdCBsaSA9IGRvY3VtZW50LmNyZWF0ZUVsZW1lbnQoJ2xpJyk7CiAgICBsaS5hcHBlbmQoc3BhbihmaWxlLm5hbWUsIHtmb250V2VpZ2h0OiAnYm9sZCd9KSk7CiAgICBsaS5hcHBlbmQoc3BhbigKICAgICAgICBgKCR7ZmlsZS50eXBlIHx8ICduL2EnfSkgLSAke2ZpbGUuc2l6ZX0gYnl0ZXMsIGAgKwogICAgICAgIGBsYXN0IG1vZGlmaWVkOiAkewogICAgICAgICAgICBmaWxlLmxhc3RNb2RpZmllZERhdGUgPyBmaWxlLmxhc3RNb2RpZmllZERhdGUudG9Mb2NhbGVEYXRlU3RyaW5nKCkgOgogICAgICAgICAgICAgICAgICAgICAgICAgICAgICAgICAgICAnbi9hJ30gLSBgKSk7CiAgICBjb25zdCBwZXJjZW50ID0gc3BhbignMCUgZG9uZScpOwogICAgbGkuYXBwZW5kQ2hpbGQocGVyY2VudCk7CgogICAgb3V0cHV0RWxlbWVudC5hcHBlbmRDaGlsZChsaSk7CgogICAgY29uc3QgZmlsZURhdGFQcm9taXNlID0gbmV3IFByb21pc2UoKHJlc29sdmUpID0+IHsKICAgICAgY29uc3QgcmVhZGVyID0gbmV3IEZpbGVSZWFkZXIoKTsKICAgICAgcmVhZGVyLm9ubG9hZCA9IChlKSA9PiB7CiAgICAgICAgcmVzb2x2ZShlLnRhcmdldC5yZXN1bHQpOwogICAgICB9OwogICAgICByZWFkZXIucmVhZEFzQXJyYXlCdWZmZXIoZmlsZSk7CiAgICB9KTsKICAgIC8vIFdhaXQgZm9yIHRoZSBkYXRhIHRvIGJlIHJlYWR5LgogICAgbGV0IGZpbGVEYXRhID0geWllbGQgewogICAgICBwcm9taXNlOiBmaWxlRGF0YVByb21pc2UsCiAgICAgIHJlc3BvbnNlOiB7CiAgICAgICAgYWN0aW9uOiAnY29udGludWUnLAogICAgICB9CiAgICB9OwoKICAgIC8vIFVzZSBhIGNodW5rZWQgc2VuZGluZyB0byBhdm9pZCBtZXNzYWdlIHNpemUgbGltaXRzLiBTZWUgYi82MjExNTY2MC4KICAgIGxldCBwb3NpdGlvbiA9IDA7CiAgICB3aGlsZSAocG9zaXRpb24gPCBmaWxlRGF0YS5ieXRlTGVuZ3RoKSB7CiAgICAgIGNvbnN0IGxlbmd0aCA9IE1hdGgubWluKGZpbGVEYXRhLmJ5dGVMZW5ndGggLSBwb3NpdGlvbiwgTUFYX1BBWUxPQURfU0laRSk7CiAgICAgIGNvbnN0IGNodW5rID0gbmV3IFVpbnQ4QXJyYXkoZmlsZURhdGEsIHBvc2l0aW9uLCBsZW5ndGgpOwogICAgICBwb3NpdGlvbiArPSBsZW5ndGg7CgogICAgICBjb25zdCBiYXNlNjQgPSBidG9hKFN0cmluZy5mcm9tQ2hhckNvZGUuYXBwbHkobnVsbCwgY2h1bmspKTsKICAgICAgeWllbGQgewogICAgICAgIHJlc3BvbnNlOiB7CiAgICAgICAgICBhY3Rpb246ICdhcHBlbmQnLAogICAgICAgICAgZmlsZTogZmlsZS5uYW1lLAogICAgICAgICAgZGF0YTogYmFzZTY0LAogICAgICAgIH0sCiAgICAgIH07CiAgICAgIHBlcmNlbnQudGV4dENvbnRlbnQgPQogICAgICAgICAgYCR7TWF0aC5yb3VuZCgocG9zaXRpb24gLyBmaWxlRGF0YS5ieXRlTGVuZ3RoKSAqIDEwMCl9JSBkb25lYDsKICAgIH0KICB9CgogIC8vIEFsbCBkb25lLgogIHlpZWxkIHsKICAgIHJlc3BvbnNlOiB7CiAgICAgIGFjdGlvbjogJ2NvbXBsZXRlJywKICAgIH0KICB9Owp9CgpzY29wZS5nb29nbGUgPSBzY29wZS5nb29nbGUgfHwge307CnNjb3BlLmdvb2dsZS5jb2xhYiA9IHNjb3BlLmdvb2dsZS5jb2xhYiB8fCB7fTsKc2NvcGUuZ29vZ2xlLmNvbGFiLl9maWxlcyA9IHsKICBfdXBsb2FkRmlsZXMsCiAgX3VwbG9hZEZpbGVzQ29udGludWUsCn07Cn0pKHNlbGYpOwo=",
              "ok": true,
              "headers": [
                [
                  "content-type",
                  "application/javascript"
                ]
              ],
              "status": 200,
              "status_text": ""
            }
          },
          "base_uri": "https://localhost:8080/",
          "height": 92
        },
        "outputId": "f698b897-d993-4da0-eef2-afec624763cd"
      },
      "cell_type": "code",
      "source": [
        "from google.colab import files\n",
        "\n",
        "uploaded = files.upload()\n",
        "\n",
        "for fn in uploaded.keys():\n",
        "  print('User uploaded file \"{name}\" with length {length} bytes'.format(\n",
        "      name=fn, length=len(uploaded[fn])))"
      ],
      "execution_count": 3,
      "outputs": [
        {
          "output_type": "display_data",
          "data": {
            "text/html": [
              "\n",
              "     <input type=\"file\" id=\"files-dbd1f37a-550c-474b-884d-582a881080c1\" name=\"files[]\" multiple disabled />\n",
              "     <output id=\"result-dbd1f37a-550c-474b-884d-582a881080c1\">\n",
              "      Upload widget is only available when the cell has been executed in the\n",
              "      current browser session. Please rerun this cell to enable.\n",
              "      </output>\n",
              "      <script src=\"/nbextensions/google.colab/files.js\"></script> "
            ],
            "text/plain": [
              "<IPython.core.display.HTML object>"
            ]
          },
          "metadata": {
            "tags": []
          }
        },
        {
          "output_type": "stream",
          "text": [
            "Saving fashion-mnist_test.csv to fashion-mnist_test.csv\n",
            "User uploaded file \"fashion-mnist_test.csv\" with length 22176691 bytes\n"
          ],
          "name": "stdout"
        }
      ]
    },
    {
      "metadata": {
        "id": "LwqsSpO71wvs",
        "colab_type": "code",
        "colab": {}
      },
      "cell_type": "code",
      "source": [
        "data_train = pd.read_csv('fashion-mnist_train.csv')\n",
        "data_test = pd.read_csv('fashion-mnist_test.csv')"
      ],
      "execution_count": 0,
      "outputs": []
    },
    {
      "metadata": {
        "id": "C-5zGsY52tG9",
        "colab_type": "code",
        "colab": {}
      },
      "cell_type": "code",
      "source": [
        "img_rows, img_cols = 28, 28\n",
        "input_shpae = (img_rows, img_cols, 1)\n",
        "\n",
        "X = np.array(data_train.iloc[:,1:])\n",
        "y = to_categorical(np.array(data_train.iloc[:,0]))"
      ],
      "execution_count": 0,
      "outputs": []
    },
    {
      "metadata": {
        "id": "vUQtUuOF3BNP",
        "colab_type": "code",
        "colab": {}
      },
      "cell_type": "code",
      "source": [
        "X_train, X_val, y_train, y_val = train_test_split(X,y,test_size=.2, random_state=13)"
      ],
      "execution_count": 0,
      "outputs": []
    },
    {
      "metadata": {
        "id": "kTtlmets3KhP",
        "colab_type": "code",
        "colab": {}
      },
      "cell_type": "code",
      "source": [
        "X_test = np.array(data_test.iloc[:,1:])\n",
        "y_test = to_categorical(np.array(data_test.iloc[:,0]))"
      ],
      "execution_count": 0,
      "outputs": []
    },
    {
      "metadata": {
        "id": "5cTYMY5O3WAd",
        "colab_type": "code",
        "colab": {}
      },
      "cell_type": "code",
      "source": [
        "X_train = X_train.reshape(X_train.shape[0], img_rows, img_cols, 1)\n",
        "X_test = X_test.reshape(X_test.shape[0], img_rows, img_cols, 1)\n",
        "X_val = X_val.reshape(X_val.shape[0], img_rows, img_cols, 1)"
      ],
      "execution_count": 0,
      "outputs": []
    },
    {
      "metadata": {
        "id": "f9GG60Xs3q4n",
        "colab_type": "code",
        "colab": {}
      },
      "cell_type": "code",
      "source": [
        "X_train = X_train.astype('float32')\n",
        "X_test = X_test.astype('float32')\n",
        "X_val = X_val.astype('float32')\n",
        "X_train /= 255\n",
        "X_test /= 255\n",
        "X_val /= 255"
      ],
      "execution_count": 0,
      "outputs": []
    },
    {
      "metadata": {
        "id": "n8DYZ68r4IlB",
        "colab_type": "text"
      },
      "cell_type": "markdown",
      "source": [
        "## 3. Building the Neural Network"
      ]
    },
    {
      "metadata": {
        "id": "nXUIbdZi363Y",
        "colab_type": "code",
        "colab": {}
      },
      "cell_type": "code",
      "source": [
        "import time\n",
        "import seaborn as sns\n",
        "import matplotlib.pyplot as plt\n",
        "import keras\n",
        "from keras.models import Sequential\n",
        "from keras.layers import Dense, Dropout, Flatten\n",
        "from keras.layers import Conv2D, MaxPooling2D\n",
        "from keras import optimizers\n",
        "from keras.layers.normalization import BatchNormalization"
      ],
      "execution_count": 0,
      "outputs": []
    },
    {
      "metadata": {
        "id": "OOVA5jXD46F1",
        "colab_type": "code",
        "colab": {}
      },
      "cell_type": "code",
      "source": [
        "batch_size = 256\n",
        "num_classes = 10\n",
        "epochs = 100\n",
        "img_rows, img_cols = 28, 28"
      ],
      "execution_count": 0,
      "outputs": []
    },
    {
      "metadata": {
        "id": "diEQVGWO4_5U",
        "colab_type": "code",
        "colab": {}
      },
      "cell_type": "code",
      "source": [
        "def model(optimizer):\n",
        "  model = Sequential()\n",
        "  model.add(Conv2D(32, kernel_size=(3,3), activation='relu',\n",
        "                   kernel_initializer='he_normal',input_shape=input_shpae))\n",
        "  model.add(MaxPooling2D(2,2))\n",
        "  model.add(Dropout(0.25))\n",
        "  model.add(Conv2D(64, (3,3), activation='relu'))\n",
        "  model.add(MaxPooling2D(pool_size=(2,2)))\n",
        "  model.add(Dropout(0.25))\n",
        "  model.add(Conv2D(128,(3,3), activation='relu'))\n",
        "  model.add(Dropout(0.4))\n",
        "  model.add(Flatten())\n",
        "  model.add(Dense(128, activation='relu'))\n",
        "  model.add(Dropout(0.3))\n",
        "  model.add(Dense(num_classes,activation='softmax'))\n",
        "  \n",
        "  model.compile(loss='categorical_crossentropy',\n",
        "               optimizer=optimizer,metrics=['accuracy'])\n",
        "  \n",
        "  return model"
      ],
      "execution_count": 0,
      "outputs": []
    },
    {
      "metadata": {
        "id": "ctGKtUV06UQu",
        "colab_type": "text"
      },
      "cell_type": "markdown",
      "source": [
        "### 3.1 Optimizer = vanilla SGD with learning rate = 0.01\n",
        "\n",
        "\n"
      ]
    },
    {
      "metadata": {
        "id": "PjQkpbSp6P0x",
        "colab_type": "code",
        "colab": {}
      },
      "cell_type": "code",
      "source": [
        "vanilla_sgd = optimizers.SGD(lr=0.01, decay=0, momentum=0, nesterov=False)"
      ],
      "execution_count": 0,
      "outputs": []
    },
    {
      "metadata": {
        "id": "hzlJMhD07Yh-",
        "colab_type": "code",
        "colab": {
          "base_uri": "https://localhost:8080/",
          "height": 3410
        },
        "collapsed": true,
        "outputId": "344a91b2-2af3-4ee0-95e2-2b4180a64029"
      },
      "cell_type": "code",
      "source": [
        "start = time.time()\n",
        "model_1 = model(vanilla_sgd)\n",
        "model_1_history = model_1.fit(X_train, y_train,\n",
        "                             batch_size = batch_size,\n",
        "                             epochs = epochs,\n",
        "                             verbose = 2,\n",
        "                             validation_data = (X_val, y_val))\n",
        "print('@ Total Time Spent: %.2f seconds' %(time.time()-start))"
      ],
      "execution_count": 16,
      "outputs": [
        {
          "output_type": "stream",
          "text": [
            "Train on 48000 samples, validate on 12000 samples\n",
            "Epoch 1/100\n",
            " - 6s - loss: 1.7955 - acc: 0.3438 - val_loss: 1.1698 - val_acc: 0.6159\n",
            "Epoch 2/100\n",
            " - 4s - loss: 1.1477 - acc: 0.5644 - val_loss: 0.9049 - val_acc: 0.6900\n",
            "Epoch 3/100\n",
            " - 4s - loss: 0.9639 - acc: 0.6356 - val_loss: 0.8085 - val_acc: 0.7133\n",
            "Epoch 4/100\n",
            " - 4s - loss: 0.8778 - acc: 0.6685 - val_loss: 0.7606 - val_acc: 0.7272\n",
            "Epoch 5/100\n",
            " - 4s - loss: 0.8269 - acc: 0.6867 - val_loss: 0.7236 - val_acc: 0.7337\n",
            "Epoch 6/100\n",
            " - 4s - loss: 0.7890 - acc: 0.6990 - val_loss: 0.6948 - val_acc: 0.7443\n",
            "Epoch 7/100\n",
            " - 4s - loss: 0.7585 - acc: 0.7115 - val_loss: 0.6656 - val_acc: 0.7527\n",
            "Epoch 8/100\n",
            " - 4s - loss: 0.7373 - acc: 0.7219 - val_loss: 0.6502 - val_acc: 0.7563\n",
            "Epoch 9/100\n",
            " - 4s - loss: 0.7167 - acc: 0.7268 - val_loss: 0.6347 - val_acc: 0.7645\n",
            "Epoch 10/100\n",
            " - 4s - loss: 0.6978 - acc: 0.7333 - val_loss: 0.6172 - val_acc: 0.7672\n",
            "Epoch 11/100\n",
            " - 4s - loss: 0.6860 - acc: 0.7394 - val_loss: 0.6050 - val_acc: 0.7716\n",
            "Epoch 12/100\n",
            " - 4s - loss: 0.6710 - acc: 0.7455 - val_loss: 0.5957 - val_acc: 0.7778\n",
            "Epoch 13/100\n",
            " - 4s - loss: 0.6612 - acc: 0.7484 - val_loss: 0.5806 - val_acc: 0.7808\n",
            "Epoch 14/100\n",
            " - 4s - loss: 0.6497 - acc: 0.7518 - val_loss: 0.5738 - val_acc: 0.7848\n",
            "Epoch 15/100\n",
            " - 4s - loss: 0.6394 - acc: 0.7571 - val_loss: 0.5696 - val_acc: 0.7849\n",
            "Epoch 16/100\n",
            " - 4s - loss: 0.6373 - acc: 0.7591 - val_loss: 0.5569 - val_acc: 0.7900\n",
            "Epoch 17/100\n",
            " - 4s - loss: 0.6253 - acc: 0.7628 - val_loss: 0.5486 - val_acc: 0.7940\n",
            "Epoch 18/100\n",
            " - 4s - loss: 0.6163 - acc: 0.7680 - val_loss: 0.5460 - val_acc: 0.7944\n",
            "Epoch 19/100\n",
            " - 4s - loss: 0.6084 - acc: 0.7690 - val_loss: 0.5390 - val_acc: 0.7973\n",
            "Epoch 20/100\n",
            " - 4s - loss: 0.6025 - acc: 0.7712 - val_loss: 0.5371 - val_acc: 0.7993\n",
            "Epoch 21/100\n",
            " - 4s - loss: 0.5968 - acc: 0.7723 - val_loss: 0.5278 - val_acc: 0.8022\n",
            "Epoch 22/100\n",
            " - 4s - loss: 0.5919 - acc: 0.7731 - val_loss: 0.5203 - val_acc: 0.8058\n",
            "Epoch 23/100\n",
            " - 4s - loss: 0.5825 - acc: 0.7782 - val_loss: 0.5199 - val_acc: 0.8048\n",
            "Epoch 24/100\n",
            " - 4s - loss: 0.5794 - acc: 0.7797 - val_loss: 0.5189 - val_acc: 0.8076\n",
            "Epoch 25/100\n",
            " - 4s - loss: 0.5800 - acc: 0.7813 - val_loss: 0.5099 - val_acc: 0.8082\n",
            "Epoch 26/100\n",
            " - 4s - loss: 0.5725 - acc: 0.7845 - val_loss: 0.5040 - val_acc: 0.8090\n",
            "Epoch 27/100\n",
            " - 4s - loss: 0.5676 - acc: 0.7863 - val_loss: 0.4995 - val_acc: 0.8108\n",
            "Epoch 28/100\n",
            " - 4s - loss: 0.5632 - acc: 0.7871 - val_loss: 0.5022 - val_acc: 0.8098\n",
            "Epoch 29/100\n",
            " - 4s - loss: 0.5589 - acc: 0.7896 - val_loss: 0.4938 - val_acc: 0.8162\n",
            "Epoch 30/100\n",
            " - 4s - loss: 0.5519 - acc: 0.7926 - val_loss: 0.4952 - val_acc: 0.8140\n",
            "Epoch 31/100\n",
            " - 4s - loss: 0.5504 - acc: 0.7931 - val_loss: 0.4892 - val_acc: 0.8166\n",
            "Epoch 32/100\n",
            " - 4s - loss: 0.5496 - acc: 0.7928 - val_loss: 0.4816 - val_acc: 0.8197\n",
            "Epoch 33/100\n",
            " - 4s - loss: 0.5436 - acc: 0.7952 - val_loss: 0.4797 - val_acc: 0.8215\n",
            "Epoch 34/100\n"
          ],
          "name": "stdout"
        },
        {
          "output_type": "stream",
          "text": [
            " - 4s - loss: 0.5398 - acc: 0.7960 - val_loss: 0.4791 - val_acc: 0.8246\n",
            "Epoch 35/100\n",
            " - 4s - loss: 0.5358 - acc: 0.7985 - val_loss: 0.4766 - val_acc: 0.8186\n",
            "Epoch 36/100\n",
            " - 4s - loss: 0.5303 - acc: 0.7992 - val_loss: 0.4698 - val_acc: 0.8258\n",
            "Epoch 37/100\n",
            " - 4s - loss: 0.5290 - acc: 0.8020 - val_loss: 0.4693 - val_acc: 0.8265\n",
            "Epoch 38/100\n",
            " - 4s - loss: 0.5283 - acc: 0.8019 - val_loss: 0.4686 - val_acc: 0.8273\n",
            "Epoch 39/100\n",
            " - 4s - loss: 0.5251 - acc: 0.8020 - val_loss: 0.4620 - val_acc: 0.8302\n",
            "Epoch 40/100\n",
            " - 4s - loss: 0.5238 - acc: 0.8066 - val_loss: 0.4633 - val_acc: 0.8295\n",
            "Epoch 41/100\n",
            " - 4s - loss: 0.5209 - acc: 0.8044 - val_loss: 0.4615 - val_acc: 0.8310\n",
            "Epoch 42/100\n",
            " - 4s - loss: 0.5156 - acc: 0.8074 - val_loss: 0.4571 - val_acc: 0.8301\n",
            "Epoch 43/100\n",
            " - 4s - loss: 0.5165 - acc: 0.8062 - val_loss: 0.4537 - val_acc: 0.8342\n",
            "Epoch 44/100\n",
            " - 4s - loss: 0.5125 - acc: 0.8081 - val_loss: 0.4529 - val_acc: 0.8354\n",
            "Epoch 45/100\n",
            " - 4s - loss: 0.5073 - acc: 0.8110 - val_loss: 0.4512 - val_acc: 0.8359\n",
            "Epoch 46/100\n",
            " - 4s - loss: 0.5057 - acc: 0.8096 - val_loss: 0.4472 - val_acc: 0.8353\n",
            "Epoch 47/100\n",
            " - 4s - loss: 0.5093 - acc: 0.8077 - val_loss: 0.4444 - val_acc: 0.8370\n",
            "Epoch 48/100\n",
            " - 4s - loss: 0.4992 - acc: 0.8127 - val_loss: 0.4447 - val_acc: 0.8360\n",
            "Epoch 49/100\n",
            " - 4s - loss: 0.4977 - acc: 0.8132 - val_loss: 0.4420 - val_acc: 0.8388\n",
            "Epoch 50/100\n",
            " - 4s - loss: 0.4999 - acc: 0.8138 - val_loss: 0.4372 - val_acc: 0.8386\n",
            "Epoch 51/100\n",
            " - 4s - loss: 0.4961 - acc: 0.8142 - val_loss: 0.4413 - val_acc: 0.8415\n",
            "Epoch 52/100\n",
            " - 4s - loss: 0.4936 - acc: 0.8156 - val_loss: 0.4351 - val_acc: 0.8413\n",
            "Epoch 53/100\n",
            " - 4s - loss: 0.4895 - acc: 0.8172 - val_loss: 0.4309 - val_acc: 0.8407\n",
            "Epoch 54/100\n",
            " - 4s - loss: 0.4927 - acc: 0.8158 - val_loss: 0.4321 - val_acc: 0.8418\n",
            "Epoch 55/100\n",
            " - 4s - loss: 0.4881 - acc: 0.8198 - val_loss: 0.4298 - val_acc: 0.8442\n",
            "Epoch 56/100\n",
            " - 4s - loss: 0.4837 - acc: 0.8207 - val_loss: 0.4274 - val_acc: 0.8442\n",
            "Epoch 57/100\n",
            " - 4s - loss: 0.4844 - acc: 0.8198 - val_loss: 0.4261 - val_acc: 0.8467\n",
            "Epoch 58/100\n",
            " - 4s - loss: 0.4819 - acc: 0.8201 - val_loss: 0.4222 - val_acc: 0.8461\n",
            "Epoch 59/100\n",
            " - 4s - loss: 0.4794 - acc: 0.8213 - val_loss: 0.4213 - val_acc: 0.8449\n",
            "Epoch 60/100\n",
            " - 4s - loss: 0.4768 - acc: 0.8243 - val_loss: 0.4241 - val_acc: 0.8452\n",
            "Epoch 61/100\n",
            " - 4s - loss: 0.4759 - acc: 0.8222 - val_loss: 0.4201 - val_acc: 0.8467\n",
            "Epoch 62/100\n",
            " - 4s - loss: 0.4736 - acc: 0.8236 - val_loss: 0.4204 - val_acc: 0.8463\n",
            "Epoch 63/100\n",
            " - 4s - loss: 0.4709 - acc: 0.8236 - val_loss: 0.4140 - val_acc: 0.8482\n",
            "Epoch 64/100\n",
            " - 4s - loss: 0.4701 - acc: 0.8261 - val_loss: 0.4140 - val_acc: 0.8475\n",
            "Epoch 65/100\n",
            " - 4s - loss: 0.4711 - acc: 0.8250 - val_loss: 0.4089 - val_acc: 0.8503\n",
            "Epoch 66/100\n",
            " - 4s - loss: 0.4693 - acc: 0.8263 - val_loss: 0.4073 - val_acc: 0.8498\n",
            "Epoch 67/100\n",
            " - 4s - loss: 0.4625 - acc: 0.8273 - val_loss: 0.4109 - val_acc: 0.8493\n"
          ],
          "name": "stdout"
        },
        {
          "output_type": "stream",
          "text": [
            "Epoch 68/100\n",
            " - 4s - loss: 0.4641 - acc: 0.8274 - val_loss: 0.4104 - val_acc: 0.8502\n",
            "Epoch 69/100\n",
            " - 4s - loss: 0.4635 - acc: 0.8304 - val_loss: 0.4062 - val_acc: 0.8501\n",
            "Epoch 70/100\n",
            " - 4s - loss: 0.4568 - acc: 0.8286 - val_loss: 0.4027 - val_acc: 0.8511\n",
            "Epoch 71/100\n",
            " - 4s - loss: 0.4581 - acc: 0.8316 - val_loss: 0.4046 - val_acc: 0.8520\n",
            "Epoch 72/100\n",
            " - 4s - loss: 0.4571 - acc: 0.8296 - val_loss: 0.4033 - val_acc: 0.8518\n",
            "Epoch 73/100\n",
            " - 4s - loss: 0.4553 - acc: 0.8313 - val_loss: 0.4013 - val_acc: 0.8525\n",
            "Epoch 74/100\n",
            " - 4s - loss: 0.4549 - acc: 0.8311 - val_loss: 0.4007 - val_acc: 0.8527\n",
            "Epoch 75/100\n",
            " - 4s - loss: 0.4530 - acc: 0.8331 - val_loss: 0.3979 - val_acc: 0.8530\n",
            "Epoch 76/100\n",
            " - 4s - loss: 0.4513 - acc: 0.8320 - val_loss: 0.3953 - val_acc: 0.8538\n",
            "Epoch 77/100\n",
            " - 4s - loss: 0.4519 - acc: 0.8314 - val_loss: 0.3957 - val_acc: 0.8526\n",
            "Epoch 78/100\n",
            " - 4s - loss: 0.4463 - acc: 0.8348 - val_loss: 0.3939 - val_acc: 0.8549\n",
            "Epoch 79/100\n",
            " - 4s - loss: 0.4469 - acc: 0.8327 - val_loss: 0.3983 - val_acc: 0.8533\n",
            "Epoch 80/100\n",
            " - 4s - loss: 0.4475 - acc: 0.8337 - val_loss: 0.3946 - val_acc: 0.8539\n",
            "Epoch 81/100\n",
            " - 4s - loss: 0.4438 - acc: 0.8365 - val_loss: 0.3926 - val_acc: 0.8556\n",
            "Epoch 82/100\n",
            " - 4s - loss: 0.4405 - acc: 0.8377 - val_loss: 0.3887 - val_acc: 0.8572\n",
            "Epoch 83/100\n",
            " - 4s - loss: 0.4432 - acc: 0.8352 - val_loss: 0.3942 - val_acc: 0.8538\n",
            "Epoch 84/100\n",
            " - 4s - loss: 0.4424 - acc: 0.8355 - val_loss: 0.3876 - val_acc: 0.8565\n",
            "Epoch 85/100\n",
            " - 4s - loss: 0.4363 - acc: 0.8387 - val_loss: 0.3881 - val_acc: 0.8572\n",
            "Epoch 86/100\n",
            " - 4s - loss: 0.4366 - acc: 0.8402 - val_loss: 0.3914 - val_acc: 0.8562\n",
            "Epoch 87/100\n",
            " - 4s - loss: 0.4357 - acc: 0.8387 - val_loss: 0.3857 - val_acc: 0.8570\n",
            "Epoch 88/100\n",
            " - 4s - loss: 0.4349 - acc: 0.8400 - val_loss: 0.3853 - val_acc: 0.8576\n",
            "Epoch 89/100\n",
            " - 4s - loss: 0.4319 - acc: 0.8402 - val_loss: 0.3869 - val_acc: 0.8567\n",
            "Epoch 90/100\n",
            " - 4s - loss: 0.4327 - acc: 0.8388 - val_loss: 0.3829 - val_acc: 0.8584\n",
            "Epoch 91/100\n",
            " - 4s - loss: 0.4297 - acc: 0.8419 - val_loss: 0.3817 - val_acc: 0.8606\n",
            "Epoch 92/100\n",
            " - 4s - loss: 0.4294 - acc: 0.8420 - val_loss: 0.3775 - val_acc: 0.8607\n",
            "Epoch 93/100\n",
            " - 4s - loss: 0.4271 - acc: 0.8414 - val_loss: 0.3747 - val_acc: 0.8619\n",
            "Epoch 94/100\n",
            " - 4s - loss: 0.4285 - acc: 0.8435 - val_loss: 0.3753 - val_acc: 0.8629\n",
            "Epoch 95/100\n",
            " - 4s - loss: 0.4251 - acc: 0.8423 - val_loss: 0.3770 - val_acc: 0.8618\n",
            "Epoch 96/100\n",
            " - 4s - loss: 0.4227 - acc: 0.8433 - val_loss: 0.3724 - val_acc: 0.8630\n",
            "Epoch 97/100\n",
            " - 4s - loss: 0.4272 - acc: 0.8424 - val_loss: 0.3723 - val_acc: 0.8616\n",
            "Epoch 98/100\n",
            " - 4s - loss: 0.4234 - acc: 0.8458 - val_loss: 0.3694 - val_acc: 0.8635\n",
            "Epoch 99/100\n",
            " - 4s - loss: 0.4215 - acc: 0.8447 - val_loss: 0.3716 - val_acc: 0.8636\n",
            "Epoch 100/100\n",
            " - 4s - loss: 0.4196 - acc: 0.8449 - val_loss: 0.3750 - val_acc: 0.8610\n",
            "@ Total Time Spent: 410.18 seconds\n"
          ],
          "name": "stdout"
        }
      ]
    },
    {
      "metadata": {
        "id": "RnJwoesp7y5f",
        "colab_type": "code",
        "colab": {
          "base_uri": "https://localhost:8080/",
          "height": 50
        },
        "outputId": "bb1eec87-a98d-4c47-904a-21fa32cb1797"
      },
      "cell_type": "code",
      "source": [
        "train_loss_1, train_accuracy_1 = model_1.evaluate(X_train, y_train, verbose=0)\n",
        "print(\"Training Accuracy = %.2f %%     loss = %f\" % (train_accuracy_1 * 100, train_loss_1))\n",
        "test_loss_1, test_accuracy_1 = model_1.evaluate(X_test, y_test, verbose=0)\n",
        "print(\"Testing Accuracy = %.2f %%    loss = %f\" % (test_accuracy_1 * 100, test_loss_1))"
      ],
      "execution_count": 17,
      "outputs": [
        {
          "output_type": "stream",
          "text": [
            "Training Accuracy = 87.04 %     loss = 0.355899\n",
            "Testing Accuracy = 86.62 %    loss = 0.362886\n"
          ],
          "name": "stdout"
        }
      ]
    },
    {
      "metadata": {
        "id": "QK2y300kk8XG",
        "colab_type": "text"
      },
      "cell_type": "markdown",
      "source": [
        "### 3.2 Optimizer = SGD with Momentum learning rate = 0.01, beta=0.9"
      ]
    },
    {
      "metadata": {
        "id": "KJdMJPqVBiCo",
        "colab_type": "code",
        "colab": {}
      },
      "cell_type": "code",
      "source": [
        "sgd_momentum = optimizers.SGD(lr=0.01, decay=0, momentum=0.9, nesterov=False)"
      ],
      "execution_count": 0,
      "outputs": []
    },
    {
      "metadata": {
        "id": "qHWdzsZRlekm",
        "colab_type": "code",
        "colab": {}
      },
      "cell_type": "code",
      "source": [
        "start = time.time()\n",
        "model_2 = model(sgd_momentum)\n",
        "model_2_history = model_2.fit(X_train, y_train,\n",
        "                             batch_size = batch_size,\n",
        "                             epochs = epochs,\n",
        "                             verbose = 2,\n",
        "                             validation_data = (X_val, y_val))\n",
        "print('@ Total Time Spent: %.2f seconds' %(time.time()-start))"
      ],
      "execution_count": 0,
      "outputs": []
    },
    {
      "metadata": {
        "id": "43YOHz_Rlk47",
        "colab_type": "code",
        "colab": {
          "base_uri": "https://localhost:8080/",
          "height": 50
        },
        "outputId": "bbdca4ea-cb17-4c46-a492-6feb8aa2c1a6"
      },
      "cell_type": "code",
      "source": [
        "train_loss_2, train_accuracy_2 = model_2.evaluate(X_train, y_train, verbose=0)\n",
        "print(\"Training Accuracy = %.2f %%     loss = %f\" % (train_accuracy_2 * 100, train_loss_2))\n",
        "test_loss_2, test_accuracy_2 = model_2.evaluate(X_test, y_test, verbose=0)\n",
        "print(\"Testing Accuracy = %.2f %%    loss = %f\" % (test_accuracy_2 * 100, test_loss_2))"
      ],
      "execution_count": 20,
      "outputs": [
        {
          "output_type": "stream",
          "text": [
            "Training Accuracy = 95.02 %     loss = 0.138573\n",
            "Testing Accuracy = 92.54 %    loss = 0.202219\n"
          ],
          "name": "stdout"
        }
      ]
    },
    {
      "metadata": {
        "id": "eWeNn1lilvbS",
        "colab_type": "text"
      },
      "cell_type": "markdown",
      "source": [
        "### 3.3 Optimizer = SGD with Momentum learning rate = 0.01, beta=0.9, NAG=true"
      ]
    },
    {
      "metadata": {
        "id": "0cm7ydl1l6jt",
        "colab_type": "code",
        "colab": {}
      },
      "cell_type": "code",
      "source": [
        "NAG_momentum = optimizers.SGD(lr=0.01, decay=0, momentum=0.9, nesterov=True)"
      ],
      "execution_count": 0,
      "outputs": []
    },
    {
      "metadata": {
        "id": "LyglADWqmIZt",
        "colab_type": "code",
        "colab": {
          "base_uri": "https://localhost:8080/",
          "height": 3410
        },
        "collapsed": true,
        "outputId": "7833afd7-aa71-4d21-8ab2-55853dd78015"
      },
      "cell_type": "code",
      "source": [
        "start = time.time()\n",
        "model_3 = model(NAG_momentum)\n",
        "model_3_history = model_3.fit(X_train, y_train,\n",
        "                             batch_size = batch_size,\n",
        "                             epochs = epochs,\n",
        "                             verbose = 2,\n",
        "                             validation_data = (X_val, y_val))\n",
        "print('@ Total Time Spent: %.2f seconds' %(time.time()-start))"
      ],
      "execution_count": 22,
      "outputs": [
        {
          "output_type": "stream",
          "text": [
            "Train on 48000 samples, validate on 12000 samples\n",
            "Epoch 1/100\n",
            " - 5s - loss: 1.1354 - acc: 0.5707 - val_loss: 0.6642 - val_acc: 0.7534\n",
            "Epoch 2/100\n",
            " - 4s - loss: 0.7016 - acc: 0.7342 - val_loss: 0.5636 - val_acc: 0.7889\n",
            "Epoch 3/100\n",
            " - 4s - loss: 0.6163 - acc: 0.7677 - val_loss: 0.5203 - val_acc: 0.8020\n",
            "Epoch 4/100\n",
            " - 4s - loss: 0.5723 - acc: 0.7858 - val_loss: 0.4804 - val_acc: 0.8202\n",
            "Epoch 5/100\n",
            " - 4s - loss: 0.5375 - acc: 0.7978 - val_loss: 0.4527 - val_acc: 0.8357\n",
            "Epoch 6/100\n",
            " - 4s - loss: 0.5102 - acc: 0.8121 - val_loss: 0.4344 - val_acc: 0.8419\n",
            "Epoch 7/100\n",
            " - 4s - loss: 0.4848 - acc: 0.8210 - val_loss: 0.4059 - val_acc: 0.8493\n",
            "Epoch 8/100\n",
            " - 4s - loss: 0.4624 - acc: 0.8290 - val_loss: 0.3909 - val_acc: 0.8582\n",
            "Epoch 9/100\n",
            " - 4s - loss: 0.4474 - acc: 0.8360 - val_loss: 0.3763 - val_acc: 0.8627\n",
            "Epoch 10/100\n",
            " - 4s - loss: 0.4297 - acc: 0.8424 - val_loss: 0.3665 - val_acc: 0.8677\n",
            "Epoch 11/100\n",
            " - 4s - loss: 0.4209 - acc: 0.8473 - val_loss: 0.3540 - val_acc: 0.8708\n",
            "Epoch 12/100\n",
            " - 4s - loss: 0.4055 - acc: 0.8535 - val_loss: 0.3487 - val_acc: 0.8708\n",
            "Epoch 13/100\n",
            " - 4s - loss: 0.3993 - acc: 0.8549 - val_loss: 0.3401 - val_acc: 0.8774\n",
            "Epoch 14/100\n",
            " - 4s - loss: 0.3923 - acc: 0.8575 - val_loss: 0.3362 - val_acc: 0.8770\n",
            "Epoch 15/100\n",
            " - 4s - loss: 0.3808 - acc: 0.8617 - val_loss: 0.3251 - val_acc: 0.8818\n",
            "Epoch 16/100\n",
            " - 4s - loss: 0.3731 - acc: 0.8652 - val_loss: 0.3216 - val_acc: 0.8840\n",
            "Epoch 17/100\n",
            " - 4s - loss: 0.3677 - acc: 0.8654 - val_loss: 0.3137 - val_acc: 0.8878\n",
            "Epoch 18/100\n",
            " - 4s - loss: 0.3638 - acc: 0.8681 - val_loss: 0.3104 - val_acc: 0.8877\n",
            "Epoch 19/100\n",
            " - 4s - loss: 0.3549 - acc: 0.8708 - val_loss: 0.3030 - val_acc: 0.8906\n",
            "Epoch 20/100\n",
            " - 4s - loss: 0.3498 - acc: 0.8721 - val_loss: 0.3060 - val_acc: 0.8876\n",
            "Epoch 21/100\n",
            " - 4s - loss: 0.3429 - acc: 0.8758 - val_loss: 0.3010 - val_acc: 0.8917\n",
            "Epoch 22/100\n",
            " - 4s - loss: 0.3394 - acc: 0.8774 - val_loss: 0.2943 - val_acc: 0.8950\n",
            "Epoch 23/100\n",
            " - 4s - loss: 0.3348 - acc: 0.8793 - val_loss: 0.3026 - val_acc: 0.8872\n",
            "Epoch 24/100\n",
            " - 4s - loss: 0.3312 - acc: 0.8793 - val_loss: 0.2922 - val_acc: 0.8904\n",
            "Epoch 25/100\n",
            " - 4s - loss: 0.3267 - acc: 0.8801 - val_loss: 0.2869 - val_acc: 0.8962\n",
            "Epoch 26/100\n",
            " - 4s - loss: 0.3248 - acc: 0.8811 - val_loss: 0.2832 - val_acc: 0.8961\n",
            "Epoch 27/100\n",
            " - 4s - loss: 0.3199 - acc: 0.8825 - val_loss: 0.2827 - val_acc: 0.8978\n",
            "Epoch 28/100\n",
            " - 4s - loss: 0.3161 - acc: 0.8833 - val_loss: 0.2813 - val_acc: 0.8987\n",
            "Epoch 29/100\n",
            " - 4s - loss: 0.3109 - acc: 0.8868 - val_loss: 0.2776 - val_acc: 0.8976\n",
            "Epoch 30/100\n",
            " - 4s - loss: 0.3115 - acc: 0.8879 - val_loss: 0.2838 - val_acc: 0.8928\n",
            "Epoch 31/100\n",
            " - 4s - loss: 0.3085 - acc: 0.8877 - val_loss: 0.2734 - val_acc: 0.8999\n",
            "Epoch 32/100\n",
            " - 4s - loss: 0.3042 - acc: 0.8887 - val_loss: 0.2724 - val_acc: 0.8998\n",
            "Epoch 33/100\n",
            " - 4s - loss: 0.3010 - acc: 0.8901 - val_loss: 0.2701 - val_acc: 0.9025\n",
            "Epoch 34/100\n"
          ],
          "name": "stdout"
        },
        {
          "output_type": "stream",
          "text": [
            " - 4s - loss: 0.3001 - acc: 0.8901 - val_loss: 0.2742 - val_acc: 0.8971\n",
            "Epoch 35/100\n",
            " - 4s - loss: 0.2974 - acc: 0.8923 - val_loss: 0.2663 - val_acc: 0.9025\n",
            "Epoch 36/100\n",
            " - 4s - loss: 0.2924 - acc: 0.8942 - val_loss: 0.2650 - val_acc: 0.9052\n",
            "Epoch 37/100\n",
            " - 4s - loss: 0.2898 - acc: 0.8942 - val_loss: 0.2644 - val_acc: 0.9045\n",
            "Epoch 38/100\n",
            " - 4s - loss: 0.2895 - acc: 0.8933 - val_loss: 0.2622 - val_acc: 0.9053\n",
            "Epoch 39/100\n",
            " - 4s - loss: 0.2892 - acc: 0.8935 - val_loss: 0.2622 - val_acc: 0.9018\n",
            "Epoch 40/100\n",
            " - 4s - loss: 0.2872 - acc: 0.8946 - val_loss: 0.2603 - val_acc: 0.9054\n",
            "Epoch 41/100\n",
            " - 4s - loss: 0.2820 - acc: 0.8965 - val_loss: 0.2622 - val_acc: 0.9007\n",
            "Epoch 42/100\n",
            " - 4s - loss: 0.2806 - acc: 0.8977 - val_loss: 0.2590 - val_acc: 0.9029\n",
            "Epoch 43/100\n",
            " - 4s - loss: 0.2769 - acc: 0.8978 - val_loss: 0.2533 - val_acc: 0.9075\n",
            "Epoch 44/100\n",
            " - 4s - loss: 0.2778 - acc: 0.8971 - val_loss: 0.2602 - val_acc: 0.9031\n",
            "Epoch 45/100\n",
            " - 4s - loss: 0.2748 - acc: 0.8993 - val_loss: 0.2522 - val_acc: 0.9068\n",
            "Epoch 46/100\n",
            " - 4s - loss: 0.2750 - acc: 0.8988 - val_loss: 0.2537 - val_acc: 0.9059\n",
            "Epoch 47/100\n",
            " - 4s - loss: 0.2728 - acc: 0.9001 - val_loss: 0.2517 - val_acc: 0.9075\n",
            "Epoch 48/100\n",
            " - 4s - loss: 0.2723 - acc: 0.8993 - val_loss: 0.2572 - val_acc: 0.9012\n",
            "Epoch 49/100\n",
            " - 4s - loss: 0.2670 - acc: 0.9029 - val_loss: 0.2486 - val_acc: 0.9073\n",
            "Epoch 50/100\n",
            " - 4s - loss: 0.2671 - acc: 0.9009 - val_loss: 0.2461 - val_acc: 0.9079\n",
            "Epoch 51/100\n",
            " - 4s - loss: 0.2639 - acc: 0.9029 - val_loss: 0.2426 - val_acc: 0.9091\n",
            "Epoch 52/100\n",
            " - 4s - loss: 0.2642 - acc: 0.9037 - val_loss: 0.2479 - val_acc: 0.9047\n",
            "Epoch 53/100\n",
            " - 4s - loss: 0.2643 - acc: 0.9021 - val_loss: 0.2463 - val_acc: 0.9081\n",
            "Epoch 54/100\n",
            " - 4s - loss: 0.2612 - acc: 0.9030 - val_loss: 0.2435 - val_acc: 0.9079\n",
            "Epoch 55/100\n",
            " - 4s - loss: 0.2601 - acc: 0.9039 - val_loss: 0.2538 - val_acc: 0.9034\n",
            "Epoch 56/100\n",
            " - 4s - loss: 0.2609 - acc: 0.9044 - val_loss: 0.2427 - val_acc: 0.9090\n",
            "Epoch 57/100\n",
            " - 4s - loss: 0.2553 - acc: 0.9051 - val_loss: 0.2402 - val_acc: 0.9109\n",
            "Epoch 58/100\n",
            " - 4s - loss: 0.2565 - acc: 0.9055 - val_loss: 0.2424 - val_acc: 0.9073\n",
            "Epoch 59/100\n",
            " - 4s - loss: 0.2554 - acc: 0.9050 - val_loss: 0.2407 - val_acc: 0.9087\n",
            "Epoch 60/100\n",
            " - 4s - loss: 0.2530 - acc: 0.9075 - val_loss: 0.2406 - val_acc: 0.9097\n",
            "Epoch 61/100\n",
            " - 4s - loss: 0.2520 - acc: 0.9075 - val_loss: 0.2364 - val_acc: 0.9107\n",
            "Epoch 62/100\n",
            " - 4s - loss: 0.2523 - acc: 0.9085 - val_loss: 0.2388 - val_acc: 0.9085\n",
            "Epoch 63/100\n",
            " - 4s - loss: 0.2495 - acc: 0.9086 - val_loss: 0.2455 - val_acc: 0.9085\n",
            "Epoch 64/100\n",
            " - 4s - loss: 0.2494 - acc: 0.9084 - val_loss: 0.2397 - val_acc: 0.9114\n",
            "Epoch 65/100\n",
            " - 4s - loss: 0.2482 - acc: 0.9091 - val_loss: 0.2366 - val_acc: 0.9094\n",
            "Epoch 66/100\n",
            " - 4s - loss: 0.2469 - acc: 0.9087 - val_loss: 0.2362 - val_acc: 0.9117\n",
            "Epoch 67/100\n",
            " - 4s - loss: 0.2431 - acc: 0.9099 - val_loss: 0.2367 - val_acc: 0.9122\n"
          ],
          "name": "stdout"
        },
        {
          "output_type": "stream",
          "text": [
            "Epoch 68/100\n",
            " - 4s - loss: 0.2432 - acc: 0.9099 - val_loss: 0.2342 - val_acc: 0.9107\n",
            "Epoch 69/100\n",
            " - 4s - loss: 0.2432 - acc: 0.9101 - val_loss: 0.2375 - val_acc: 0.9094\n",
            "Epoch 70/100\n",
            " - 4s - loss: 0.2434 - acc: 0.9102 - val_loss: 0.2358 - val_acc: 0.9122\n",
            "Epoch 71/100\n",
            " - 4s - loss: 0.2418 - acc: 0.9100 - val_loss: 0.2449 - val_acc: 0.9066\n",
            "Epoch 72/100\n",
            " - 4s - loss: 0.2404 - acc: 0.9105 - val_loss: 0.2324 - val_acc: 0.9128\n",
            "Epoch 73/100\n",
            " - 4s - loss: 0.2393 - acc: 0.9119 - val_loss: 0.2321 - val_acc: 0.9114\n",
            "Epoch 74/100\n",
            " - 4s - loss: 0.2378 - acc: 0.9111 - val_loss: 0.2365 - val_acc: 0.9103\n",
            "Epoch 75/100\n",
            " - 4s - loss: 0.2357 - acc: 0.9127 - val_loss: 0.2280 - val_acc: 0.9132\n",
            "Epoch 76/100\n",
            " - 4s - loss: 0.2371 - acc: 0.9125 - val_loss: 0.2290 - val_acc: 0.9138\n",
            "Epoch 77/100\n",
            " - 4s - loss: 0.2348 - acc: 0.9130 - val_loss: 0.2327 - val_acc: 0.9137\n",
            "Epoch 78/100\n",
            " - 4s - loss: 0.2351 - acc: 0.9121 - val_loss: 0.2303 - val_acc: 0.9125\n",
            "Epoch 79/100\n",
            " - 4s - loss: 0.2329 - acc: 0.9129 - val_loss: 0.2283 - val_acc: 0.9119\n",
            "Epoch 80/100\n",
            " - 4s - loss: 0.2307 - acc: 0.9147 - val_loss: 0.2332 - val_acc: 0.9106\n",
            "Epoch 81/100\n",
            " - 4s - loss: 0.2310 - acc: 0.9142 - val_loss: 0.2267 - val_acc: 0.9140\n",
            "Epoch 82/100\n",
            " - 4s - loss: 0.2305 - acc: 0.9154 - val_loss: 0.2263 - val_acc: 0.9145\n",
            "Epoch 83/100\n",
            " - 4s - loss: 0.2310 - acc: 0.9150 - val_loss: 0.2273 - val_acc: 0.9133\n",
            "Epoch 84/100\n",
            " - 4s - loss: 0.2255 - acc: 0.9168 - val_loss: 0.2265 - val_acc: 0.9155\n",
            "Epoch 85/100\n",
            " - 4s - loss: 0.2281 - acc: 0.9150 - val_loss: 0.2286 - val_acc: 0.9145\n",
            "Epoch 86/100\n",
            " - 4s - loss: 0.2263 - acc: 0.9147 - val_loss: 0.2278 - val_acc: 0.9138\n",
            "Epoch 87/100\n",
            " - 4s - loss: 0.2282 - acc: 0.9158 - val_loss: 0.2433 - val_acc: 0.9069\n",
            "Epoch 88/100\n",
            " - 4s - loss: 0.2242 - acc: 0.9171 - val_loss: 0.2319 - val_acc: 0.9143\n",
            "Epoch 89/100\n",
            " - 4s - loss: 0.2241 - acc: 0.9165 - val_loss: 0.2250 - val_acc: 0.9171\n",
            "Epoch 90/100\n",
            " - 4s - loss: 0.2247 - acc: 0.9159 - val_loss: 0.2283 - val_acc: 0.9146\n",
            "Epoch 91/100\n",
            " - 4s - loss: 0.2255 - acc: 0.9164 - val_loss: 0.2291 - val_acc: 0.9144\n",
            "Epoch 92/100\n",
            " - 4s - loss: 0.2198 - acc: 0.9180 - val_loss: 0.2251 - val_acc: 0.9160\n",
            "Epoch 93/100\n",
            " - 4s - loss: 0.2215 - acc: 0.9171 - val_loss: 0.2257 - val_acc: 0.9151\n",
            "Epoch 94/100\n",
            " - 4s - loss: 0.2219 - acc: 0.9164 - val_loss: 0.2247 - val_acc: 0.9158\n",
            "Epoch 95/100\n",
            " - 4s - loss: 0.2210 - acc: 0.9172 - val_loss: 0.2249 - val_acc: 0.9168\n",
            "Epoch 96/100\n",
            " - 4s - loss: 0.2204 - acc: 0.9170 - val_loss: 0.2218 - val_acc: 0.9168\n",
            "Epoch 97/100\n",
            " - 4s - loss: 0.2165 - acc: 0.9198 - val_loss: 0.2237 - val_acc: 0.9172\n",
            "Epoch 98/100\n",
            " - 4s - loss: 0.2165 - acc: 0.9189 - val_loss: 0.2224 - val_acc: 0.9159\n",
            "Epoch 99/100\n",
            " - 4s - loss: 0.2149 - acc: 0.9199 - val_loss: 0.2202 - val_acc: 0.9184\n",
            "Epoch 100/100\n",
            " - 4s - loss: 0.2172 - acc: 0.9185 - val_loss: 0.2225 - val_acc: 0.9173\n",
            "@ Total Time Spent: 422.62 seconds\n"
          ],
          "name": "stdout"
        }
      ]
    },
    {
      "metadata": {
        "id": "zXKIOJvimRn_",
        "colab_type": "code",
        "colab": {
          "base_uri": "https://localhost:8080/",
          "height": 50
        },
        "outputId": "bcbccb7b-008f-41a4-a1fe-bf2619664973"
      },
      "cell_type": "code",
      "source": [
        "train_loss_3, train_accuracy_3 = model_3.evaluate(X_train, y_train, verbose=0)\n",
        "print(\"Training Accuracy = %.2f %%     loss = %f\" % (train_accuracy_3 * 100, train_loss_3))\n",
        "test_loss_3, test_accuracy_3 = model_3.evaluate(X_test, y_test, verbose=0)\n",
        "print(\"Testing Accuracy = %.2f %%    loss = %f\" % (test_accuracy_3 * 100, test_loss_3))"
      ],
      "execution_count": 23,
      "outputs": [
        {
          "output_type": "stream",
          "text": [
            "Training Accuracy = 94.69 %     loss = 0.146109\n",
            "Testing Accuracy = 92.45 %    loss = 0.204749\n"
          ],
          "name": "stdout"
        }
      ]
    },
    {
      "metadata": {
        "id": "fk3TnyBamdgV",
        "colab_type": "text"
      },
      "cell_type": "markdown",
      "source": [
        "### 3.4 Optimizer = AdaGrad learning rate = 0.01\n",
        "\n"
      ]
    },
    {
      "metadata": {
        "id": "ZICxqVcXmfLI",
        "colab_type": "code",
        "colab": {}
      },
      "cell_type": "code",
      "source": [
        "Adagrad = optimizers.Adagrad(lr=0.01, epsilon=None, decay=0)"
      ],
      "execution_count": 0,
      "outputs": []
    },
    {
      "metadata": {
        "id": "7bWke45onAQK",
        "colab_type": "code",
        "colab": {
          "base_uri": "https://localhost:8080/",
          "height": 3410
        },
        "collapsed": true,
        "outputId": "342ae7df-78bf-48b9-88d2-4f521cd7f16d"
      },
      "cell_type": "code",
      "source": [
        "start = time.time()\n",
        "model_4 = model(Adagrad)\n",
        "model_4_history = model_4.fit(X_train, y_train,\n",
        "                             batch_size = batch_size,\n",
        "                             epochs = epochs,\n",
        "                             verbose = 2,\n",
        "                             validation_data = (X_val, y_val))\n",
        "print('@ Total Time Spent: %.2f seconds' %(time.time()-start))"
      ],
      "execution_count": 25,
      "outputs": [
        {
          "output_type": "stream",
          "text": [
            "Train on 48000 samples, validate on 12000 samples\n",
            "Epoch 1/100\n",
            " - 5s - loss: 0.8279 - acc: 0.6955 - val_loss: 0.5319 - val_acc: 0.7920\n",
            "Epoch 2/100\n",
            " - 4s - loss: 0.5519 - acc: 0.7910 - val_loss: 0.4667 - val_acc: 0.8213\n",
            "Epoch 3/100\n",
            " - 4s - loss: 0.5022 - acc: 0.8112 - val_loss: 0.4192 - val_acc: 0.8479\n",
            "Epoch 4/100\n",
            " - 4s - loss: 0.4708 - acc: 0.8262 - val_loss: 0.4037 - val_acc: 0.8493\n",
            "Epoch 5/100\n",
            " - 4s - loss: 0.4472 - acc: 0.8343 - val_loss: 0.3867 - val_acc: 0.8602\n",
            "Epoch 6/100\n",
            " - 4s - loss: 0.4300 - acc: 0.8423 - val_loss: 0.3637 - val_acc: 0.8641\n",
            "Epoch 7/100\n",
            " - 4s - loss: 0.4141 - acc: 0.8488 - val_loss: 0.3608 - val_acc: 0.8643\n",
            "Epoch 8/100\n",
            " - 4s - loss: 0.4047 - acc: 0.8506 - val_loss: 0.3486 - val_acc: 0.8707\n",
            "Epoch 9/100\n",
            " - 4s - loss: 0.3927 - acc: 0.8565 - val_loss: 0.3385 - val_acc: 0.8743\n",
            "Epoch 10/100\n",
            " - 4s - loss: 0.3838 - acc: 0.8592 - val_loss: 0.3330 - val_acc: 0.8762\n",
            "Epoch 11/100\n",
            " - 4s - loss: 0.3785 - acc: 0.8628 - val_loss: 0.3322 - val_acc: 0.8751\n",
            "Epoch 12/100\n",
            " - 4s - loss: 0.3700 - acc: 0.8647 - val_loss: 0.3252 - val_acc: 0.8792\n",
            "Epoch 13/100\n",
            " - 4s - loss: 0.3647 - acc: 0.8662 - val_loss: 0.3177 - val_acc: 0.8818\n",
            "Epoch 14/100\n",
            " - 4s - loss: 0.3584 - acc: 0.8699 - val_loss: 0.3184 - val_acc: 0.8805\n",
            "Epoch 15/100\n",
            " - 4s - loss: 0.3546 - acc: 0.8694 - val_loss: 0.3088 - val_acc: 0.8845\n",
            "Epoch 16/100\n",
            " - 4s - loss: 0.3479 - acc: 0.8739 - val_loss: 0.3063 - val_acc: 0.8852\n",
            "Epoch 17/100\n",
            " - 4s - loss: 0.3453 - acc: 0.8733 - val_loss: 0.3047 - val_acc: 0.8863\n",
            "Epoch 18/100\n",
            " - 4s - loss: 0.3404 - acc: 0.8754 - val_loss: 0.3057 - val_acc: 0.8836\n",
            "Epoch 19/100\n",
            " - 4s - loss: 0.3347 - acc: 0.8790 - val_loss: 0.2935 - val_acc: 0.8906\n",
            "Epoch 20/100\n",
            " - 4s - loss: 0.3351 - acc: 0.8772 - val_loss: 0.2945 - val_acc: 0.8907\n",
            "Epoch 21/100\n",
            " - 4s - loss: 0.3295 - acc: 0.8784 - val_loss: 0.2886 - val_acc: 0.8912\n",
            "Epoch 22/100\n",
            " - 4s - loss: 0.3257 - acc: 0.8799 - val_loss: 0.2869 - val_acc: 0.8919\n",
            "Epoch 23/100\n",
            " - 4s - loss: 0.3223 - acc: 0.8804 - val_loss: 0.2858 - val_acc: 0.8932\n",
            "Epoch 24/100\n",
            " - 4s - loss: 0.3209 - acc: 0.8826 - val_loss: 0.2833 - val_acc: 0.8935\n",
            "Epoch 25/100\n",
            " - 4s - loss: 0.3168 - acc: 0.8831 - val_loss: 0.2851 - val_acc: 0.8910\n",
            "Epoch 26/100\n",
            " - 4s - loss: 0.3127 - acc: 0.8846 - val_loss: 0.2789 - val_acc: 0.8971\n",
            "Epoch 27/100\n",
            " - 4s - loss: 0.3104 - acc: 0.8869 - val_loss: 0.2763 - val_acc: 0.8969\n",
            "Epoch 28/100\n",
            " - 4s - loss: 0.3092 - acc: 0.8860 - val_loss: 0.2804 - val_acc: 0.8949\n",
            "Epoch 29/100\n",
            " - 4s - loss: 0.3092 - acc: 0.8872 - val_loss: 0.2795 - val_acc: 0.8934\n",
            "Epoch 30/100\n",
            " - 4s - loss: 0.3069 - acc: 0.8870 - val_loss: 0.2821 - val_acc: 0.8935\n",
            "Epoch 31/100\n",
            " - 4s - loss: 0.3064 - acc: 0.8868 - val_loss: 0.2741 - val_acc: 0.8984\n",
            "Epoch 32/100\n",
            " - 4s - loss: 0.2990 - acc: 0.8901 - val_loss: 0.2707 - val_acc: 0.8981\n",
            "Epoch 33/100\n",
            " - 4s - loss: 0.2975 - acc: 0.8905 - val_loss: 0.2772 - val_acc: 0.8952\n",
            "Epoch 34/100\n"
          ],
          "name": "stdout"
        },
        {
          "output_type": "stream",
          "text": [
            " - 4s - loss: 0.2973 - acc: 0.8900 - val_loss: 0.2653 - val_acc: 0.8995\n",
            "Epoch 35/100\n",
            " - 4s - loss: 0.2924 - acc: 0.8934 - val_loss: 0.2662 - val_acc: 0.9002\n",
            "Epoch 36/100\n",
            " - 4s - loss: 0.2933 - acc: 0.8926 - val_loss: 0.2662 - val_acc: 0.9001\n",
            "Epoch 37/100\n",
            " - 4s - loss: 0.2929 - acc: 0.8925 - val_loss: 0.2659 - val_acc: 0.9003\n",
            "Epoch 38/100\n",
            " - 4s - loss: 0.2897 - acc: 0.8939 - val_loss: 0.2626 - val_acc: 0.9021\n",
            "Epoch 39/100\n",
            " - 4s - loss: 0.2879 - acc: 0.8934 - val_loss: 0.2604 - val_acc: 0.9028\n",
            "Epoch 40/100\n",
            " - 4s - loss: 0.2865 - acc: 0.8944 - val_loss: 0.2625 - val_acc: 0.9009\n",
            "Epoch 41/100\n",
            " - 4s - loss: 0.2882 - acc: 0.8936 - val_loss: 0.2600 - val_acc: 0.9018\n",
            "Epoch 42/100\n",
            " - 4s - loss: 0.2850 - acc: 0.8947 - val_loss: 0.2617 - val_acc: 0.9016\n",
            "Epoch 43/100\n",
            " - 4s - loss: 0.2828 - acc: 0.8952 - val_loss: 0.2601 - val_acc: 0.9016\n",
            "Epoch 44/100\n",
            " - 4s - loss: 0.2824 - acc: 0.8954 - val_loss: 0.2588 - val_acc: 0.9033\n",
            "Epoch 45/100\n",
            " - 4s - loss: 0.2792 - acc: 0.8966 - val_loss: 0.2578 - val_acc: 0.9033\n",
            "Epoch 46/100\n",
            " - 4s - loss: 0.2800 - acc: 0.8976 - val_loss: 0.2587 - val_acc: 0.9015\n",
            "Epoch 47/100\n",
            " - 4s - loss: 0.2787 - acc: 0.8977 - val_loss: 0.2549 - val_acc: 0.9048\n",
            "Epoch 48/100\n",
            " - 4s - loss: 0.2769 - acc: 0.8986 - val_loss: 0.2530 - val_acc: 0.9061\n",
            "Epoch 49/100\n",
            " - 4s - loss: 0.2763 - acc: 0.8983 - val_loss: 0.2527 - val_acc: 0.9057\n",
            "Epoch 50/100\n",
            " - 4s - loss: 0.2757 - acc: 0.8978 - val_loss: 0.2508 - val_acc: 0.9051\n",
            "Epoch 51/100\n",
            " - 4s - loss: 0.2701 - acc: 0.8996 - val_loss: 0.2507 - val_acc: 0.9052\n",
            "Epoch 52/100\n",
            " - 4s - loss: 0.2727 - acc: 0.8997 - val_loss: 0.2502 - val_acc: 0.9057\n",
            "Epoch 53/100\n",
            " - 4s - loss: 0.2704 - acc: 0.9011 - val_loss: 0.2498 - val_acc: 0.9069\n",
            "Epoch 54/100\n",
            " - 4s - loss: 0.2690 - acc: 0.9005 - val_loss: 0.2499 - val_acc: 0.9060\n",
            "Epoch 55/100\n",
            " - 4s - loss: 0.2689 - acc: 0.9017 - val_loss: 0.2483 - val_acc: 0.9053\n",
            "Epoch 56/100\n",
            " - 4s - loss: 0.2660 - acc: 0.9009 - val_loss: 0.2480 - val_acc: 0.9072\n",
            "Epoch 57/100\n",
            " - 4s - loss: 0.2659 - acc: 0.9011 - val_loss: 0.2460 - val_acc: 0.9074\n",
            "Epoch 58/100\n",
            " - 4s - loss: 0.2641 - acc: 0.9030 - val_loss: 0.2464 - val_acc: 0.9084\n",
            "Epoch 59/100\n",
            " - 4s - loss: 0.2628 - acc: 0.9031 - val_loss: 0.2492 - val_acc: 0.9062\n",
            "Epoch 60/100\n",
            " - 4s - loss: 0.2620 - acc: 0.9038 - val_loss: 0.2452 - val_acc: 0.9096\n",
            "Epoch 61/100\n",
            " - 4s - loss: 0.2616 - acc: 0.9030 - val_loss: 0.2447 - val_acc: 0.9082\n",
            "Epoch 62/100\n",
            " - 4s - loss: 0.2602 - acc: 0.9031 - val_loss: 0.2457 - val_acc: 0.9086\n",
            "Epoch 63/100\n",
            " - 4s - loss: 0.2596 - acc: 0.9038 - val_loss: 0.2431 - val_acc: 0.9093\n",
            "Epoch 64/100\n",
            " - 4s - loss: 0.2590 - acc: 0.9036 - val_loss: 0.2433 - val_acc: 0.9099\n",
            "Epoch 65/100\n",
            " - 4s - loss: 0.2616 - acc: 0.9036 - val_loss: 0.2430 - val_acc: 0.9088\n",
            "Epoch 66/100\n",
            " - 4s - loss: 0.2570 - acc: 0.9048 - val_loss: 0.2421 - val_acc: 0.9087\n",
            "Epoch 67/100\n",
            " - 4s - loss: 0.2565 - acc: 0.9060 - val_loss: 0.2405 - val_acc: 0.9094\n"
          ],
          "name": "stdout"
        },
        {
          "output_type": "stream",
          "text": [
            "Epoch 68/100\n",
            " - 4s - loss: 0.2551 - acc: 0.9046 - val_loss: 0.2420 - val_acc: 0.9096\n",
            "Epoch 69/100\n",
            " - 4s - loss: 0.2580 - acc: 0.9042 - val_loss: 0.2398 - val_acc: 0.9111\n",
            "Epoch 70/100\n",
            " - 4s - loss: 0.2545 - acc: 0.9062 - val_loss: 0.2410 - val_acc: 0.9086\n",
            "Epoch 71/100\n",
            " - 4s - loss: 0.2557 - acc: 0.9054 - val_loss: 0.2403 - val_acc: 0.9087\n",
            "Epoch 72/100\n",
            " - 4s - loss: 0.2511 - acc: 0.9074 - val_loss: 0.2383 - val_acc: 0.9100\n",
            "Epoch 73/100\n",
            " - 4s - loss: 0.2509 - acc: 0.9076 - val_loss: 0.2372 - val_acc: 0.9116\n",
            "Epoch 74/100\n",
            " - 4s - loss: 0.2520 - acc: 0.9056 - val_loss: 0.2381 - val_acc: 0.9093\n",
            "Epoch 75/100\n",
            " - 4s - loss: 0.2507 - acc: 0.9072 - val_loss: 0.2378 - val_acc: 0.9095\n",
            "Epoch 76/100\n",
            " - 4s - loss: 0.2479 - acc: 0.9073 - val_loss: 0.2362 - val_acc: 0.9102\n",
            "Epoch 77/100\n",
            " - 4s - loss: 0.2509 - acc: 0.9073 - val_loss: 0.2379 - val_acc: 0.9108\n",
            "Epoch 78/100\n",
            " - 4s - loss: 0.2484 - acc: 0.9071 - val_loss: 0.2380 - val_acc: 0.9103\n",
            "Epoch 79/100\n",
            " - 4s - loss: 0.2487 - acc: 0.9077 - val_loss: 0.2373 - val_acc: 0.9102\n",
            "Epoch 80/100\n",
            " - 4s - loss: 0.2481 - acc: 0.9081 - val_loss: 0.2352 - val_acc: 0.9108\n",
            "Epoch 81/100\n",
            " - 4s - loss: 0.2443 - acc: 0.9086 - val_loss: 0.2347 - val_acc: 0.9117\n",
            "Epoch 82/100\n",
            " - 4s - loss: 0.2452 - acc: 0.9081 - val_loss: 0.2346 - val_acc: 0.9112\n",
            "Epoch 83/100\n",
            " - 4s - loss: 0.2435 - acc: 0.9104 - val_loss: 0.2341 - val_acc: 0.9121\n",
            "Epoch 84/100\n",
            " - 4s - loss: 0.2426 - acc: 0.9098 - val_loss: 0.2333 - val_acc: 0.9118\n",
            "Epoch 85/100\n",
            " - 4s - loss: 0.2448 - acc: 0.9084 - val_loss: 0.2337 - val_acc: 0.9102\n",
            "Epoch 86/100\n",
            " - 4s - loss: 0.2435 - acc: 0.9085 - val_loss: 0.2346 - val_acc: 0.9113\n",
            "Epoch 87/100\n",
            " - 4s - loss: 0.2419 - acc: 0.9104 - val_loss: 0.2333 - val_acc: 0.9122\n",
            "Epoch 88/100\n",
            " - 4s - loss: 0.2399 - acc: 0.9112 - val_loss: 0.2330 - val_acc: 0.9123\n",
            "Epoch 89/100\n",
            " - 4s - loss: 0.2403 - acc: 0.9105 - val_loss: 0.2316 - val_acc: 0.9127\n",
            "Epoch 90/100\n",
            " - 4s - loss: 0.2377 - acc: 0.9105 - val_loss: 0.2320 - val_acc: 0.9128\n",
            "Epoch 91/100\n",
            " - 4s - loss: 0.2394 - acc: 0.9113 - val_loss: 0.2328 - val_acc: 0.9118\n",
            "Epoch 92/100\n",
            " - 4s - loss: 0.2372 - acc: 0.9116 - val_loss: 0.2316 - val_acc: 0.9127\n",
            "Epoch 93/100\n",
            " - 4s - loss: 0.2395 - acc: 0.9109 - val_loss: 0.2316 - val_acc: 0.9114\n",
            "Epoch 94/100\n",
            " - 4s - loss: 0.2402 - acc: 0.9096 - val_loss: 0.2305 - val_acc: 0.9123\n",
            "Epoch 95/100\n",
            " - 4s - loss: 0.2369 - acc: 0.9113 - val_loss: 0.2313 - val_acc: 0.9129\n",
            "Epoch 96/100\n",
            " - 4s - loss: 0.2383 - acc: 0.9104 - val_loss: 0.2303 - val_acc: 0.9128\n",
            "Epoch 97/100\n",
            " - 4s - loss: 0.2372 - acc: 0.9117 - val_loss: 0.2324 - val_acc: 0.9130\n",
            "Epoch 98/100\n",
            " - 4s - loss: 0.2354 - acc: 0.9140 - val_loss: 0.2293 - val_acc: 0.9135\n",
            "Epoch 99/100\n",
            " - 4s - loss: 0.2346 - acc: 0.9130 - val_loss: 0.2291 - val_acc: 0.9136\n",
            "Epoch 100/100\n",
            " - 4s - loss: 0.2338 - acc: 0.9122 - val_loss: 0.2283 - val_acc: 0.9151\n",
            "@ Total Time Spent: 419.71 seconds\n"
          ],
          "name": "stdout"
        }
      ]
    },
    {
      "metadata": {
        "id": "_lAKUxbVnG6c",
        "colab_type": "code",
        "colab": {
          "base_uri": "https://localhost:8080/",
          "height": 50
        },
        "outputId": "baf6b27f-1e91-446a-c784-a38210db6ad8"
      },
      "cell_type": "code",
      "source": [
        "train_loss_4, train_accuracy_4 = model_4.evaluate(X_train, y_train, verbose=0)\n",
        "print(\"Training Accuracy = %.2f %%     loss = %f\" % (train_accuracy_4 * 100, train_loss_4))\n",
        "test_loss_4, test_accuracy_4 = model_4.evaluate(X_test, y_test, verbose=0)\n",
        "print(\"Testing Accuracy = %.2f %%    loss = %f\" % (test_accuracy_4 * 100, test_loss_4))"
      ],
      "execution_count": 26,
      "outputs": [
        {
          "output_type": "stream",
          "text": [
            "Training Accuracy = 93.83 %     loss = 0.166379\n",
            "Testing Accuracy = 92.11 %    loss = 0.213274\n"
          ],
          "name": "stdout"
        }
      ]
    },
    {
      "metadata": {
        "id": "D8KU8KnNnRG7",
        "colab_type": "text"
      },
      "cell_type": "markdown",
      "source": [
        "### 3.5 Optimizer = RMSprop lr=0.001, rho=0.9"
      ]
    },
    {
      "metadata": {
        "id": "kA6zKwGtnZ9m",
        "colab_type": "code",
        "colab": {}
      },
      "cell_type": "code",
      "source": [
        "RMSprop = optimizers.RMSprop(lr=0.001, rho=0.9, epsilon=None, decay=0.0)"
      ],
      "execution_count": 0,
      "outputs": []
    },
    {
      "metadata": {
        "id": "0a8YFZeCnfQO",
        "colab_type": "code",
        "colab": {
          "base_uri": "https://localhost:8080/",
          "height": 3410
        },
        "collapsed": true,
        "outputId": "4bf5bbde-859f-4bde-b42d-38144cfbfcaf"
      },
      "cell_type": "code",
      "source": [
        "start = time.time()\n",
        "model_5 = model(RMSprop)\n",
        "model_5_history = model_5.fit(X_train, y_train,\n",
        "                             batch_size = batch_size,\n",
        "                             epochs = epochs,\n",
        "                             verbose = 2,\n",
        "                             validation_data = (X_val, y_val))\n",
        "print('@ Total Time Spent: %.2f seconds' %(time.time()-start))"
      ],
      "execution_count": 28,
      "outputs": [
        {
          "output_type": "stream",
          "text": [
            "Train on 48000 samples, validate on 12000 samples\n",
            "Epoch 1/100\n",
            " - 5s - loss: 0.8008 - acc: 0.7039 - val_loss: 0.5170 - val_acc: 0.8015\n",
            "Epoch 2/100\n",
            " - 4s - loss: 0.5007 - acc: 0.8159 - val_loss: 0.3881 - val_acc: 0.8582\n",
            "Epoch 3/100\n",
            " - 4s - loss: 0.4245 - acc: 0.8442 - val_loss: 0.3645 - val_acc: 0.8633\n",
            "Epoch 4/100\n",
            " - 4s - loss: 0.3857 - acc: 0.8601 - val_loss: 0.3282 - val_acc: 0.8775\n",
            "Epoch 5/100\n",
            " - 4s - loss: 0.3551 - acc: 0.8707 - val_loss: 0.3234 - val_acc: 0.8805\n",
            "Epoch 6/100\n",
            " - 4s - loss: 0.3364 - acc: 0.8779 - val_loss: 0.2936 - val_acc: 0.8934\n",
            "Epoch 7/100\n",
            " - 4s - loss: 0.3225 - acc: 0.8835 - val_loss: 0.2969 - val_acc: 0.8929\n",
            "Epoch 8/100\n",
            " - 4s - loss: 0.3085 - acc: 0.8876 - val_loss: 0.2736 - val_acc: 0.8994\n",
            "Epoch 9/100\n",
            " - 4s - loss: 0.3011 - acc: 0.8899 - val_loss: 0.2717 - val_acc: 0.8978\n",
            "Epoch 10/100\n",
            " - 4s - loss: 0.2914 - acc: 0.8939 - val_loss: 0.2813 - val_acc: 0.8933\n",
            "Epoch 11/100\n",
            " - 4s - loss: 0.2849 - acc: 0.8959 - val_loss: 0.2619 - val_acc: 0.9031\n",
            "Epoch 12/100\n",
            " - 4s - loss: 0.2788 - acc: 0.8990 - val_loss: 0.2839 - val_acc: 0.8971\n",
            "Epoch 13/100\n",
            " - 4s - loss: 0.2748 - acc: 0.9004 - val_loss: 0.2607 - val_acc: 0.9042\n",
            "Epoch 14/100\n",
            " - 4s - loss: 0.2673 - acc: 0.9031 - val_loss: 0.2574 - val_acc: 0.9012\n",
            "Epoch 15/100\n",
            " - 4s - loss: 0.2669 - acc: 0.9035 - val_loss: 0.2460 - val_acc: 0.9108\n",
            "Epoch 16/100\n",
            " - 4s - loss: 0.2578 - acc: 0.9057 - val_loss: 0.2457 - val_acc: 0.9098\n",
            "Epoch 17/100\n",
            " - 4s - loss: 0.2584 - acc: 0.9053 - val_loss: 0.2482 - val_acc: 0.9085\n",
            "Epoch 18/100\n",
            " - 4s - loss: 0.2528 - acc: 0.9071 - val_loss: 0.2408 - val_acc: 0.9093\n",
            "Epoch 19/100\n",
            " - 4s - loss: 0.2497 - acc: 0.9090 - val_loss: 0.2404 - val_acc: 0.9093\n",
            "Epoch 20/100\n",
            " - 4s - loss: 0.2470 - acc: 0.9090 - val_loss: 0.2444 - val_acc: 0.9113\n",
            "Epoch 21/100\n",
            " - 4s - loss: 0.2450 - acc: 0.9108 - val_loss: 0.2362 - val_acc: 0.9103\n",
            "Epoch 22/100\n",
            " - 4s - loss: 0.2394 - acc: 0.9128 - val_loss: 0.2363 - val_acc: 0.9117\n",
            "Epoch 23/100\n",
            " - 4s - loss: 0.2402 - acc: 0.9110 - val_loss: 0.2343 - val_acc: 0.9121\n",
            "Epoch 24/100\n",
            " - 4s - loss: 0.2374 - acc: 0.9124 - val_loss: 0.2407 - val_acc: 0.9090\n",
            "Epoch 25/100\n",
            " - 4s - loss: 0.2400 - acc: 0.9125 - val_loss: 0.2312 - val_acc: 0.9146\n",
            "Epoch 26/100\n",
            " - 4s - loss: 0.2380 - acc: 0.9128 - val_loss: 0.2296 - val_acc: 0.9163\n",
            "Epoch 27/100\n",
            " - 4s - loss: 0.2370 - acc: 0.9133 - val_loss: 0.2379 - val_acc: 0.9096\n",
            "Epoch 28/100\n",
            " - 4s - loss: 0.2313 - acc: 0.9150 - val_loss: 0.2322 - val_acc: 0.9167\n",
            "Epoch 29/100\n",
            " - 4s - loss: 0.2334 - acc: 0.9159 - val_loss: 0.2295 - val_acc: 0.9164\n",
            "Epoch 30/100\n",
            " - 4s - loss: 0.2307 - acc: 0.9160 - val_loss: 0.2355 - val_acc: 0.9123\n",
            "Epoch 31/100\n",
            " - 4s - loss: 0.2285 - acc: 0.9166 - val_loss: 0.2299 - val_acc: 0.9172\n",
            "Epoch 32/100\n",
            " - 4s - loss: 0.2278 - acc: 0.9164 - val_loss: 0.2332 - val_acc: 0.9150\n",
            "Epoch 33/100\n",
            " - 4s - loss: 0.2272 - acc: 0.9172 - val_loss: 0.2285 - val_acc: 0.9163\n",
            "Epoch 34/100\n"
          ],
          "name": "stdout"
        },
        {
          "output_type": "stream",
          "text": [
            " - 4s - loss: 0.2273 - acc: 0.9177 - val_loss: 0.2291 - val_acc: 0.9179\n",
            "Epoch 35/100\n",
            " - 4s - loss: 0.2265 - acc: 0.9188 - val_loss: 0.2278 - val_acc: 0.9157\n",
            "Epoch 36/100\n",
            " - 4s - loss: 0.2251 - acc: 0.9179 - val_loss: 0.2336 - val_acc: 0.9179\n",
            "Epoch 37/100\n",
            " - 4s - loss: 0.2261 - acc: 0.9183 - val_loss: 0.2343 - val_acc: 0.9132\n",
            "Epoch 38/100\n",
            " - 4s - loss: 0.2223 - acc: 0.9189 - val_loss: 0.2328 - val_acc: 0.9135\n",
            "Epoch 39/100\n",
            " - 4s - loss: 0.2259 - acc: 0.9178 - val_loss: 0.2234 - val_acc: 0.9207\n",
            "Epoch 40/100\n",
            " - 4s - loss: 0.2278 - acc: 0.9177 - val_loss: 0.2270 - val_acc: 0.9177\n",
            "Epoch 41/100\n",
            " - 4s - loss: 0.2271 - acc: 0.9186 - val_loss: 0.2428 - val_acc: 0.9100\n",
            "Epoch 42/100\n",
            " - 4s - loss: 0.2223 - acc: 0.9201 - val_loss: 0.2383 - val_acc: 0.9144\n",
            "Epoch 43/100\n",
            " - 4s - loss: 0.2234 - acc: 0.9191 - val_loss: 0.2301 - val_acc: 0.9162\n",
            "Epoch 44/100\n",
            " - 4s - loss: 0.2242 - acc: 0.9195 - val_loss: 0.2281 - val_acc: 0.9161\n",
            "Epoch 45/100\n",
            " - 4s - loss: 0.2278 - acc: 0.9196 - val_loss: 0.2383 - val_acc: 0.9179\n",
            "Epoch 46/100\n",
            " - 4s - loss: 0.2253 - acc: 0.9195 - val_loss: 0.2270 - val_acc: 0.9171\n",
            "Epoch 47/100\n",
            " - 4s - loss: 0.2226 - acc: 0.9204 - val_loss: 0.2593 - val_acc: 0.9067\n",
            "Epoch 48/100\n",
            " - 4s - loss: 0.2211 - acc: 0.9214 - val_loss: 0.2328 - val_acc: 0.9150\n",
            "Epoch 49/100\n",
            " - 4s - loss: 0.2207 - acc: 0.9205 - val_loss: 0.2333 - val_acc: 0.9167\n",
            "Epoch 50/100\n",
            " - 4s - loss: 0.2235 - acc: 0.9206 - val_loss: 0.2267 - val_acc: 0.9180\n",
            "Epoch 51/100\n",
            " - 4s - loss: 0.2203 - acc: 0.9214 - val_loss: 0.2383 - val_acc: 0.9139\n",
            "Epoch 52/100\n",
            " - 4s - loss: 0.2230 - acc: 0.9191 - val_loss: 0.2350 - val_acc: 0.9183\n",
            "Epoch 53/100\n",
            " - 4s - loss: 0.2230 - acc: 0.9206 - val_loss: 0.2730 - val_acc: 0.8998\n",
            "Epoch 54/100\n",
            " - 4s - loss: 0.2258 - acc: 0.9196 - val_loss: 0.2318 - val_acc: 0.9160\n",
            "Epoch 55/100\n",
            " - 4s - loss: 0.2238 - acc: 0.9204 - val_loss: 0.2426 - val_acc: 0.9140\n",
            "Epoch 56/100\n",
            " - 4s - loss: 0.2244 - acc: 0.9200 - val_loss: 0.2360 - val_acc: 0.9183\n",
            "Epoch 57/100\n",
            " - 4s - loss: 0.2265 - acc: 0.9196 - val_loss: 0.2338 - val_acc: 0.9162\n",
            "Epoch 58/100\n",
            " - 4s - loss: 0.2215 - acc: 0.9208 - val_loss: 0.2386 - val_acc: 0.9125\n",
            "Epoch 59/100\n",
            " - 4s - loss: 0.2262 - acc: 0.9205 - val_loss: 0.2340 - val_acc: 0.9162\n",
            "Epoch 60/100\n",
            " - 4s - loss: 0.2244 - acc: 0.9211 - val_loss: 0.2333 - val_acc: 0.9172\n",
            "Epoch 61/100\n",
            " - 4s - loss: 0.2234 - acc: 0.9220 - val_loss: 0.2340 - val_acc: 0.9183\n",
            "Epoch 62/100\n",
            " - 4s - loss: 0.2258 - acc: 0.9192 - val_loss: 0.2397 - val_acc: 0.9138\n",
            "Epoch 63/100\n",
            " - 4s - loss: 0.2230 - acc: 0.9222 - val_loss: 0.2354 - val_acc: 0.9152\n",
            "Epoch 64/100\n",
            " - 4s - loss: 0.2256 - acc: 0.9203 - val_loss: 0.2517 - val_acc: 0.9131\n",
            "Epoch 65/100\n",
            " - 4s - loss: 0.2277 - acc: 0.9205 - val_loss: 0.2369 - val_acc: 0.9154\n",
            "Epoch 66/100\n",
            " - 4s - loss: 0.2250 - acc: 0.9200 - val_loss: 0.2425 - val_acc: 0.9157\n",
            "Epoch 67/100\n",
            " - 4s - loss: 0.2244 - acc: 0.9211 - val_loss: 0.2299 - val_acc: 0.9146\n"
          ],
          "name": "stdout"
        },
        {
          "output_type": "stream",
          "text": [
            "Epoch 68/100\n",
            " - 4s - loss: 0.2246 - acc: 0.9206 - val_loss: 0.2421 - val_acc: 0.9104\n",
            "Epoch 69/100\n",
            " - 4s - loss: 0.2257 - acc: 0.9200 - val_loss: 0.2420 - val_acc: 0.9158\n",
            "Epoch 70/100\n",
            " - 4s - loss: 0.2291 - acc: 0.9197 - val_loss: 0.2508 - val_acc: 0.9138\n",
            "Epoch 71/100\n",
            " - 4s - loss: 0.2237 - acc: 0.9209 - val_loss: 0.2521 - val_acc: 0.9144\n",
            "Epoch 72/100\n",
            " - 4s - loss: 0.2287 - acc: 0.9210 - val_loss: 0.2545 - val_acc: 0.9107\n",
            "Epoch 73/100\n",
            " - 4s - loss: 0.2299 - acc: 0.9182 - val_loss: 0.2519 - val_acc: 0.9127\n",
            "Epoch 74/100\n",
            " - 4s - loss: 0.2283 - acc: 0.9219 - val_loss: 0.2523 - val_acc: 0.9146\n",
            "Epoch 75/100\n",
            " - 4s - loss: 0.2246 - acc: 0.9198 - val_loss: 0.2451 - val_acc: 0.9140\n",
            "Epoch 76/100\n",
            " - 4s - loss: 0.2322 - acc: 0.9185 - val_loss: 0.2378 - val_acc: 0.9157\n",
            "Epoch 77/100\n",
            " - 4s - loss: 0.2233 - acc: 0.9208 - val_loss: 0.2631 - val_acc: 0.9056\n",
            "Epoch 78/100\n",
            " - 4s - loss: 0.2305 - acc: 0.9200 - val_loss: 0.2509 - val_acc: 0.9126\n",
            "Epoch 79/100\n",
            " - 4s - loss: 0.2280 - acc: 0.9204 - val_loss: 0.2453 - val_acc: 0.9133\n",
            "Epoch 80/100\n",
            " - 4s - loss: 0.2268 - acc: 0.9206 - val_loss: 0.2469 - val_acc: 0.9130\n",
            "Epoch 81/100\n",
            " - 4s - loss: 0.2276 - acc: 0.9197 - val_loss: 0.2751 - val_acc: 0.9048\n",
            "Epoch 82/100\n",
            " - 4s - loss: 0.2274 - acc: 0.9219 - val_loss: 0.2620 - val_acc: 0.9038\n",
            "Epoch 83/100\n",
            " - 4s - loss: 0.2306 - acc: 0.9199 - val_loss: 0.2589 - val_acc: 0.9142\n",
            "Epoch 84/100\n",
            " - 4s - loss: 0.2276 - acc: 0.9196 - val_loss: 0.2637 - val_acc: 0.9135\n",
            "Epoch 85/100\n",
            " - 4s - loss: 0.2287 - acc: 0.9199 - val_loss: 0.2520 - val_acc: 0.9106\n",
            "Epoch 86/100\n",
            " - 4s - loss: 0.2279 - acc: 0.9198 - val_loss: 0.2438 - val_acc: 0.9164\n",
            "Epoch 87/100\n",
            " - 4s - loss: 0.2257 - acc: 0.9209 - val_loss: 0.2391 - val_acc: 0.9149\n",
            "Epoch 88/100\n",
            " - 4s - loss: 0.2314 - acc: 0.9189 - val_loss: 0.2356 - val_acc: 0.9160\n",
            "Epoch 89/100\n",
            " - 4s - loss: 0.2276 - acc: 0.9199 - val_loss: 0.2975 - val_acc: 0.8890\n",
            "Epoch 90/100\n",
            " - 4s - loss: 0.2322 - acc: 0.9190 - val_loss: 0.2519 - val_acc: 0.9124\n",
            "Epoch 91/100\n",
            " - 4s - loss: 0.2306 - acc: 0.9182 - val_loss: 0.2505 - val_acc: 0.9131\n",
            "Epoch 92/100\n",
            " - 4s - loss: 0.2355 - acc: 0.9173 - val_loss: 0.2330 - val_acc: 0.9173\n",
            "Epoch 93/100\n",
            " - 4s - loss: 0.2319 - acc: 0.9195 - val_loss: 0.2436 - val_acc: 0.9172\n",
            "Epoch 94/100\n",
            " - 4s - loss: 0.2259 - acc: 0.9203 - val_loss: 0.2471 - val_acc: 0.9136\n",
            "Epoch 95/100\n",
            " - 4s - loss: 0.2347 - acc: 0.9180 - val_loss: 0.2459 - val_acc: 0.9130\n",
            "Epoch 96/100\n",
            " - 4s - loss: 0.2337 - acc: 0.9173 - val_loss: 0.2587 - val_acc: 0.9065\n",
            "Epoch 97/100\n",
            " - 4s - loss: 0.2350 - acc: 0.9181 - val_loss: 0.2646 - val_acc: 0.9060\n",
            "Epoch 98/100\n",
            " - 4s - loss: 0.2328 - acc: 0.9177 - val_loss: 0.2527 - val_acc: 0.9145\n",
            "Epoch 99/100\n",
            " - 4s - loss: 0.2383 - acc: 0.9177 - val_loss: 0.2670 - val_acc: 0.9081\n",
            "Epoch 100/100\n",
            " - 4s - loss: 0.2309 - acc: 0.9197 - val_loss: 0.2599 - val_acc: 0.9085\n",
            "@ Total Time Spent: 427.91 seconds\n"
          ],
          "name": "stdout"
        }
      ]
    },
    {
      "metadata": {
        "id": "8B9PJpA-nnNy",
        "colab_type": "code",
        "colab": {
          "base_uri": "https://localhost:8080/",
          "height": 50
        },
        "outputId": "60ad23d9-3209-4b18-ce59-c1261eef5d84"
      },
      "cell_type": "code",
      "source": [
        "train_loss_5, train_accuracy_5 = model_5.evaluate(X_train, y_train, verbose=0)\n",
        "print(\"Training Accuracy = %.2f %%     loss = %f\" % (train_accuracy_5 * 100, train_loss_5))\n",
        "test_loss_5, test_accuracy_5 = model_5.evaluate(X_test, y_test, verbose=0)\n",
        "print(\"Testing Accuracy = %.2f %%    loss = %f\" % (test_accuracy_5 * 100, test_loss_5))"
      ],
      "execution_count": 29,
      "outputs": [
        {
          "output_type": "stream",
          "text": [
            "Training Accuracy = 94.76 %     loss = 0.189188\n",
            "Testing Accuracy = 91.59 %    loss = 0.249550\n"
          ],
          "name": "stdout"
        }
      ]
    },
    {
      "metadata": {
        "id": "Sw10K4fAn8ZN",
        "colab_type": "text"
      },
      "cell_type": "markdown",
      "source": [
        "### 3.6 Optimizer = Adam lr=0.001, beta_1=0.9, beta_2=0.999, epsilon=None, decay=0.0, amsgrad=False"
      ]
    },
    {
      "metadata": {
        "id": "JhcPoNIdn_m-",
        "colab_type": "code",
        "colab": {}
      },
      "cell_type": "code",
      "source": [
        "Adam = optimizers.Adam(lr=0.001, beta_1=0.9, beta_2=0.999, epsilon=None, decay=0.0, amsgrad=False)"
      ],
      "execution_count": 0,
      "outputs": []
    },
    {
      "metadata": {
        "id": "xHN_efc3oT_c",
        "colab_type": "code",
        "colab": {
          "base_uri": "https://localhost:8080/",
          "height": 3410
        },
        "collapsed": true,
        "outputId": "a72ea3e3-8b5c-4251-8c2f-30e2a8c07328"
      },
      "cell_type": "code",
      "source": [
        "start = time.time()\n",
        "model_6 = model(Adam)\n",
        "model_6_history = model_6.fit(X_train, y_train,\n",
        "                             batch_size = batch_size,\n",
        "                             epochs = epochs,\n",
        "                             verbose = 2,\n",
        "                             validation_data = (X_val, y_val))\n",
        "print('@ Total Time Spent: %.2f seconds' %(time.time()-start))"
      ],
      "execution_count": 31,
      "outputs": [
        {
          "output_type": "stream",
          "text": [
            "Train on 48000 samples, validate on 12000 samples\n",
            "Epoch 1/100\n",
            " - 5s - loss: 0.8544 - acc: 0.6803 - val_loss: 0.5123 - val_acc: 0.8118\n",
            "Epoch 2/100\n",
            " - 4s - loss: 0.5225 - acc: 0.8044 - val_loss: 0.4340 - val_acc: 0.8368\n",
            "Epoch 3/100\n",
            " - 4s - loss: 0.4518 - acc: 0.8327 - val_loss: 0.4021 - val_acc: 0.8508\n",
            "Epoch 4/100\n",
            " - 4s - loss: 0.4051 - acc: 0.8524 - val_loss: 0.3347 - val_acc: 0.8787\n",
            "Epoch 5/100\n",
            " - 4s - loss: 0.3722 - acc: 0.8640 - val_loss: 0.3211 - val_acc: 0.8818\n",
            "Epoch 6/100\n",
            " - 4s - loss: 0.3519 - acc: 0.8715 - val_loss: 0.2997 - val_acc: 0.8907\n",
            "Epoch 7/100\n",
            " - 4s - loss: 0.3349 - acc: 0.8776 - val_loss: 0.2945 - val_acc: 0.8902\n",
            "Epoch 8/100\n",
            " - 4s - loss: 0.3228 - acc: 0.8821 - val_loss: 0.2882 - val_acc: 0.8947\n",
            "Epoch 9/100\n",
            " - 4s - loss: 0.3123 - acc: 0.8856 - val_loss: 0.2733 - val_acc: 0.8981\n",
            "Epoch 10/100\n",
            " - 4s - loss: 0.3040 - acc: 0.8889 - val_loss: 0.2700 - val_acc: 0.8978\n",
            "Epoch 11/100\n",
            " - 4s - loss: 0.2924 - acc: 0.8924 - val_loss: 0.2632 - val_acc: 0.9028\n",
            "Epoch 12/100\n",
            " - 4s - loss: 0.2850 - acc: 0.8955 - val_loss: 0.2542 - val_acc: 0.9036\n",
            "Epoch 13/100\n",
            " - 4s - loss: 0.2748 - acc: 0.9006 - val_loss: 0.2521 - val_acc: 0.9058\n",
            "Epoch 14/100\n",
            " - 4s - loss: 0.2722 - acc: 0.9001 - val_loss: 0.2495 - val_acc: 0.9075\n",
            "Epoch 15/100\n",
            " - 4s - loss: 0.2678 - acc: 0.9009 - val_loss: 0.2488 - val_acc: 0.9057\n",
            "Epoch 16/100\n",
            " - 4s - loss: 0.2597 - acc: 0.9036 - val_loss: 0.2401 - val_acc: 0.9113\n",
            "Epoch 17/100\n",
            " - 4s - loss: 0.2563 - acc: 0.9073 - val_loss: 0.2388 - val_acc: 0.9113\n",
            "Epoch 18/100\n",
            " - 4s - loss: 0.2520 - acc: 0.9076 - val_loss: 0.2326 - val_acc: 0.9126\n",
            "Epoch 19/100\n",
            " - 4s - loss: 0.2453 - acc: 0.9090 - val_loss: 0.2326 - val_acc: 0.9115\n",
            "Epoch 20/100\n",
            " - 4s - loss: 0.2452 - acc: 0.9096 - val_loss: 0.2333 - val_acc: 0.9100\n",
            "Epoch 21/100\n",
            " - 4s - loss: 0.2384 - acc: 0.9106 - val_loss: 0.2343 - val_acc: 0.9111\n",
            "Epoch 22/100\n",
            " - 4s - loss: 0.2366 - acc: 0.9117 - val_loss: 0.2276 - val_acc: 0.9158\n",
            "Epoch 23/100\n",
            " - 4s - loss: 0.2350 - acc: 0.9129 - val_loss: 0.2324 - val_acc: 0.9166\n",
            "Epoch 24/100\n",
            " - 4s - loss: 0.2323 - acc: 0.9144 - val_loss: 0.2252 - val_acc: 0.9166\n",
            "Epoch 25/100\n",
            " - 4s - loss: 0.2261 - acc: 0.9161 - val_loss: 0.2241 - val_acc: 0.9178\n",
            "Epoch 26/100\n",
            " - 4s - loss: 0.2241 - acc: 0.9162 - val_loss: 0.2259 - val_acc: 0.9168\n",
            "Epoch 27/100\n",
            " - 4s - loss: 0.2254 - acc: 0.9164 - val_loss: 0.2268 - val_acc: 0.9177\n",
            "Epoch 28/100\n",
            " - 4s - loss: 0.2207 - acc: 0.9177 - val_loss: 0.2284 - val_acc: 0.9150\n",
            "Epoch 29/100\n",
            " - 4s - loss: 0.2153 - acc: 0.9186 - val_loss: 0.2282 - val_acc: 0.9161\n",
            "Epoch 30/100\n",
            " - 4s - loss: 0.2190 - acc: 0.9177 - val_loss: 0.2252 - val_acc: 0.9153\n",
            "Epoch 31/100\n",
            " - 4s - loss: 0.2146 - acc: 0.9190 - val_loss: 0.2187 - val_acc: 0.9174\n",
            "Epoch 32/100\n",
            " - 4s - loss: 0.2127 - acc: 0.9207 - val_loss: 0.2169 - val_acc: 0.9197\n",
            "Epoch 33/100\n",
            " - 4s - loss: 0.2061 - acc: 0.9238 - val_loss: 0.2212 - val_acc: 0.9182\n",
            "Epoch 34/100\n"
          ],
          "name": "stdout"
        },
        {
          "output_type": "stream",
          "text": [
            " - 4s - loss: 0.2091 - acc: 0.9214 - val_loss: 0.2220 - val_acc: 0.9179\n",
            "Epoch 35/100\n",
            " - 4s - loss: 0.2050 - acc: 0.9238 - val_loss: 0.2172 - val_acc: 0.9210\n",
            "Epoch 36/100\n",
            " - 4s - loss: 0.2030 - acc: 0.9233 - val_loss: 0.2193 - val_acc: 0.9194\n",
            "Epoch 37/100\n",
            " - 4s - loss: 0.2042 - acc: 0.9239 - val_loss: 0.2221 - val_acc: 0.9194\n",
            "Epoch 38/100\n",
            " - 4s - loss: 0.1992 - acc: 0.9247 - val_loss: 0.2177 - val_acc: 0.9201\n",
            "Epoch 39/100\n",
            " - 4s - loss: 0.1987 - acc: 0.9249 - val_loss: 0.2150 - val_acc: 0.9220\n",
            "Epoch 40/100\n",
            " - 4s - loss: 0.1945 - acc: 0.9262 - val_loss: 0.2136 - val_acc: 0.9209\n",
            "Epoch 41/100\n",
            " - 4s - loss: 0.1958 - acc: 0.9261 - val_loss: 0.2166 - val_acc: 0.9196\n",
            "Epoch 42/100\n",
            " - 4s - loss: 0.1963 - acc: 0.9258 - val_loss: 0.2168 - val_acc: 0.9201\n",
            "Epoch 43/100\n",
            " - 4s - loss: 0.1923 - acc: 0.9275 - val_loss: 0.2131 - val_acc: 0.9218\n",
            "Epoch 44/100\n",
            " - 4s - loss: 0.1902 - acc: 0.9282 - val_loss: 0.2146 - val_acc: 0.9212\n",
            "Epoch 45/100\n",
            " - 4s - loss: 0.1901 - acc: 0.9275 - val_loss: 0.2176 - val_acc: 0.9216\n",
            "Epoch 46/100\n",
            " - 4s - loss: 0.1926 - acc: 0.9274 - val_loss: 0.2152 - val_acc: 0.9219\n",
            "Epoch 47/100\n",
            " - 4s - loss: 0.1886 - acc: 0.9286 - val_loss: 0.2135 - val_acc: 0.9231\n",
            "Epoch 48/100\n",
            " - 4s - loss: 0.1858 - acc: 0.9303 - val_loss: 0.2135 - val_acc: 0.9228\n",
            "Epoch 49/100\n",
            " - 4s - loss: 0.1865 - acc: 0.9293 - val_loss: 0.2205 - val_acc: 0.9202\n",
            "Epoch 50/100\n",
            " - 4s - loss: 0.1854 - acc: 0.9301 - val_loss: 0.2143 - val_acc: 0.9224\n",
            "Epoch 51/100\n",
            " - 4s - loss: 0.1865 - acc: 0.9312 - val_loss: 0.2198 - val_acc: 0.9187\n",
            "Epoch 52/100\n",
            " - 4s - loss: 0.1818 - acc: 0.9312 - val_loss: 0.2128 - val_acc: 0.9243\n",
            "Epoch 53/100\n",
            " - 4s - loss: 0.1828 - acc: 0.9314 - val_loss: 0.2125 - val_acc: 0.9238\n",
            "Epoch 54/100\n",
            " - 4s - loss: 0.1834 - acc: 0.9304 - val_loss: 0.2097 - val_acc: 0.9231\n",
            "Epoch 55/100\n",
            " - 4s - loss: 0.1780 - acc: 0.9312 - val_loss: 0.2162 - val_acc: 0.9262\n",
            "Epoch 56/100\n",
            " - 4s - loss: 0.1831 - acc: 0.9311 - val_loss: 0.2148 - val_acc: 0.9243\n",
            "Epoch 57/100\n",
            " - 4s - loss: 0.1800 - acc: 0.9321 - val_loss: 0.2102 - val_acc: 0.9246\n",
            "Epoch 58/100\n",
            " - 4s - loss: 0.1778 - acc: 0.9318 - val_loss: 0.2096 - val_acc: 0.9238\n",
            "Epoch 59/100\n",
            " - 4s - loss: 0.1746 - acc: 0.9343 - val_loss: 0.2211 - val_acc: 0.9204\n",
            "Epoch 60/100\n",
            " - 4s - loss: 0.1763 - acc: 0.9332 - val_loss: 0.2166 - val_acc: 0.9237\n",
            "Epoch 61/100\n",
            " - 4s - loss: 0.1788 - acc: 0.9328 - val_loss: 0.2147 - val_acc: 0.9228\n",
            "Epoch 62/100\n",
            " - 4s - loss: 0.1745 - acc: 0.9348 - val_loss: 0.2063 - val_acc: 0.9238\n",
            "Epoch 63/100\n",
            " - 4s - loss: 0.1749 - acc: 0.9342 - val_loss: 0.2103 - val_acc: 0.9262\n",
            "Epoch 64/100\n",
            " - 4s - loss: 0.1756 - acc: 0.9334 - val_loss: 0.2084 - val_acc: 0.9251\n",
            "Epoch 65/100\n",
            " - 4s - loss: 0.1727 - acc: 0.9354 - val_loss: 0.2086 - val_acc: 0.9259\n",
            "Epoch 66/100\n",
            " - 4s - loss: 0.1739 - acc: 0.9347 - val_loss: 0.2153 - val_acc: 0.9217\n",
            "Epoch 67/100\n",
            " - 4s - loss: 0.1730 - acc: 0.9348 - val_loss: 0.2209 - val_acc: 0.9209\n"
          ],
          "name": "stdout"
        },
        {
          "output_type": "stream",
          "text": [
            "Epoch 68/100\n",
            " - 4s - loss: 0.1685 - acc: 0.9365 - val_loss: 0.2093 - val_acc: 0.9257\n",
            "Epoch 69/100\n",
            " - 4s - loss: 0.1711 - acc: 0.9348 - val_loss: 0.2074 - val_acc: 0.9255\n",
            "Epoch 70/100\n",
            " - 4s - loss: 0.1675 - acc: 0.9358 - val_loss: 0.2143 - val_acc: 0.9257\n",
            "Epoch 71/100\n",
            " - 4s - loss: 0.1687 - acc: 0.9352 - val_loss: 0.2108 - val_acc: 0.9247\n",
            "Epoch 72/100\n",
            " - 4s - loss: 0.1695 - acc: 0.9347 - val_loss: 0.2141 - val_acc: 0.9242\n",
            "Epoch 73/100\n",
            " - 4s - loss: 0.1677 - acc: 0.9353 - val_loss: 0.2119 - val_acc: 0.9257\n",
            "Epoch 74/100\n",
            " - 4s - loss: 0.1656 - acc: 0.9363 - val_loss: 0.2174 - val_acc: 0.9222\n",
            "Epoch 75/100\n",
            " - 4s - loss: 0.1658 - acc: 0.9368 - val_loss: 0.2090 - val_acc: 0.9253\n",
            "Epoch 76/100\n",
            " - 4s - loss: 0.1671 - acc: 0.9364 - val_loss: 0.2089 - val_acc: 0.9263\n",
            "Epoch 77/100\n",
            " - 4s - loss: 0.1648 - acc: 0.9361 - val_loss: 0.2109 - val_acc: 0.9253\n",
            "Epoch 78/100\n",
            " - 4s - loss: 0.1639 - acc: 0.9380 - val_loss: 0.2130 - val_acc: 0.9234\n",
            "Epoch 79/100\n",
            " - 4s - loss: 0.1654 - acc: 0.9365 - val_loss: 0.2110 - val_acc: 0.9257\n",
            "Epoch 80/100\n",
            " - 4s - loss: 0.1617 - acc: 0.9386 - val_loss: 0.2140 - val_acc: 0.9262\n",
            "Epoch 81/100\n",
            " - 4s - loss: 0.1642 - acc: 0.9378 - val_loss: 0.2130 - val_acc: 0.9260\n",
            "Epoch 82/100\n",
            " - 4s - loss: 0.1633 - acc: 0.9380 - val_loss: 0.2119 - val_acc: 0.9265\n",
            "Epoch 83/100\n",
            " - 4s - loss: 0.1611 - acc: 0.9378 - val_loss: 0.2098 - val_acc: 0.9267\n",
            "Epoch 84/100\n",
            " - 4s - loss: 0.1604 - acc: 0.9389 - val_loss: 0.2105 - val_acc: 0.9262\n",
            "Epoch 85/100\n",
            " - 4s - loss: 0.1638 - acc: 0.9380 - val_loss: 0.2144 - val_acc: 0.9262\n",
            "Epoch 86/100\n",
            " - 4s - loss: 0.1609 - acc: 0.9383 - val_loss: 0.2071 - val_acc: 0.9281\n",
            "Epoch 87/100\n",
            " - 4s - loss: 0.1626 - acc: 0.9392 - val_loss: 0.2121 - val_acc: 0.9244\n",
            "Epoch 88/100\n",
            " - 4s - loss: 0.1575 - acc: 0.9398 - val_loss: 0.2171 - val_acc: 0.9232\n",
            "Epoch 89/100\n",
            " - 4s - loss: 0.1613 - acc: 0.9372 - val_loss: 0.2104 - val_acc: 0.9294\n",
            "Epoch 90/100\n",
            " - 4s - loss: 0.1588 - acc: 0.9402 - val_loss: 0.2108 - val_acc: 0.9272\n",
            "Epoch 91/100\n",
            " - 4s - loss: 0.1582 - acc: 0.9400 - val_loss: 0.2185 - val_acc: 0.9247\n",
            "Epoch 92/100\n",
            " - 4s - loss: 0.1591 - acc: 0.9386 - val_loss: 0.2102 - val_acc: 0.9267\n",
            "Epoch 93/100\n",
            " - 4s - loss: 0.1598 - acc: 0.9397 - val_loss: 0.2107 - val_acc: 0.9260\n",
            "Epoch 94/100\n",
            " - 4s - loss: 0.1584 - acc: 0.9401 - val_loss: 0.2102 - val_acc: 0.9280\n",
            "Epoch 95/100\n",
            " - 4s - loss: 0.1564 - acc: 0.9393 - val_loss: 0.2160 - val_acc: 0.9258\n",
            "Epoch 96/100\n",
            " - 4s - loss: 0.1565 - acc: 0.9399 - val_loss: 0.2088 - val_acc: 0.9278\n",
            "Epoch 97/100\n",
            " - 4s - loss: 0.1553 - acc: 0.9400 - val_loss: 0.2092 - val_acc: 0.9280\n",
            "Epoch 98/100\n",
            " - 4s - loss: 0.1576 - acc: 0.9400 - val_loss: 0.2149 - val_acc: 0.9247\n",
            "Epoch 99/100\n",
            " - 4s - loss: 0.1561 - acc: 0.9399 - val_loss: 0.2133 - val_acc: 0.9255\n",
            "Epoch 100/100\n",
            " - 4s - loss: 0.1536 - acc: 0.9412 - val_loss: 0.2109 - val_acc: 0.9263\n",
            "@ Total Time Spent: 434.89 seconds\n"
          ],
          "name": "stdout"
        }
      ]
    },
    {
      "metadata": {
        "id": "OrWc4UHooaUS",
        "colab_type": "code",
        "colab": {
          "base_uri": "https://localhost:8080/",
          "height": 50
        },
        "outputId": "6ce58590-9ff3-4066-ebfa-29ab1a84a729"
      },
      "cell_type": "code",
      "source": [
        "train_loss_6, train_accuracy_6 = model_6.evaluate(X_train, y_train, verbose=0)\n",
        "print(\"Training Accuracy = %.2f %%     loss = %f\" % (train_accuracy_6 * 100, train_loss_6))\n",
        "test_loss_6, test_accuracy_6 = model_6.evaluate(X_test, y_test, verbose=0)\n",
        "print(\"Testing Accuracy = %.2f %%    loss = %f\" % (test_accuracy_6 * 100, test_loss_6))"
      ],
      "execution_count": 32,
      "outputs": [
        {
          "output_type": "stream",
          "text": [
            "Training Accuracy = 98.03 %     loss = 0.068954\n",
            "Testing Accuracy = 93.21 %    loss = 0.194880\n"
          ],
          "name": "stdout"
        }
      ]
    },
    {
      "metadata": {
        "id": "N-EwaaWiomH5",
        "colab_type": "text"
      },
      "cell_type": "markdown",
      "source": [
        "### 3.7 Optimizer = AMSGrad lr=0.001, beta_1=0.9, beta_2=0.999, epsilon=None, decay=0.0, amsgrad=True"
      ]
    },
    {
      "metadata": {
        "id": "Rc9Ba4gz2ClN",
        "colab_type": "code",
        "colab": {}
      },
      "cell_type": "code",
      "source": [
        "AmsGrad = optimizers.Adam(lr=0.001, beta_1=0.9, beta_2=0.999, epsilon=None, decay=0.0, amsgrad=True)"
      ],
      "execution_count": 0,
      "outputs": []
    },
    {
      "metadata": {
        "id": "INZGp283olva",
        "colab_type": "code",
        "colab": {
          "base_uri": "https://localhost:8080/",
          "height": 3410
        },
        "collapsed": true,
        "outputId": "6626b9ec-8d91-41b2-d8f6-58bebd088ef6"
      },
      "cell_type": "code",
      "source": [
        "start = time.time()\n",
        "model_7 = model(AmsGrad)\n",
        "model_7_history = model_7.fit(X_train, y_train,\n",
        "                             batch_size = batch_size,\n",
        "                             epochs = epochs,\n",
        "                             verbose = 2,\n",
        "                             validation_data = (X_val, y_val))\n",
        "print('@ Total Time Spent: %.2f seconds' %(time.time()-start))"
      ],
      "execution_count": 35,
      "outputs": [
        {
          "output_type": "stream",
          "text": [
            "Train on 48000 samples, validate on 12000 samples\n",
            "Epoch 1/100\n",
            " - 5s - loss: 0.8352 - acc: 0.6865 - val_loss: 0.4973 - val_acc: 0.8163\n",
            "Epoch 2/100\n",
            " - 4s - loss: 0.5090 - acc: 0.8124 - val_loss: 0.4159 - val_acc: 0.8517\n",
            "Epoch 3/100\n",
            " - 4s - loss: 0.4316 - acc: 0.8433 - val_loss: 0.3625 - val_acc: 0.8707\n",
            "Epoch 4/100\n",
            " - 4s - loss: 0.3899 - acc: 0.8585 - val_loss: 0.3298 - val_acc: 0.8822\n",
            "Epoch 5/100\n",
            " - 4s - loss: 0.3648 - acc: 0.8664 - val_loss: 0.3059 - val_acc: 0.8886\n",
            "Epoch 6/100\n",
            " - 5s - loss: 0.3442 - acc: 0.8739 - val_loss: 0.2996 - val_acc: 0.8913\n",
            "Epoch 7/100\n",
            " - 4s - loss: 0.3283 - acc: 0.8812 - val_loss: 0.2840 - val_acc: 0.8967\n",
            "Epoch 8/100\n",
            " - 4s - loss: 0.3149 - acc: 0.8841 - val_loss: 0.2743 - val_acc: 0.8991\n",
            "Epoch 9/100\n",
            " - 4s - loss: 0.3051 - acc: 0.8872 - val_loss: 0.2767 - val_acc: 0.8968\n",
            "Epoch 10/100\n",
            " - 4s - loss: 0.2945 - acc: 0.8917 - val_loss: 0.2648 - val_acc: 0.9037\n",
            "Epoch 11/100\n",
            " - 4s - loss: 0.2848 - acc: 0.8959 - val_loss: 0.2611 - val_acc: 0.9023\n",
            "Epoch 12/100\n",
            " - 4s - loss: 0.2800 - acc: 0.8960 - val_loss: 0.2635 - val_acc: 0.9017\n",
            "Epoch 13/100\n",
            " - 4s - loss: 0.2722 - acc: 0.8999 - val_loss: 0.2562 - val_acc: 0.9042\n",
            "Epoch 14/100\n",
            " - 4s - loss: 0.2697 - acc: 0.9020 - val_loss: 0.2493 - val_acc: 0.9079\n",
            "Epoch 15/100\n",
            " - 4s - loss: 0.2619 - acc: 0.9035 - val_loss: 0.2466 - val_acc: 0.9062\n",
            "Epoch 16/100\n",
            " - 4s - loss: 0.2559 - acc: 0.9059 - val_loss: 0.2400 - val_acc: 0.9112\n",
            "Epoch 17/100\n",
            " - 4s - loss: 0.2517 - acc: 0.9073 - val_loss: 0.2370 - val_acc: 0.9126\n",
            "Epoch 18/100\n",
            " - 4s - loss: 0.2511 - acc: 0.9064 - val_loss: 0.2439 - val_acc: 0.9077\n",
            "Epoch 19/100\n",
            " - 4s - loss: 0.2441 - acc: 0.9090 - val_loss: 0.2347 - val_acc: 0.9131\n",
            "Epoch 20/100\n",
            " - 5s - loss: 0.2437 - acc: 0.9096 - val_loss: 0.2399 - val_acc: 0.9111\n",
            "Epoch 21/100\n",
            " - 5s - loss: 0.2390 - acc: 0.9106 - val_loss: 0.2335 - val_acc: 0.9145\n",
            "Epoch 22/100\n",
            " - 4s - loss: 0.2352 - acc: 0.9134 - val_loss: 0.2290 - val_acc: 0.9167\n",
            "Epoch 23/100\n",
            " - 4s - loss: 0.2355 - acc: 0.9107 - val_loss: 0.2296 - val_acc: 0.9154\n",
            "Epoch 24/100\n",
            " - 4s - loss: 0.2285 - acc: 0.9148 - val_loss: 0.2246 - val_acc: 0.9173\n",
            "Epoch 25/100\n",
            " - 5s - loss: 0.2269 - acc: 0.9155 - val_loss: 0.2320 - val_acc: 0.9148\n",
            "Epoch 26/100\n",
            " - 4s - loss: 0.2239 - acc: 0.9173 - val_loss: 0.2258 - val_acc: 0.9175\n",
            "Epoch 27/100\n",
            " - 4s - loss: 0.2242 - acc: 0.9173 - val_loss: 0.2251 - val_acc: 0.9160\n",
            "Epoch 28/100\n",
            " - 4s - loss: 0.2205 - acc: 0.9181 - val_loss: 0.2211 - val_acc: 0.9179\n",
            "Epoch 29/100\n",
            " - 4s - loss: 0.2182 - acc: 0.9180 - val_loss: 0.2239 - val_acc: 0.9173\n",
            "Epoch 30/100\n",
            " - 4s - loss: 0.2157 - acc: 0.9200 - val_loss: 0.2232 - val_acc: 0.9166\n",
            "Epoch 31/100\n",
            " - 4s - loss: 0.2153 - acc: 0.9182 - val_loss: 0.2189 - val_acc: 0.9178\n",
            "Epoch 32/100\n",
            " - 4s - loss: 0.2179 - acc: 0.9190 - val_loss: 0.2236 - val_acc: 0.9169\n",
            "Epoch 33/100\n",
            " - 4s - loss: 0.2096 - acc: 0.9213 - val_loss: 0.2222 - val_acc: 0.9173\n",
            "Epoch 34/100\n"
          ],
          "name": "stdout"
        },
        {
          "output_type": "stream",
          "text": [
            " - 4s - loss: 0.2102 - acc: 0.9209 - val_loss: 0.2208 - val_acc: 0.9179\n",
            "Epoch 35/100\n",
            " - 4s - loss: 0.2082 - acc: 0.9215 - val_loss: 0.2188 - val_acc: 0.9203\n",
            "Epoch 36/100\n",
            " - 4s - loss: 0.2041 - acc: 0.9228 - val_loss: 0.2189 - val_acc: 0.9202\n",
            "Epoch 37/100\n",
            " - 4s - loss: 0.2011 - acc: 0.9249 - val_loss: 0.2222 - val_acc: 0.9179\n",
            "Epoch 38/100\n",
            " - 5s - loss: 0.2006 - acc: 0.9235 - val_loss: 0.2242 - val_acc: 0.9176\n",
            "Epoch 39/100\n",
            " - 4s - loss: 0.2006 - acc: 0.9235 - val_loss: 0.2164 - val_acc: 0.9209\n",
            "Epoch 40/100\n",
            " - 4s - loss: 0.1997 - acc: 0.9246 - val_loss: 0.2126 - val_acc: 0.9223\n",
            "Epoch 41/100\n",
            " - 4s - loss: 0.1962 - acc: 0.9267 - val_loss: 0.2179 - val_acc: 0.9199\n",
            "Epoch 42/100\n",
            " - 4s - loss: 0.1941 - acc: 0.9270 - val_loss: 0.2187 - val_acc: 0.9217\n",
            "Epoch 43/100\n",
            " - 4s - loss: 0.1947 - acc: 0.9265 - val_loss: 0.2125 - val_acc: 0.9243\n",
            "Epoch 44/100\n",
            " - 4s - loss: 0.1920 - acc: 0.9278 - val_loss: 0.2175 - val_acc: 0.9205\n",
            "Epoch 45/100\n",
            " - 4s - loss: 0.1943 - acc: 0.9263 - val_loss: 0.2177 - val_acc: 0.9223\n",
            "Epoch 46/100\n",
            " - 4s - loss: 0.1938 - acc: 0.9267 - val_loss: 0.2210 - val_acc: 0.9212\n",
            "Epoch 47/100\n",
            " - 4s - loss: 0.1943 - acc: 0.9253 - val_loss: 0.2200 - val_acc: 0.9204\n",
            "Epoch 48/100\n",
            " - 4s - loss: 0.1911 - acc: 0.9276 - val_loss: 0.2199 - val_acc: 0.9215\n",
            "Epoch 49/100\n",
            " - 4s - loss: 0.1872 - acc: 0.9291 - val_loss: 0.2157 - val_acc: 0.9223\n",
            "Epoch 50/100\n",
            " - 4s - loss: 0.1849 - acc: 0.9315 - val_loss: 0.2135 - val_acc: 0.9227\n",
            "Epoch 51/100\n",
            " - 4s - loss: 0.1855 - acc: 0.9307 - val_loss: 0.2177 - val_acc: 0.9204\n",
            "Epoch 52/100\n",
            " - 4s - loss: 0.1835 - acc: 0.9310 - val_loss: 0.2224 - val_acc: 0.9191\n",
            "Epoch 53/100\n",
            " - 4s - loss: 0.1807 - acc: 0.9304 - val_loss: 0.2268 - val_acc: 0.9187\n",
            "Epoch 54/100\n",
            " - 4s - loss: 0.1818 - acc: 0.9316 - val_loss: 0.2146 - val_acc: 0.9228\n",
            "Epoch 55/100\n",
            " - 4s - loss: 0.1850 - acc: 0.9289 - val_loss: 0.2206 - val_acc: 0.9222\n",
            "Epoch 56/100\n",
            " - 4s - loss: 0.1824 - acc: 0.9308 - val_loss: 0.2139 - val_acc: 0.9228\n",
            "Epoch 57/100\n",
            " - 4s - loss: 0.1820 - acc: 0.9311 - val_loss: 0.2166 - val_acc: 0.9222\n",
            "Epoch 58/100\n",
            " - 4s - loss: 0.1792 - acc: 0.9326 - val_loss: 0.2220 - val_acc: 0.9183\n",
            "Epoch 59/100\n",
            " - 4s - loss: 0.1780 - acc: 0.9319 - val_loss: 0.2131 - val_acc: 0.9230\n",
            "Epoch 60/100\n",
            " - 4s - loss: 0.1773 - acc: 0.9323 - val_loss: 0.2172 - val_acc: 0.9235\n",
            "Epoch 61/100\n",
            " - 4s - loss: 0.1781 - acc: 0.9334 - val_loss: 0.2192 - val_acc: 0.9212\n",
            "Epoch 62/100\n",
            " - 4s - loss: 0.1747 - acc: 0.9339 - val_loss: 0.2127 - val_acc: 0.9238\n",
            "Epoch 63/100\n",
            " - 4s - loss: 0.1758 - acc: 0.9323 - val_loss: 0.2128 - val_acc: 0.9222\n",
            "Epoch 64/100\n",
            " - 4s - loss: 0.1742 - acc: 0.9335 - val_loss: 0.2168 - val_acc: 0.9198\n",
            "Epoch 65/100\n",
            " - 4s - loss: 0.1746 - acc: 0.9339 - val_loss: 0.2146 - val_acc: 0.9226\n",
            "Epoch 66/100\n",
            " - 4s - loss: 0.1722 - acc: 0.9339 - val_loss: 0.2217 - val_acc: 0.9241\n",
            "Epoch 67/100\n",
            " - 4s - loss: 0.1741 - acc: 0.9342 - val_loss: 0.2091 - val_acc: 0.9258\n"
          ],
          "name": "stdout"
        },
        {
          "output_type": "stream",
          "text": [
            "Epoch 68/100\n",
            " - 4s - loss: 0.1709 - acc: 0.9345 - val_loss: 0.2207 - val_acc: 0.9218\n",
            "Epoch 69/100\n",
            " - 4s - loss: 0.1712 - acc: 0.9351 - val_loss: 0.2138 - val_acc: 0.9245\n",
            "Epoch 70/100\n",
            " - 4s - loss: 0.1718 - acc: 0.9354 - val_loss: 0.2126 - val_acc: 0.9253\n",
            "Epoch 71/100\n",
            " - 4s - loss: 0.1686 - acc: 0.9354 - val_loss: 0.2099 - val_acc: 0.9262\n",
            "Epoch 72/100\n",
            " - 4s - loss: 0.1696 - acc: 0.9360 - val_loss: 0.2129 - val_acc: 0.9234\n",
            "Epoch 73/100\n",
            " - 4s - loss: 0.1680 - acc: 0.9364 - val_loss: 0.2177 - val_acc: 0.9228\n",
            "Epoch 74/100\n",
            " - 4s - loss: 0.1681 - acc: 0.9357 - val_loss: 0.2159 - val_acc: 0.9247\n",
            "Epoch 75/100\n",
            " - 4s - loss: 0.1686 - acc: 0.9354 - val_loss: 0.2171 - val_acc: 0.9232\n",
            "Epoch 76/100\n",
            " - 4s - loss: 0.1654 - acc: 0.9363 - val_loss: 0.2176 - val_acc: 0.9244\n",
            "Epoch 77/100\n",
            " - 4s - loss: 0.1645 - acc: 0.9371 - val_loss: 0.2172 - val_acc: 0.9247\n",
            "Epoch 78/100\n",
            " - 4s - loss: 0.1659 - acc: 0.9365 - val_loss: 0.2127 - val_acc: 0.9233\n",
            "Epoch 79/100\n",
            " - 5s - loss: 0.1675 - acc: 0.9364 - val_loss: 0.2106 - val_acc: 0.9257\n",
            "Epoch 80/100\n",
            " - 4s - loss: 0.1663 - acc: 0.9379 - val_loss: 0.2125 - val_acc: 0.9270\n",
            "Epoch 81/100\n",
            " - 4s - loss: 0.1641 - acc: 0.9382 - val_loss: 0.2160 - val_acc: 0.9233\n",
            "Epoch 82/100\n",
            " - 4s - loss: 0.1639 - acc: 0.9386 - val_loss: 0.2152 - val_acc: 0.9218\n",
            "Epoch 83/100\n",
            " - 4s - loss: 0.1654 - acc: 0.9376 - val_loss: 0.2174 - val_acc: 0.9226\n",
            "Epoch 84/100\n",
            " - 4s - loss: 0.1619 - acc: 0.9381 - val_loss: 0.2195 - val_acc: 0.9224\n",
            "Epoch 85/100\n",
            " - 4s - loss: 0.1608 - acc: 0.9400 - val_loss: 0.2172 - val_acc: 0.9248\n",
            "Epoch 86/100\n",
            " - 4s - loss: 0.1608 - acc: 0.9387 - val_loss: 0.2148 - val_acc: 0.9244\n",
            "Epoch 87/100\n",
            " - 4s - loss: 0.1612 - acc: 0.9390 - val_loss: 0.2186 - val_acc: 0.9225\n",
            "Epoch 88/100\n",
            " - 4s - loss: 0.1581 - acc: 0.9391 - val_loss: 0.2149 - val_acc: 0.9242\n",
            "Epoch 89/100\n",
            " - 4s - loss: 0.1585 - acc: 0.9408 - val_loss: 0.2151 - val_acc: 0.9248\n",
            "Epoch 90/100\n",
            " - 4s - loss: 0.1580 - acc: 0.9392 - val_loss: 0.2142 - val_acc: 0.9222\n",
            "Epoch 91/100\n",
            " - 4s - loss: 0.1570 - acc: 0.9407 - val_loss: 0.2157 - val_acc: 0.9217\n",
            "Epoch 92/100\n",
            " - 4s - loss: 0.1573 - acc: 0.9387 - val_loss: 0.2156 - val_acc: 0.9227\n",
            "Epoch 93/100\n",
            " - 4s - loss: 0.1602 - acc: 0.9390 - val_loss: 0.2171 - val_acc: 0.9232\n",
            "Epoch 94/100\n",
            " - 4s - loss: 0.1549 - acc: 0.9410 - val_loss: 0.2124 - val_acc: 0.9242\n",
            "Epoch 95/100\n",
            " - 4s - loss: 0.1588 - acc: 0.9396 - val_loss: 0.2198 - val_acc: 0.9217\n",
            "Epoch 96/100\n",
            " - 4s - loss: 0.1558 - acc: 0.9409 - val_loss: 0.2147 - val_acc: 0.9239\n",
            "Epoch 97/100\n",
            " - 4s - loss: 0.1537 - acc: 0.9409 - val_loss: 0.2184 - val_acc: 0.9250\n",
            "Epoch 98/100\n",
            " - 4s - loss: 0.1551 - acc: 0.9402 - val_loss: 0.2163 - val_acc: 0.9236\n",
            "Epoch 99/100\n",
            " - 4s - loss: 0.1557 - acc: 0.9414 - val_loss: 0.2193 - val_acc: 0.9252\n",
            "Epoch 100/100\n",
            " - 4s - loss: 0.1575 - acc: 0.9394 - val_loss: 0.2131 - val_acc: 0.9242\n",
            "@ Total Time Spent: 440.56 seconds\n"
          ],
          "name": "stdout"
        }
      ]
    },
    {
      "metadata": {
        "id": "hEX-EVtIoweB",
        "colab_type": "code",
        "colab": {
          "base_uri": "https://localhost:8080/",
          "height": 50
        },
        "outputId": "26131928-b630-41ab-e74e-982c0387bf09"
      },
      "cell_type": "code",
      "source": [
        "train_loss_7, train_accuracy_7 = model_7.evaluate(X_train, y_train, verbose=0)\n",
        "print(\"Training Accuracy = %.2f %%     loss = %f\" % (train_accuracy_7 * 100, train_loss_7))\n",
        "test_loss_7, test_accuracy_7 = model_7.evaluate(X_test, y_test, verbose=0)\n",
        "print(\"Testing Accuracy = %.2f %%    loss = %f\" % (test_accuracy_7 * 100, test_loss_7))"
      ],
      "execution_count": 36,
      "outputs": [
        {
          "output_type": "stream",
          "text": [
            "Training Accuracy = 97.79 %     loss = 0.071253\n",
            "Testing Accuracy = 93.07 %    loss = 0.197497\n"
          ],
          "name": "stdout"
        }
      ]
    },
    {
      "metadata": {
        "id": "OS39uLDgo9A6",
        "colab_type": "text"
      },
      "cell_type": "markdown",
      "source": [
        "## Plot the Result and Compare"
      ]
    },
    {
      "metadata": {
        "id": "pM_fo81do_Xw",
        "colab_type": "code",
        "colab": {}
      },
      "cell_type": "code",
      "source": [
        "colors = sns.color_palette(\"Set2\", 10)"
      ],
      "execution_count": 0,
      "outputs": []
    },
    {
      "metadata": {
        "id": "OmSj0RHupUsH",
        "colab_type": "code",
        "colab": {
          "base_uri": "https://localhost:8080/",
          "height": 677
        },
        "outputId": "cefc7418-17e1-4708-89d2-426c2dd0aad1"
      },
      "cell_type": "code",
      "source": [
        "plt.style.use('seaborn-white')\n",
        "fig,((ax1,ax2),(ax3,ax4)) = plt.subplots(2,2,figsize=(20,10))\n",
        "ax1.plot(model_1_history.history['acc'],color=colors[0],label='SGD_Vanilla')\n",
        "ax1.plot(model_2_history.history['acc'],color=colors[1],label='SGD_Momentum')\n",
        "ax1.plot(model_3_history.history['acc'],color=colors[2],label='NAG')\n",
        "ax1.plot(model_4_history.history['acc'],color=colors[3],label='AdaGrad')\n",
        "ax1.plot(model_5_history.history['acc'],color=colors[4],label='RMSprop')\n",
        "ax1.plot(model_6_history.history['acc'],color=colors[5],label='Adam')\n",
        "ax1.plot(model_7_history.history['acc'],color=colors[7],label='AMSGrad')\n",
        "ax1.legend(frameon=True,edgecolor='black')\n",
        "ax1.set_xlabel('Epochs')\n",
        "ax1.set_ylabel('Training Accuracy')\n",
        "ax1.grid(True,color='black',linestyle='dotted',linewidth=1,alpha=.3)\n",
        "ax1.set_title('Compare the Training Accuracy')\n",
        "\n",
        "\n",
        "ax2.plot(model_1_history.history['val_acc'],color=colors[0],label='SGD_Vanilla')\n",
        "ax2.plot(model_2_history.history['val_acc'],color=colors[1],label='SGD_Momentum')\n",
        "ax2.plot(model_3_history.history['val_acc'],color=colors[2],label='NAG')\n",
        "ax2.plot(model_4_history.history['val_acc'],color=colors[3],label='AdaGrad')\n",
        "ax2.plot(model_5_history.history['val_acc'],color=colors[4],label='RMSprop')\n",
        "ax2.plot(model_6_history.history['val_acc'],color=colors[5],label='Adam')\n",
        "ax2.plot(model_7_history.history['val_acc'],color=colors[7],label='AMSGrad')\n",
        "ax2.legend(frameon=True,edgecolor='black')\n",
        "ax2.set_xlabel('Epochs')\n",
        "ax2.set_ylabel('Test Accuracy')\n",
        "ax2.grid(True,color='black',linestyle='dotted',linewidth=1,alpha=.3)\n",
        "ax2.set_title('Compare the Test Accuracy')\n",
        "\n",
        "\n",
        "ax3.plot(model_1_history.history['loss'],color=colors[0],label='SGD_Vanilla')\n",
        "ax3.plot(model_2_history.history['loss'],color=colors[1],label='SGD_Momentum')\n",
        "ax3.plot(model_3_history.history['loss'],color=colors[2],label='NAG')\n",
        "ax3.plot(model_4_history.history['loss'],color=colors[3],label='AdaGrad')\n",
        "ax3.plot(model_5_history.history['loss'],color=colors[4],label='RMSprop')\n",
        "ax3.plot(model_6_history.history['loss'],color=colors[5],label='Adam')\n",
        "ax3.plot(model_7_history.history['loss'],color=colors[7],label='AMSGrad')\n",
        "ax3.legend(frameon=True,edgecolor='black')\n",
        "ax3.set_xlabel('Epochs')\n",
        "ax3.set_ylabel('Training Loss')\n",
        "ax3.grid(True,color='black',linestyle='dotted',linewidth=1,alpha=.3)\n",
        "ax3.set_title('Compare the Training Loss')\n",
        "\n",
        "ax4.plot(model_1_history.history['val_loss'],color=colors[0],label='SGD_Vanilla')\n",
        "ax4.plot(model_2_history.history['val_loss'],color=colors[1],label='SGD_Momentum')\n",
        "ax4.plot(model_3_history.history['val_loss'],color=colors[2],label='NAG')\n",
        "ax4.plot(model_4_history.history['val_loss'],color=colors[3],label='AdaGrad')\n",
        "ax4.plot(model_5_history.history['val_loss'],color=colors[4],label='RMSprop')\n",
        "ax4.plot(model_6_history.history['val_loss'],color=colors[5],label='Adam')\n",
        "ax4.plot(model_7_history.history['val_loss'],color=colors[7],label='AMSGrad')\n",
        "ax4.legend(frameon=True,edgecolor='black')\n",
        "ax4.set_xlabel('Epochs')\n",
        "ax4.set_ylabel('Test Loss')\n",
        "ax4.grid(True,color='black',linestyle='dotted',linewidth=1,alpha=.3)\n",
        "ax4.set_title('Compare the Test Loss')\n",
        "\n",
        "fig.suptitle('Compare the different optimization algorithms on a classificaiton task',fontsize=16, fontweight='bold')\n",
        "plt.show()"
      ],
      "execution_count": 50,
      "outputs": [
        {
          "output_type": "display_data",
          "data": {
            "image/png": "[encoded data removed]",
            "text/plain": [
              "<matplotlib.figure.Figure at 0x7fb2aa76ca90>"
            ]
          },
          "metadata": {
            "tags": []
          }
        }
      ]
    }
  ]
}