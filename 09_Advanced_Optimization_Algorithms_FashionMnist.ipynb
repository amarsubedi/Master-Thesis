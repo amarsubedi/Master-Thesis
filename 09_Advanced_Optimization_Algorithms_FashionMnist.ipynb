{
  "nbformat": 4,
  "nbformat_minor": 0,
  "metadata": {
    "colab": {
      "name": "09_Advanced_Optimization_Algorithms_FashionMnist.ipynb",
      "version": "0.3.2",
      "provenance": [],
      "collapsed_sections": [],
      "include_colab_link": true
    },
    "kernelspec": {
      "name": "python3",
      "display_name": "Python 3"
    },
    "accelerator": "GPU"
  },
  "cells": [
    {
      "cell_type": "markdown",
      "metadata": {
        "id": "view-in-github",
        "colab_type": "text"
      },
      "source": [
        "[View in Colaboratory](https://colab.research.google.com/github/redcican/Master-Thesis/blob/master/09_Advanced_Optimization_Algorithms_FashionMnist.ipynb)"
      ]
    },
    {
      "metadata": {
        "id": "-hfQjQHRuEtC",
        "colab_type": "text"
      },
      "cell_type": "markdown",
      "source": [
        "# 09 Comparison of Different Advanced Optimization Algorithms Using FashionMNIST\n"
      ]
    },
    {
      "metadata": {
        "id": "50UzrChcvTSK",
        "colab_type": "text"
      },
      "cell_type": "markdown",
      "source": [
        "## 1. Introduction to the Dataset\n",
        "\n",
        "Fashion-MNIST is a dataset of Zalando's article images—consisting of a training set of 60,000 examples and a test set of 10,000 examples. Each example is a 28x28 grayscale image, associated with a label from 10 classes\n",
        "\n",
        "Labels:\n",
        "\n",
        "\n",
        "*   0 : T-shirt/top\n",
        "*   1 : Trouser\n",
        "*   2 : Pullover\n",
        "*   3 : Dress\n",
        "*   4 : Coat\n",
        "*   5 : Sandal\n",
        "*   6 : Shirt\n",
        "*   7 : Sneake\n",
        "*   8 : Bag\n",
        "*   9 : Ankle Boot\n",
        "\n",
        "\n",
        "\n",
        "\n",
        "\n",
        "\n",
        "\n",
        "\n",
        "\n"
      ]
    },
    {
      "metadata": {
        "id": "wm7kYOQVxVDg",
        "colab_type": "text"
      },
      "cell_type": "markdown",
      "source": [
        "## 2. Data Preprocessing"
      ]
    },
    {
      "metadata": {
        "id": "e8LMmAMqwa3V",
        "colab_type": "code",
        "colab": {
          "base_uri": "https://localhost:8080/",
          "height": 34
        },
        "outputId": "170d6205-7d89-41c2-aa0c-1c74ec5c3601"
      },
      "cell_type": "code",
      "source": [
        "from keras.utils import to_categorical\n",
        "import numpy as np\n",
        "import pandas as pd\n",
        "from sklearn.model_selection import train_test_split"
      ],
      "execution_count": 1,
      "outputs": [
        {
          "output_type": "stream",
          "text": [
            "Using TensorFlow backend.\n"
          ],
          "name": "stderr"
        }
      ]
    },
    {
      "metadata": {
        "id": "L-R6rZhdm200",
        "colab_type": "code",
        "colab": {
          "base_uri": "https://localhost:8080/",
          "height": 151
        },
        "outputId": "d33cc7a3-80c3-40c3-a870-c40655539de3"
      },
      "cell_type": "code",
      "source": [
        "from keras.datasets import fashion_mnist\n",
        "(X_train,Y_train),(X_test,Y_test) = fashion_mnist.load_data()"
      ],
      "execution_count": 2,
      "outputs": [
        {
          "output_type": "stream",
          "text": [
            "Downloading data from http://fashion-mnist.s3-website.eu-central-1.amazonaws.com/train-labels-idx1-ubyte.gz\n",
            "32768/29515 [=================================] - 0s 0us/step\n",
            "Downloading data from http://fashion-mnist.s3-website.eu-central-1.amazonaws.com/train-images-idx3-ubyte.gz\n",
            "26427392/26421880 [==============================] - 1s 0us/step\n",
            "Downloading data from http://fashion-mnist.s3-website.eu-central-1.amazonaws.com/t10k-labels-idx1-ubyte.gz\n",
            "8192/5148 [===============================================] - 0s 0us/step\n",
            "Downloading data from http://fashion-mnist.s3-website.eu-central-1.amazonaws.com/t10k-images-idx3-ubyte.gz\n",
            "4423680/4422102 [==============================] - 0s 0us/step\n"
          ],
          "name": "stdout"
        }
      ]
    },
    {
      "metadata": {
        "id": "vUQtUuOF3BNP",
        "colab_type": "code",
        "colab": {
          "base_uri": "https://localhost:8080/",
          "height": 37
        },
        "outputId": "0aa2f7c1-e275-4996-f463-6f89f56da29b"
      },
      "cell_type": "code",
      "source": [
        "num_classes = 10\n",
        "img_rows, img_cols = 28, 28\n",
        "X_train = X_train.reshape(X_train.shape[0], img_rows, img_cols, 1)\n",
        "X_test = X_test.reshape(X_test.shape[0], img_rows, img_cols, 1)\n",
        "Y_train = to_categorical(Y_train,num_classes)\n",
        "Y_test = to_categorical(Y_test, num_classes)"
      ],
      "execution_count": 3,
      "outputs": []
    },
    {
      "metadata": {
        "id": "f9GG60Xs3q4n",
        "colab_type": "code",
        "colab": {
          "base_uri": "https://localhost:8080/",
          "height": 34
        },
        "outputId": "21b8162a-dcca-4ff9-b3d4-7a1ee09e31f4"
      },
      "cell_type": "code",
      "source": [
        "X_train = X_train.astype('float32')\n",
        "X_test = X_test.astype('float32')\n",
        "X_train /= 255\n",
        "X_test /= 255\n",
        "X_train.shape, X_test.shape,Y_train.shape, Y_test.shape"
      ],
      "execution_count": 4,
      "outputs": [
        {
          "output_type": "execute_result",
          "data": {
            "text/plain": [
              "((60000, 28, 28, 1), (10000, 28, 28, 1), (60000, 10), (10000, 10))"
            ]
          },
          "metadata": {
            "tags": []
          },
          "execution_count": 4
        }
      ]
    },
    {
      "metadata": {
        "id": "n8DYZ68r4IlB",
        "colab_type": "text"
      },
      "cell_type": "markdown",
      "source": [
        "## 3. Building the Neural Network"
      ]
    },
    {
      "metadata": {
        "id": "nXUIbdZi363Y",
        "colab_type": "code",
        "colab": {
          "base_uri": "https://localhost:8080/",
          "height": 37
        },
        "outputId": "46f26790-9bc9-412c-a65b-d65179f53fbc"
      },
      "cell_type": "code",
      "source": [
        "import time\n",
        "import seaborn as sns\n",
        "import matplotlib.pyplot as plt\n",
        "import keras\n",
        "from keras.models import Sequential\n",
        "from keras.layers import Dense, Dropout, Flatten\n",
        "from keras.layers import Conv2D, MaxPooling2D\n",
        "from keras import optimizers\n",
        "from keras.layers.normalization import BatchNormalization"
      ],
      "execution_count": 5,
      "outputs": []
    },
    {
      "metadata": {
        "id": "OOVA5jXD46F1",
        "colab_type": "code",
        "colab": {
          "base_uri": "https://localhost:8080/",
          "height": 37
        },
        "outputId": "af009d5b-fe74-407a-fdf9-0c50c93a8457"
      },
      "cell_type": "code",
      "source": [
        "batch_size = 256\n",
        "epochs = 100\n",
        "input_shape = (img_rows, img_cols, 1)\n",
        "num_classes = 10"
      ],
      "execution_count": 6,
      "outputs": []
    },
    {
      "metadata": {
        "id": "diEQVGWO4_5U",
        "colab_type": "code",
        "colab": {
          "base_uri": "https://localhost:8080/",
          "height": 37
        },
        "outputId": "614f0b8a-6904-4cef-c4c2-1243e45d6141"
      },
      "cell_type": "code",
      "source": [
        "def model(optimizer):\n",
        "  model = Sequential()\n",
        "  model.add(Conv2D(32, kernel_size=(3,3), activation='relu',\n",
        "                   kernel_initializer='he_normal',input_shape=input_shape))\n",
        "  model.add(MaxPooling2D(2,2))\n",
        "  model.add(Dropout(0.25))\n",
        "  model.add(Conv2D(64, (3,3), activation='relu'))\n",
        "  model.add(MaxPooling2D(pool_size=(2,2)))\n",
        "  model.add(Dropout(0.25))\n",
        "  model.add(Conv2D(128,(3,3), activation='relu'))\n",
        "  model.add(Dropout(0.4))\n",
        "  model.add(Flatten())\n",
        "  model.add(Dense(128, activation='relu'))\n",
        "  model.add(Dropout(0.3))\n",
        "  model.add(Dense(num_classes,activation='softmax'))\n",
        "  \n",
        "  model.compile(loss='categorical_crossentropy',\n",
        "               optimizer=optimizer,metrics=['accuracy'])\n",
        "  \n",
        "  return model"
      ],
      "execution_count": 10,
      "outputs": []
    },
    {
      "metadata": {
        "id": "ctGKtUV06UQu",
        "colab_type": "text"
      },
      "cell_type": "markdown",
      "source": [
        "### 3.1 Optimizer = vanilla SGD with learning rate = 0.01\n",
        "\n",
        "\n"
      ]
    },
    {
      "metadata": {
        "id": "PjQkpbSp6P0x",
        "colab_type": "code",
        "colab": {
          "base_uri": "https://localhost:8080/",
          "height": 37
        },
        "outputId": "f6cdf6f1-7799-4c85-fa30-c085c2073caf"
      },
      "cell_type": "code",
      "source": [
        "vanilla_sgd = optimizers.SGD(lr=0.01, decay=0, momentum=0, nesterov=False)"
      ],
      "execution_count": 11,
      "outputs": []
    },
    {
      "metadata": {
        "id": "hzlJMhD07Yh-",
        "colab_type": "code",
        "colab": {
          "base_uri": "https://localhost:8080/",
          "height": 3410
        },
        "collapsed": true,
        "outputId": "c615e140-76cc-40c4-e8b1-5ed0014b0665"
      },
      "cell_type": "code",
      "source": [
        "start = time.time()\n",
        "model_1 = model(vanilla_sgd)\n",
        "model_1_history = model_1.fit(X_train, Y_train,\n",
        "                             batch_size = batch_size,\n",
        "                             epochs = epochs,\n",
        "                             verbose = 2,\n",
        "                             validation_data = (X_test,Y_test))\n",
        "print('@ Total Time Spent: %.2f seconds' %(time.time()-start))"
      ],
      "execution_count": 12,
      "outputs": [
        {
          "output_type": "stream",
          "text": [
            "Train on 60000 samples, validate on 10000 samples\n",
            "Epoch 1/100\n",
            " - 6s - loss: 1.7430 - acc: 0.3537 - val_loss: 1.1522 - val_acc: 0.6112\n",
            "Epoch 2/100\n",
            " - 4s - loss: 1.1608 - acc: 0.5549 - val_loss: 0.9079 - val_acc: 0.6875\n",
            "Epoch 3/100\n",
            " - 4s - loss: 0.9666 - acc: 0.6353 - val_loss: 0.8008 - val_acc: 0.7243\n",
            "Epoch 4/100\n",
            " - 4s - loss: 0.8797 - acc: 0.6706 - val_loss: 0.7531 - val_acc: 0.7319\n",
            "Epoch 5/100\n",
            " - 4s - loss: 0.8154 - acc: 0.6935 - val_loss: 0.7099 - val_acc: 0.7457\n",
            "Epoch 6/100\n",
            " - 4s - loss: 0.7713 - acc: 0.7089 - val_loss: 0.6714 - val_acc: 0.7541\n",
            "Epoch 7/100\n",
            " - 4s - loss: 0.7441 - acc: 0.7196 - val_loss: 0.6501 - val_acc: 0.7575\n",
            "Epoch 8/100\n",
            " - 4s - loss: 0.7184 - acc: 0.7286 - val_loss: 0.6367 - val_acc: 0.7618\n",
            "Epoch 9/100\n",
            " - 4s - loss: 0.6986 - acc: 0.7345 - val_loss: 0.6186 - val_acc: 0.7672\n",
            "Epoch 10/100\n",
            " - 4s - loss: 0.6784 - acc: 0.7428 - val_loss: 0.6081 - val_acc: 0.7709\n",
            "Epoch 11/100\n",
            " - 4s - loss: 0.6636 - acc: 0.7478 - val_loss: 0.5923 - val_acc: 0.7797\n",
            "Epoch 12/100\n",
            " - 4s - loss: 0.6505 - acc: 0.7551 - val_loss: 0.5825 - val_acc: 0.7824\n",
            "Epoch 13/100\n",
            " - 4s - loss: 0.6413 - acc: 0.7578 - val_loss: 0.5706 - val_acc: 0.7860\n",
            "Epoch 14/100\n",
            " - 4s - loss: 0.6284 - acc: 0.7624 - val_loss: 0.5667 - val_acc: 0.7862\n",
            "Epoch 15/100\n",
            " - 4s - loss: 0.6210 - acc: 0.7650 - val_loss: 0.5541 - val_acc: 0.7952\n",
            "Epoch 16/100\n",
            " - 4s - loss: 0.6103 - acc: 0.7698 - val_loss: 0.5444 - val_acc: 0.7990\n",
            "Epoch 17/100\n",
            " - 4s - loss: 0.6017 - acc: 0.7733 - val_loss: 0.5339 - val_acc: 0.7999\n",
            "Epoch 18/100\n",
            " - 4s - loss: 0.5931 - acc: 0.7752 - val_loss: 0.5288 - val_acc: 0.8031\n",
            "Epoch 19/100\n",
            " - 4s - loss: 0.5874 - acc: 0.7796 - val_loss: 0.5242 - val_acc: 0.8037\n",
            "Epoch 20/100\n",
            " - 4s - loss: 0.5827 - acc: 0.7812 - val_loss: 0.5194 - val_acc: 0.8063\n",
            "Epoch 21/100\n",
            " - 4s - loss: 0.5787 - acc: 0.7826 - val_loss: 0.5162 - val_acc: 0.8102\n",
            "Epoch 22/100\n",
            " - 4s - loss: 0.5716 - acc: 0.7844 - val_loss: 0.5093 - val_acc: 0.8118\n",
            "Epoch 23/100\n",
            " - 4s - loss: 0.5632 - acc: 0.7886 - val_loss: 0.5066 - val_acc: 0.8136\n",
            "Epoch 24/100\n",
            " - 4s - loss: 0.5594 - acc: 0.7903 - val_loss: 0.4993 - val_acc: 0.8153\n",
            "Epoch 25/100\n",
            " - 4s - loss: 0.5531 - acc: 0.7932 - val_loss: 0.4932 - val_acc: 0.8172\n",
            "Epoch 26/100\n",
            " - 4s - loss: 0.5474 - acc: 0.7949 - val_loss: 0.4905 - val_acc: 0.8194\n",
            "Epoch 27/100\n",
            " - 4s - loss: 0.5419 - acc: 0.7963 - val_loss: 0.4897 - val_acc: 0.8197\n",
            "Epoch 28/100\n",
            " - 4s - loss: 0.5393 - acc: 0.7973 - val_loss: 0.4812 - val_acc: 0.8216\n",
            "Epoch 29/100\n",
            " - 4s - loss: 0.5352 - acc: 0.7996 - val_loss: 0.4778 - val_acc: 0.8224\n",
            "Epoch 30/100\n",
            " - 4s - loss: 0.5296 - acc: 0.8020 - val_loss: 0.4777 - val_acc: 0.8248\n",
            "Epoch 31/100\n",
            " - 4s - loss: 0.5254 - acc: 0.8022 - val_loss: 0.4719 - val_acc: 0.8251\n",
            "Epoch 32/100\n",
            " - 4s - loss: 0.5222 - acc: 0.8058 - val_loss: 0.4664 - val_acc: 0.8269\n",
            "Epoch 33/100\n",
            " - 4s - loss: 0.5181 - acc: 0.8062 - val_loss: 0.4664 - val_acc: 0.8265\n",
            "Epoch 34/100\n"
          ],
          "name": "stdout"
        },
        {
          "output_type": "stream",
          "text": [
            " - 4s - loss: 0.5151 - acc: 0.8088 - val_loss: 0.4594 - val_acc: 0.8279\n",
            "Epoch 35/100\n",
            " - 4s - loss: 0.5104 - acc: 0.8086 - val_loss: 0.4536 - val_acc: 0.8306\n",
            "Epoch 36/100\n",
            " - 4s - loss: 0.5054 - acc: 0.8116 - val_loss: 0.4540 - val_acc: 0.8301\n",
            "Epoch 37/100\n",
            " - 4s - loss: 0.5022 - acc: 0.8131 - val_loss: 0.4494 - val_acc: 0.8334\n",
            "Epoch 38/100\n",
            " - 4s - loss: 0.4992 - acc: 0.8136 - val_loss: 0.4477 - val_acc: 0.8354\n",
            "Epoch 39/100\n",
            " - 4s - loss: 0.4967 - acc: 0.8162 - val_loss: 0.4479 - val_acc: 0.8334\n",
            "Epoch 40/100\n",
            " - 4s - loss: 0.4933 - acc: 0.8177 - val_loss: 0.4416 - val_acc: 0.8362\n",
            "Epoch 41/100\n",
            " - 4s - loss: 0.4898 - acc: 0.8177 - val_loss: 0.4367 - val_acc: 0.8382\n",
            "Epoch 42/100\n",
            " - 4s - loss: 0.4869 - acc: 0.8211 - val_loss: 0.4346 - val_acc: 0.8393\n",
            "Epoch 43/100\n",
            " - 4s - loss: 0.4829 - acc: 0.8216 - val_loss: 0.4274 - val_acc: 0.8414\n",
            "Epoch 44/100\n",
            " - 4s - loss: 0.4806 - acc: 0.8214 - val_loss: 0.4266 - val_acc: 0.8433\n",
            "Epoch 45/100\n",
            " - 4s - loss: 0.4775 - acc: 0.8238 - val_loss: 0.4244 - val_acc: 0.8417\n",
            "Epoch 46/100\n",
            " - 4s - loss: 0.4766 - acc: 0.8230 - val_loss: 0.4232 - val_acc: 0.8445\n",
            "Epoch 47/100\n",
            " - 4s - loss: 0.4735 - acc: 0.8261 - val_loss: 0.4155 - val_acc: 0.8478\n",
            "Epoch 48/100\n",
            " - 4s - loss: 0.4705 - acc: 0.8273 - val_loss: 0.4164 - val_acc: 0.8465\n",
            "Epoch 49/100\n",
            " - 4s - loss: 0.4650 - acc: 0.8272 - val_loss: 0.4126 - val_acc: 0.8495\n",
            "Epoch 50/100\n",
            " - 4s - loss: 0.4645 - acc: 0.8298 - val_loss: 0.4109 - val_acc: 0.8488\n",
            "Epoch 51/100\n",
            " - 4s - loss: 0.4636 - acc: 0.8293 - val_loss: 0.4127 - val_acc: 0.8484\n",
            "Epoch 52/100\n",
            " - 4s - loss: 0.4604 - acc: 0.8326 - val_loss: 0.4037 - val_acc: 0.8532\n",
            "Epoch 53/100\n",
            " - 4s - loss: 0.4589 - acc: 0.8307 - val_loss: 0.4053 - val_acc: 0.8534\n",
            "Epoch 54/100\n",
            " - 4s - loss: 0.4538 - acc: 0.8329 - val_loss: 0.4077 - val_acc: 0.8515\n",
            "Epoch 55/100\n",
            " - 4s - loss: 0.4519 - acc: 0.8337 - val_loss: 0.4038 - val_acc: 0.8528\n",
            "Epoch 56/100\n",
            " - 4s - loss: 0.4508 - acc: 0.8343 - val_loss: 0.4002 - val_acc: 0.8532\n",
            "Epoch 57/100\n",
            " - 4s - loss: 0.4495 - acc: 0.8357 - val_loss: 0.3959 - val_acc: 0.8565\n",
            "Epoch 58/100\n",
            " - 4s - loss: 0.4453 - acc: 0.8378 - val_loss: 0.3928 - val_acc: 0.8581\n",
            "Epoch 59/100\n",
            " - 4s - loss: 0.4417 - acc: 0.8389 - val_loss: 0.3932 - val_acc: 0.8589\n",
            "Epoch 60/100\n",
            " - 4s - loss: 0.4391 - acc: 0.8399 - val_loss: 0.3957 - val_acc: 0.8548\n",
            "Epoch 61/100\n",
            " - 4s - loss: 0.4399 - acc: 0.8396 - val_loss: 0.3939 - val_acc: 0.8564\n",
            "Epoch 62/100\n",
            " - 4s - loss: 0.4354 - acc: 0.8405 - val_loss: 0.3850 - val_acc: 0.8603\n",
            "Epoch 63/100\n",
            " - 4s - loss: 0.4356 - acc: 0.8410 - val_loss: 0.3818 - val_acc: 0.8618\n",
            "Epoch 64/100\n",
            " - 4s - loss: 0.4303 - acc: 0.8424 - val_loss: 0.3841 - val_acc: 0.8606\n",
            "Epoch 65/100\n",
            " - 4s - loss: 0.4296 - acc: 0.8424 - val_loss: 0.3940 - val_acc: 0.8541\n",
            "Epoch 66/100\n",
            " - 4s - loss: 0.4277 - acc: 0.8433 - val_loss: 0.3809 - val_acc: 0.8623\n",
            "Epoch 67/100\n",
            " - 4s - loss: 0.4283 - acc: 0.8436 - val_loss: 0.3798 - val_acc: 0.8636\n"
          ],
          "name": "stdout"
        },
        {
          "output_type": "stream",
          "text": [
            "Epoch 68/100\n",
            " - 4s - loss: 0.4235 - acc: 0.8445 - val_loss: 0.3770 - val_acc: 0.8625\n",
            "Epoch 69/100\n",
            " - 4s - loss: 0.4231 - acc: 0.8453 - val_loss: 0.3710 - val_acc: 0.8664\n",
            "Epoch 70/100\n",
            " - 4s - loss: 0.4176 - acc: 0.8471 - val_loss: 0.3746 - val_acc: 0.8643\n",
            "Epoch 71/100\n",
            " - 4s - loss: 0.4189 - acc: 0.8462 - val_loss: 0.3676 - val_acc: 0.8678\n",
            "Epoch 72/100\n",
            " - 4s - loss: 0.4154 - acc: 0.8478 - val_loss: 0.3673 - val_acc: 0.8673\n",
            "Epoch 73/100\n",
            " - 4s - loss: 0.4143 - acc: 0.8476 - val_loss: 0.3720 - val_acc: 0.8655\n",
            "Epoch 74/100\n",
            " - 4s - loss: 0.4158 - acc: 0.8485 - val_loss: 0.3633 - val_acc: 0.8683\n",
            "Epoch 75/100\n",
            " - 4s - loss: 0.4116 - acc: 0.8513 - val_loss: 0.3657 - val_acc: 0.8684\n",
            "Epoch 76/100\n",
            " - 4s - loss: 0.4108 - acc: 0.8505 - val_loss: 0.3624 - val_acc: 0.8696\n",
            "Epoch 77/100\n",
            " - 4s - loss: 0.4101 - acc: 0.8506 - val_loss: 0.3623 - val_acc: 0.8686\n",
            "Epoch 78/100\n",
            " - 4s - loss: 0.4065 - acc: 0.8507 - val_loss: 0.3558 - val_acc: 0.8712\n",
            "Epoch 79/100\n",
            " - 4s - loss: 0.4081 - acc: 0.8515 - val_loss: 0.3557 - val_acc: 0.8724\n",
            "Epoch 80/100\n",
            " - 4s - loss: 0.4059 - acc: 0.8516 - val_loss: 0.3569 - val_acc: 0.8705\n",
            "Epoch 81/100\n",
            " - 4s - loss: 0.4040 - acc: 0.8516 - val_loss: 0.3545 - val_acc: 0.8709\n",
            "Epoch 82/100\n",
            " - 4s - loss: 0.4014 - acc: 0.8539 - val_loss: 0.3539 - val_acc: 0.8723\n",
            "Epoch 83/100\n",
            " - 4s - loss: 0.4001 - acc: 0.8549 - val_loss: 0.3497 - val_acc: 0.8744\n",
            "Epoch 84/100\n",
            " - 4s - loss: 0.3979 - acc: 0.8566 - val_loss: 0.3534 - val_acc: 0.8723\n",
            "Epoch 85/100\n",
            " - 4s - loss: 0.3968 - acc: 0.8562 - val_loss: 0.3516 - val_acc: 0.8725\n",
            "Epoch 86/100\n",
            " - 4s - loss: 0.3957 - acc: 0.8557 - val_loss: 0.3468 - val_acc: 0.8742\n",
            "Epoch 87/100\n",
            " - 4s - loss: 0.3938 - acc: 0.8548 - val_loss: 0.3513 - val_acc: 0.8722\n",
            "Epoch 88/100\n",
            " - 4s - loss: 0.3963 - acc: 0.8566 - val_loss: 0.3418 - val_acc: 0.8771\n",
            "Epoch 89/100\n",
            " - 4s - loss: 0.3923 - acc: 0.8573 - val_loss: 0.3565 - val_acc: 0.8700\n",
            "Epoch 90/100\n",
            " - 4s - loss: 0.3867 - acc: 0.8604 - val_loss: 0.3463 - val_acc: 0.8747\n",
            "Epoch 91/100\n",
            " - 4s - loss: 0.3887 - acc: 0.8583 - val_loss: 0.3413 - val_acc: 0.8768\n",
            "Epoch 92/100\n",
            " - 4s - loss: 0.3896 - acc: 0.8572 - val_loss: 0.3434 - val_acc: 0.8766\n",
            "Epoch 93/100\n",
            " - 4s - loss: 0.3873 - acc: 0.8598 - val_loss: 0.3419 - val_acc: 0.8764\n",
            "Epoch 94/100\n",
            " - 4s - loss: 0.3821 - acc: 0.8608 - val_loss: 0.3427 - val_acc: 0.8762\n",
            "Epoch 95/100\n",
            " - 4s - loss: 0.3855 - acc: 0.8599 - val_loss: 0.3393 - val_acc: 0.8780\n",
            "Epoch 96/100\n",
            " - 4s - loss: 0.3835 - acc: 0.8594 - val_loss: 0.3425 - val_acc: 0.8761\n",
            "Epoch 97/100\n",
            " - 4s - loss: 0.3811 - acc: 0.8624 - val_loss: 0.3397 - val_acc: 0.8783\n",
            "Epoch 98/100\n",
            " - 4s - loss: 0.3799 - acc: 0.8613 - val_loss: 0.3385 - val_acc: 0.8778\n",
            "Epoch 99/100\n",
            " - 4s - loss: 0.3789 - acc: 0.8626 - val_loss: 0.3324 - val_acc: 0.8805\n",
            "Epoch 100/100\n",
            " - 4s - loss: 0.3764 - acc: 0.8634 - val_loss: 0.3316 - val_acc: 0.8803\n",
            "@ Total Time Spent: 423.72 seconds\n"
          ],
          "name": "stdout"
        }
      ]
    },
    {
      "metadata": {
        "id": "RnJwoesp7y5f",
        "colab_type": "code",
        "colab": {
          "base_uri": "https://localhost:8080/",
          "height": 50
        },
        "outputId": "eb659c41-64eb-4d11-9155-f656d65cf6dc"
      },
      "cell_type": "code",
      "source": [
        "train_loss_1, train_accuracy_1 = model_1.evaluate(X_train, Y_train, verbose=0)\n",
        "print(\"Training Accuracy = %.2f %%     loss = %f\" % (train_accuracy_1 * 100, train_loss_1))\n",
        "test_loss_1, test_accuracy_1 = model_1.evaluate(X_test, Y_test, verbose=0)\n",
        "print(\"Testing Accuracy = %.2f %%    loss = %f\" % (test_accuracy_1 * 100, test_loss_1))"
      ],
      "execution_count": 13,
      "outputs": [
        {
          "output_type": "stream",
          "text": [
            "Training Accuracy = 88.88 %     loss = 0.306513\n",
            "Testing Accuracy = 88.03 %    loss = 0.331603\n"
          ],
          "name": "stdout"
        }
      ]
    },
    {
      "metadata": {
        "id": "QK2y300kk8XG",
        "colab_type": "text"
      },
      "cell_type": "markdown",
      "source": [
        "### 3.2 Optimizer = SGD with Momentum learning rate = 0.01, beta=0.9"
      ]
    },
    {
      "metadata": {
        "id": "KJdMJPqVBiCo",
        "colab_type": "code",
        "colab": {
          "base_uri": "https://localhost:8080/",
          "height": 37
        },
        "outputId": "cda12d91-cfd1-4488-ebff-ca137abbe2ff"
      },
      "cell_type": "code",
      "source": [
        "sgd_momentum = optimizers.SGD(lr=0.01, decay=0, momentum=0.9, nesterov=False)"
      ],
      "execution_count": 14,
      "outputs": []
    },
    {
      "metadata": {
        "id": "qHWdzsZRlekm",
        "colab_type": "code",
        "colab": {
          "base_uri": "https://localhost:8080/",
          "height": 3410
        },
        "collapsed": true,
        "outputId": "b1fbc29f-a4ec-44ca-81cd-85789a0b4fa5"
      },
      "cell_type": "code",
      "source": [
        "start = time.time()\n",
        "model_2 = model(sgd_momentum)\n",
        "model_2_history = model_2.fit(X_train, Y_train,\n",
        "                             batch_size = batch_size,\n",
        "                             epochs = epochs,\n",
        "                             verbose = 2,\n",
        "                             validation_data = (X_test,Y_test))\n",
        "print('@ Total Time Spent: %.2f seconds' %(time.time()-start))"
      ],
      "execution_count": 15,
      "outputs": [
        {
          "output_type": "stream",
          "text": [
            "Train on 60000 samples, validate on 10000 samples\n",
            "Epoch 1/100\n",
            " - 5s - loss: 1.0434 - acc: 0.6050 - val_loss: 0.6239 - val_acc: 0.7614\n",
            "Epoch 2/100\n",
            " - 4s - loss: 0.6511 - acc: 0.7530 - val_loss: 0.5469 - val_acc: 0.7965\n",
            "Epoch 3/100\n",
            " - 4s - loss: 0.5843 - acc: 0.7807 - val_loss: 0.4939 - val_acc: 0.8108\n",
            "Epoch 4/100\n",
            " - 4s - loss: 0.5376 - acc: 0.7969 - val_loss: 0.4679 - val_acc: 0.8222\n",
            "Epoch 5/100\n",
            " - 4s - loss: 0.5099 - acc: 0.8104 - val_loss: 0.4440 - val_acc: 0.8358\n",
            "Epoch 6/100\n",
            " - 4s - loss: 0.4816 - acc: 0.8206 - val_loss: 0.4115 - val_acc: 0.8453\n",
            "Epoch 7/100\n",
            " - 4s - loss: 0.4613 - acc: 0.8293 - val_loss: 0.3979 - val_acc: 0.8541\n",
            "Epoch 8/100\n",
            " - 4s - loss: 0.4424 - acc: 0.8354 - val_loss: 0.3827 - val_acc: 0.8597\n",
            "Epoch 9/100\n",
            " - 4s - loss: 0.4267 - acc: 0.8444 - val_loss: 0.3735 - val_acc: 0.8628\n",
            "Epoch 10/100\n",
            " - 4s - loss: 0.4127 - acc: 0.8486 - val_loss: 0.3733 - val_acc: 0.8600\n",
            "Epoch 11/100\n",
            " - 4s - loss: 0.4018 - acc: 0.8512 - val_loss: 0.3466 - val_acc: 0.8696\n",
            "Epoch 12/100\n",
            " - 4s - loss: 0.3916 - acc: 0.8559 - val_loss: 0.3356 - val_acc: 0.8749\n",
            "Epoch 13/100\n",
            " - 4s - loss: 0.3817 - acc: 0.8609 - val_loss: 0.3299 - val_acc: 0.8796\n",
            "Epoch 14/100\n",
            " - 4s - loss: 0.3734 - acc: 0.8621 - val_loss: 0.3255 - val_acc: 0.8816\n",
            "Epoch 15/100\n",
            " - 4s - loss: 0.3657 - acc: 0.8659 - val_loss: 0.3177 - val_acc: 0.8812\n",
            "Epoch 16/100\n",
            " - 4s - loss: 0.3575 - acc: 0.8694 - val_loss: 0.3117 - val_acc: 0.8839\n",
            "Epoch 17/100\n",
            " - 4s - loss: 0.3508 - acc: 0.8717 - val_loss: 0.3062 - val_acc: 0.8862\n",
            "Epoch 18/100\n",
            " - 4s - loss: 0.3437 - acc: 0.8756 - val_loss: 0.3008 - val_acc: 0.8906\n",
            "Epoch 19/100\n",
            " - 4s - loss: 0.3401 - acc: 0.8754 - val_loss: 0.2966 - val_acc: 0.8902\n",
            "Epoch 20/100\n",
            " - 4s - loss: 0.3339 - acc: 0.8763 - val_loss: 0.2957 - val_acc: 0.8892\n",
            "Epoch 21/100\n",
            " - 4s - loss: 0.3291 - acc: 0.8790 - val_loss: 0.2928 - val_acc: 0.8919\n",
            "Epoch 22/100\n",
            " - 4s - loss: 0.3284 - acc: 0.8807 - val_loss: 0.2928 - val_acc: 0.8914\n",
            "Epoch 23/100\n",
            " - 4s - loss: 0.3221 - acc: 0.8809 - val_loss: 0.2859 - val_acc: 0.8936\n",
            "Epoch 24/100\n",
            " - 4s - loss: 0.3192 - acc: 0.8829 - val_loss: 0.2934 - val_acc: 0.8903\n",
            "Epoch 25/100\n",
            " - 4s - loss: 0.3151 - acc: 0.8842 - val_loss: 0.2962 - val_acc: 0.8896\n",
            "Epoch 26/100\n",
            " - 4s - loss: 0.3124 - acc: 0.8854 - val_loss: 0.2770 - val_acc: 0.8988\n",
            "Epoch 27/100\n",
            " - 4s - loss: 0.3068 - acc: 0.8872 - val_loss: 0.2735 - val_acc: 0.8986\n",
            "Epoch 28/100\n",
            " - 4s - loss: 0.3050 - acc: 0.8889 - val_loss: 0.2833 - val_acc: 0.8959\n",
            "Epoch 29/100\n",
            " - 4s - loss: 0.3050 - acc: 0.8874 - val_loss: 0.2717 - val_acc: 0.8994\n",
            "Epoch 30/100\n",
            " - 4s - loss: 0.2999 - acc: 0.8908 - val_loss: 0.2694 - val_acc: 0.9005\n",
            "Epoch 31/100\n",
            " - 4s - loss: 0.2947 - acc: 0.8921 - val_loss: 0.2687 - val_acc: 0.9000\n",
            "Epoch 32/100\n",
            " - 4s - loss: 0.2941 - acc: 0.8923 - val_loss: 0.2664 - val_acc: 0.9005\n",
            "Epoch 33/100\n",
            " - 4s - loss: 0.2899 - acc: 0.8935 - val_loss: 0.2679 - val_acc: 0.8998\n",
            "Epoch 34/100\n"
          ],
          "name": "stdout"
        },
        {
          "output_type": "stream",
          "text": [
            " - 4s - loss: 0.2893 - acc: 0.8945 - val_loss: 0.2649 - val_acc: 0.9004\n",
            "Epoch 35/100\n",
            " - 4s - loss: 0.2865 - acc: 0.8944 - val_loss: 0.2655 - val_acc: 0.9021\n",
            "Epoch 36/100\n",
            " - 4s - loss: 0.2817 - acc: 0.8967 - val_loss: 0.2628 - val_acc: 0.9030\n",
            "Epoch 37/100\n",
            " - 4s - loss: 0.2843 - acc: 0.8940 - val_loss: 0.2610 - val_acc: 0.9034\n",
            "Epoch 38/100\n",
            " - 4s - loss: 0.2842 - acc: 0.8956 - val_loss: 0.2633 - val_acc: 0.9021\n",
            "Epoch 39/100\n",
            " - 4s - loss: 0.2777 - acc: 0.8975 - val_loss: 0.2571 - val_acc: 0.9047\n",
            "Epoch 40/100\n",
            " - 4s - loss: 0.2792 - acc: 0.8964 - val_loss: 0.2660 - val_acc: 0.8987\n",
            "Epoch 41/100\n",
            " - 4s - loss: 0.2770 - acc: 0.8977 - val_loss: 0.2538 - val_acc: 0.9036\n",
            "Epoch 42/100\n",
            " - 4s - loss: 0.2733 - acc: 0.8992 - val_loss: 0.2571 - val_acc: 0.9043\n",
            "Epoch 43/100\n",
            " - 4s - loss: 0.2701 - acc: 0.9006 - val_loss: 0.2501 - val_acc: 0.9066\n",
            "Epoch 44/100\n",
            " - 4s - loss: 0.2715 - acc: 0.9013 - val_loss: 0.2514 - val_acc: 0.9072\n",
            "Epoch 45/100\n",
            " - 4s - loss: 0.2691 - acc: 0.9011 - val_loss: 0.2523 - val_acc: 0.9058\n",
            "Epoch 46/100\n",
            " - 4s - loss: 0.2642 - acc: 0.9024 - val_loss: 0.2493 - val_acc: 0.9072\n",
            "Epoch 47/100\n",
            " - 4s - loss: 0.2615 - acc: 0.9032 - val_loss: 0.2460 - val_acc: 0.9070\n",
            "Epoch 48/100\n",
            " - 4s - loss: 0.2652 - acc: 0.9030 - val_loss: 0.2474 - val_acc: 0.9082\n",
            "Epoch 49/100\n",
            " - 4s - loss: 0.2629 - acc: 0.9031 - val_loss: 0.2440 - val_acc: 0.9114\n",
            "Epoch 50/100\n",
            " - 4s - loss: 0.2599 - acc: 0.9039 - val_loss: 0.2473 - val_acc: 0.9060\n",
            "Epoch 51/100\n",
            " - 4s - loss: 0.2590 - acc: 0.9048 - val_loss: 0.2439 - val_acc: 0.9088\n",
            "Epoch 52/100\n",
            " - 4s - loss: 0.2534 - acc: 0.9076 - val_loss: 0.2406 - val_acc: 0.9108\n",
            "Epoch 53/100\n",
            " - 4s - loss: 0.2562 - acc: 0.9055 - val_loss: 0.2393 - val_acc: 0.9106\n",
            "Epoch 54/100\n",
            " - 4s - loss: 0.2538 - acc: 0.9059 - val_loss: 0.2508 - val_acc: 0.9075\n",
            "Epoch 55/100\n",
            " - 4s - loss: 0.2537 - acc: 0.9059 - val_loss: 0.2395 - val_acc: 0.9110\n",
            "Epoch 56/100\n",
            " - 4s - loss: 0.2513 - acc: 0.9076 - val_loss: 0.2385 - val_acc: 0.9127\n",
            "Epoch 57/100\n",
            " - 4s - loss: 0.2523 - acc: 0.9066 - val_loss: 0.2364 - val_acc: 0.9115\n",
            "Epoch 58/100\n",
            " - 4s - loss: 0.2460 - acc: 0.9079 - val_loss: 0.2404 - val_acc: 0.9104\n",
            "Epoch 59/100\n",
            " - 4s - loss: 0.2481 - acc: 0.9074 - val_loss: 0.2349 - val_acc: 0.9106\n",
            "Epoch 60/100\n",
            " - 4s - loss: 0.2493 - acc: 0.9082 - val_loss: 0.2336 - val_acc: 0.9124\n",
            "Epoch 61/100\n",
            " - 4s - loss: 0.2457 - acc: 0.9087 - val_loss: 0.2314 - val_acc: 0.9128\n",
            "Epoch 62/100\n",
            " - 4s - loss: 0.2447 - acc: 0.9091 - val_loss: 0.2389 - val_acc: 0.9108\n",
            "Epoch 63/100\n",
            " - 4s - loss: 0.2441 - acc: 0.9103 - val_loss: 0.2327 - val_acc: 0.9149\n",
            "Epoch 64/100\n",
            " - 4s - loss: 0.2411 - acc: 0.9111 - val_loss: 0.2378 - val_acc: 0.9096\n",
            "Epoch 65/100\n",
            " - 4s - loss: 0.2426 - acc: 0.9104 - val_loss: 0.2362 - val_acc: 0.9122\n",
            "Epoch 66/100\n",
            " - 4s - loss: 0.2401 - acc: 0.9108 - val_loss: 0.2302 - val_acc: 0.9121\n",
            "Epoch 67/100\n",
            " - 4s - loss: 0.2389 - acc: 0.9118 - val_loss: 0.2355 - val_acc: 0.9105\n"
          ],
          "name": "stdout"
        },
        {
          "output_type": "stream",
          "text": [
            "Epoch 68/100\n",
            " - 4s - loss: 0.2371 - acc: 0.9112 - val_loss: 0.2339 - val_acc: 0.9110\n",
            "Epoch 69/100\n",
            " - 4s - loss: 0.2395 - acc: 0.9119 - val_loss: 0.2271 - val_acc: 0.9151\n",
            "Epoch 70/100\n",
            " - 4s - loss: 0.2354 - acc: 0.9120 - val_loss: 0.2256 - val_acc: 0.9168\n",
            "Epoch 71/100\n",
            " - 4s - loss: 0.2348 - acc: 0.9131 - val_loss: 0.2280 - val_acc: 0.9142\n",
            "Epoch 72/100\n",
            " - 4s - loss: 0.2343 - acc: 0.9130 - val_loss: 0.2253 - val_acc: 0.9169\n",
            "Epoch 73/100\n",
            " - 4s - loss: 0.2342 - acc: 0.9139 - val_loss: 0.2268 - val_acc: 0.9149\n",
            "Epoch 74/100\n",
            " - 4s - loss: 0.2302 - acc: 0.9150 - val_loss: 0.2363 - val_acc: 0.9115\n",
            "Epoch 75/100\n",
            " - 4s - loss: 0.2316 - acc: 0.9138 - val_loss: 0.2279 - val_acc: 0.9140\n",
            "Epoch 76/100\n",
            " - 4s - loss: 0.2295 - acc: 0.9149 - val_loss: 0.2248 - val_acc: 0.9149\n",
            "Epoch 77/100\n",
            " - 4s - loss: 0.2319 - acc: 0.9131 - val_loss: 0.2256 - val_acc: 0.9180\n",
            "Epoch 78/100\n",
            " - 4s - loss: 0.2279 - acc: 0.9136 - val_loss: 0.2258 - val_acc: 0.9175\n",
            "Epoch 79/100\n",
            " - 4s - loss: 0.2257 - acc: 0.9157 - val_loss: 0.2290 - val_acc: 0.9141\n",
            "Epoch 80/100\n",
            " - 4s - loss: 0.2279 - acc: 0.9147 - val_loss: 0.2265 - val_acc: 0.9149\n",
            "Epoch 81/100\n",
            " - 4s - loss: 0.2239 - acc: 0.9171 - val_loss: 0.2247 - val_acc: 0.9163\n",
            "Epoch 82/100\n",
            " - 4s - loss: 0.2250 - acc: 0.9160 - val_loss: 0.2327 - val_acc: 0.9142\n",
            "Epoch 83/100\n",
            " - 4s - loss: 0.2247 - acc: 0.9162 - val_loss: 0.2309 - val_acc: 0.9140\n",
            "Epoch 84/100\n",
            " - 4s - loss: 0.2260 - acc: 0.9163 - val_loss: 0.2219 - val_acc: 0.9179\n",
            "Epoch 85/100\n",
            " - 4s - loss: 0.2208 - acc: 0.9177 - val_loss: 0.2231 - val_acc: 0.9180\n",
            "Epoch 86/100\n",
            " - 4s - loss: 0.2212 - acc: 0.9177 - val_loss: 0.2259 - val_acc: 0.9154\n",
            "Epoch 87/100\n",
            " - 4s - loss: 0.2231 - acc: 0.9176 - val_loss: 0.2279 - val_acc: 0.9155\n",
            "Epoch 88/100\n",
            " - 4s - loss: 0.2218 - acc: 0.9179 - val_loss: 0.2251 - val_acc: 0.9140\n",
            "Epoch 89/100\n",
            " - 4s - loss: 0.2203 - acc: 0.9181 - val_loss: 0.2215 - val_acc: 0.9190\n",
            "Epoch 90/100\n",
            " - 4s - loss: 0.2179 - acc: 0.9183 - val_loss: 0.2241 - val_acc: 0.9147\n",
            "Epoch 91/100\n",
            " - 4s - loss: 0.2153 - acc: 0.9196 - val_loss: 0.2155 - val_acc: 0.9200\n",
            "Epoch 92/100\n",
            " - 4s - loss: 0.2170 - acc: 0.9189 - val_loss: 0.2351 - val_acc: 0.9111\n",
            "Epoch 93/100\n",
            " - 4s - loss: 0.2179 - acc: 0.9180 - val_loss: 0.2238 - val_acc: 0.9171\n",
            "Epoch 94/100\n",
            " - 4s - loss: 0.2129 - acc: 0.9206 - val_loss: 0.2186 - val_acc: 0.9185\n",
            "Epoch 95/100\n",
            " - 4s - loss: 0.2158 - acc: 0.9196 - val_loss: 0.2283 - val_acc: 0.9145\n",
            "Epoch 96/100\n",
            " - 4s - loss: 0.2161 - acc: 0.9197 - val_loss: 0.2207 - val_acc: 0.9181\n",
            "Epoch 97/100\n",
            " - 4s - loss: 0.2133 - acc: 0.9196 - val_loss: 0.2214 - val_acc: 0.9200\n",
            "Epoch 98/100\n",
            " - 4s - loss: 0.2121 - acc: 0.9198 - val_loss: 0.2172 - val_acc: 0.9194\n",
            "Epoch 99/100\n",
            " - 4s - loss: 0.2124 - acc: 0.9197 - val_loss: 0.2163 - val_acc: 0.9192\n",
            "Epoch 100/100\n",
            " - 4s - loss: 0.2092 - acc: 0.9223 - val_loss: 0.2185 - val_acc: 0.9179\n",
            "@ Total Time Spent: 423.19 seconds\n"
          ],
          "name": "stdout"
        }
      ]
    },
    {
      "metadata": {
        "id": "43YOHz_Rlk47",
        "colab_type": "code",
        "colab": {
          "base_uri": "https://localhost:8080/",
          "height": 50
        },
        "outputId": "c51da0e4-f022-4c10-deee-b52e2b15479d"
      },
      "cell_type": "code",
      "source": [
        "train_loss_2, train_accuracy_2 = model_2.evaluate(X_train, Y_train, verbose=0)\n",
        "print(\"Training Accuracy = %.2f %%     loss = %f\" % (train_accuracy_2 * 100, train_loss_2))\n",
        "test_loss_2, test_accuracy_2 = model_2.evaluate(X_test, Y_test, verbose=0)\n",
        "print(\"Testing Accuracy = %.2f %%    loss = %f\" % (test_accuracy_2 * 100, test_loss_2))"
      ],
      "execution_count": 16,
      "outputs": [
        {
          "output_type": "stream",
          "text": [
            "Training Accuracy = 94.75 %     loss = 0.140330\n",
            "Testing Accuracy = 91.79 %    loss = 0.218544\n"
          ],
          "name": "stdout"
        }
      ]
    },
    {
      "metadata": {
        "id": "eWeNn1lilvbS",
        "colab_type": "text"
      },
      "cell_type": "markdown",
      "source": [
        "### 3.3 Optimizer = SGD with Momentum learning rate = 0.01, beta=0.9, NAG=true"
      ]
    },
    {
      "metadata": {
        "id": "0cm7ydl1l6jt",
        "colab_type": "code",
        "colab": {
          "base_uri": "https://localhost:8080/",
          "height": 37
        },
        "outputId": "ff9e4fdf-00d8-44f5-d5e2-8d6b370fc82a"
      },
      "cell_type": "code",
      "source": [
        "NAG_momentum = optimizers.SGD(lr=0.01, decay=0, momentum=0.9, nesterov=True)"
      ],
      "execution_count": 17,
      "outputs": []
    },
    {
      "metadata": {
        "id": "LyglADWqmIZt",
        "colab_type": "code",
        "colab": {
          "base_uri": "https://localhost:8080/",
          "height": 3410
        },
        "collapsed": true,
        "outputId": "b0537348-a4c9-4f8f-a4eb-e0c2c70d3e97"
      },
      "cell_type": "code",
      "source": [
        "start = time.time()\n",
        "model_3 = model(NAG_momentum)\n",
        "model_3_history = model_3.fit(X_train, Y_train,\n",
        "                             batch_size = batch_size,\n",
        "                             epochs = epochs,\n",
        "                             verbose = 2,\n",
        "                             validation_data = (X_test,Y_test))\n",
        "print('@ Total Time Spent: %.2f seconds' %(time.time()-start))"
      ],
      "execution_count": 18,
      "outputs": [
        {
          "output_type": "stream",
          "text": [
            "Train on 60000 samples, validate on 10000 samples\n",
            "Epoch 1/100\n",
            " - 5s - loss: 1.0171 - acc: 0.6184 - val_loss: 0.6096 - val_acc: 0.7708\n",
            "Epoch 2/100\n",
            " - 4s - loss: 0.6310 - acc: 0.7610 - val_loss: 0.5293 - val_acc: 0.8006\n",
            "Epoch 3/100\n",
            " - 4s - loss: 0.5652 - acc: 0.7875 - val_loss: 0.4779 - val_acc: 0.8210\n",
            "Epoch 4/100\n",
            " - 4s - loss: 0.5205 - acc: 0.8048 - val_loss: 0.4473 - val_acc: 0.8322\n",
            "Epoch 5/100\n",
            " - 4s - loss: 0.4913 - acc: 0.8189 - val_loss: 0.4185 - val_acc: 0.8447\n",
            "Epoch 6/100\n",
            " - 4s - loss: 0.4645 - acc: 0.8278 - val_loss: 0.3981 - val_acc: 0.8543\n",
            "Epoch 7/100\n",
            " - 4s - loss: 0.4430 - acc: 0.8357 - val_loss: 0.3768 - val_acc: 0.8653\n",
            "Epoch 8/100\n",
            " - 4s - loss: 0.4270 - acc: 0.8436 - val_loss: 0.3695 - val_acc: 0.8650\n",
            "Epoch 9/100\n",
            " - 4s - loss: 0.4127 - acc: 0.8475 - val_loss: 0.3616 - val_acc: 0.8698\n",
            "Epoch 10/100\n",
            " - 4s - loss: 0.3974 - acc: 0.8538 - val_loss: 0.3432 - val_acc: 0.8741\n",
            "Epoch 11/100\n",
            " - 4s - loss: 0.3830 - acc: 0.8592 - val_loss: 0.3359 - val_acc: 0.8797\n",
            "Epoch 12/100\n",
            " - 4s - loss: 0.3769 - acc: 0.8637 - val_loss: 0.3295 - val_acc: 0.8802\n",
            "Epoch 13/100\n",
            " - 4s - loss: 0.3659 - acc: 0.8665 - val_loss: 0.3155 - val_acc: 0.8845\n",
            "Epoch 14/100\n",
            " - 4s - loss: 0.3591 - acc: 0.8689 - val_loss: 0.3098 - val_acc: 0.8858\n",
            "Epoch 15/100\n",
            " - 4s - loss: 0.3513 - acc: 0.8721 - val_loss: 0.3126 - val_acc: 0.8862\n",
            "Epoch 16/100\n",
            " - 4s - loss: 0.3455 - acc: 0.8736 - val_loss: 0.3054 - val_acc: 0.8910\n",
            "Epoch 17/100\n",
            " - 4s - loss: 0.3376 - acc: 0.8764 - val_loss: 0.2919 - val_acc: 0.8946\n",
            "Epoch 18/100\n",
            " - 4s - loss: 0.3335 - acc: 0.8779 - val_loss: 0.2991 - val_acc: 0.8926\n",
            "Epoch 19/100\n",
            " - 4s - loss: 0.3275 - acc: 0.8795 - val_loss: 0.2872 - val_acc: 0.8958\n",
            "Epoch 20/100\n",
            " - 4s - loss: 0.3210 - acc: 0.8826 - val_loss: 0.2836 - val_acc: 0.8960\n",
            "Epoch 21/100\n",
            " - 4s - loss: 0.3167 - acc: 0.8848 - val_loss: 0.2812 - val_acc: 0.8984\n",
            "Epoch 22/100\n",
            " - 4s - loss: 0.3149 - acc: 0.8848 - val_loss: 0.2809 - val_acc: 0.8961\n",
            "Epoch 23/100\n",
            " - 4s - loss: 0.3106 - acc: 0.8870 - val_loss: 0.2775 - val_acc: 0.8978\n",
            "Epoch 24/100\n",
            " - 4s - loss: 0.3083 - acc: 0.8861 - val_loss: 0.2716 - val_acc: 0.9001\n",
            "Epoch 25/100\n",
            " - 4s - loss: 0.3048 - acc: 0.8883 - val_loss: 0.2678 - val_acc: 0.9019\n",
            "Epoch 26/100\n",
            " - 4s - loss: 0.2981 - acc: 0.8907 - val_loss: 0.2698 - val_acc: 0.9010\n",
            "Epoch 27/100\n",
            " - 4s - loss: 0.2962 - acc: 0.8921 - val_loss: 0.2661 - val_acc: 0.9025\n",
            "Epoch 28/100\n",
            " - 4s - loss: 0.2937 - acc: 0.8933 - val_loss: 0.2662 - val_acc: 0.9024\n",
            "Epoch 29/100\n",
            " - 4s - loss: 0.2901 - acc: 0.8949 - val_loss: 0.2615 - val_acc: 0.9026\n",
            "Epoch 30/100\n",
            " - 4s - loss: 0.2874 - acc: 0.8944 - val_loss: 0.2594 - val_acc: 0.9035\n",
            "Epoch 31/100\n",
            " - 4s - loss: 0.2865 - acc: 0.8966 - val_loss: 0.2604 - val_acc: 0.9041\n",
            "Epoch 32/100\n",
            " - 4s - loss: 0.2842 - acc: 0.8947 - val_loss: 0.2585 - val_acc: 0.9050\n",
            "Epoch 33/100\n",
            " - 4s - loss: 0.2819 - acc: 0.8965 - val_loss: 0.2586 - val_acc: 0.9061\n",
            "Epoch 34/100\n"
          ],
          "name": "stdout"
        },
        {
          "output_type": "stream",
          "text": [
            " - 4s - loss: 0.2783 - acc: 0.8985 - val_loss: 0.2530 - val_acc: 0.9046\n",
            "Epoch 35/100\n",
            " - 4s - loss: 0.2772 - acc: 0.8974 - val_loss: 0.2593 - val_acc: 0.9059\n",
            "Epoch 36/100\n",
            " - 4s - loss: 0.2748 - acc: 0.8991 - val_loss: 0.2509 - val_acc: 0.9080\n",
            "Epoch 37/100\n",
            " - 4s - loss: 0.2734 - acc: 0.8994 - val_loss: 0.2531 - val_acc: 0.9080\n",
            "Epoch 38/100\n",
            " - 4s - loss: 0.2693 - acc: 0.9006 - val_loss: 0.2561 - val_acc: 0.9053\n",
            "Epoch 39/100\n",
            " - 4s - loss: 0.2681 - acc: 0.9002 - val_loss: 0.2456 - val_acc: 0.9096\n",
            "Epoch 40/100\n",
            " - 4s - loss: 0.2697 - acc: 0.9014 - val_loss: 0.2444 - val_acc: 0.9095\n",
            "Epoch 41/100\n",
            " - 4s - loss: 0.2646 - acc: 0.9018 - val_loss: 0.2504 - val_acc: 0.9062\n",
            "Epoch 42/100\n",
            " - 4s - loss: 0.2620 - acc: 0.9038 - val_loss: 0.2480 - val_acc: 0.9098\n",
            "Epoch 43/100\n",
            " - 4s - loss: 0.2623 - acc: 0.9024 - val_loss: 0.2455 - val_acc: 0.9088\n",
            "Epoch 44/100\n",
            " - 4s - loss: 0.2586 - acc: 0.9043 - val_loss: 0.2546 - val_acc: 0.9071\n",
            "Epoch 45/100\n",
            " - 4s - loss: 0.2566 - acc: 0.9057 - val_loss: 0.2386 - val_acc: 0.9119\n",
            "Epoch 46/100\n",
            " - 4s - loss: 0.2576 - acc: 0.9045 - val_loss: 0.2393 - val_acc: 0.9113\n",
            "Epoch 47/100\n",
            " - 4s - loss: 0.2551 - acc: 0.9069 - val_loss: 0.2413 - val_acc: 0.9104\n",
            "Epoch 48/100\n",
            " - 4s - loss: 0.2520 - acc: 0.9064 - val_loss: 0.2383 - val_acc: 0.9112\n",
            "Epoch 49/100\n",
            " - 4s - loss: 0.2534 - acc: 0.9066 - val_loss: 0.2406 - val_acc: 0.9097\n",
            "Epoch 50/100\n",
            " - 4s - loss: 0.2509 - acc: 0.9077 - val_loss: 0.2694 - val_acc: 0.8969\n",
            "Epoch 51/100\n",
            " - 4s - loss: 0.2497 - acc: 0.9084 - val_loss: 0.2360 - val_acc: 0.9109\n",
            "Epoch 52/100\n",
            " - 4s - loss: 0.2482 - acc: 0.9086 - val_loss: 0.2376 - val_acc: 0.9127\n",
            "Epoch 53/100\n",
            " - 4s - loss: 0.2467 - acc: 0.9092 - val_loss: 0.2375 - val_acc: 0.9100\n",
            "Epoch 54/100\n",
            " - 4s - loss: 0.2480 - acc: 0.9089 - val_loss: 0.2302 - val_acc: 0.9133\n",
            "Epoch 55/100\n",
            " - 4s - loss: 0.2419 - acc: 0.9109 - val_loss: 0.2325 - val_acc: 0.9129\n",
            "Epoch 56/100\n",
            " - 4s - loss: 0.2420 - acc: 0.9112 - val_loss: 0.2342 - val_acc: 0.9133\n",
            "Epoch 57/100\n",
            " - 4s - loss: 0.2406 - acc: 0.9102 - val_loss: 0.2328 - val_acc: 0.9140\n",
            "Epoch 58/100\n",
            " - 4s - loss: 0.2394 - acc: 0.9118 - val_loss: 0.2330 - val_acc: 0.9147\n",
            "Epoch 59/100\n",
            " - 4s - loss: 0.2402 - acc: 0.9118 - val_loss: 0.2286 - val_acc: 0.9136\n",
            "Epoch 60/100\n",
            " - 4s - loss: 0.2388 - acc: 0.9122 - val_loss: 0.2307 - val_acc: 0.9141\n",
            "Epoch 61/100\n",
            " - 4s - loss: 0.2362 - acc: 0.9127 - val_loss: 0.2315 - val_acc: 0.9148\n",
            "Epoch 62/100\n",
            " - 4s - loss: 0.2373 - acc: 0.9127 - val_loss: 0.2310 - val_acc: 0.9139\n",
            "Epoch 63/100\n",
            " - 4s - loss: 0.2337 - acc: 0.9132 - val_loss: 0.2466 - val_acc: 0.9084\n",
            "Epoch 64/100\n",
            " - 4s - loss: 0.2356 - acc: 0.9132 - val_loss: 0.2271 - val_acc: 0.9154\n",
            "Epoch 65/100\n",
            " - 4s - loss: 0.2337 - acc: 0.9140 - val_loss: 0.2279 - val_acc: 0.9160\n",
            "Epoch 66/100\n",
            " - 4s - loss: 0.2339 - acc: 0.9132 - val_loss: 0.2261 - val_acc: 0.9167\n",
            "Epoch 67/100\n",
            " - 4s - loss: 0.2319 - acc: 0.9145 - val_loss: 0.2275 - val_acc: 0.9139\n"
          ],
          "name": "stdout"
        },
        {
          "output_type": "stream",
          "text": [
            "Epoch 68/100\n",
            " - 4s - loss: 0.2294 - acc: 0.9141 - val_loss: 0.2303 - val_acc: 0.9139\n",
            "Epoch 69/100\n",
            " - 4s - loss: 0.2298 - acc: 0.9144 - val_loss: 0.2241 - val_acc: 0.9165\n",
            "Epoch 70/100\n",
            " - 4s - loss: 0.2295 - acc: 0.9152 - val_loss: 0.2225 - val_acc: 0.9178\n",
            "Epoch 71/100\n",
            " - 4s - loss: 0.2291 - acc: 0.9149 - val_loss: 0.2200 - val_acc: 0.9183\n",
            "Epoch 72/100\n",
            " - 4s - loss: 0.2262 - acc: 0.9161 - val_loss: 0.2245 - val_acc: 0.9160\n",
            "Epoch 73/100\n",
            " - 4s - loss: 0.2242 - acc: 0.9161 - val_loss: 0.2242 - val_acc: 0.9150\n",
            "Epoch 74/100\n",
            " - 4s - loss: 0.2269 - acc: 0.9158 - val_loss: 0.2339 - val_acc: 0.9115\n",
            "Epoch 75/100\n",
            " - 4s - loss: 0.2232 - acc: 0.9170 - val_loss: 0.2258 - val_acc: 0.9174\n",
            "Epoch 76/100\n",
            " - 4s - loss: 0.2237 - acc: 0.9170 - val_loss: 0.2202 - val_acc: 0.9184\n",
            "Epoch 77/100\n",
            " - 4s - loss: 0.2232 - acc: 0.9175 - val_loss: 0.2192 - val_acc: 0.9173\n",
            "Epoch 78/100\n",
            " - 4s - loss: 0.2216 - acc: 0.9179 - val_loss: 0.2207 - val_acc: 0.9171\n",
            "Epoch 79/100\n",
            " - 4s - loss: 0.2205 - acc: 0.9187 - val_loss: 0.2191 - val_acc: 0.9193\n",
            "Epoch 80/100\n",
            " - 4s - loss: 0.2199 - acc: 0.9175 - val_loss: 0.2202 - val_acc: 0.9173\n",
            "Epoch 81/100\n",
            " - 4s - loss: 0.2191 - acc: 0.9173 - val_loss: 0.2195 - val_acc: 0.9188\n",
            "Epoch 82/100\n",
            " - 4s - loss: 0.2195 - acc: 0.9182 - val_loss: 0.2190 - val_acc: 0.9175\n",
            "Epoch 83/100\n",
            " - 4s - loss: 0.2162 - acc: 0.9195 - val_loss: 0.2216 - val_acc: 0.9154\n",
            "Epoch 84/100\n",
            " - 4s - loss: 0.2165 - acc: 0.9191 - val_loss: 0.2154 - val_acc: 0.9196\n",
            "Epoch 85/100\n",
            " - 4s - loss: 0.2168 - acc: 0.9188 - val_loss: 0.2191 - val_acc: 0.9175\n",
            "Epoch 86/100\n",
            " - 4s - loss: 0.2157 - acc: 0.9205 - val_loss: 0.2218 - val_acc: 0.9165\n",
            "Epoch 87/100\n",
            " - 4s - loss: 0.2157 - acc: 0.9200 - val_loss: 0.2224 - val_acc: 0.9154\n",
            "Epoch 88/100\n",
            " - 4s - loss: 0.2137 - acc: 0.9209 - val_loss: 0.2189 - val_acc: 0.9188\n",
            "Epoch 89/100\n",
            " - 4s - loss: 0.2124 - acc: 0.9216 - val_loss: 0.2199 - val_acc: 0.9185\n",
            "Epoch 90/100\n",
            " - 4s - loss: 0.2118 - acc: 0.9221 - val_loss: 0.2175 - val_acc: 0.9199\n",
            "Epoch 91/100\n",
            " - 4s - loss: 0.2121 - acc: 0.9204 - val_loss: 0.2197 - val_acc: 0.9183\n",
            "Epoch 92/100\n",
            " - 4s - loss: 0.2113 - acc: 0.9217 - val_loss: 0.2214 - val_acc: 0.9162\n",
            "Epoch 93/100\n",
            " - 4s - loss: 0.2118 - acc: 0.9198 - val_loss: 0.2155 - val_acc: 0.9190\n",
            "Epoch 94/100\n",
            " - 4s - loss: 0.2112 - acc: 0.9209 - val_loss: 0.2127 - val_acc: 0.9217\n",
            "Epoch 95/100\n",
            " - 4s - loss: 0.2105 - acc: 0.9224 - val_loss: 0.2143 - val_acc: 0.9204\n",
            "Epoch 96/100\n",
            " - 4s - loss: 0.2088 - acc: 0.9217 - val_loss: 0.2157 - val_acc: 0.9202\n",
            "Epoch 97/100\n",
            " - 4s - loss: 0.2058 - acc: 0.9221 - val_loss: 0.2158 - val_acc: 0.9203\n",
            "Epoch 98/100\n",
            " - 4s - loss: 0.2066 - acc: 0.9237 - val_loss: 0.2144 - val_acc: 0.9217\n",
            "Epoch 99/100\n",
            " - 4s - loss: 0.2064 - acc: 0.9230 - val_loss: 0.2158 - val_acc: 0.9196\n",
            "Epoch 100/100\n",
            " - 4s - loss: 0.2036 - acc: 0.9245 - val_loss: 0.2154 - val_acc: 0.9203\n",
            "@ Total Time Spent: 426.75 seconds\n"
          ],
          "name": "stdout"
        }
      ]
    },
    {
      "metadata": {
        "id": "zXKIOJvimRn_",
        "colab_type": "code",
        "colab": {
          "base_uri": "https://localhost:8080/",
          "height": 50
        },
        "outputId": "27f1a183-74fd-4da3-a810-cef40cd8292c"
      },
      "cell_type": "code",
      "source": [
        "train_loss_3, train_accuracy_3 = model_3.evaluate(X_train, Y_train, verbose=0)\n",
        "print(\"Training Accuracy = %.2f %%     loss = %f\" % (train_accuracy_3 * 100, train_loss_3))\n",
        "test_loss_3, test_accuracy_3 = model_3.evaluate(X_test, Y_test, verbose=0)\n",
        "print(\"Testing Accuracy = %.2f %%    loss = %f\" % (test_accuracy_3 * 100, test_loss_3))"
      ],
      "execution_count": 19,
      "outputs": [
        {
          "output_type": "stream",
          "text": [
            "Training Accuracy = 95.02 %     loss = 0.134858\n",
            "Testing Accuracy = 92.03 %    loss = 0.215398\n"
          ],
          "name": "stdout"
        }
      ]
    },
    {
      "metadata": {
        "id": "fk3TnyBamdgV",
        "colab_type": "text"
      },
      "cell_type": "markdown",
      "source": [
        "### 3.4 Optimizer = AdaGrad learning rate = 0.01\n",
        "\n"
      ]
    },
    {
      "metadata": {
        "id": "ZICxqVcXmfLI",
        "colab_type": "code",
        "colab": {
          "base_uri": "https://localhost:8080/",
          "height": 37
        },
        "outputId": "0e6b751a-a225-485a-d6df-81741aeb47bc"
      },
      "cell_type": "code",
      "source": [
        "Adagrad = optimizers.Adagrad(lr=0.01, epsilon=None, decay=0)"
      ],
      "execution_count": 20,
      "outputs": []
    },
    {
      "metadata": {
        "id": "7bWke45onAQK",
        "colab_type": "code",
        "colab": {
          "base_uri": "https://localhost:8080/",
          "height": 3410
        },
        "collapsed": true,
        "outputId": "f694d77a-1b50-4ba4-c7fd-04ef137d1b65"
      },
      "cell_type": "code",
      "source": [
        "start = time.time()\n",
        "model_4 = model(Adagrad)\n",
        "model_4_history = model_4.fit(X_train, Y_train,\n",
        "                             batch_size = batch_size,\n",
        "                             epochs = epochs,\n",
        "                             verbose = 2,\n",
        "                             validation_data = (X_test,Y_test))\n",
        "print('@ Total Time Spent: %.2f seconds' %(time.time()-start))"
      ],
      "execution_count": 21,
      "outputs": [
        {
          "output_type": "stream",
          "text": [
            "Train on 60000 samples, validate on 10000 samples\n",
            "Epoch 1/100\n",
            " - 5s - loss: 0.7570 - acc: 0.7175 - val_loss: 0.5022 - val_acc: 0.8090\n",
            "Epoch 2/100\n",
            " - 4s - loss: 0.5115 - acc: 0.8092 - val_loss: 0.4316 - val_acc: 0.8353\n",
            "Epoch 3/100\n",
            " - 4s - loss: 0.4642 - acc: 0.8274 - val_loss: 0.4036 - val_acc: 0.8478\n",
            "Epoch 4/100\n",
            " - 4s - loss: 0.4327 - acc: 0.8402 - val_loss: 0.3914 - val_acc: 0.8551\n",
            "Epoch 5/100\n",
            " - 4s - loss: 0.4169 - acc: 0.8454 - val_loss: 0.3871 - val_acc: 0.8543\n",
            "Epoch 6/100\n",
            " - 4s - loss: 0.4007 - acc: 0.8517 - val_loss: 0.3626 - val_acc: 0.8651\n",
            "Epoch 7/100\n",
            " - 4s - loss: 0.3906 - acc: 0.8550 - val_loss: 0.3556 - val_acc: 0.8675\n",
            "Epoch 8/100\n",
            " - 4s - loss: 0.3779 - acc: 0.8600 - val_loss: 0.3398 - val_acc: 0.8736\n",
            "Epoch 9/100\n",
            " - 4s - loss: 0.3709 - acc: 0.8630 - val_loss: 0.3282 - val_acc: 0.8795\n",
            "Epoch 10/100\n",
            " - 4s - loss: 0.3596 - acc: 0.8671 - val_loss: 0.3195 - val_acc: 0.8826\n",
            "Epoch 11/100\n",
            " - 4s - loss: 0.3535 - acc: 0.8686 - val_loss: 0.3247 - val_acc: 0.8804\n",
            "Epoch 12/100\n",
            " - 4s - loss: 0.3484 - acc: 0.8714 - val_loss: 0.3190 - val_acc: 0.8844\n",
            "Epoch 13/100\n",
            " - 4s - loss: 0.3451 - acc: 0.8719 - val_loss: 0.3184 - val_acc: 0.8845\n",
            "Epoch 14/100\n",
            " - 4s - loss: 0.3381 - acc: 0.8753 - val_loss: 0.3106 - val_acc: 0.8855\n",
            "Epoch 15/100\n",
            " - 4s - loss: 0.3334 - acc: 0.8767 - val_loss: 0.3102 - val_acc: 0.8859\n",
            "Epoch 16/100\n",
            " - 4s - loss: 0.3297 - acc: 0.8784 - val_loss: 0.2995 - val_acc: 0.8912\n",
            "Epoch 17/100\n",
            " - 4s - loss: 0.3243 - acc: 0.8799 - val_loss: 0.2997 - val_acc: 0.8890\n",
            "Epoch 18/100\n",
            " - 4s - loss: 0.3224 - acc: 0.8814 - val_loss: 0.2928 - val_acc: 0.8949\n",
            "Epoch 19/100\n",
            " - 4s - loss: 0.3177 - acc: 0.8822 - val_loss: 0.2898 - val_acc: 0.8957\n",
            "Epoch 20/100\n",
            " - 4s - loss: 0.3156 - acc: 0.8832 - val_loss: 0.2903 - val_acc: 0.8961\n",
            "Epoch 21/100\n",
            " - 4s - loss: 0.3121 - acc: 0.8837 - val_loss: 0.2855 - val_acc: 0.8932\n",
            "Epoch 22/100\n",
            " - 4s - loss: 0.3051 - acc: 0.8869 - val_loss: 0.2852 - val_acc: 0.8965\n",
            "Epoch 23/100\n",
            " - 4s - loss: 0.3070 - acc: 0.8866 - val_loss: 0.2808 - val_acc: 0.8969\n",
            "Epoch 24/100\n",
            " - 4s - loss: 0.3019 - acc: 0.8883 - val_loss: 0.2800 - val_acc: 0.8978\n",
            "Epoch 25/100\n",
            " - 4s - loss: 0.2995 - acc: 0.8892 - val_loss: 0.2814 - val_acc: 0.8982\n",
            "Epoch 26/100\n",
            " - 4s - loss: 0.2959 - acc: 0.8895 - val_loss: 0.2744 - val_acc: 0.9010\n",
            "Epoch 27/100\n",
            " - 4s - loss: 0.2959 - acc: 0.8909 - val_loss: 0.2760 - val_acc: 0.8990\n",
            "Epoch 28/100\n",
            " - 4s - loss: 0.2956 - acc: 0.8920 - val_loss: 0.2730 - val_acc: 0.9013\n",
            "Epoch 29/100\n",
            " - 4s - loss: 0.2923 - acc: 0.8917 - val_loss: 0.2695 - val_acc: 0.9003\n",
            "Epoch 30/100\n",
            " - 4s - loss: 0.2899 - acc: 0.8926 - val_loss: 0.2699 - val_acc: 0.9015\n",
            "Epoch 31/100\n",
            " - 4s - loss: 0.2877 - acc: 0.8946 - val_loss: 0.2668 - val_acc: 0.9022\n",
            "Epoch 32/100\n",
            " - 4s - loss: 0.2852 - acc: 0.8951 - val_loss: 0.2686 - val_acc: 0.9017\n",
            "Epoch 33/100\n",
            " - 4s - loss: 0.2820 - acc: 0.8965 - val_loss: 0.2654 - val_acc: 0.9034\n",
            "Epoch 34/100\n"
          ],
          "name": "stdout"
        },
        {
          "output_type": "stream",
          "text": [
            " - 4s - loss: 0.2812 - acc: 0.8952 - val_loss: 0.2650 - val_acc: 0.9023\n",
            "Epoch 35/100\n",
            " - 4s - loss: 0.2796 - acc: 0.8969 - val_loss: 0.2659 - val_acc: 0.9047\n",
            "Epoch 36/100\n",
            " - 4s - loss: 0.2796 - acc: 0.8960 - val_loss: 0.2640 - val_acc: 0.9052\n",
            "Epoch 37/100\n",
            " - 4s - loss: 0.2799 - acc: 0.8954 - val_loss: 0.2608 - val_acc: 0.9034\n",
            "Epoch 38/100\n",
            " - 4s - loss: 0.2770 - acc: 0.8976 - val_loss: 0.2608 - val_acc: 0.9045\n",
            "Epoch 39/100\n",
            " - 4s - loss: 0.2748 - acc: 0.8979 - val_loss: 0.2585 - val_acc: 0.9070\n",
            "Epoch 40/100\n",
            " - 4s - loss: 0.2734 - acc: 0.8984 - val_loss: 0.2577 - val_acc: 0.9059\n",
            "Epoch 41/100\n",
            " - 4s - loss: 0.2699 - acc: 0.9002 - val_loss: 0.2564 - val_acc: 0.9074\n",
            "Epoch 42/100\n",
            " - 4s - loss: 0.2704 - acc: 0.8996 - val_loss: 0.2570 - val_acc: 0.9068\n",
            "Epoch 43/100\n",
            " - 4s - loss: 0.2672 - acc: 0.9021 - val_loss: 0.2550 - val_acc: 0.9065\n",
            "Epoch 44/100\n",
            " - 4s - loss: 0.2672 - acc: 0.9008 - val_loss: 0.2586 - val_acc: 0.9055\n",
            "Epoch 45/100\n",
            " - 4s - loss: 0.2669 - acc: 0.9011 - val_loss: 0.2538 - val_acc: 0.9077\n",
            "Epoch 46/100\n",
            " - 4s - loss: 0.2640 - acc: 0.9026 - val_loss: 0.2536 - val_acc: 0.9074\n",
            "Epoch 47/100\n",
            " - 4s - loss: 0.2638 - acc: 0.9022 - val_loss: 0.2506 - val_acc: 0.9083\n",
            "Epoch 48/100\n",
            " - 4s - loss: 0.2630 - acc: 0.9028 - val_loss: 0.2493 - val_acc: 0.9081\n",
            "Epoch 49/100\n",
            " - 4s - loss: 0.2633 - acc: 0.9014 - val_loss: 0.2524 - val_acc: 0.9090\n",
            "Epoch 50/100\n",
            " - 4s - loss: 0.2581 - acc: 0.9034 - val_loss: 0.2552 - val_acc: 0.9078\n",
            "Epoch 51/100\n",
            " - 4s - loss: 0.2616 - acc: 0.9023 - val_loss: 0.2522 - val_acc: 0.9089\n",
            "Epoch 52/100\n",
            " - 4s - loss: 0.2583 - acc: 0.9046 - val_loss: 0.2519 - val_acc: 0.9086\n",
            "Epoch 53/100\n",
            " - 4s - loss: 0.2582 - acc: 0.9045 - val_loss: 0.2498 - val_acc: 0.9079\n",
            "Epoch 54/100\n",
            " - 4s - loss: 0.2571 - acc: 0.9052 - val_loss: 0.2491 - val_acc: 0.9090\n",
            "Epoch 55/100\n",
            " - 4s - loss: 0.2573 - acc: 0.9042 - val_loss: 0.2471 - val_acc: 0.9096\n",
            "Epoch 56/100\n",
            " - 4s - loss: 0.2545 - acc: 0.9051 - val_loss: 0.2516 - val_acc: 0.9074\n",
            "Epoch 57/100\n",
            " - 4s - loss: 0.2566 - acc: 0.9058 - val_loss: 0.2464 - val_acc: 0.9087\n",
            "Epoch 58/100\n",
            " - 4s - loss: 0.2525 - acc: 0.9065 - val_loss: 0.2462 - val_acc: 0.9095\n",
            "Epoch 59/100\n",
            " - 4s - loss: 0.2524 - acc: 0.9061 - val_loss: 0.2463 - val_acc: 0.9100\n",
            "Epoch 60/100\n",
            " - 4s - loss: 0.2514 - acc: 0.9066 - val_loss: 0.2443 - val_acc: 0.9103\n",
            "Epoch 61/100\n",
            " - 4s - loss: 0.2503 - acc: 0.9073 - val_loss: 0.2448 - val_acc: 0.9114\n",
            "Epoch 62/100\n",
            " - 4s - loss: 0.2492 - acc: 0.9080 - val_loss: 0.2435 - val_acc: 0.9112\n",
            "Epoch 63/100\n",
            " - 4s - loss: 0.2515 - acc: 0.9062 - val_loss: 0.2442 - val_acc: 0.9120\n",
            "Epoch 64/100\n",
            " - 4s - loss: 0.2499 - acc: 0.9073 - val_loss: 0.2417 - val_acc: 0.9118\n",
            "Epoch 65/100\n",
            " - 4s - loss: 0.2499 - acc: 0.9070 - val_loss: 0.2424 - val_acc: 0.9104\n",
            "Epoch 66/100\n",
            " - 4s - loss: 0.2473 - acc: 0.9086 - val_loss: 0.2422 - val_acc: 0.9104\n",
            "Epoch 67/100\n",
            " - 4s - loss: 0.2445 - acc: 0.9094 - val_loss: 0.2413 - val_acc: 0.9111\n"
          ],
          "name": "stdout"
        },
        {
          "output_type": "stream",
          "text": [
            "Epoch 68/100\n",
            " - 4s - loss: 0.2469 - acc: 0.9085 - val_loss: 0.2409 - val_acc: 0.9102\n",
            "Epoch 69/100\n",
            " - 4s - loss: 0.2440 - acc: 0.9085 - val_loss: 0.2403 - val_acc: 0.9120\n",
            "Epoch 70/100\n",
            " - 4s - loss: 0.2437 - acc: 0.9091 - val_loss: 0.2398 - val_acc: 0.9126\n",
            "Epoch 71/100\n",
            " - 4s - loss: 0.2428 - acc: 0.9089 - val_loss: 0.2377 - val_acc: 0.9134\n",
            "Epoch 72/100\n",
            " - 4s - loss: 0.2419 - acc: 0.9108 - val_loss: 0.2398 - val_acc: 0.9122\n",
            "Epoch 73/100\n",
            " - 4s - loss: 0.2417 - acc: 0.9105 - val_loss: 0.2380 - val_acc: 0.9125\n",
            "Epoch 74/100\n",
            " - 4s - loss: 0.2410 - acc: 0.9099 - val_loss: 0.2366 - val_acc: 0.9141\n",
            "Epoch 75/100\n",
            " - 5s - loss: 0.2407 - acc: 0.9111 - val_loss: 0.2361 - val_acc: 0.9146\n",
            "Epoch 76/100\n",
            " - 4s - loss: 0.2420 - acc: 0.9107 - val_loss: 0.2391 - val_acc: 0.9111\n",
            "Epoch 77/100\n",
            " - 4s - loss: 0.2374 - acc: 0.9118 - val_loss: 0.2363 - val_acc: 0.9126\n",
            "Epoch 78/100\n",
            " - 4s - loss: 0.2378 - acc: 0.9120 - val_loss: 0.2367 - val_acc: 0.9129\n",
            "Epoch 79/100\n",
            " - 4s - loss: 0.2384 - acc: 0.9113 - val_loss: 0.2374 - val_acc: 0.9115\n",
            "Epoch 80/100\n",
            " - 4s - loss: 0.2375 - acc: 0.9114 - val_loss: 0.2361 - val_acc: 0.9137\n",
            "Epoch 81/100\n",
            " - 4s - loss: 0.2352 - acc: 0.9122 - val_loss: 0.2373 - val_acc: 0.9139\n",
            "Epoch 82/100\n",
            " - 4s - loss: 0.2379 - acc: 0.9111 - val_loss: 0.2351 - val_acc: 0.9138\n",
            "Epoch 83/100\n",
            " - 4s - loss: 0.2366 - acc: 0.9119 - val_loss: 0.2351 - val_acc: 0.9146\n",
            "Epoch 84/100\n",
            " - 4s - loss: 0.2353 - acc: 0.9125 - val_loss: 0.2338 - val_acc: 0.9151\n",
            "Epoch 85/100\n",
            " - 4s - loss: 0.2356 - acc: 0.9124 - val_loss: 0.2364 - val_acc: 0.9119\n",
            "Epoch 86/100\n",
            " - 4s - loss: 0.2352 - acc: 0.9107 - val_loss: 0.2355 - val_acc: 0.9131\n",
            "Epoch 87/100\n",
            " - 4s - loss: 0.2338 - acc: 0.9118 - val_loss: 0.2337 - val_acc: 0.9145\n",
            "Epoch 88/100\n",
            " - 4s - loss: 0.2353 - acc: 0.9114 - val_loss: 0.2338 - val_acc: 0.9139\n",
            "Epoch 89/100\n",
            " - 4s - loss: 0.2334 - acc: 0.9140 - val_loss: 0.2331 - val_acc: 0.9137\n",
            "Epoch 90/100\n",
            " - 4s - loss: 0.2326 - acc: 0.9142 - val_loss: 0.2334 - val_acc: 0.9146\n",
            "Epoch 91/100\n",
            " - 4s - loss: 0.2314 - acc: 0.9146 - val_loss: 0.2330 - val_acc: 0.9145\n",
            "Epoch 92/100\n",
            " - 4s - loss: 0.2302 - acc: 0.9148 - val_loss: 0.2331 - val_acc: 0.9142\n",
            "Epoch 93/100\n",
            " - 4s - loss: 0.2320 - acc: 0.9131 - val_loss: 0.2326 - val_acc: 0.9146\n",
            "Epoch 94/100\n",
            " - 4s - loss: 0.2291 - acc: 0.9157 - val_loss: 0.2326 - val_acc: 0.9154\n",
            "Epoch 95/100\n",
            " - 4s - loss: 0.2284 - acc: 0.9140 - val_loss: 0.2324 - val_acc: 0.9148\n",
            "Epoch 96/100\n",
            " - 4s - loss: 0.2274 - acc: 0.9149 - val_loss: 0.2320 - val_acc: 0.9147\n",
            "Epoch 97/100\n",
            " - 4s - loss: 0.2285 - acc: 0.9155 - val_loss: 0.2337 - val_acc: 0.9143\n",
            "Epoch 98/100\n",
            " - 4s - loss: 0.2308 - acc: 0.9148 - val_loss: 0.2303 - val_acc: 0.9152\n",
            "Epoch 99/100\n",
            " - 4s - loss: 0.2256 - acc: 0.9163 - val_loss: 0.2313 - val_acc: 0.9157\n",
            "Epoch 100/100\n",
            " - 4s - loss: 0.2292 - acc: 0.9150 - val_loss: 0.2291 - val_acc: 0.9158\n",
            "@ Total Time Spent: 432.70 seconds\n"
          ],
          "name": "stdout"
        }
      ]
    },
    {
      "metadata": {
        "id": "_lAKUxbVnG6c",
        "colab_type": "code",
        "colab": {
          "base_uri": "https://localhost:8080/",
          "height": 50
        },
        "outputId": "9d7a495e-d5f8-477c-af4e-9870aa00a63c"
      },
      "cell_type": "code",
      "source": [
        "train_loss_4, train_accuracy_4 = model_4.evaluate(X_train, Y_train, verbose=0)\n",
        "print(\"Training Accuracy = %.2f %%     loss = %f\" % (train_accuracy_4 * 100, train_loss_4))\n",
        "test_loss_4, test_accuracy_4 = model_4.evaluate(X_test,Y_test, verbose=0)\n",
        "print(\"Testing Accuracy = %.2f %%    loss = %f\" % (test_accuracy_4 * 100, test_loss_4))"
      ],
      "execution_count": 22,
      "outputs": [
        {
          "output_type": "stream",
          "text": [
            "Training Accuracy = 94.12 %     loss = 0.161481\n",
            "Testing Accuracy = 91.58 %    loss = 0.229073\n"
          ],
          "name": "stdout"
        }
      ]
    },
    {
      "metadata": {
        "id": "D8KU8KnNnRG7",
        "colab_type": "text"
      },
      "cell_type": "markdown",
      "source": [
        "### 3.5 Optimizer = RMSprop lr=0.001, rho=0.9"
      ]
    },
    {
      "metadata": {
        "id": "kA6zKwGtnZ9m",
        "colab_type": "code",
        "colab": {
          "base_uri": "https://localhost:8080/",
          "height": 37
        },
        "outputId": "5ab8e659-6ce1-4dca-dad9-ffd219841052"
      },
      "cell_type": "code",
      "source": [
        "RMSprop = optimizers.RMSprop(lr=0.001, rho=0.9, epsilon=None, decay=0.0)"
      ],
      "execution_count": 23,
      "outputs": []
    },
    {
      "metadata": {
        "id": "0a8YFZeCnfQO",
        "colab_type": "code",
        "colab": {
          "base_uri": "https://localhost:8080/",
          "height": 3410
        },
        "collapsed": true,
        "outputId": "6b2cf64e-2613-41e3-c941-0a24e98560df"
      },
      "cell_type": "code",
      "source": [
        "start = time.time()\n",
        "model_5 = model(RMSprop)\n",
        "model_5_history = model_5.fit(X_train, Y_train,\n",
        "                             batch_size = batch_size,\n",
        "                             epochs = epochs,\n",
        "                             verbose = 2,\n",
        "                             validation_data = (X_test,Y_test))\n",
        "print('@ Total Time Spent: %.2f seconds' %(time.time()-start))"
      ],
      "execution_count": 24,
      "outputs": [
        {
          "output_type": "stream",
          "text": [
            "Train on 60000 samples, validate on 10000 samples\n",
            "Epoch 1/100\n",
            " - 5s - loss: 0.7798 - acc: 0.7095 - val_loss: 0.4955 - val_acc: 0.8210\n",
            "Epoch 2/100\n",
            " - 4s - loss: 0.4792 - acc: 0.8219 - val_loss: 0.3960 - val_acc: 0.8544\n",
            "Epoch 3/100\n",
            " - 4s - loss: 0.4053 - acc: 0.8504 - val_loss: 0.3468 - val_acc: 0.8746\n",
            "Epoch 4/100\n",
            " - 4s - loss: 0.3654 - acc: 0.8648 - val_loss: 0.3154 - val_acc: 0.8864\n",
            "Epoch 5/100\n",
            " - 4s - loss: 0.3362 - acc: 0.8761 - val_loss: 0.3084 - val_acc: 0.8840\n",
            "Epoch 6/100\n",
            " - 4s - loss: 0.3172 - acc: 0.8834 - val_loss: 0.3051 - val_acc: 0.8875\n",
            "Epoch 7/100\n",
            " - 4s - loss: 0.3050 - acc: 0.8882 - val_loss: 0.2806 - val_acc: 0.8987\n",
            "Epoch 8/100\n",
            " - 4s - loss: 0.2960 - acc: 0.8918 - val_loss: 0.2792 - val_acc: 0.8977\n",
            "Epoch 9/100\n",
            " - 4s - loss: 0.2831 - acc: 0.8958 - val_loss: 0.2583 - val_acc: 0.9066\n",
            "Epoch 10/100\n",
            " - 4s - loss: 0.2778 - acc: 0.8989 - val_loss: 0.2773 - val_acc: 0.8992\n",
            "Epoch 11/100\n",
            " - 4s - loss: 0.2719 - acc: 0.8990 - val_loss: 0.2581 - val_acc: 0.9071\n",
            "Epoch 12/100\n",
            " - 4s - loss: 0.2671 - acc: 0.9015 - val_loss: 0.2523 - val_acc: 0.9063\n",
            "Epoch 13/100\n",
            " - 4s - loss: 0.2608 - acc: 0.9050 - val_loss: 0.2448 - val_acc: 0.9115\n",
            "Epoch 14/100\n",
            " - 4s - loss: 0.2567 - acc: 0.9057 - val_loss: 0.2446 - val_acc: 0.9102\n",
            "Epoch 15/100\n",
            " - 4s - loss: 0.2541 - acc: 0.9071 - val_loss: 0.2524 - val_acc: 0.9036\n",
            "Epoch 16/100\n",
            " - 4s - loss: 0.2504 - acc: 0.9088 - val_loss: 0.2386 - val_acc: 0.9120\n",
            "Epoch 17/100\n",
            " - 4s - loss: 0.2483 - acc: 0.9093 - val_loss: 0.2515 - val_acc: 0.9106\n",
            "Epoch 18/100\n",
            " - 4s - loss: 0.2447 - acc: 0.9122 - val_loss: 0.2338 - val_acc: 0.9139\n",
            "Epoch 19/100\n",
            " - 4s - loss: 0.2439 - acc: 0.9107 - val_loss: 0.2631 - val_acc: 0.9036\n",
            "Epoch 20/100\n",
            " - 4s - loss: 0.2406 - acc: 0.9120 - val_loss: 0.2397 - val_acc: 0.9127\n",
            "Epoch 21/100\n",
            " - 4s - loss: 0.2391 - acc: 0.9125 - val_loss: 0.2412 - val_acc: 0.9135\n",
            "Epoch 22/100\n",
            " - 4s - loss: 0.2390 - acc: 0.9133 - val_loss: 0.2335 - val_acc: 0.9174\n",
            "Epoch 23/100\n",
            " - 4s - loss: 0.2367 - acc: 0.9138 - val_loss: 0.2280 - val_acc: 0.9166\n",
            "Epoch 24/100\n",
            " - 4s - loss: 0.2350 - acc: 0.9140 - val_loss: 0.2404 - val_acc: 0.9119\n",
            "Epoch 25/100\n",
            " - 4s - loss: 0.2338 - acc: 0.9155 - val_loss: 0.2322 - val_acc: 0.9156\n",
            "Epoch 26/100\n",
            " - 4s - loss: 0.2346 - acc: 0.9159 - val_loss: 0.2343 - val_acc: 0.9137\n",
            "Epoch 27/100\n",
            " - 4s - loss: 0.2347 - acc: 0.9145 - val_loss: 0.2447 - val_acc: 0.9110\n",
            "Epoch 28/100\n",
            " - 4s - loss: 0.2327 - acc: 0.9150 - val_loss: 0.2314 - val_acc: 0.9177\n",
            "Epoch 29/100\n",
            " - 4s - loss: 0.2290 - acc: 0.9162 - val_loss: 0.2458 - val_acc: 0.9086\n",
            "Epoch 30/100\n",
            " - 4s - loss: 0.2301 - acc: 0.9164 - val_loss: 0.2323 - val_acc: 0.9150\n",
            "Epoch 31/100\n",
            " - 4s - loss: 0.2308 - acc: 0.9176 - val_loss: 0.2600 - val_acc: 0.9003\n",
            "Epoch 32/100\n",
            " - 5s - loss: 0.2308 - acc: 0.9179 - val_loss: 0.2367 - val_acc: 0.9136\n",
            "Epoch 33/100\n",
            " - 4s - loss: 0.2286 - acc: 0.9176 - val_loss: 0.2528 - val_acc: 0.9115\n",
            "Epoch 34/100\n"
          ],
          "name": "stdout"
        },
        {
          "output_type": "stream",
          "text": [
            " - 4s - loss: 0.2301 - acc: 0.9170 - val_loss: 0.2384 - val_acc: 0.9151\n",
            "Epoch 35/100\n",
            " - 4s - loss: 0.2287 - acc: 0.9173 - val_loss: 0.2360 - val_acc: 0.9175\n",
            "Epoch 36/100\n",
            " - 4s - loss: 0.2268 - acc: 0.9205 - val_loss: 0.2310 - val_acc: 0.9183\n",
            "Epoch 37/100\n",
            " - 4s - loss: 0.2276 - acc: 0.9181 - val_loss: 0.2276 - val_acc: 0.9163\n",
            "Epoch 38/100\n",
            " - 4s - loss: 0.2266 - acc: 0.9185 - val_loss: 0.2279 - val_acc: 0.9160\n",
            "Epoch 39/100\n",
            " - 4s - loss: 0.2281 - acc: 0.9191 - val_loss: 0.2281 - val_acc: 0.9182\n",
            "Epoch 40/100\n",
            " - 4s - loss: 0.2286 - acc: 0.9192 - val_loss: 0.2326 - val_acc: 0.9145\n",
            "Epoch 41/100\n",
            " - 4s - loss: 0.2312 - acc: 0.9188 - val_loss: 0.2304 - val_acc: 0.9175\n",
            "Epoch 42/100\n",
            " - 5s - loss: 0.2286 - acc: 0.9189 - val_loss: 0.2306 - val_acc: 0.9212\n",
            "Epoch 43/100\n",
            " - 4s - loss: 0.2292 - acc: 0.9173 - val_loss: 0.2319 - val_acc: 0.9201\n",
            "Epoch 44/100\n",
            " - 4s - loss: 0.2297 - acc: 0.9178 - val_loss: 0.2372 - val_acc: 0.9156\n",
            "Epoch 45/100\n",
            " - 4s - loss: 0.2289 - acc: 0.9179 - val_loss: 0.2624 - val_acc: 0.9130\n",
            "Epoch 46/100\n",
            " - 4s - loss: 0.2300 - acc: 0.9180 - val_loss: 0.2403 - val_acc: 0.9177\n",
            "Epoch 47/100\n",
            " - 4s - loss: 0.2271 - acc: 0.9185 - val_loss: 0.2241 - val_acc: 0.9208\n",
            "Epoch 48/100\n",
            " - 4s - loss: 0.2287 - acc: 0.9189 - val_loss: 0.2457 - val_acc: 0.9177\n",
            "Epoch 49/100\n",
            " - 4s - loss: 0.2260 - acc: 0.9187 - val_loss: 0.2260 - val_acc: 0.9181\n",
            "Epoch 50/100\n",
            " - 4s - loss: 0.2320 - acc: 0.9170 - val_loss: 0.2207 - val_acc: 0.9196\n",
            "Epoch 51/100\n",
            " - 4s - loss: 0.2257 - acc: 0.9198 - val_loss: 0.2400 - val_acc: 0.9145\n",
            "Epoch 52/100\n",
            " - 4s - loss: 0.2279 - acc: 0.9190 - val_loss: 0.2591 - val_acc: 0.9127\n",
            "Epoch 53/100\n",
            " - 4s - loss: 0.2313 - acc: 0.9191 - val_loss: 0.2295 - val_acc: 0.9184\n",
            "Epoch 54/100\n",
            " - 4s - loss: 0.2307 - acc: 0.9192 - val_loss: 0.2323 - val_acc: 0.9182\n",
            "Epoch 55/100\n",
            " - 4s - loss: 0.2302 - acc: 0.9183 - val_loss: 0.3268 - val_acc: 0.9089\n",
            "Epoch 56/100\n",
            " - 4s - loss: 0.2295 - acc: 0.9192 - val_loss: 0.2483 - val_acc: 0.9170\n",
            "Epoch 57/100\n",
            " - 4s - loss: 0.2341 - acc: 0.9186 - val_loss: 0.2432 - val_acc: 0.9181\n",
            "Epoch 58/100\n",
            " - 4s - loss: 0.2344 - acc: 0.9180 - val_loss: 0.2406 - val_acc: 0.9187\n",
            "Epoch 59/100\n",
            " - 4s - loss: 0.2320 - acc: 0.9182 - val_loss: 0.2480 - val_acc: 0.9103\n",
            "Epoch 60/100\n",
            " - 4s - loss: 0.2319 - acc: 0.9169 - val_loss: 0.2332 - val_acc: 0.9189\n",
            "Epoch 61/100\n",
            " - 4s - loss: 0.2351 - acc: 0.9179 - val_loss: 0.2458 - val_acc: 0.9119\n",
            "Epoch 62/100\n",
            " - 4s - loss: 0.2350 - acc: 0.9176 - val_loss: 0.2574 - val_acc: 0.9179\n",
            "Epoch 63/100\n",
            " - 4s - loss: 0.2344 - acc: 0.9165 - val_loss: 0.2553 - val_acc: 0.9184\n",
            "Epoch 64/100\n",
            " - 4s - loss: 0.2338 - acc: 0.9182 - val_loss: 0.2244 - val_acc: 0.9208\n",
            "Epoch 65/100\n",
            " - 4s - loss: 0.2364 - acc: 0.9169 - val_loss: 0.2505 - val_acc: 0.9130\n",
            "Epoch 66/100\n",
            " - 4s - loss: 0.2348 - acc: 0.9174 - val_loss: 0.2916 - val_acc: 0.9019\n",
            "Epoch 67/100\n",
            " - 4s - loss: 0.2362 - acc: 0.9165 - val_loss: 0.2669 - val_acc: 0.9133\n"
          ],
          "name": "stdout"
        },
        {
          "output_type": "stream",
          "text": [
            "Epoch 68/100\n",
            " - 4s - loss: 0.2339 - acc: 0.9184 - val_loss: 0.2746 - val_acc: 0.9004\n",
            "Epoch 69/100\n",
            " - 4s - loss: 0.2351 - acc: 0.9166 - val_loss: 0.2799 - val_acc: 0.9133\n",
            "Epoch 70/100\n",
            " - 4s - loss: 0.2357 - acc: 0.9183 - val_loss: 0.2330 - val_acc: 0.9167\n",
            "Epoch 71/100\n",
            " - 4s - loss: 0.2369 - acc: 0.9167 - val_loss: 0.2370 - val_acc: 0.9110\n",
            "Epoch 72/100\n",
            " - 4s - loss: 0.2369 - acc: 0.9159 - val_loss: 0.2669 - val_acc: 0.9120\n",
            "Epoch 73/100\n",
            " - 4s - loss: 0.2394 - acc: 0.9168 - val_loss: 0.2451 - val_acc: 0.9122\n",
            "Epoch 74/100\n",
            " - 4s - loss: 0.2417 - acc: 0.9163 - val_loss: 0.2431 - val_acc: 0.9122\n",
            "Epoch 75/100\n",
            " - 4s - loss: 0.2370 - acc: 0.9179 - val_loss: 0.2520 - val_acc: 0.9176\n",
            "Epoch 76/100\n",
            " - 4s - loss: 0.2393 - acc: 0.9168 - val_loss: 0.2504 - val_acc: 0.9154\n",
            "Epoch 77/100\n",
            " - 4s - loss: 0.2434 - acc: 0.9138 - val_loss: 0.2367 - val_acc: 0.9142\n",
            "Epoch 78/100\n",
            " - 4s - loss: 0.2383 - acc: 0.9160 - val_loss: 0.2424 - val_acc: 0.9153\n",
            "Epoch 79/100\n",
            " - 4s - loss: 0.2418 - acc: 0.9167 - val_loss: 0.2702 - val_acc: 0.9128\n",
            "Epoch 80/100\n",
            " - 4s - loss: 0.2386 - acc: 0.9174 - val_loss: 0.2800 - val_acc: 0.9177\n",
            "Epoch 81/100\n",
            " - 4s - loss: 0.2418 - acc: 0.9157 - val_loss: 0.2758 - val_acc: 0.9156\n",
            "Epoch 82/100\n",
            " - 4s - loss: 0.2379 - acc: 0.9163 - val_loss: 0.2672 - val_acc: 0.9148\n",
            "Epoch 83/100\n",
            " - 4s - loss: 0.2441 - acc: 0.9163 - val_loss: 0.2650 - val_acc: 0.9121\n",
            "Epoch 84/100\n",
            " - 4s - loss: 0.2430 - acc: 0.9151 - val_loss: 0.2504 - val_acc: 0.9099\n",
            "Epoch 85/100\n",
            " - 4s - loss: 0.2437 - acc: 0.9166 - val_loss: 0.2643 - val_acc: 0.9086\n",
            "Epoch 86/100\n",
            " - 4s - loss: 0.2432 - acc: 0.9150 - val_loss: 0.2664 - val_acc: 0.9039\n",
            "Epoch 87/100\n",
            " - 5s - loss: 0.2457 - acc: 0.9153 - val_loss: 0.2421 - val_acc: 0.9162\n",
            "Epoch 88/100\n",
            " - 4s - loss: 0.2452 - acc: 0.9143 - val_loss: 0.2526 - val_acc: 0.9140\n",
            "Epoch 89/100\n",
            " - 4s - loss: 0.2451 - acc: 0.9148 - val_loss: 0.2644 - val_acc: 0.9129\n",
            "Epoch 90/100\n",
            " - 4s - loss: 0.2389 - acc: 0.9154 - val_loss: 0.2673 - val_acc: 0.9118\n",
            "Epoch 91/100\n",
            " - 4s - loss: 0.2425 - acc: 0.9155 - val_loss: 0.2611 - val_acc: 0.9139\n",
            "Epoch 92/100\n",
            " - 4s - loss: 0.2457 - acc: 0.9148 - val_loss: 0.2466 - val_acc: 0.9151\n",
            "Epoch 93/100\n",
            " - 4s - loss: 0.2459 - acc: 0.9147 - val_loss: 0.2807 - val_acc: 0.9038\n",
            "Epoch 94/100\n",
            " - 4s - loss: 0.2453 - acc: 0.9152 - val_loss: 0.2404 - val_acc: 0.9110\n",
            "Epoch 95/100\n",
            " - 4s - loss: 0.2497 - acc: 0.9136 - val_loss: 0.2729 - val_acc: 0.9115\n",
            "Epoch 96/100\n",
            " - 4s - loss: 0.2505 - acc: 0.9134 - val_loss: 0.2439 - val_acc: 0.9151\n",
            "Epoch 97/100\n",
            " - 4s - loss: 0.2512 - acc: 0.9135 - val_loss: 0.2703 - val_acc: 0.9109\n",
            "Epoch 98/100\n",
            " - 4s - loss: 0.2497 - acc: 0.9123 - val_loss: 0.2408 - val_acc: 0.9131\n",
            "Epoch 99/100\n",
            " - 4s - loss: 0.2524 - acc: 0.9129 - val_loss: 0.3230 - val_acc: 0.9084\n",
            "Epoch 100/100\n",
            " - 4s - loss: 0.2497 - acc: 0.9137 - val_loss: 0.2752 - val_acc: 0.9074\n",
            "@ Total Time Spent: 438.85 seconds\n"
          ],
          "name": "stdout"
        }
      ]
    },
    {
      "metadata": {
        "id": "8B9PJpA-nnNy",
        "colab_type": "code",
        "colab": {
          "base_uri": "https://localhost:8080/",
          "height": 50
        },
        "outputId": "d610bad8-9f0d-4ec9-ab3f-8874a7d7ac1f"
      },
      "cell_type": "code",
      "source": [
        "train_loss_5, train_accuracy_5 = model_5.evaluate(X_train, Y_train, verbose=0)\n",
        "print(\"Training Accuracy = %.2f %%     loss = %f\" % (train_accuracy_5 * 100, train_loss_5))\n",
        "test_loss_5, test_accuracy_5 = model_5.evaluate(X_test, Y_test, verbose=0)\n",
        "print(\"Testing Accuracy = %.2f %%    loss = %f\" % (test_accuracy_5 * 100, test_loss_5))"
      ],
      "execution_count": 25,
      "outputs": [
        {
          "output_type": "stream",
          "text": [
            "Training Accuracy = 93.25 %     loss = 0.223634\n",
            "Testing Accuracy = 90.74 %    loss = 0.275218\n"
          ],
          "name": "stdout"
        }
      ]
    },
    {
      "metadata": {
        "id": "Sw10K4fAn8ZN",
        "colab_type": "text"
      },
      "cell_type": "markdown",
      "source": [
        "### 3.6 Optimizer = Adam lr=0.001, beta_1=0.9, beta_2=0.999, epsilon=None, decay=0.0, amsgrad=False"
      ]
    },
    {
      "metadata": {
        "id": "JhcPoNIdn_m-",
        "colab_type": "code",
        "colab": {
          "base_uri": "https://localhost:8080/",
          "height": 37
        },
        "outputId": "13298c86-90be-4585-edab-59c536b7ff38"
      },
      "cell_type": "code",
      "source": [
        "Adam = optimizers.Adam(lr=0.001, beta_1=0.9, beta_2=0.999, epsilon=None, decay=0.0, amsgrad=False)"
      ],
      "execution_count": 26,
      "outputs": []
    },
    {
      "metadata": {
        "id": "xHN_efc3oT_c",
        "colab_type": "code",
        "colab": {
          "base_uri": "https://localhost:8080/",
          "height": 3410
        },
        "collapsed": true,
        "outputId": "758f62a1-17eb-41ad-d95e-f3add152c00a"
      },
      "cell_type": "code",
      "source": [
        "start = time.time()\n",
        "model_6 = model(Adam)\n",
        "model_6_history = model_6.fit(X_train, Y_train,\n",
        "                             batch_size = batch_size,\n",
        "                             epochs = epochs,\n",
        "                             verbose = 2,\n",
        "                             validation_data = (X_test,Y_test))\n",
        "print('@ Total Time Spent: %.2f seconds' %(time.time()-start))"
      ],
      "execution_count": 27,
      "outputs": [
        {
          "output_type": "stream",
          "text": [
            "Train on 60000 samples, validate on 10000 samples\n",
            "Epoch 1/100\n",
            " - 5s - loss: 0.7751 - acc: 0.7109 - val_loss: 0.4854 - val_acc: 0.8281\n",
            "Epoch 2/100\n",
            " - 5s - loss: 0.4754 - acc: 0.8242 - val_loss: 0.3868 - val_acc: 0.8622\n",
            "Epoch 3/100\n",
            " - 5s - loss: 0.4081 - acc: 0.8508 - val_loss: 0.3417 - val_acc: 0.8798\n",
            "Epoch 4/100\n",
            " - 5s - loss: 0.3738 - acc: 0.8646 - val_loss: 0.3202 - val_acc: 0.8837\n",
            "Epoch 5/100\n",
            " - 4s - loss: 0.3443 - acc: 0.8751 - val_loss: 0.3019 - val_acc: 0.8910\n",
            "Epoch 6/100\n",
            " - 5s - loss: 0.3266 - acc: 0.8809 - val_loss: 0.2905 - val_acc: 0.8918\n",
            "Epoch 7/100\n",
            " - 5s - loss: 0.3100 - acc: 0.8860 - val_loss: 0.2741 - val_acc: 0.9015\n",
            "Epoch 8/100\n",
            " - 5s - loss: 0.3000 - acc: 0.8906 - val_loss: 0.2682 - val_acc: 0.8995\n",
            "Epoch 9/100\n",
            " - 4s - loss: 0.2909 - acc: 0.8926 - val_loss: 0.2679 - val_acc: 0.9019\n",
            "Epoch 10/100\n",
            " - 5s - loss: 0.2829 - acc: 0.8960 - val_loss: 0.2592 - val_acc: 0.9029\n",
            "Epoch 11/100\n",
            " - 5s - loss: 0.2750 - acc: 0.8985 - val_loss: 0.2510 - val_acc: 0.9057\n",
            "Epoch 12/100\n",
            " - 5s - loss: 0.2690 - acc: 0.9020 - val_loss: 0.2502 - val_acc: 0.9067\n",
            "Epoch 13/100\n",
            " - 5s - loss: 0.2628 - acc: 0.9022 - val_loss: 0.2467 - val_acc: 0.9082\n",
            "Epoch 14/100\n",
            " - 5s - loss: 0.2548 - acc: 0.9057 - val_loss: 0.2428 - val_acc: 0.9110\n",
            "Epoch 15/100\n",
            " - 5s - loss: 0.2528 - acc: 0.9060 - val_loss: 0.2446 - val_acc: 0.9093\n",
            "Epoch 16/100\n",
            " - 5s - loss: 0.2491 - acc: 0.9074 - val_loss: 0.2372 - val_acc: 0.9123\n",
            "Epoch 17/100\n",
            " - 5s - loss: 0.2470 - acc: 0.9089 - val_loss: 0.2322 - val_acc: 0.9145\n",
            "Epoch 18/100\n",
            " - 4s - loss: 0.2391 - acc: 0.9109 - val_loss: 0.2315 - val_acc: 0.9162\n",
            "Epoch 19/100\n",
            " - 5s - loss: 0.2424 - acc: 0.9095 - val_loss: 0.2314 - val_acc: 0.9147\n",
            "Epoch 20/100\n",
            " - 5s - loss: 0.2331 - acc: 0.9137 - val_loss: 0.2266 - val_acc: 0.9177\n",
            "Epoch 21/100\n",
            " - 4s - loss: 0.2318 - acc: 0.9136 - val_loss: 0.2330 - val_acc: 0.9151\n",
            "Epoch 22/100\n",
            " - 5s - loss: 0.2320 - acc: 0.9143 - val_loss: 0.2365 - val_acc: 0.9132\n",
            "Epoch 23/100\n",
            " - 5s - loss: 0.2281 - acc: 0.9142 - val_loss: 0.2256 - val_acc: 0.9180\n",
            "Epoch 24/100\n",
            " - 5s - loss: 0.2223 - acc: 0.9164 - val_loss: 0.2368 - val_acc: 0.9124\n",
            "Epoch 25/100\n",
            " - 5s - loss: 0.2200 - acc: 0.9190 - val_loss: 0.2240 - val_acc: 0.9203\n",
            "Epoch 26/100\n",
            " - 5s - loss: 0.2161 - acc: 0.9190 - val_loss: 0.2254 - val_acc: 0.9186\n",
            "Epoch 27/100\n",
            " - 5s - loss: 0.2149 - acc: 0.9194 - val_loss: 0.2222 - val_acc: 0.9209\n",
            "Epoch 28/100\n",
            " - 5s - loss: 0.2140 - acc: 0.9203 - val_loss: 0.2218 - val_acc: 0.9187\n",
            "Epoch 29/100\n",
            " - 5s - loss: 0.2140 - acc: 0.9196 - val_loss: 0.2248 - val_acc: 0.9157\n",
            "Epoch 30/100\n",
            " - 4s - loss: 0.2125 - acc: 0.9199 - val_loss: 0.2239 - val_acc: 0.9191\n",
            "Epoch 31/100\n",
            " - 4s - loss: 0.2081 - acc: 0.9217 - val_loss: 0.2217 - val_acc: 0.9203\n",
            "Epoch 32/100\n",
            " - 5s - loss: 0.2083 - acc: 0.9219 - val_loss: 0.2181 - val_acc: 0.9226\n",
            "Epoch 33/100\n",
            " - 5s - loss: 0.2058 - acc: 0.9228 - val_loss: 0.2218 - val_acc: 0.9192\n",
            "Epoch 34/100\n"
          ],
          "name": "stdout"
        },
        {
          "output_type": "stream",
          "text": [
            " - 5s - loss: 0.2005 - acc: 0.9245 - val_loss: 0.2190 - val_acc: 0.9212\n",
            "Epoch 35/100\n",
            " - 4s - loss: 0.2023 - acc: 0.9233 - val_loss: 0.2229 - val_acc: 0.9184\n",
            "Epoch 36/100\n",
            " - 5s - loss: 0.2020 - acc: 0.9245 - val_loss: 0.2199 - val_acc: 0.9223\n",
            "Epoch 37/100\n",
            " - 4s - loss: 0.2021 - acc: 0.9244 - val_loss: 0.2186 - val_acc: 0.9212\n",
            "Epoch 38/100\n",
            " - 5s - loss: 0.2004 - acc: 0.9250 - val_loss: 0.2183 - val_acc: 0.9217\n",
            "Epoch 39/100\n",
            " - 4s - loss: 0.1981 - acc: 0.9262 - val_loss: 0.2182 - val_acc: 0.9195\n",
            "Epoch 40/100\n",
            " - 5s - loss: 0.1958 - acc: 0.9268 - val_loss: 0.2165 - val_acc: 0.9230\n",
            "Epoch 41/100\n",
            " - 5s - loss: 0.1985 - acc: 0.9261 - val_loss: 0.2187 - val_acc: 0.9226\n",
            "Epoch 42/100\n",
            " - 5s - loss: 0.1938 - acc: 0.9272 - val_loss: 0.2191 - val_acc: 0.9202\n",
            "Epoch 43/100\n",
            " - 4s - loss: 0.1928 - acc: 0.9271 - val_loss: 0.2171 - val_acc: 0.9241\n",
            "Epoch 44/100\n",
            " - 5s - loss: 0.1909 - acc: 0.9273 - val_loss: 0.2171 - val_acc: 0.9234\n",
            "Epoch 45/100\n",
            " - 4s - loss: 0.1882 - acc: 0.9287 - val_loss: 0.2171 - val_acc: 0.9232\n",
            "Epoch 46/100\n",
            " - 5s - loss: 0.1883 - acc: 0.9299 - val_loss: 0.2206 - val_acc: 0.9229\n",
            "Epoch 47/100\n",
            " - 5s - loss: 0.1865 - acc: 0.9305 - val_loss: 0.2206 - val_acc: 0.9234\n",
            "Epoch 48/100\n",
            " - 4s - loss: 0.1886 - acc: 0.9289 - val_loss: 0.2221 - val_acc: 0.9211\n",
            "Epoch 49/100\n",
            " - 4s - loss: 0.1869 - acc: 0.9289 - val_loss: 0.2100 - val_acc: 0.9261\n",
            "Epoch 50/100\n",
            " - 5s - loss: 0.1866 - acc: 0.9292 - val_loss: 0.2186 - val_acc: 0.9235\n",
            "Epoch 51/100\n",
            " - 4s - loss: 0.1869 - acc: 0.9294 - val_loss: 0.2158 - val_acc: 0.9263\n",
            "Epoch 52/100\n",
            " - 4s - loss: 0.1828 - acc: 0.9313 - val_loss: 0.2245 - val_acc: 0.9206\n",
            "Epoch 53/100\n",
            " - 4s - loss: 0.1849 - acc: 0.9302 - val_loss: 0.2152 - val_acc: 0.9268\n",
            "Epoch 54/100\n",
            " - 5s - loss: 0.1842 - acc: 0.9307 - val_loss: 0.2163 - val_acc: 0.9240\n",
            "Epoch 55/100\n",
            " - 4s - loss: 0.1833 - acc: 0.9306 - val_loss: 0.2126 - val_acc: 0.9277\n",
            "Epoch 56/100\n",
            " - 5s - loss: 0.1811 - acc: 0.9317 - val_loss: 0.2102 - val_acc: 0.9270\n",
            "Epoch 57/100\n",
            " - 4s - loss: 0.1800 - acc: 0.9325 - val_loss: 0.2181 - val_acc: 0.9267\n",
            "Epoch 58/100\n",
            " - 5s - loss: 0.1798 - acc: 0.9318 - val_loss: 0.2145 - val_acc: 0.9256\n",
            "Epoch 59/100\n",
            " - 5s - loss: 0.1788 - acc: 0.9328 - val_loss: 0.2196 - val_acc: 0.9239\n",
            "Epoch 60/100\n",
            " - 4s - loss: 0.1764 - acc: 0.9324 - val_loss: 0.2185 - val_acc: 0.9243\n",
            "Epoch 61/100\n",
            " - 5s - loss: 0.1803 - acc: 0.9317 - val_loss: 0.2153 - val_acc: 0.9264\n",
            "Epoch 62/100\n",
            " - 5s - loss: 0.1789 - acc: 0.9325 - val_loss: 0.2186 - val_acc: 0.9258\n",
            "Epoch 63/100\n",
            " - 5s - loss: 0.1740 - acc: 0.9337 - val_loss: 0.2171 - val_acc: 0.9261\n",
            "Epoch 64/100\n",
            " - 4s - loss: 0.1772 - acc: 0.9328 - val_loss: 0.2184 - val_acc: 0.9242\n",
            "Epoch 65/100\n",
            " - 4s - loss: 0.1791 - acc: 0.9325 - val_loss: 0.2146 - val_acc: 0.9257\n",
            "Epoch 66/100\n",
            " - 4s - loss: 0.1781 - acc: 0.9329 - val_loss: 0.2180 - val_acc: 0.9240\n",
            "Epoch 67/100\n",
            " - 4s - loss: 0.1758 - acc: 0.9333 - val_loss: 0.2179 - val_acc: 0.9249\n"
          ],
          "name": "stdout"
        },
        {
          "output_type": "stream",
          "text": [
            "Epoch 68/100\n",
            " - 4s - loss: 0.1730 - acc: 0.9340 - val_loss: 0.2182 - val_acc: 0.9247\n",
            "Epoch 69/100\n",
            " - 4s - loss: 0.1772 - acc: 0.9318 - val_loss: 0.2169 - val_acc: 0.9254\n",
            "Epoch 70/100\n",
            " - 5s - loss: 0.1748 - acc: 0.9343 - val_loss: 0.2138 - val_acc: 0.9274\n",
            "Epoch 71/100\n",
            " - 5s - loss: 0.1732 - acc: 0.9352 - val_loss: 0.2170 - val_acc: 0.9252\n",
            "Epoch 72/100\n",
            " - 5s - loss: 0.1737 - acc: 0.9339 - val_loss: 0.2194 - val_acc: 0.9247\n",
            "Epoch 73/100\n",
            " - 5s - loss: 0.1690 - acc: 0.9360 - val_loss: 0.2162 - val_acc: 0.9259\n",
            "Epoch 74/100\n",
            " - 5s - loss: 0.1705 - acc: 0.9354 - val_loss: 0.2172 - val_acc: 0.9268\n",
            "Epoch 75/100\n",
            " - 5s - loss: 0.1688 - acc: 0.9355 - val_loss: 0.2186 - val_acc: 0.9262\n",
            "Epoch 76/100\n",
            " - 5s - loss: 0.1689 - acc: 0.9364 - val_loss: 0.2161 - val_acc: 0.9259\n",
            "Epoch 77/100\n",
            " - 5s - loss: 0.1696 - acc: 0.9345 - val_loss: 0.2173 - val_acc: 0.9263\n",
            "Epoch 78/100\n",
            " - 5s - loss: 0.1697 - acc: 0.9364 - val_loss: 0.2149 - val_acc: 0.9272\n",
            "Epoch 79/100\n",
            " - 5s - loss: 0.1683 - acc: 0.9358 - val_loss: 0.2213 - val_acc: 0.9261\n",
            "Epoch 80/100\n",
            " - 5s - loss: 0.1699 - acc: 0.9354 - val_loss: 0.2174 - val_acc: 0.9266\n",
            "Epoch 81/100\n",
            " - 5s - loss: 0.1686 - acc: 0.9351 - val_loss: 0.2197 - val_acc: 0.9260\n",
            "Epoch 82/100\n",
            " - 5s - loss: 0.1668 - acc: 0.9359 - val_loss: 0.2218 - val_acc: 0.9240\n",
            "Epoch 83/100\n",
            " - 5s - loss: 0.1669 - acc: 0.9368 - val_loss: 0.2169 - val_acc: 0.9253\n",
            "Epoch 84/100\n",
            " - 5s - loss: 0.1667 - acc: 0.9364 - val_loss: 0.2139 - val_acc: 0.9263\n",
            "Epoch 85/100\n",
            " - 5s - loss: 0.1659 - acc: 0.9367 - val_loss: 0.2141 - val_acc: 0.9284\n",
            "Epoch 86/100\n",
            " - 5s - loss: 0.1661 - acc: 0.9358 - val_loss: 0.2193 - val_acc: 0.9254\n",
            "Epoch 87/100\n",
            " - 5s - loss: 0.1647 - acc: 0.9372 - val_loss: 0.2204 - val_acc: 0.9260\n",
            "Epoch 88/100\n",
            " - 4s - loss: 0.1670 - acc: 0.9372 - val_loss: 0.2142 - val_acc: 0.9267\n",
            "Epoch 89/100\n",
            " - 4s - loss: 0.1628 - acc: 0.9388 - val_loss: 0.2154 - val_acc: 0.9271\n",
            "Epoch 90/100\n",
            " - 4s - loss: 0.1635 - acc: 0.9372 - val_loss: 0.2172 - val_acc: 0.9267\n",
            "Epoch 91/100\n",
            " - 5s - loss: 0.1635 - acc: 0.9387 - val_loss: 0.2231 - val_acc: 0.9242\n",
            "Epoch 92/100\n",
            " - 4s - loss: 0.1630 - acc: 0.9389 - val_loss: 0.2178 - val_acc: 0.9267\n",
            "Epoch 93/100\n",
            " - 4s - loss: 0.1621 - acc: 0.9387 - val_loss: 0.2247 - val_acc: 0.9259\n",
            "Epoch 94/100\n",
            " - 5s - loss: 0.1631 - acc: 0.9376 - val_loss: 0.2191 - val_acc: 0.9265\n",
            "Epoch 95/100\n",
            " - 5s - loss: 0.1638 - acc: 0.9375 - val_loss: 0.2182 - val_acc: 0.9260\n",
            "Epoch 96/100\n",
            " - 4s - loss: 0.1611 - acc: 0.9398 - val_loss: 0.2191 - val_acc: 0.9263\n",
            "Epoch 97/100\n",
            " - 4s - loss: 0.1622 - acc: 0.9373 - val_loss: 0.2199 - val_acc: 0.9271\n",
            "Epoch 98/100\n",
            " - 5s - loss: 0.1602 - acc: 0.9392 - val_loss: 0.2195 - val_acc: 0.9274\n",
            "Epoch 99/100\n",
            " - 4s - loss: 0.1610 - acc: 0.9392 - val_loss: 0.2225 - val_acc: 0.9268\n",
            "Epoch 100/100\n",
            " - 5s - loss: 0.1604 - acc: 0.9399 - val_loss: 0.2173 - val_acc: 0.9279\n",
            "@ Total Time Spent: 455.04 seconds\n"
          ],
          "name": "stdout"
        }
      ]
    },
    {
      "metadata": {
        "id": "OrWc4UHooaUS",
        "colab_type": "code",
        "colab": {
          "base_uri": "https://localhost:8080/",
          "height": 50
        },
        "outputId": "b817ca25-3980-40cb-f7ce-07c8c67e4d72"
      },
      "cell_type": "code",
      "source": [
        "train_loss_6, train_accuracy_6 = model_6.evaluate(X_train, Y_train, verbose=0)\n",
        "print(\"Training Accuracy = %.2f %%     loss = %f\" % (train_accuracy_6 * 100, train_loss_6))\n",
        "test_loss_6, test_accuracy_6 = model_6.evaluate(X_test, Y_test, verbose=0)\n",
        "print(\"Testing Accuracy = %.2f %%    loss = %f\" % (test_accuracy_6 * 100, test_loss_6))"
      ],
      "execution_count": 28,
      "outputs": [
        {
          "output_type": "stream",
          "text": [
            "Training Accuracy = 97.55 %     loss = 0.074926\n",
            "Testing Accuracy = 92.79 %    loss = 0.217307\n"
          ],
          "name": "stdout"
        }
      ]
    },
    {
      "metadata": {
        "id": "N-EwaaWiomH5",
        "colab_type": "text"
      },
      "cell_type": "markdown",
      "source": [
        "### 3.7 Optimizer = AMSGrad lr=0.001, beta_1=0.9, beta_2=0.999, epsilon=None, decay=0.0, amsgrad=True"
      ]
    },
    {
      "metadata": {
        "id": "Rc9Ba4gz2ClN",
        "colab_type": "code",
        "colab": {
          "base_uri": "https://localhost:8080/",
          "height": 37
        },
        "outputId": "a5153ccd-e8a6-4743-d847-2c30eb29b1df"
      },
      "cell_type": "code",
      "source": [
        "AmsGrad = optimizers.Adam(lr=0.001, beta_1=0.9, beta_2=0.999, epsilon=None, decay=0.0, amsgrad=True)"
      ],
      "execution_count": 29,
      "outputs": []
    },
    {
      "metadata": {
        "id": "INZGp283olva",
        "colab_type": "code",
        "colab": {
          "base_uri": "https://localhost:8080/",
          "height": 3410
        },
        "collapsed": true,
        "outputId": "9a7f63a6-26b8-4eec-c5b0-140303e17d9e"
      },
      "cell_type": "code",
      "source": [
        "start = time.time()\n",
        "model_7 = model(AmsGrad)\n",
        "model_7_history = model_7.fit(X_train, Y_train,\n",
        "                             batch_size = batch_size,\n",
        "                             epochs = epochs,\n",
        "                             verbose = 2,\n",
        "                             validation_data = (X_test,Y_test))\n",
        "print('@ Total Time Spent: %.2f seconds' %(time.time()-start))"
      ],
      "execution_count": 30,
      "outputs": [
        {
          "output_type": "stream",
          "text": [
            "Train on 60000 samples, validate on 10000 samples\n",
            "Epoch 1/100\n",
            " - 5s - loss: 0.7926 - acc: 0.7017 - val_loss: 0.5126 - val_acc: 0.8160\n",
            "Epoch 2/100\n",
            " - 4s - loss: 0.5025 - acc: 0.8132 - val_loss: 0.4051 - val_acc: 0.8541\n",
            "Epoch 3/100\n",
            " - 5s - loss: 0.4316 - acc: 0.8417 - val_loss: 0.3589 - val_acc: 0.8694\n",
            "Epoch 4/100\n",
            " - 5s - loss: 0.3842 - acc: 0.8600 - val_loss: 0.3291 - val_acc: 0.8787\n",
            "Epoch 5/100\n",
            " - 5s - loss: 0.3590 - acc: 0.8681 - val_loss: 0.3101 - val_acc: 0.8850\n",
            "Epoch 6/100\n",
            " - 5s - loss: 0.3324 - acc: 0.8776 - val_loss: 0.2950 - val_acc: 0.8913\n",
            "Epoch 7/100\n",
            " - 5s - loss: 0.3204 - acc: 0.8836 - val_loss: 0.2904 - val_acc: 0.8918\n",
            "Epoch 8/100\n",
            " - 5s - loss: 0.3081 - acc: 0.8862 - val_loss: 0.2759 - val_acc: 0.8979\n",
            "Epoch 9/100\n",
            " - 5s - loss: 0.2970 - acc: 0.8914 - val_loss: 0.2668 - val_acc: 0.9019\n",
            "Epoch 10/100\n",
            " - 5s - loss: 0.2894 - acc: 0.8944 - val_loss: 0.2626 - val_acc: 0.9034\n",
            "Epoch 11/100\n",
            " - 5s - loss: 0.2797 - acc: 0.8966 - val_loss: 0.2648 - val_acc: 0.9020\n",
            "Epoch 12/100\n",
            " - 5s - loss: 0.2736 - acc: 0.8993 - val_loss: 0.2618 - val_acc: 0.9046\n",
            "Epoch 13/100\n",
            " - 5s - loss: 0.2682 - acc: 0.9012 - val_loss: 0.2523 - val_acc: 0.9067\n",
            "Epoch 14/100\n",
            " - 5s - loss: 0.2628 - acc: 0.9036 - val_loss: 0.2426 - val_acc: 0.9093\n",
            "Epoch 15/100\n",
            " - 5s - loss: 0.2614 - acc: 0.9043 - val_loss: 0.2408 - val_acc: 0.9117\n",
            "Epoch 16/100\n",
            " - 5s - loss: 0.2525 - acc: 0.9069 - val_loss: 0.2433 - val_acc: 0.9116\n",
            "Epoch 17/100\n",
            " - 5s - loss: 0.2490 - acc: 0.9077 - val_loss: 0.2390 - val_acc: 0.9123\n",
            "Epoch 18/100\n",
            " - 5s - loss: 0.2478 - acc: 0.9077 - val_loss: 0.2411 - val_acc: 0.9119\n",
            "Epoch 19/100\n",
            " - 5s - loss: 0.2416 - acc: 0.9085 - val_loss: 0.2327 - val_acc: 0.9137\n",
            "Epoch 20/100\n",
            " - 5s - loss: 0.2416 - acc: 0.9111 - val_loss: 0.2344 - val_acc: 0.9142\n",
            "Epoch 21/100\n",
            " - 5s - loss: 0.2374 - acc: 0.9117 - val_loss: 0.2268 - val_acc: 0.9182\n",
            "Epoch 22/100\n",
            " - 5s - loss: 0.2326 - acc: 0.9127 - val_loss: 0.2255 - val_acc: 0.9185\n",
            "Epoch 23/100\n",
            " - 5s - loss: 0.2306 - acc: 0.9148 - val_loss: 0.2225 - val_acc: 0.9194\n",
            "Epoch 24/100\n",
            " - 5s - loss: 0.2258 - acc: 0.9150 - val_loss: 0.2243 - val_acc: 0.9181\n",
            "Epoch 25/100\n",
            " - 5s - loss: 0.2253 - acc: 0.9163 - val_loss: 0.2224 - val_acc: 0.9180\n",
            "Epoch 26/100\n",
            " - 5s - loss: 0.2249 - acc: 0.9166 - val_loss: 0.2184 - val_acc: 0.9189\n",
            "Epoch 27/100\n",
            " - 5s - loss: 0.2183 - acc: 0.9189 - val_loss: 0.2259 - val_acc: 0.9178\n",
            "Epoch 28/100\n",
            " - 5s - loss: 0.2199 - acc: 0.9178 - val_loss: 0.2221 - val_acc: 0.9188\n",
            "Epoch 29/100\n",
            " - 5s - loss: 0.2175 - acc: 0.9195 - val_loss: 0.2231 - val_acc: 0.9184\n",
            "Epoch 30/100\n",
            " - 5s - loss: 0.2142 - acc: 0.9192 - val_loss: 0.2230 - val_acc: 0.9171\n",
            "Epoch 31/100\n",
            " - 5s - loss: 0.2126 - acc: 0.9200 - val_loss: 0.2202 - val_acc: 0.9211\n",
            "Epoch 32/100\n",
            " - 5s - loss: 0.2090 - acc: 0.9223 - val_loss: 0.2180 - val_acc: 0.9201\n",
            "Epoch 33/100\n",
            " - 5s - loss: 0.2076 - acc: 0.9220 - val_loss: 0.2190 - val_acc: 0.9196\n",
            "Epoch 34/100\n"
          ],
          "name": "stdout"
        },
        {
          "output_type": "stream",
          "text": [
            " - 5s - loss: 0.2066 - acc: 0.9227 - val_loss: 0.2195 - val_acc: 0.9210\n",
            "Epoch 35/100\n",
            " - 5s - loss: 0.2041 - acc: 0.9235 - val_loss: 0.2168 - val_acc: 0.9203\n",
            "Epoch 36/100\n",
            " - 5s - loss: 0.2010 - acc: 0.9249 - val_loss: 0.2178 - val_acc: 0.9223\n",
            "Epoch 37/100\n",
            " - 5s - loss: 0.2022 - acc: 0.9238 - val_loss: 0.2179 - val_acc: 0.9217\n",
            "Epoch 38/100\n",
            " - 5s - loss: 0.2011 - acc: 0.9254 - val_loss: 0.2155 - val_acc: 0.9213\n",
            "Epoch 39/100\n",
            " - 5s - loss: 0.1978 - acc: 0.9267 - val_loss: 0.2130 - val_acc: 0.9228\n",
            "Epoch 40/100\n",
            " - 5s - loss: 0.1980 - acc: 0.9253 - val_loss: 0.2166 - val_acc: 0.9216\n",
            "Epoch 41/100\n",
            " - 5s - loss: 0.1987 - acc: 0.9256 - val_loss: 0.2166 - val_acc: 0.9218\n",
            "Epoch 42/100\n",
            " - 5s - loss: 0.1990 - acc: 0.9249 - val_loss: 0.2146 - val_acc: 0.9213\n",
            "Epoch 43/100\n",
            " - 5s - loss: 0.1966 - acc: 0.9258 - val_loss: 0.2127 - val_acc: 0.9242\n",
            "Epoch 44/100\n",
            " - 5s - loss: 0.1943 - acc: 0.9271 - val_loss: 0.2125 - val_acc: 0.9238\n",
            "Epoch 45/100\n",
            " - 5s - loss: 0.1920 - acc: 0.9273 - val_loss: 0.2132 - val_acc: 0.9234\n",
            "Epoch 46/100\n",
            " - 5s - loss: 0.1917 - acc: 0.9268 - val_loss: 0.2121 - val_acc: 0.9245\n",
            "Epoch 47/100\n",
            " - 5s - loss: 0.1907 - acc: 0.9277 - val_loss: 0.2111 - val_acc: 0.9249\n",
            "Epoch 48/100\n",
            " - 5s - loss: 0.1913 - acc: 0.9281 - val_loss: 0.2107 - val_acc: 0.9228\n",
            "Epoch 49/100\n",
            " - 5s - loss: 0.1903 - acc: 0.9296 - val_loss: 0.2139 - val_acc: 0.9255\n",
            "Epoch 50/100\n",
            " - 5s - loss: 0.1903 - acc: 0.9290 - val_loss: 0.2073 - val_acc: 0.9245\n",
            "Epoch 51/100\n",
            " - 5s - loss: 0.1877 - acc: 0.9287 - val_loss: 0.2123 - val_acc: 0.9219\n",
            "Epoch 52/100\n",
            " - 5s - loss: 0.1856 - acc: 0.9293 - val_loss: 0.2133 - val_acc: 0.9215\n",
            "Epoch 53/100\n",
            " - 5s - loss: 0.1870 - acc: 0.9297 - val_loss: 0.2110 - val_acc: 0.9237\n",
            "Epoch 54/100\n",
            " - 5s - loss: 0.1856 - acc: 0.9293 - val_loss: 0.2069 - val_acc: 0.9278\n",
            "Epoch 55/100\n",
            " - 5s - loss: 0.1831 - acc: 0.9314 - val_loss: 0.2157 - val_acc: 0.9236\n",
            "Epoch 56/100\n",
            " - 5s - loss: 0.1823 - acc: 0.9309 - val_loss: 0.2158 - val_acc: 0.9230\n",
            "Epoch 57/100\n",
            " - 5s - loss: 0.1828 - acc: 0.9306 - val_loss: 0.2220 - val_acc: 0.9221\n",
            "Epoch 58/100\n",
            " - 5s - loss: 0.1816 - acc: 0.9316 - val_loss: 0.2182 - val_acc: 0.9221\n",
            "Epoch 59/100\n",
            " - 4s - loss: 0.1806 - acc: 0.9318 - val_loss: 0.2144 - val_acc: 0.9236\n",
            "Epoch 60/100\n",
            " - 5s - loss: 0.1802 - acc: 0.9320 - val_loss: 0.2128 - val_acc: 0.9257\n",
            "Epoch 61/100\n",
            " - 5s - loss: 0.1818 - acc: 0.9308 - val_loss: 0.2143 - val_acc: 0.9259\n",
            "Epoch 62/100\n",
            " - 5s - loss: 0.1783 - acc: 0.9329 - val_loss: 0.2146 - val_acc: 0.9242\n",
            "Epoch 63/100\n",
            " - 5s - loss: 0.1793 - acc: 0.9325 - val_loss: 0.2129 - val_acc: 0.9231\n",
            "Epoch 64/100\n",
            " - 5s - loss: 0.1759 - acc: 0.9330 - val_loss: 0.2142 - val_acc: 0.9247\n",
            "Epoch 65/100\n",
            " - 5s - loss: 0.1779 - acc: 0.9321 - val_loss: 0.2126 - val_acc: 0.9256\n",
            "Epoch 66/100\n",
            " - 5s - loss: 0.1762 - acc: 0.9328 - val_loss: 0.2113 - val_acc: 0.9250\n",
            "Epoch 67/100\n",
            " - 5s - loss: 0.1748 - acc: 0.9340 - val_loss: 0.2092 - val_acc: 0.9249\n"
          ],
          "name": "stdout"
        },
        {
          "output_type": "stream",
          "text": [
            "Epoch 68/100\n",
            " - 5s - loss: 0.1760 - acc: 0.9325 - val_loss: 0.2134 - val_acc: 0.9244\n",
            "Epoch 69/100\n",
            " - 5s - loss: 0.1763 - acc: 0.9329 - val_loss: 0.2167 - val_acc: 0.9225\n",
            "Epoch 70/100\n",
            " - 5s - loss: 0.1745 - acc: 0.9339 - val_loss: 0.2097 - val_acc: 0.9258\n",
            "Epoch 71/100\n",
            " - 5s - loss: 0.1715 - acc: 0.9353 - val_loss: 0.2117 - val_acc: 0.9232\n",
            "Epoch 72/100\n",
            " - 5s - loss: 0.1734 - acc: 0.9345 - val_loss: 0.2102 - val_acc: 0.9251\n",
            "Epoch 73/100\n",
            " - 5s - loss: 0.1699 - acc: 0.9352 - val_loss: 0.2174 - val_acc: 0.9233\n",
            "Epoch 74/100\n",
            " - 5s - loss: 0.1722 - acc: 0.9347 - val_loss: 0.2083 - val_acc: 0.9263\n",
            "Epoch 75/100\n",
            " - 5s - loss: 0.1709 - acc: 0.9344 - val_loss: 0.2132 - val_acc: 0.9263\n",
            "Epoch 76/100\n",
            " - 5s - loss: 0.1666 - acc: 0.9369 - val_loss: 0.2097 - val_acc: 0.9252\n",
            "Epoch 77/100\n",
            " - 5s - loss: 0.1701 - acc: 0.9354 - val_loss: 0.2097 - val_acc: 0.9258\n",
            "Epoch 78/100\n",
            " - 5s - loss: 0.1670 - acc: 0.9356 - val_loss: 0.2154 - val_acc: 0.9247\n",
            "Epoch 79/100\n",
            " - 5s - loss: 0.1673 - acc: 0.9352 - val_loss: 0.2144 - val_acc: 0.9258\n",
            "Epoch 80/100\n",
            " - 5s - loss: 0.1720 - acc: 0.9346 - val_loss: 0.2075 - val_acc: 0.9254\n",
            "Epoch 81/100\n",
            " - 5s - loss: 0.1657 - acc: 0.9377 - val_loss: 0.2110 - val_acc: 0.9246\n",
            "Epoch 82/100\n",
            " - 5s - loss: 0.1682 - acc: 0.9361 - val_loss: 0.2072 - val_acc: 0.9284\n",
            "Epoch 83/100\n",
            " - 5s - loss: 0.1661 - acc: 0.9362 - val_loss: 0.2115 - val_acc: 0.9251\n",
            "Epoch 84/100\n",
            " - 5s - loss: 0.1659 - acc: 0.9374 - val_loss: 0.2087 - val_acc: 0.9253\n",
            "Epoch 85/100\n",
            " - 5s - loss: 0.1652 - acc: 0.9372 - val_loss: 0.2066 - val_acc: 0.9286\n",
            "Epoch 86/100\n",
            " - 5s - loss: 0.1638 - acc: 0.9385 - val_loss: 0.2104 - val_acc: 0.9266\n",
            "Epoch 87/100\n",
            " - 5s - loss: 0.1664 - acc: 0.9381 - val_loss: 0.2081 - val_acc: 0.9269\n",
            "Epoch 88/100\n",
            " - 5s - loss: 0.1662 - acc: 0.9358 - val_loss: 0.2124 - val_acc: 0.9264\n",
            "Epoch 89/100\n",
            " - 5s - loss: 0.1661 - acc: 0.9365 - val_loss: 0.2068 - val_acc: 0.9262\n",
            "Epoch 90/100\n",
            " - 5s - loss: 0.1646 - acc: 0.9373 - val_loss: 0.2106 - val_acc: 0.9263\n",
            "Epoch 91/100\n",
            " - 5s - loss: 0.1626 - acc: 0.9380 - val_loss: 0.2094 - val_acc: 0.9286\n",
            "Epoch 92/100\n",
            " - 5s - loss: 0.1658 - acc: 0.9375 - val_loss: 0.2084 - val_acc: 0.9260\n",
            "Epoch 93/100\n",
            " - 5s - loss: 0.1628 - acc: 0.9379 - val_loss: 0.2132 - val_acc: 0.9273\n",
            "Epoch 94/100\n",
            " - 5s - loss: 0.1609 - acc: 0.9388 - val_loss: 0.2089 - val_acc: 0.9252\n",
            "Epoch 95/100\n",
            " - 5s - loss: 0.1611 - acc: 0.9384 - val_loss: 0.2086 - val_acc: 0.9261\n",
            "Epoch 96/100\n",
            " - 5s - loss: 0.1645 - acc: 0.9374 - val_loss: 0.2146 - val_acc: 0.9248\n",
            "Epoch 97/100\n",
            " - 5s - loss: 0.1602 - acc: 0.9391 - val_loss: 0.2215 - val_acc: 0.9230\n",
            "Epoch 98/100\n",
            " - 5s - loss: 0.1601 - acc: 0.9399 - val_loss: 0.2076 - val_acc: 0.9248\n",
            "Epoch 99/100\n",
            " - 5s - loss: 0.1585 - acc: 0.9395 - val_loss: 0.2067 - val_acc: 0.9275\n",
            "Epoch 100/100\n",
            " - 5s - loss: 0.1617 - acc: 0.9386 - val_loss: 0.2106 - val_acc: 0.9254\n",
            "@ Total Time Spent: 459.52 seconds\n"
          ],
          "name": "stdout"
        }
      ]
    },
    {
      "metadata": {
        "id": "hEX-EVtIoweB",
        "colab_type": "code",
        "colab": {
          "base_uri": "https://localhost:8080/",
          "height": 50
        },
        "outputId": "c3d184a4-a1c6-4be7-fbf9-17ea3ffb713a"
      },
      "cell_type": "code",
      "source": [
        "train_loss_7, train_accuracy_7 = model_7.evaluate(X_train, Y_train, verbose=0)\n",
        "print(\"Training Accuracy = %.2f %%     loss = %f\" % (train_accuracy_7 * 100, train_loss_7))\n",
        "test_loss_7, test_accuracy_7 = model_7.evaluate(X_test, Y_test, verbose=0)\n",
        "print(\"Testing Accuracy = %.2f %%    loss = %f\" % (test_accuracy_7 * 100, test_loss_7))"
      ],
      "execution_count": 31,
      "outputs": [
        {
          "output_type": "stream",
          "text": [
            "Training Accuracy = 97.38 %     loss = 0.082153\n",
            "Testing Accuracy = 92.54 %    loss = 0.210623\n"
          ],
          "name": "stdout"
        }
      ]
    },
    {
      "metadata": {
        "id": "OS39uLDgo9A6",
        "colab_type": "text"
      },
      "cell_type": "markdown",
      "source": [
        "## Plot the Result and Compare"
      ]
    },
    {
      "metadata": {
        "id": "pM_fo81do_Xw",
        "colab_type": "code",
        "colab": {
          "base_uri": "https://localhost:8080/",
          "height": 37
        },
        "outputId": "b41054d5-dcf0-4897-eec5-8f1b4f4a1f4d"
      },
      "cell_type": "code",
      "source": [
        "colors = sns.color_palette(\"Set2\", 10)\n",
        "import matplotlib as mpl\n",
        "mpl.rcParams['lines.linewidth'] = 2"
      ],
      "execution_count": 32,
      "outputs": []
    },
    {
      "metadata": {
        "id": "OmSj0RHupUsH",
        "colab_type": "code",
        "colab": {
          "base_uri": "https://localhost:8080/",
          "height": 784
        },
        "outputId": "697b8407-c58b-4f4f-f847-6a9a410519ca"
      },
      "cell_type": "code",
      "source": [
        "plt.style.use('seaborn-white')\n",
        "fig,((ax1,ax2),(ax3,ax4)) = plt.subplots(2,2,figsize=(20,11))\n",
        "ax1.plot(model_1_history.history['acc'],color=colors[0],label='SGD_Vanilla')\n",
        "ax1.plot(model_2_history.history['acc'],color=colors[1],label='SGD_Momentum')\n",
        "ax1.plot(model_3_history.history['acc'],color=colors[2],label='NAG')\n",
        "ax1.plot(model_4_history.history['acc'],color=colors[3],label='AdaGrad')\n",
        "ax1.plot(model_5_history.history['acc'],color=colors[4],label='RMSprop')\n",
        "ax1.plot(model_6_history.history['acc'],color='fuchsia',label='Adam')\n",
        "ax1.plot(model_7_history.history['acc'],color='lime',label='AMSGrad')\n",
        "ax1.set_xlabel('Epochs')\n",
        "ax1.set_ylabel('Training Accuracy')\n",
        "ax1.grid(True,color='black',linestyle='dotted',linewidth=1,alpha=.3)\n",
        "ax1.set_title('Compare the Training Accuracy',fontsize=16, fontweight='bold')\n",
        "\n",
        "\n",
        "ax2.plot(model_1_history.history['val_acc'],color=colors[0],label='SGD_Vanilla')\n",
        "ax2.plot(model_2_history.history['val_acc'],color=colors[1],label='SGD_Momentum')\n",
        "ax2.plot(model_3_history.history['val_acc'],color=colors[2],label='NAG')\n",
        "ax2.plot(model_4_history.history['val_acc'],color=colors[3],label='AdaGrad')\n",
        "ax2.plot(model_5_history.history['val_acc'],color=colors[4],label='RMSprop')\n",
        "ax2.plot(model_6_history.history['val_acc'],color='fuchsia',label='Adam')\n",
        "ax2.plot(model_7_history.history['val_acc'],color='lime',label='AMSGrad')\n",
        "ax2.set_xlabel('Epochs')\n",
        "ax2.set_ylabel('Test Accuracy')\n",
        "ax2.grid(True,color='black',linestyle='dotted',linewidth=1,alpha=.3)\n",
        "ax2.set_title('Compare the Test Accuracy',fontsize=16, fontweight='bold')\n",
        "\n",
        "\n",
        "ax3.plot(np.log(model_1_history.history['loss']),color=colors[0],label='SGD_Vanilla')\n",
        "ax3.plot(np.log(model_2_history.history['loss']),color=colors[1],label='SGD_Momentum')\n",
        "ax3.plot(np.log(model_3_history.history['loss']),color=colors[2],label='NAG')\n",
        "ax3.plot(np.log(model_4_history.history['loss']),color=colors[3],label='AdaGrad')\n",
        "ax3.plot(np.log(model_5_history.history['loss']),color=colors[4],label='RMSprop')\n",
        "ax3.plot(np.log(model_6_history.history['loss']),color='fuchsia',label='Adam')\n",
        "ax3.plot(np.log(model_7_history.history['loss']),color='lime',label='AMSGrad')\n",
        "ax3.set_xlabel('Epochs')\n",
        "ax3.set_ylabel('Training Loss')\n",
        "ax3.grid(True,color='black',linestyle='dotted',linewidth=1,alpha=.3)\n",
        "ax3.set_title('Compare the Training Loss in Ln Form',fontsize=16, fontweight='bold')\n",
        "\n",
        "ax4.plot(np.log(model_1_history.history['val_loss']),color=colors[0],label='SGD_Vanilla')\n",
        "ax4.plot(np.log(model_2_history.history['val_loss']),color=colors[1],label='SGD_Momentum')\n",
        "ax4.plot(np.log(model_3_history.history['val_loss']),color=colors[2],label='NAG')\n",
        "ax4.plot(np.log(model_4_history.history['val_loss']),color=colors[3],label='AdaGrad')\n",
        "ax4.plot(np.log(model_5_history.history['val_loss']),color=colors[4],label='RMSprop')\n",
        "ax4.plot(np.log(model_6_history.history['val_loss']),color='fuchsia',label='Adam')\n",
        "ax4.plot(np.log(model_7_history.history['val_loss']),color='lime',label='AMSGrad')\n",
        "ax4.set_xlabel('Epochs')\n",
        "ax4.set_ylabel('Test Loss')\n",
        "ax4.grid(True,color='black',linestyle='dotted',linewidth=1,alpha=.3)\n",
        "ax4.set_title('Compare the Test Loss in Ln Form',fontsize=16, fontweight='bold')\n",
        "\n",
        "plt.legend(loc='upper center', bbox_to_anchor=(-0.1, -0.15),\n",
        "          ncol=4, fancybox=False, shadow=False, frameon=True,edgecolor='black',fontsize=16)\n",
        "\n",
        "fig.suptitle('Compare the different optimization algorithms on a classificaiton task',fontsize=20, fontweight='bold',y=0.95)\n",
        "plt.show()"
      ],
      "execution_count": 54,
      "outputs": [
        {
          "output_type": "display_data",
          "data": {
            "image/png": "[encoded data removed]",
            "text/plain": [
              "<matplotlib.figure.Figure at 0x7f7877044f98>"
            ]
          },
          "metadata": {
            "tags": []
          }
        }
      ]
    },
    {
      "metadata": {
        "id": "wTO_JQk33d6e",
        "colab_type": "code",
        "colab": {}
      },
      "cell_type": "code",
      "source": [
        ""
      ],
      "execution_count": 0,
      "outputs": []
    }
  ]
}